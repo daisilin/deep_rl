{
 "cells": [
  {
   "cell_type": "code",
   "execution_count": 1,
   "metadata": {},
   "outputs": [],
   "source": [
    "import sys\n",
    "sys.path.insert(0,'../classes')\n",
    "sys.path.insert(0,'../analysis')\n",
    "import matplotlib.pyplot as plt\n",
    "import pandas as pd\n",
    "import numpy as np\n",
    "np.set_printoptions(precision=3,suppress=True)\n",
    "import importlib"
   ]
  },
  {
   "cell_type": "code",
   "execution_count": 2,
   "metadata": {},
   "outputs": [
    {
     "name": "stdout",
     "output_type": "stream",
     "text": [
      "{'mcts100_cpuct1': [1, 2, 3, 4, 6, 7, 9, 11, 12, 16, 18, 21, 25, 28, 29, 30, 37, 38, 39, 45, 47], 'mcts100_cpuct2': [1, 2, 3, 4, 6, 8, 12, 14, 15, 16, 21, 22, 24, 26, 27, 30, 32, 35, 39], 'mcts100_cpuct3': [1, 2, 3, 4, 5, 7, 8, 9, 10, 11, 12, 16, 17, 18, 20, 21, 25, 26, 28, 32, 34, 35, 36], 'mcts25_cpuct1': [1, 2, 3, 4, 9, 11, 13, 14, 16, 19, 22, 25, 28, 29, 31, 37, 39, 45, 59, 61], 'mcts50_cpuct1': [1, 2, 3, 4, 5, 6, 7, 9, 10, 13, 17, 18, 20, 21, 23, 25, 28, 29, 31, 37, 39, 41, 44, 45, 47, 48, 53], 'mcts80_cpuct1': [1, 2, 3, 4, 5, 7, 8, 9, 10, 13, 16, 19, 20, 21, 23, 24, 28, 34, 35, 36, 40], 'mcts80_cpuct2': [1, 2, 5, 6, 8, 10, 12, 13, 15, 17, 18, 19, 22, 25, 28, 30, 31, 34, 37, 38, 39, 40, 43, 45, 46, 51], 'mcts80_cpuct3': [1, 2, 5, 6, 7, 9, 12, 13, 14, 19, 21, 22, 23, 24, 26, 27, 28, 35, 36, 42, 43, 47, 49, 50, 51, 53, 54, 55, 56, 57]}\n",
      "189 participant iterations!\n"
     ]
    }
   ],
   "source": [
    "import logging\n",
    "import numpy as np\n",
    "\n",
    "import coloredlogs\n",
    "\n",
    "from arena import Arena\n",
    "from coach import Coach\n",
    "from beck.beck_game import BeckGame as Game\n",
    "from beck.beck_nnet import NNetWrapper as nn\n",
    "from beck.beck_players import HumanBeckPlayer, NNPolicyPlayer, NNValuePlayer\n",
    "from mcts import MCTS\n",
    "from utils import *\n",
    "log = logging.getLogger(__name__)\n",
    "\n",
    "from keras import backend as K\n",
    "\n",
    "import tournament\n",
    "participant_iters = tournament.participant_iters\n",
    "\n",
    "import value_analysis as va\n",
    "\n",
    "participants_dir = '/scratch/zz737/fiar/tournaments/tournament_4' # dir for trained networks\n",
    "results_dir = '/scratch/zz737/fiar/tournaments/results/tournament_4'\n",
    "moves_dir = '/scratch/zz737/fiar/tournaments/tournament_4/moves/raw/'"
   ]
  },
  {
   "cell_type": "code",
   "execution_count": 3,
   "metadata": {},
   "outputs": [
    {
     "data": {
      "text/plain": [
       "<module 'bfts' from '../classes/bfts.py'>"
      ]
     },
     "execution_count": 3,
     "metadata": {},
     "output_type": "execute_result"
    }
   ],
   "source": [
    "import bfts\n",
    "import importlib\n",
    "importlib.reload(bfts)"
   ]
  },
  {
   "cell_type": "code",
   "execution_count": 4,
   "metadata": {},
   "outputs": [],
   "source": [
    "from cog_related import cog_value_net_trainable_mcts as cvntm\n",
    "# del nnc\n",
    "from cog_related.cog_value_net_trainable_mcts import NNetWrapper_cog as nnc"
   ]
  },
  {
   "cell_type": "code",
   "execution_count": 13,
   "metadata": {},
   "outputs": [],
   "source": [
    "cog_mcts_dir = '/scratch/zz737/fiar/models/cog_model_value_mcts/copy1/'\n",
    "cog_mcts_checkpoint = 'checkpoint_36.pth.tar'\n",
    "cog_nnet = nnc(game)\n",
    "cog_nnet.load_checkpoint(folder=cog_mcts_dir,filename=cog_mcts_checkpoint)"
   ]
  },
  {
   "cell_type": "code",
   "execution_count": 14,
   "metadata": {},
   "outputs": [
    {
     "data": {
      "text/plain": [
       "array([[ 0.091],\n",
       "       [ 0.167],\n",
       "       [ 0.089],\n",
       "       [ 2.474],\n",
       "       [ 0.305],\n",
       "       [-0.081],\n",
       "       [-0.075],\n",
       "       [-0.047],\n",
       "       [-0.357],\n",
       "       [ 0.279]], dtype=float32)"
      ]
     },
     "execution_count": 14,
     "metadata": {},
     "output_type": "execute_result"
    }
   ],
   "source": [
    "cog_nnet.nnet.model.get_weights()[-1]"
   ]
  },
  {
   "cell_type": "code",
   "execution_count": 15,
   "metadata": {},
   "outputs": [],
   "source": [
    "args = dotdict({\n",
    "    'display':True,\n",
    "    'numIters': 1000,\n",
    "    'numEps': 100,              # Number of complete self-play games to simulate during a new iteration.\n",
    "    'tempThreshold': 15,        #\n",
    "    'temp':0,\n",
    "    'updateThreshold': 0.6,     # During arena playoff, new neural net will be accepted if threshold or more of games are won.\n",
    "    'maxlenOfQueue': 200000,    # Number of game examples to train the neural networks.\n",
    "    'numMCTSSims': 100,#100,          # Number of games moves for MCTS to simulate.\n",
    "    'arenaCompare': 40,         # Number of games to play during arena play to determine if new net will be accepted.\n",
    "    'cpuct': 2,\n",
    "\n",
    "#     'checkpoint': './temp/',\n",
    "#     'load_model': True,\n",
    "    # 'load_folder_file': (f'../models/{model_class_name}',f'{model_instance_name}.pth.tar'),\n",
    "    # 'load_folder_file': (f'{model_dir}/{model_class_name}',f'{model_instance_name}.pth.tar'),\n",
    "#     'load_folder_file': (f'{model_dir}',f'{model_instance_name}.pth.tar'),\n",
    "\n",
    "    'numItersForTrainExamplesHistory': 20,\n",
    "\n",
    "    # for saving moves\n",
    "    'is_save_moves': False,\n",
    "#     'save_moves_folder': f'../moves/{model_class_name}',\n",
    "#     'save_moves_file': f'{model_instance_name}_temp{temp}.csv', \n",
    "#     'overwrite': True, # whether overwrite the existing csv file or add to it\n",
    "\n",
    "    #\n",
    "    'numGames':2,\n",
    "})\n",
    "\n",
    "cog_nmcts = MCTS(game,cog_nnet,args)\n"
   ]
  },
  {
   "cell_type": "code",
   "execution_count": 16,
   "metadata": {},
   "outputs": [],
   "source": [
    "\n",
    "args = dotdict({'numBFSsims':1,'PruningThresh':1})\n",
    "cog_bfts_myopic = bfts.BFTS(game,cog_nnet,args)\n",
    "ai_cog_bfts_myopic = lambda x:np.argmax(cog_bfts_myopic.getActionProb(x, temp=0))\n",
    "\n",
    "args = dotdict({'numBFSsims':7,'PruningThresh':1})\n",
    "cog_bfts = bfts.BFTS(game,cog_nnet,args)\n",
    "ai_cog_bfts = lambda x:np.argmax(cog_bfts.getActionProb(x, temp=0))\n"
   ]
  },
  {
   "cell_type": "code",
   "execution_count": 34,
   "metadata": {},
   "outputs": [
    {
     "data": {
      "image/png": "[encoded data removed]",
      "text/plain": [
       "<Figure size 432x288 with 1 Axes>"
      ]
     },
     "metadata": {
      "needs_background": "light"
     },
     "output_type": "display_data"
    }
   ],
   "source": [
    "args = dotdict({'numBFSsims':1,'PruningThresh':1})\n",
    "cog_bfts_myopic = bfts.BFTS(game,cog_nnet,args)\n",
    "fig,ax = plt.subplots()"
   ]
  },
  {
   "cell_type": "code",
   "execution_count": 37,
   "metadata": {},
   "outputs": [
    {
     "data": {
      "text/plain": [
       "[<matplotlib.lines.Line2D at 0x14daa2af63d0>]"
      ]
     },
     "execution_count": 37,
     "metadata": {},
     "output_type": "execute_result"
    }
   ],
   "source": [
    "board=game.getInitBoard()\n",
    "# cog_bfts_myopic.search(board)\n",
    "cog_bfts_myopic.getActionProb(board)\n",
    "first_search = np.array(list(cog_bfts_myopic.Qsa.values()))\n",
    "ax.plot(first_search[:36])\n",
    "\n",
    "# cog_bfts_myopic.search(board)\n",
    "# second_search = np.array(list(cog_bfts_myopic.Qsa.values()))\n",
    "# plt.plot(second_search)"
   ]
  },
  {
   "cell_type": "code",
   "execution_count": 38,
   "metadata": {},
   "outputs": [
    {
     "data": {
      "image/png": "[encoded data removed]",
      "text/plain": [
       "<Figure size 432x288 with 1 Axes>"
      ]
     },
     "execution_count": 38,
     "metadata": {},
     "output_type": "execute_result"
    }
   ],
   "source": [
    "fig"
   ]
  },
  {
   "cell_type": "code",
   "execution_count": 117,
   "metadata": {},
   "outputs": [
    {
     "data": {
      "image/png": "[encoded data removed]",
      "text/plain": [
       "<Figure size 432x288 with 1 Axes>"
      ]
     },
     "execution_count": 117,
     "metadata": {},
     "output_type": "execute_result"
    }
   ],
   "source": [
    "fig"
   ]
  },
  {
   "cell_type": "code",
   "execution_count": 39,
   "metadata": {},
   "outputs": [
    {
     "data": {
      "text/plain": [
       "array([[ 0.019],\n",
       "       [ 0.024],\n",
       "       [ 0.032],\n",
       "       [ 0.045],\n",
       "       [ 0.054],\n",
       "       [ 0.045],\n",
       "       [ 0.032],\n",
       "       [ 0.024],\n",
       "       [ 0.019],\n",
       "       [ 0.02 ],\n",
       "       [ 0.027],\n",
       "       [ 0.039],\n",
       "       [ 0.072],\n",
       "       [ 0.021],\n",
       "       [ 0.072],\n",
       "       [ 0.039],\n",
       "       [ 0.027],\n",
       "       [ 0.02 ],\n",
       "       [ 0.02 ],\n",
       "       [ 0.027],\n",
       "       [ 0.039],\n",
       "       [ 0.072],\n",
       "       [ 0.16 ],\n",
       "       [ 0.072],\n",
       "       [ 0.039],\n",
       "       [ 0.027],\n",
       "       [ 0.02 ],\n",
       "       [ 0.019],\n",
       "       [ 0.024],\n",
       "       [ 0.032],\n",
       "       [ 0.045],\n",
       "       [ 0.054],\n",
       "       [ 0.045],\n",
       "       [ 0.032],\n",
       "       [ 0.024],\n",
       "       [ 0.019],\n",
       "       [-0.162],\n",
       "       [-0.157],\n",
       "       [-0.148],\n",
       "       [-0.136],\n",
       "       [-0.127],\n",
       "       [-0.136],\n",
       "       [-0.148],\n",
       "       [-0.157],\n",
       "       [-0.162],\n",
       "       [-0.16 ],\n",
       "       [-0.154],\n",
       "       [-0.142],\n",
       "       [-0.109],\n",
       "       [-0.109],\n",
       "       [-0.142],\n",
       "       [-0.154],\n",
       "       [-0.16 ],\n",
       "       [-0.16 ],\n",
       "       [-0.154],\n",
       "       [-0.142],\n",
       "       [-0.109],\n",
       "       [-0.021],\n",
       "       [-0.109],\n",
       "       [-0.142],\n",
       "       [-0.154],\n",
       "       [-0.16 ],\n",
       "       [-0.162],\n",
       "       [-0.157],\n",
       "       [-0.148],\n",
       "       [-0.136],\n",
       "       [-0.127],\n",
       "       [-0.136],\n",
       "       [-0.148],\n",
       "       [-0.157],\n",
       "       [-0.162]], dtype=float32)"
      ]
     },
     "execution_count": 39,
     "metadata": {},
     "output_type": "execute_result"
    }
   ],
   "source": [
    "# cog_bfts.Qsa\n",
    "np.array(list(cog_bfts_myopic.Qsa.values()))"
   ]
  },
  {
   "cell_type": "code",
   "execution_count": 4,
   "metadata": {},
   "outputs": [
    {
     "name": "stdout",
     "output_type": "stream",
     "text": [
      "{'mcts100_cpuct1': [1, 2, 3, 4, 6, 7, 9, 11, 12, 16, 18, 21, 25, 28, 29, 30, 37, 38, 39, 45, 47], 'mcts100_cpuct2': [1, 2, 3, 4, 6, 8, 12, 14, 15, 16, 21, 22, 24, 26, 27, 30, 32, 35, 39], 'mcts100_cpuct3': [1, 2, 3, 4, 5, 7, 8, 9, 10, 11, 12, 16, 17, 18, 20, 21, 25, 26, 28, 32, 34, 35, 36], 'mcts25_cpuct1': [1, 2, 3, 4, 9, 11, 13, 14, 16, 19, 22, 25, 28, 29, 31, 37, 39, 45, 59, 61], 'mcts50_cpuct1': [1, 2, 3, 4, 5, 6, 7, 9, 10, 13, 17, 18, 20, 21, 23, 25, 28, 29, 31, 37, 39, 41, 44, 45, 47, 48, 53], 'mcts80_cpuct1': [1, 2, 3, 4, 5, 7, 8, 9, 10, 13, 16, 19, 20, 21, 23, 24, 28, 34, 35, 36, 40], 'mcts80_cpuct2': [1, 2, 5, 6, 8, 10, 12, 13, 15, 17, 18, 19, 22, 25, 28, 30, 31, 34, 37, 38, 39, 40, 43, 45, 46, 51], 'mcts80_cpuct3': [1, 2, 5, 6, 7, 9, 12, 13, 14, 19, 21, 22, 23, 24, 26, 27, 28, 35, 36, 42, 43, 47, 49, 50, 51, 53, 54, 55, 56, 57]}\n",
      "189 participant iterations!\n"
     ]
    },
    {
     "data": {
      "text/plain": [
       "<module 'tournament' from '../classes/tournament.py'>"
      ]
     },
     "execution_count": 4,
     "metadata": {},
     "output_type": "execute_result"
    }
   ],
   "source": [
    "importlib.reload(tournament)"
   ]
  },
  {
   "cell_type": "code",
   "execution_count": 5,
   "metadata": {},
   "outputs": [],
   "source": [
    "game = Game(4,9,4)\n",
    "nnet = nn(game)\n",
    " \n",
    "nn_mcts_dir = '/scratch/zz737/fiar/tournaments/tournament_4/checkpoints_mcts100_cpuct2_id-3754964'\n",
    "participant_iter = 'mcts100_cpuct2;best'\n",
    "ai_nn_mcts_1, nnet_1 = tournament.get_player(game, nn_mcts_dir, participant_iter)\n",
    "\n",
    "\n",
    "nn_mcts_dir = '/scratch/zz737/fiar/tournaments/tournament_1/checkpoints_mcts100_cpuct2'\n",
    "participant_iter = 'mcts100_cpuct2;best'\n",
    "ai_nn_mcts_2, nnet_2 = tournament.get_player(game, nn_mcts_dir, participant_iter)\n",
    "\n",
    "\n",
    "\n",
    "args = dotdict({'numBFSsims':35,'PruningThresh':1})\n",
    "bft = bfts.BFTS(game,nnet,args)\n",
    "\n",
    "ai_nn_bft = lambda x:np.argmax(bft.getActionProb(x,temp=0))\n",
    "# ai_cog_bft = \n",
    "ai_cog_mcts = lambda x:np.argmax(cog_nmcts.getActionProb(x,temp=0))\n",
    "\n",
    "# ai_cog_bfts\n",
    "# ai_cog_bfts_myopicc\n",
    "\n",
    "show_game = True\n",
    "display = game.display if show_game else None\n",
    "# arena = Arena(ai_cog_mcts, ai_nn_mcts,game,display=display)\n",
    "# arena = Arena(ai_cog_mcts, ai_nn_bft,game,display=display)\n",
    "# arena = Arena(ai_cog_bfts, ai_cog_bfts_myopic,game,display=display)\n",
    "arena = Arena(ai_nn_mcts_1, ai_nn_mcts_2,game,display=display)\n"
   ]
  },
  {
   "cell_type": "code",
   "execution_count": 11,
   "metadata": {},
   "outputs": [],
   "source": [
    "from cog_related import cog_value_net as cvn\n",
    "# w = [0.1,2,0.5,10,100]\n",
    "w = [0.01,0.2,0.05,2,100]\n",
    "C = 0.1\n",
    "args = [w,C]\n",
    "cvnnet = cvn.NNetWrapper(game,nnet_1,args)\n",
    "ai_cog_mcts = lambda x:np.argmax(cvnnet.getActionProb(x,temp=0))"
   ]
  },
  {
   "cell_type": "code",
   "execution_count": 6,
   "metadata": {},
   "outputs": [],
   "source": [
    "args = dotdict({'numBFSsims':100,'PruningThresh':2})\n",
    "bft = bfts.BFTS(game,nnet_1,args)\n",
    "ai_nn_bft = lambda x:np.argmax(bft.getActionProb(x,temp=0))\n",
    "\n",
    "\n"
   ]
  },
  {
   "cell_type": "code",
   "execution_count": 7,
   "metadata": {},
   "outputs": [
    {
     "name": "stdout",
     "output_type": "stream",
     "text": [
      "{'mcts100_cpuct1': [1, 2, 3, 4, 6, 7, 9, 11, 12, 16, 18, 21, 25, 28, 29, 30, 37, 38, 39, 45, 47], 'mcts100_cpuct2': [1, 2, 3, 4, 6, 8, 12, 14, 15, 16, 21, 22, 24, 26, 27, 30, 32, 35, 39], 'mcts100_cpuct3': [1, 2, 3, 4, 5, 7, 8, 9, 10, 11, 12, 16, 17, 18, 20, 21, 25, 26, 28, 32, 34, 35, 36], 'mcts25_cpuct1': [1, 2, 3, 4, 9, 11, 13, 14, 16, 19, 22, 25, 28, 29, 31, 37, 39, 45, 59, 61], 'mcts50_cpuct1': [1, 2, 3, 4, 5, 6, 7, 9, 10, 13, 17, 18, 20, 21, 23, 25, 28, 29, 31, 37, 39, 41, 44, 45, 47, 48, 53], 'mcts80_cpuct1': [1, 2, 3, 4, 5, 7, 8, 9, 10, 13, 16, 19, 20, 21, 23, 24, 28, 34, 35, 36, 40], 'mcts80_cpuct2': [1, 2, 5, 6, 8, 10, 12, 13, 15, 17, 18, 19, 22, 25, 28, 30, 31, 34, 37, 38, 39, 40, 43, 45, 46, 51], 'mcts80_cpuct3': [1, 2, 5, 6, 7, 9, 12, 13, 14, 19, 21, 22, 23, 24, 26, 27, 28, 35, 36, 42, 43, 47, 49, 50, 51, 53, 54, 55, 56, 57]}\n",
      "189 participant iterations!\n"
     ]
    }
   ],
   "source": [
    "importlib.reload(tournament)\n",
    "game = Game(4,9,4)\n",
    "nnet = nn(game)\n",
    " \n",
    "nn_mcts_dir = '/scratch/zz737/fiar/tournaments/tournament_4/checkpoints_mcts100_cpuct2_id-3753063'\n",
    "participant_iter = 'mcts100_cpuct2;best'\n",
    "ai_nn_mcts_1, nnet_1 = tournament.get_player(game, nn_mcts_dir, participant_iter)\n",
    "\n",
    "\n",
    "nn_mcts_dir = '/scratch/zz737/fiar/tournaments/tournament_1/checkpoints_mcts100_cpuct2'\n",
    "participant_iter = 'mcts100_cpuct2;best'\n",
    "ai_nn_mcts_2, nnet_2 = tournament.get_player(game, nn_mcts_dir, participant_iter)\n",
    "\n",
    "\n",
    "show_game = True\n",
    "display = game.display if show_game else None\n",
    "# arena = Arena(ai_nn_mcts_1, ai_nn_mcts_2,game,display=display)\n",
    "arena = Arena(ai_nn_mcts_1, ai_nn_bft,game,display=display)\n",
    "\n",
    "\n"
   ]
  },
  {
   "cell_type": "code",
   "execution_count": 8,
   "metadata": {
    "scrolled": true
   },
   "outputs": [
    {
     "name": "stderr",
     "output_type": "stream",
     "text": [
      "\r",
      "Arena.playGames (1):   0%|          | 0/1 [00:00<?, ?it/s]"
     ]
    },
    {
     "name": "stdout",
     "output_type": "stream",
     "text": [
      "Turn  1 Player  1\n",
      "   0 1 2 3 4 5 6 7 8 \n",
      "-----------------------\n",
      "0 |- - - - - - - - - |\n",
      "1 |- - - - - - - - - |\n",
      "2 |- - - - - - - - - |\n",
      "3 |- - - - - - - - - |\n",
      "-----------------------\n",
      "Turn  2 Player  -1\n",
      "   0 1 2 3 4 5 6 7 8 \n",
      "-----------------------\n",
      "0 |- - - - O - - - - |\n",
      "1 |- - - - - - - - - |\n",
      "2 |- - - - - - - - - |\n",
      "3 |- - - - - - - - - |\n",
      "-----------------------\n",
      "Turn  3 Player  1\n",
      "   0 1 2 3 4 5 6 7 8 \n",
      "-----------------------\n",
      "0 |- - - - O - - - - |\n",
      "1 |- - - - - - - - - |\n",
      "2 |- X - - - - - - - |\n",
      "3 |- - - - - - - - - |\n",
      "-----------------------\n",
      "Turn  4 Player  -1\n",
      "   0 1 2 3 4 5 6 7 8 \n",
      "-----------------------\n",
      "0 |- - - - O - - O - |\n",
      "1 |- - - - - - - - - |\n",
      "2 |- X - - - - - - - |\n",
      "3 |- - - - - - - - - |\n",
      "-----------------------\n",
      "Turn  5 Player  1\n",
      "   0 1 2 3 4 5 6 7 8 \n",
      "-----------------------\n",
      "0 |- - - X O - - O - |\n",
      "1 |- - - - - - - - - |\n",
      "2 |- X - - - - - - - |\n",
      "3 |- - - - - - - - - |\n",
      "-----------------------\n",
      "Turn  6 Player  -1\n",
      "   0 1 2 3 4 5 6 7 8 \n",
      "-----------------------\n",
      "0 |- - - X O O - O - |\n",
      "1 |- - - - - - - - - |\n",
      "2 |- X - - - - - - - |\n",
      "3 |- - - - - - - - - |\n",
      "-----------------------\n",
      "Turn  7 Player  1\n",
      "   0 1 2 3 4 5 6 7 8 \n",
      "-----------------------\n",
      "0 |- - - X O O X O - |\n",
      "1 |- - - - - - - - - |\n",
      "2 |- X - - - - - - - |\n",
      "3 |- - - - - - - - - |\n",
      "-----------------------\n",
      "Turn  8 Player  -1\n",
      "   0 1 2 3 4 5 6 7 8 \n",
      "-----------------------\n",
      "0 |- - - X O O X O - |\n",
      "1 |- - - - - - - - - |\n",
      "2 |- X - - - - - - - |\n",
      "3 |- - - - O - - - - |\n",
      "-----------------------\n",
      "Turn  9 Player  1\n",
      "   0 1 2 3 4 5 6 7 8 \n",
      "-----------------------\n",
      "0 |- - - X O O X O - |\n",
      "1 |- - - - - - - - - |\n",
      "2 |- X - - X - - - - |\n",
      "3 |- - - - O - - - - |\n",
      "-----------------------\n",
      "Turn  10 Player  -1\n",
      "   0 1 2 3 4 5 6 7 8 \n",
      "-----------------------\n",
      "0 |- - - X O O X O - |\n",
      "1 |- - - - - - - - - |\n",
      "2 |- X - - X O - - - |\n",
      "3 |- - - - O - - - - |\n",
      "-----------------------\n",
      "Turn  11 Player  1\n",
      "   0 1 2 3 4 5 6 7 8 \n",
      "-----------------------\n",
      "0 |- - - X O O X O - |\n",
      "1 |- - - - - - X - - |\n",
      "2 |- X - - X O - - - |\n",
      "3 |- - - - O - - - - |\n",
      "-----------------------\n",
      "Turn  12 Player  -1\n",
      "   0 1 2 3 4 5 6 7 8 \n",
      "-----------------------\n",
      "0 |- - - X O O X O - |\n",
      "1 |- - - - - - X - - |\n",
      "2 |- X - - X O - - - |\n",
      "3 |- - - - O O - - - |\n",
      "-----------------------\n"
     ]
    },
    {
     "name": "stderr",
     "output_type": "stream",
     "text": [
      "Arena.playGames (1): 100%|██████████| 1/1 [00:50<00:00, 50.58s/it]\n",
      "Arena.playGames (2):   0%|          | 0/1 [00:00<?, ?it/s]"
     ]
    },
    {
     "name": "stdout",
     "output_type": "stream",
     "text": [
      "Turn  13 Player  1\n",
      "   0 1 2 3 4 5 6 7 8 \n",
      "-----------------------\n",
      "0 |- X - X O O X O - |\n",
      "1 |- - - - - - X - - |\n",
      "2 |- X - - X O - - - |\n",
      "3 |- - - - O O - - - |\n",
      "-----------------------\n",
      "Game over: Turn  13 Result  1\n",
      "   0 1 2 3 4 5 6 7 8 \n",
      "-----------------------\n",
      "0 |- X - X O O X O - |\n",
      "1 |- - - - - O X - - |\n",
      "2 |- X - - X O - - - |\n",
      "3 |- - - - O O - - - |\n",
      "-----------------------\n",
      "Turn  1 Player  1\n",
      "   0 1 2 3 4 5 6 7 8 \n",
      "-----------------------\n",
      "0 |- - - - - - - - - |\n",
      "1 |- - - - - - - - - |\n",
      "2 |- - - - - - - - - |\n",
      "3 |- - - - - - - - - |\n",
      "-----------------------\n",
      "Turn  2 Player  -1\n",
      "   0 1 2 3 4 5 6 7 8 \n",
      "-----------------------\n",
      "0 |- - - - - - - - - |\n",
      "1 |- - - - - - - - - |\n",
      "2 |- - - - - - - - - |\n",
      "3 |- - - - O - - - - |\n",
      "-----------------------\n",
      "Turn  3 Player  1\n",
      "   0 1 2 3 4 5 6 7 8 \n",
      "-----------------------\n",
      "0 |- - - - - - - - - |\n",
      "1 |- - - - - - - - - |\n",
      "2 |- - X - - - - - - |\n",
      "3 |- - - - O - - - - |\n",
      "-----------------------\n",
      "Turn  4 Player  -1\n",
      "   0 1 2 3 4 5 6 7 8 \n",
      "-----------------------\n",
      "0 |- - - - - - - - - |\n",
      "1 |- - - - - - - - - |\n",
      "2 |- - X - O - - - - |\n",
      "3 |- - - - O - - - - |\n",
      "-----------------------\n",
      "Turn  5 Player  1\n",
      "   0 1 2 3 4 5 6 7 8 \n",
      "-----------------------\n",
      "0 |- - - - X - - - - |\n",
      "1 |- - - - - - - - - |\n",
      "2 |- - X - O - - - - |\n",
      "3 |- - - - O - - - - |\n",
      "-----------------------\n",
      "Turn  6 Player  -1\n",
      "   0 1 2 3 4 5 6 7 8 \n",
      "-----------------------\n",
      "0 |- - - - X - - - - |\n",
      "1 |- - - - - - - - - |\n",
      "2 |- - X - O - - - - |\n",
      "3 |- O - - O - - - - |\n",
      "-----------------------\n",
      "Turn  7 Player  1\n",
      "   0 1 2 3 4 5 6 7 8 \n",
      "-----------------------\n",
      "0 |- - - - X - - - - |\n",
      "1 |- - X - - - - - - |\n",
      "2 |- - X - O - - - - |\n",
      "3 |- O - - O - - - - |\n",
      "-----------------------\n",
      "Turn  8 Player  -1\n",
      "   0 1 2 3 4 5 6 7 8 \n",
      "-----------------------\n",
      "0 |- - - - X - - - - |\n",
      "1 |- - X - - - - - - |\n",
      "2 |- - X - O - - - - |\n",
      "3 |- O O - O - - - - |\n",
      "-----------------------\n",
      "Turn  9 Player  1\n",
      "   0 1 2 3 4 5 6 7 8 \n",
      "-----------------------\n",
      "0 |- - - - X - - - - |\n",
      "1 |- - X - - - - - - |\n",
      "2 |- - X - O - - - - |\n",
      "3 |- O O X O - - - - |\n",
      "-----------------------\n",
      "Turn  10 Player  -1\n",
      "   0 1 2 3 4 5 6 7 8 \n",
      "-----------------------\n",
      "0 |- - - - X - - - - |\n",
      "1 |- - X O - - - - - |\n",
      "2 |- - X - O - - - - |\n",
      "3 |- O O X O - - - - |\n",
      "-----------------------\n",
      "Turn  11 Player  1\n",
      "   0 1 2 3 4 5 6 7 8 \n",
      "-----------------------\n",
      "0 |- - X - X - - - - |\n",
      "1 |- - X O - - - - - |\n",
      "2 |- - X - O - - - - |\n",
      "3 |- O O X O - - - - |\n",
      "-----------------------\n",
      "Turn  12 Player  -1\n",
      "   0 1 2 3 4 5 6 7 8 \n",
      "-----------------------\n",
      "0 |- - X O X - - - - |\n",
      "1 |- - X O - - - - - |\n",
      "2 |- - X - O - - - - |\n",
      "3 |- O O X O - - - - |\n",
      "-----------------------\n",
      "Turn  13 Player  1\n",
      "   0 1 2 3 4 5 6 7 8 \n",
      "-----------------------\n",
      "0 |- - X O X - - - - |\n",
      "1 |- X X O - - - - - |\n",
      "2 |- - X - O - - - - |\n",
      "3 |- O O X O - - - - |\n",
      "-----------------------\n",
      "Turn  14 Player  -1\n",
      "   0 1 2 3 4 5 6 7 8 \n",
      "-----------------------\n",
      "0 |O - X O X - - - - |\n",
      "1 |- X X O - - - - - |\n",
      "2 |- - X - O - - - - |\n",
      "3 |- O O X O - - - - |\n",
      "-----------------------\n",
      "Turn  15 Player  1\n",
      "   0 1 2 3 4 5 6 7 8 \n",
      "-----------------------\n",
      "0 |O - X O X - - - - |\n",
      "1 |- X X O - - - - - |\n",
      "2 |X - X - O - - - - |\n",
      "3 |- O O X O - - - - |\n",
      "-----------------------\n",
      "Turn  16 Player  -1\n",
      "   0 1 2 3 4 5 6 7 8 \n",
      "-----------------------\n",
      "0 |O - X O X - - - - |\n",
      "1 |- X X O - - - - - |\n",
      "2 |X - X - O - - - - |\n",
      "3 |- O O X O - O - - |\n",
      "-----------------------\n",
      "Turn  17 Player  1\n",
      "   0 1 2 3 4 5 6 7 8 \n",
      "-----------------------\n",
      "0 |O - X O X - - - - |\n",
      "1 |- X X O - - - - - |\n",
      "2 |X - X - O - - - - |\n",
      "3 |- O O X O X O - - |\n",
      "-----------------------\n",
      "Turn  18 Player  -1\n",
      "   0 1 2 3 4 5 6 7 8 \n",
      "-----------------------\n",
      "0 |O - X O X - - - - |\n",
      "1 |- X X O - - - - - |\n",
      "2 |X - X - O O - - - |\n",
      "3 |- O O X O X O - - |\n",
      "-----------------------\n",
      "Turn  19 Player  1\n",
      "   0 1 2 3 4 5 6 7 8 \n",
      "-----------------------\n",
      "0 |O - X O X - - - - |\n",
      "1 |- X X O X - - - - |\n",
      "2 |X - X - O O - - - |\n",
      "3 |- O O X O X O - - |\n",
      "-----------------------\n",
      "Turn  20 Player  -1\n",
      "   0 1 2 3 4 5 6 7 8 \n",
      "-----------------------\n",
      "0 |O - X O X - - - - |\n",
      "1 |- X X O X - - - - |\n",
      "2 |X - X - O O O - - |\n",
      "3 |- O O X O X O - - |\n",
      "-----------------------\n"
     ]
    },
    {
     "name": "stderr",
     "output_type": "stream",
     "text": [
      "Arena.playGames (2): 100%|██████████| 1/1 [01:19<00:00, 79.15s/it]"
     ]
    },
    {
     "name": "stdout",
     "output_type": "stream",
     "text": [
      "Turn  21 Player  1\n",
      "   0 1 2 3 4 5 6 7 8 \n",
      "-----------------------\n",
      "0 |O - X O X - - - - |\n",
      "1 |- X X O X - - - - |\n",
      "2 |X - X X O O O - - |\n",
      "3 |- O O X O X O - - |\n",
      "-----------------------\n",
      "Game over: Turn  21 Result  1\n",
      "   0 1 2 3 4 5 6 7 8 \n",
      "-----------------------\n",
      "0 |O - X O X - - - - |\n",
      "1 |- X X O X - - - - |\n",
      "2 |X - X X O O O O - |\n",
      "3 |- O O X O X O - - |\n",
      "-----------------------\n"
     ]
    },
    {
     "name": "stderr",
     "output_type": "stream",
     "text": [
      "\n"
     ]
    },
    {
     "data": {
      "text/plain": [
       "(1, 1, 0)"
      ]
     },
     "execution_count": 8,
     "metadata": {},
     "output_type": "execute_result"
    }
   ],
   "source": [
    "arena.playGames(2,verbose=show_game)"
   ]
  },
  {
   "cell_type": "code",
   "execution_count": null,
   "metadata": {},
   "outputs": [],
   "source": [
    "ai = lambda x: np.argmax(cog_nmcts.getActionProb(x, temp=0)) #temp=0\n",
    "human_player = HumanBeckPlayer(g)\n",
    "human = lambda x: human_player.play(x)\n",
    "arena = Arena(human, ai, g, display=g.display)\n",
    "arena.playGame(verbose=args.display, nnet=cog_nnet, is_save_moves=False)"
   ]
  },
  {
   "cell_type": "code",
   "execution_count": 111,
   "metadata": {},
   "outputs": [],
   "source": [
    "board_str = '''0 |- X - O X X O - - |\n",
    "1 |- X O O O X - - - |\n",
    "2 |- - - O - O X - - |\n",
    "3 |- - - X O - X O - |'''"
   ]
  },
  {
   "cell_type": "code",
   "execution_count": 114,
   "metadata": {},
   "outputs": [],
   "source": [
    "board_arr = np.array(board_str.split(' '))\n",
    "board_arr = np.array([s for s in board_arr if s=='X' or s=='O' or '-' in s ]).reshape(4,-1).astype('object')"
   ]
  },
  {
   "cell_type": "code",
   "execution_count": 115,
   "metadata": {},
   "outputs": [
    {
     "data": {
      "text/plain": [
       "array([['|-', 'X', '-', 'O', 'X', 'X', 'O', '-', '-'],\n",
       "       ['|-', 'X', 'O', 'O', 'O', 'X', '-', '-', '-'],\n",
       "       ['|-', '-', '-', 'O', '-', 'O', 'X', '-', '-'],\n",
       "       ['|-', '-', '-', 'X', 'O', '-', 'X', 'O', '-']], dtype=object)"
      ]
     },
     "execution_count": 115,
     "metadata": {},
     "output_type": "execute_result"
    }
   ],
   "source": [
    "board_arr"
   ]
  },
  {
   "cell_type": "code",
   "execution_count": 116,
   "metadata": {},
   "outputs": [],
   "source": [
    "board_arr[board_arr=='X'] = -1\n",
    "board_arr[board_arr=='O'] = 1\n",
    "board_arr[board_arr=='-'] = 0\n",
    "board_arr[board_arr=='|-'] = 0\n",
    "board_arr = board_arr.astype(int)"
   ]
  },
  {
   "cell_type": "code",
   "execution_count": 117,
   "metadata": {},
   "outputs": [
    {
     "data": {
      "text/plain": [
       "array([[ 0, -1,  0,  1, -1, -1,  1,  0,  0],\n",
       "       [ 0, -1,  1,  1,  1, -1,  0,  0,  0],\n",
       "       [ 0,  0,  0,  1,  0,  1, -1,  0,  0],\n",
       "       [ 0,  0,  0, -1,  1,  0, -1,  1,  0]])"
      ]
     },
     "execution_count": 117,
     "metadata": {},
     "output_type": "execute_result"
    }
   ],
   "source": [
    "board_arr"
   ]
  },
  {
   "cell_type": "code",
   "execution_count": 161,
   "metadata": {},
   "outputs": [
    {
     "name": "stdout",
     "output_type": "stream",
     "text": [
      "2 4\n"
     ]
    }
   ],
   "source": [
    "args = dotdict({'numBFSsims':11,'PruningThresh':0.3})\n",
    "bft = bfts.BFTS(game,nnet,args)\n",
    "\n",
    "ind = np.argmax(bft.getActionProb(-board_arr))\n",
    "print(ind // 9, ind%9)"
   ]
  },
  {
   "cell_type": "code",
   "execution_count": 151,
   "metadata": {},
   "outputs": [
    {
     "data": {
      "text/plain": [
       "22"
      ]
     },
     "execution_count": 151,
     "metadata": {},
     "output_type": "execute_result"
    }
   ],
   "source": [
    "ind"
   ]
  },
  {
   "cell_type": "code",
   "execution_count": null,
   "metadata": {},
   "outputs": [],
   "source": []
  }
 ],
 "metadata": {
  "kernelspec": {
   "display_name": "Python 3",
   "language": "python",
   "name": "python3"
  },
  "language_info": {
   "codemirror_mode": {
    "name": "ipython",
    "version": 3
   },
   "file_extension": ".py",
   "mimetype": "text/x-python",
   "name": "python",
   "nbconvert_exporter": "python",
   "pygments_lexer": "ipython3",
   "version": "3.7.6"
  }
 },
 "nbformat": 4,
 "nbformat_minor": 4
}
