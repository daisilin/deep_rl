{
 "cells": [
  {
   "cell_type": "code",
   "execution_count": 1,
   "metadata": {},
   "outputs": [
    {
     "name": "stdout",
     "output_type": "stream",
     "text": [
      "{'mcts100_cpuct1': [1, 2, 3, 4, 6, 7, 9, 11, 12, 16, 18, 21, 25, 28, 29, 30, 37, 38, 39, 45, 47], 'mcts100_cpuct2': [1, 2, 3, 4, 6, 8, 12, 14, 15, 16, 21, 22, 24, 26, 27, 30, 32, 35, 39], 'mcts100_cpuct3': [1, 2, 3, 4, 5, 7, 8, 9, 10, 11, 12, 16, 17, 18, 20, 21, 25, 26, 28, 32, 34, 35, 36], 'mcts25_cpuct1': [1, 2, 3, 4, 9, 11, 13, 14, 16, 19, 22, 25, 28, 29, 31, 37, 39, 45, 59, 61], 'mcts50_cpuct1': [1, 2, 3, 4, 5, 6, 7, 9, 10, 13, 17, 18, 20, 21, 23, 25, 28, 29, 31, 37, 39, 41, 44, 45, 47, 48, 53], 'mcts80_cpuct1': [1, 2, 3, 4, 5, 7, 8, 9, 10, 13, 16, 19, 20, 21, 23, 24, 28, 34, 35, 36, 40], 'mcts80_cpuct2': [1, 2, 5, 6, 8, 10, 12, 13, 15, 17, 18, 19, 22, 25, 28, 30, 31, 34, 37, 38, 39, 40, 43, 45, 46, 51], 'mcts80_cpuct3': [1, 2, 5, 6, 7, 9, 12, 13, 14, 19, 21, 22, 23, 24, 26, 27, 28, 35, 36, 42, 43, 47, 49, 50, 51, 53, 54, 55, 56, 57]}\n",
      "189 participant iterations!\n"
     ]
    },
    {
     "data": {
      "text/plain": [
       "<module 'load' from '../analysis/load.py'>"
      ]
     },
     "execution_count": 1,
     "metadata": {},
     "output_type": "execute_result"
    }
   ],
   "source": [
    "import sys\n",
    "import os\n",
    "sys.path.insert(0,'../classes')\n",
    "sys.path.insert(0,'../analysis')\n",
    "import anl\n",
    "\n",
    "sys.path.insert(0,'/home/zz737/projects/fiar/cog_model/fourinarow/Analysis notebooks/new')\n",
    "hqfd = '/home/zz737/projects/fiar/cog_model/fourinarow/Analysis notebooks/new/Heuristic quality'\n",
    "sys.path.insert(0,hqfd)\n",
    "from fourinarowfunctions import *\n",
    "import matplotlib.pyplot as plt\n",
    "import pandas as pd\n",
    "import seaborn as sns\n",
    "\n",
    "import logging\n",
    "import numpy as np\n",
    "\n",
    "import coloredlogs\n",
    "\n",
    "from arena import Arena\n",
    "from coach import Coach\n",
    "from beck.beck_game import BeckGame as Game\n",
    "from beck.beck_nnet import NNetWrapper as nn\n",
    "from beck.beck_players import HumanBeckPlayer\n",
    "from mcts import MCTS\n",
    "from utils import *\n",
    "log = logging.getLogger(__name__)\n",
    "\n",
    "from keras import backend as K\n",
    "\n",
    "import tournament\n",
    "# participant_iters = tournament.participant_iters\n",
    "\n",
    "participants_dir = '/scratch/zz737/fiar/tournaments/tournament_4' # dir for trained networks\n",
    "results_dir = '/scratch/zz737/fiar/tournaments/results/tournament_4'\n",
    "moves_dir = '/scratch/zz737/fiar/tournaments/tournament_4/moves/raw/'\n",
    "splits_dir = '/scratch/zz737/fiar/tournaments/tournament_4/moves/splits/'\n",
    "\n",
    "import load\n",
    "import plot_fun\n",
    "from importlib import reload\n",
    "reload(load)"
   ]
  },
  {
   "cell_type": "code",
   "execution_count": 2,
   "metadata": {},
   "outputs": [],
   "source": [
    "import value_analysis as va\n",
    "import pandas as pd\n",
    "import create_database as cd\n",
    "all_players = pd.read_pickle(cd.DATABASE_LOC)"
   ]
  },
  {
   "cell_type": "code",
   "execution_count": 3,
   "metadata": {},
   "outputs": [],
   "source": [
    "import tournament_new as tn\n",
    "game = Game(4,9,4)\n",
    "one_info = all_players.loc[all_players['id']=='tournament_6;mcts100;cpuct2;id-0;best'].iloc[0]\n",
    "ai,val_func,tree = tn.get_player(game, one_info)"
   ]
  },
  {
   "cell_type": "code",
   "execution_count": 4,
   "metadata": {},
   "outputs": [],
   "source": [
    "opt_boards, opt_values=va.load_opt_value_test_boards()"
   ]
  },
  {
   "cell_type": "code",
   "execution_count": 5,
   "metadata": {},
   "outputs": [
    {
     "data": {
      "text/plain": [
       "array([[ 0,  0,  0,  0,  0, -1,  0,  0,  0],\n",
       "       [ 0,  0,  1, -1,  1,  1,  0,  0,  0],\n",
       "       [ 0,  0,  0,  1,  0,  0, -1,  0,  0],\n",
       "       [ 0,  0,  1,  0, -1,  0, -1,  0,  0]])"
      ]
     },
     "execution_count": 5,
     "metadata": {},
     "output_type": "execute_result"
    }
   ],
   "source": [
    "opt_boards[10]"
   ]
  },
  {
   "cell_type": "code",
   "execution_count": 6,
   "metadata": {},
   "outputs": [],
   "source": [
    "b = game.getInitBoard()\n",
    "b[0,:3]=1"
   ]
  },
  {
   "cell_type": "code",
   "execution_count": 7,
   "metadata": {},
   "outputs": [
    {
     "data": {
      "text/plain": [
       "array([[1, 1, 1, 0, 0, 0, 0, 0, 0],\n",
       "       [0, 0, 0, 0, 0, 0, 0, 0, 0],\n",
       "       [0, 0, 0, 0, 0, 0, 0, 0, 0],\n",
       "       [0, 0, 0, 0, 0, 0, 0, 0, 0]])"
      ]
     },
     "execution_count": 7,
     "metadata": {},
     "output_type": "execute_result"
    }
   ],
   "source": [
    "b"
   ]
  },
  {
   "cell_type": "code",
   "execution_count": 11,
   "metadata": {
    "scrolled": true
   },
   "outputs": [
    {
     "data": {
      "text/plain": [
       "[<tensorflow.python.keras.engine.input_layer.InputLayer at 0x149714624e90>,\n",
       " <tensorflow.python.keras.layers.core.Reshape at 0x149718a44390>,\n",
       " <tensorflow.python.keras.layers.convolutional.Conv2D at 0x149715466c90>,\n",
       " <tensorflow.python.keras.layers.normalization_v2.BatchNormalization at 0x1497156ad890>,\n",
       " <tensorflow.python.keras.layers.core.Activation at 0x149717859dd0>,\n",
       " <tensorflow.python.keras.layers.convolutional.Conv2D at 0x149714765d50>,\n",
       " <tensorflow.python.keras.layers.normalization_v2.BatchNormalization at 0x1497147d6f50>,\n",
       " <tensorflow.python.keras.layers.core.Activation at 0x149715466e10>,\n",
       " <tensorflow.python.keras.layers.convolutional.Conv2D at 0x1497147232d0>,\n",
       " <tensorflow.python.keras.layers.normalization_v2.BatchNormalization at 0x149714772f10>,\n",
       " <tensorflow.python.keras.layers.core.Activation at 0x14971477b110>,\n",
       " <tensorflow.python.keras.layers.convolutional.Conv2D at 0x149714754950>,\n",
       " <tensorflow.python.keras.layers.normalization_v2.BatchNormalization at 0x1497147247d0>,\n",
       " <tensorflow.python.keras.layers.core.Activation at 0x1497156ad390>,\n",
       " <tensorflow.python.keras.layers.core.Flatten at 0x149714754f90>,\n",
       " <tensorflow.python.keras.layers.core.Dense at 0x14971470bcd0>,\n",
       " <tensorflow.python.keras.layers.normalization_v2.BatchNormalization at 0x14971470b310>,\n",
       " <tensorflow.python.keras.layers.core.Activation at 0x149714703ad0>,\n",
       " <tensorflow.python.keras.layers.core.Dropout at 0x149714759110>,\n",
       " <tensorflow.python.keras.layers.core.Dense at 0x1497141e6210>,\n",
       " <tensorflow.python.keras.layers.normalization_v2.BatchNormalization at 0x1497141d9a90>,\n",
       " <tensorflow.python.keras.layers.core.Activation at 0x149714710390>,\n",
       " <tensorflow.python.keras.layers.core.Dropout at 0x149714715810>,\n",
       " <tensorflow.python.keras.layers.core.Dense at 0x1497141e6590>,\n",
       " <tensorflow.python.keras.layers.core.Dense at 0x14971419b350>]"
      ]
     },
     "execution_count": 11,
     "metadata": {},
     "output_type": "execute_result"
    }
   ],
   "source": [
    "val_func.nnet.model.layers"
   ]
  },
  {
   "cell_type": "code",
   "execution_count": 10,
   "metadata": {},
   "outputs": [],
   "source": [
    "model = val_func.nnet.model"
   ]
  },
  {
   "cell_type": "code",
   "execution_count": 14,
   "metadata": {},
   "outputs": [],
   "source": [
    "from tensorflow.python.keras import backend\n",
    "inp = model.input                                           # input placeholder\n",
    "outputs = [layer.output for layer in model.layers]          # all layer outputs\n",
    "functors = [K.function([inp, backend.symbolic_learning_phase()], [out]) for out in outputs]    # evaluation functions\n",
    "\n",
    "# Testing\n",
    "# test = np.random.random([4,9])[np.newaxis,...]\n",
    "# test = opt_boards[10:12]\n",
    "test = b[None,:,:]\n",
    "layer_outs = [func([test, False]) for func in functors]\n",
    "# print(layer_outs)"
   ]
  },
  {
   "cell_type": "code",
   "execution_count": 46,
   "metadata": {},
   "outputs": [
    {
     "data": {
      "text/plain": [
       "[<tensorflow.python.keras.engine.input_layer.InputLayer at 0x14c09b719d50>,\n",
       " <tensorflow.python.keras.layers.core.Reshape at 0x14c09b71dc10>,\n",
       " <tensorflow.python.keras.layers.convolutional.Conv2D at 0x14c09b704950>,\n",
       " <tensorflow.python.keras.layers.normalization_v2.BatchNormalization at 0x14c09b708410>,\n",
       " <tensorflow.python.keras.layers.core.Activation at 0x14c09b393bd0>,\n",
       " <tensorflow.python.keras.layers.convolutional.Conv2D at 0x14c09b6fbbd0>,\n",
       " <tensorflow.python.keras.layers.normalization_v2.BatchNormalization at 0x14c09b7042d0>,\n",
       " <tensorflow.python.keras.layers.core.Activation at 0x14c09b71a350>,\n",
       " <tensorflow.python.keras.layers.convolutional.Conv2D at 0x14c09b76d050>,\n",
       " <tensorflow.python.keras.layers.normalization_v2.BatchNormalization at 0x14c09b6faa10>,\n",
       " <tensorflow.python.keras.layers.core.Activation at 0x14c09b6fcf10>,\n",
       " <tensorflow.python.keras.layers.convolutional.Conv2D at 0x14c09b762390>,\n",
       " <tensorflow.python.keras.layers.normalization_v2.BatchNormalization at 0x14c09b76bed0>,\n",
       " <tensorflow.python.keras.layers.core.Activation at 0x14c09b76e910>,\n",
       " <tensorflow.python.keras.layers.core.Flatten at 0x14c09b76c790>,\n",
       " <tensorflow.python.keras.layers.core.Dense at 0x14c09b7044d0>,\n",
       " <tensorflow.python.keras.layers.normalization_v2.BatchNormalization at 0x14c09b754490>,\n",
       " <tensorflow.python.keras.layers.core.Activation at 0x14c09b756350>,\n",
       " <tensorflow.python.keras.layers.core.Dropout at 0x14c09b760a10>,\n",
       " <tensorflow.python.keras.layers.core.Dense at 0x14c09b704350>,\n",
       " <tensorflow.python.keras.layers.normalization_v2.BatchNormalization at 0x14c09b746850>,\n",
       " <tensorflow.python.keras.layers.core.Activation at 0x14c09b753450>,\n",
       " <tensorflow.python.keras.layers.core.Dropout at 0x14c09b754790>,\n",
       " <tensorflow.python.keras.layers.core.Dense at 0x14c09b741f50>,\n",
       " <tensorflow.python.keras.layers.core.Dense at 0x14c09b7b59d0>]"
      ]
     },
     "execution_count": 46,
     "metadata": {},
     "output_type": "execute_result"
    }
   ],
   "source": [
    "model.layers"
   ]
  },
  {
   "cell_type": "code",
   "execution_count": 16,
   "metadata": {},
   "outputs": [
    {
     "data": {
      "image/png": "[encoded data removed]",
      "text/plain": [
       "<Figure size 432x288 with 1 Axes>"
      ]
     },
     "metadata": {
      "needs_background": "light"
     },
     "output_type": "display_data"
    },
    {
     "data": {
      "image/png": "[encoded data removed]",
      "text/plain": [
       "<Figure size 432x288 with 1 Axes>"
      ]
     },
     "metadata": {
      "needs_background": "light"
     },
     "output_type": "display_data"
    },
    {
     "data": {
      "image/png": "[encoded data removed]",
      "text/plain": [
       "<Figure size 432x288 with 1 Axes>"
      ]
     },
     "metadata": {
      "needs_background": "light"
     },
     "output_type": "display_data"
    },
    {
     "data": {
      "image/png": "[encoded data removed]",
      "text/plain": [
       "<Figure size 432x288 with 1 Axes>"
      ]
     },
     "metadata": {
      "needs_background": "light"
     },
     "output_type": "display_data"
    },
    {
     "data": {
      "image/png": "[encoded data removed]",
      "text/plain": [
       "<Figure size 432x288 with 1 Axes>"
      ]
     },
     "metadata": {
      "needs_background": "light"
     },
     "output_type": "display_data"
    },
    {
     "data": {
      "image/png": "[encoded data removed]",
      "text/plain": [
       "<Figure size 432x288 with 1 Axes>"
      ]
     },
     "metadata": {
      "needs_background": "light"
     },
     "output_type": "display_data"
    },
    {
     "data": {
      "image/png": "[encoded data removed]",
      "text/plain": [
       "<Figure size 432x288 with 1 Axes>"
      ]
     },
     "metadata": {
      "needs_background": "light"
     },
     "output_type": "display_data"
    },
    {
     "data": {
      "image/png": "[encoded data removed]",
      "text/plain": [
       "<Figure size 432x288 with 1 Axes>"
      ]
     },
     "metadata": {
      "needs_background": "light"
     },
     "output_type": "display_data"
    },
    {
     "data": {
      "image/png": "[encoded data removed]",
      "text/plain": [
       "<Figure size 432x288 with 1 Axes>"
      ]
     },
     "metadata": {
      "needs_background": "light"
     },
     "output_type": "display_data"
    },
    {
     "data": {
      "image/png": "[encoded data removed]",
      "text/plain": [
       "<Figure size 432x288 with 1 Axes>"
      ]
     },
     "metadata": {
      "needs_background": "light"
     },
     "output_type": "display_data"
    }
   ],
   "source": [
    "kk=0\n",
    "l=6\n",
    "for c in range(10):\n",
    "    plt.figure()\n",
    "    plt.imshow(layer_outs[l][0][kk][:,:,c],aspect='auto')"
   ]
  },
  {
   "cell_type": "code",
   "execution_count": 25,
   "metadata": {},
   "outputs": [
    {
     "data": {
      "image/png": "[encoded data removed]",
      "text/plain": [
       "<Figure size 432x288 with 1 Axes>"
      ]
     },
     "metadata": {
      "needs_background": "light"
     },
     "output_type": "display_data"
    },
    {
     "data": {
      "image/png": "[encoded data removed]",
      "text/plain": [
       "<Figure size 432x288 with 1 Axes>"
      ]
     },
     "metadata": {
      "needs_background": "light"
     },
     "output_type": "display_data"
    },
    {
     "data": {
      "image/png": "[encoded data removed]",
      "text/plain": [
       "<Figure size 432x288 with 1 Axes>"
      ]
     },
     "metadata": {
      "needs_background": "light"
     },
     "output_type": "display_data"
    },
    {
     "data": {
      "image/png": "[encoded data removed]",
      "text/plain": [
       "<Figure size 432x288 with 1 Axes>"
      ]
     },
     "metadata": {
      "needs_background": "light"
     },
     "output_type": "display_data"
    },
    {
     "data": {
      "image/png": "[encoded data removed]",
      "text/plain": [
       "<Figure size 432x288 with 1 Axes>"
      ]
     },
     "metadata": {
      "needs_background": "light"
     },
     "output_type": "display_data"
    },
    {
     "data": {
      "image/png": "[encoded data removed]",
      "text/plain": [
       "<Figure size 432x288 with 1 Axes>"
      ]
     },
     "metadata": {
      "needs_background": "light"
     },
     "output_type": "display_data"
    },
    {
     "data": {
      "image/png": "[encoded data removed]",
      "text/plain": [
       "<Figure size 432x288 with 1 Axes>"
      ]
     },
     "metadata": {
      "needs_background": "light"
     },
     "output_type": "display_data"
    },
    {
     "data": {
      "image/png": "[encoded data removed]",
      "text/plain": [
       "<Figure size 432x288 with 1 Axes>"
      ]
     },
     "metadata": {
      "needs_background": "light"
     },
     "output_type": "display_data"
    },
    {
     "data": {
      "image/png": "[encoded data removed]",
      "text/plain": [
       "<Figure size 432x288 with 1 Axes>"
      ]
     },
     "metadata": {
      "needs_background": "light"
     },
     "output_type": "display_data"
    },
    {
     "data": {
      "image/png": "[encoded data removed]",
      "text/plain": [
       "<Figure size 432x288 with 1 Axes>"
      ]
     },
     "metadata": {
      "needs_background": "light"
     },
     "output_type": "display_data"
    }
   ],
   "source": [
    "kk=0\n",
    "l=6\n",
    "for c in range(10):\n",
    "    plt.figure()\n",
    "    plt.imshow(layer_outs[l][0][kk][:,:,c],aspect='auto')"
   ]
  },
  {
   "cell_type": "code",
   "execution_count": 22,
   "metadata": {
    "scrolled": true
   },
   "outputs": [
    {
     "data": {
      "text/plain": [
       "<tf.Tensor 'activation_5/Identity:0' shape=(None, 512) dtype=float32>"
      ]
     },
     "execution_count": 22,
     "metadata": {},
     "output_type": "execute_result"
    }
   ],
   "source": [
    "model.layers[-4].output"
   ]
  },
  {
   "cell_type": "code",
   "execution_count": 20,
   "metadata": {},
   "outputs": [],
   "source": [
    "from keras.models import *\n",
    "from keras.layers import *\n",
    "from keras.optimizers import *\n",
    "from keras import initializers\n",
    "from keras import regularizers\n",
    "import keras\n",
    "import tensorflow as tf"
   ]
  },
  {
   "cell_type": "code",
   "execution_count": 41,
   "metadata": {},
   "outputs": [],
   "source": [
    "class Distort(keras.layers.Layer):\n",
    "    def __init__(self, shape=(4,9),N_noise_samples=100,model=None,l1=0.01):\n",
    "        super(Distort, self).__init__()\n",
    "        self.l1 = l1\n",
    "#         self.w_init = tf.random_uniform_initializer(minval=0.0,maxval=1.0) # can add in init with board input\n",
    "        self.w_init = initializers.RandomUniform(minval=0.0,maxval=1.0) # can add in init with board input\n",
    "#         self.w = tf.Variable(\n",
    "#             initial_value=w_init(shape=shape, dtype=\"float32\"),\n",
    "#             trainable=True,\n",
    "#         )\n",
    "        self.N_noise_samples=N_noise_samples\n",
    "#         self.noise_samples_init = tf.random_normal_initializer(mean=0.0, stddev=0.1)\n",
    "        self.noise_samples_init = initializers.RandomNormal(mean=0.0, stddev=0.1)\n",
    "#         self.noise_samples = tf.Variable(\n",
    "#             initial_value=noise_samples_init(shape=(N_noise_samples,*shape), dtype=\"float32\"),\n",
    "#             trainable=False,\n",
    "#         )\n",
    "        if model is not None:\n",
    "            self.f = model\n",
    "        else:\n",
    "            self.f = tf.identity\n",
    "            \n",
    "    def build(self, input_shape):\n",
    "        self.w = self.add_weight(\n",
    "            \"mask\",\n",
    "            shape=input_shape,\n",
    "            initializer=self.w_init,\n",
    "            trainable=True,\n",
    "            regularizer=regularizers.l1(self.l1),\n",
    "        )\n",
    "        self.noise_samples = self.add_weight(\n",
    "            \"noise\",\n",
    "            shape = (self.N_noise_samples,*input_shape[1:]),\n",
    "            initializer=self.noise_samples_init,\n",
    "            trainable=False,\n",
    "        )\n",
    "        \n",
    "\n",
    "    def call(self, input): # only accomodate single input example\n",
    "#         return self.f(self.w * input[None,...] + (1-self.w)  * self.noise_samples)\n",
    "        w_clipped = K.clip(self.w,0,1)\n",
    "#         return self.f(self.w * input + (1-self.w)  * self.noise_samples)\n",
    "        return self.f(w_clipped * input + (1-w_clipped)  * self.noise_samples)\n",
    "\n",
    "# def RDE(model,out_node):\n",
    "#     '''\n",
    "#     model: the othello net model\n",
    "#     out_node: whether 0 for policy or 1 for value, \n",
    "#     '''\n",
    "#     model.trainable=False\n",
    "    \n",
    "#     in_shape = model.layers[0].input_shape[0][1:]\n",
    "#     inputs=Input(shape=in_shape,batch_size=1) # distort only accomodate single input, now\n",
    "#     out_distorted = Distort(shape = in_shape , N_noise_samples=100, model=model)(inputs)[out_node]\n",
    "# #     in_distorted = Distort(shape = in_shape , N_noise_samples=100, model=None)(inputs)[out_node]\n",
    "# #     out_distorted = model(in_distorted)\n",
    "    \n",
    "#     rde = Model(inputs=inputs, outputs=out_distorted)\n",
    "#     loss_l=['categorical_crossentropy','mean_squared_error']\n",
    "#     rde.compile(loss=loss_l[out_node], optimizer=Adam(lr=0.01))\n",
    "    \n",
    "#     return rde\n",
    "\n",
    "class RDE():\n",
    "    def __init__(self,model,out_node,lr=0.01):\n",
    "        '''\n",
    "        model: the othello net model\n",
    "        out_node: whether 0 for policy or 1 for value, \n",
    "        '''\n",
    "        model.trainable=False\n",
    "        self.model = model\n",
    "        self.out_node = out_node\n",
    "        \n",
    "        in_shape = model.layers[0].input_shape[0][1:]\n",
    "        inputs=Input(shape=in_shape,batch_size=1) # distort only accomodate single input, now\n",
    "        out_distorted = Distort(shape = in_shape , N_noise_samples=100, model=model)(inputs)[out_node]\n",
    "    #     in_distorted = Distort(shape = in_shape , N_noise_samples=100, model=None)(inputs)[out_node]\n",
    "    #     out_distorted = model(in_distorted)\n",
    "    \n",
    "        rde = Model(inputs=inputs, outputs=out_distorted)\n",
    "        loss_l=['categorical_crossentropy','mean_squared_error']\n",
    "        rde.compile(loss=loss_l[out_node], optimizer=Adam(lr=lr))\n",
    "        \n",
    "        self.rde = rde\n",
    "        \n",
    "        \n",
    "        "
   ]
  },
  {
   "cell_type": "code",
   "execution_count": 109,
   "metadata": {},
   "outputs": [],
   "source": [
    "distort = Distort(model=model)"
   ]
  },
  {
   "cell_type": "code",
   "execution_count": 110,
   "metadata": {},
   "outputs": [
    {
     "data": {
      "text/plain": [
       "[<tf.Tensor: shape=(100, 36), dtype=float32, numpy=\n",
       " array([[3.06823039e-10, 9.52123802e-09, 1.74640291e-09, ...,\n",
       "         4.00212574e-09, 2.04769641e-08, 4.42391235e-09],\n",
       "        [5.71161285e-10, 1.45241597e-08, 4.44297088e-09, ...,\n",
       "         1.79332336e-08, 3.32591377e-08, 1.10545200e-08],\n",
       "        [1.54685409e-09, 7.89173953e-08, 6.14638296e-09, ...,\n",
       "         3.19694564e-08, 5.32437490e-08, 2.62902624e-08],\n",
       "        ...,\n",
       "        [4.00961542e-10, 8.08480216e-09, 2.46543852e-09, ...,\n",
       "         1.04098614e-08, 1.84400548e-08, 7.53501617e-09],\n",
       "        [4.37150732e-10, 9.14925025e-09, 8.47866444e-10, ...,\n",
       "         6.82553569e-09, 8.62688587e-09, 4.39223680e-09],\n",
       "        [4.35280978e-10, 1.12633201e-08, 2.58030397e-09, ...,\n",
       "         2.08708144e-08, 2.14250875e-08, 1.01671995e-08]], dtype=float32)>,\n",
       " <tf.Tensor: shape=(100, 1), dtype=float32, numpy=\n",
       " array([[0.41759044],\n",
       "        [0.4200491 ],\n",
       "        [0.4191793 ],\n",
       "        [0.41168562],\n",
       "        [0.40713027],\n",
       "        [0.4169193 ],\n",
       "        [0.41500342],\n",
       "        [0.41027632],\n",
       "        [0.41897547],\n",
       "        [0.4192065 ],\n",
       "        [0.41350958],\n",
       "        [0.41074866],\n",
       "        [0.41386157],\n",
       "        [0.41300902],\n",
       "        [0.40357512],\n",
       "        [0.40588346],\n",
       "        [0.40381333],\n",
       "        [0.4192668 ],\n",
       "        [0.40882343],\n",
       "        [0.42146334],\n",
       "        [0.3945721 ],\n",
       "        [0.4063569 ],\n",
       "        [0.41107902],\n",
       "        [0.4115051 ],\n",
       "        [0.41630203],\n",
       "        [0.41251227],\n",
       "        [0.40853378],\n",
       "        [0.42229867],\n",
       "        [0.40983573],\n",
       "        [0.40249234],\n",
       "        [0.41467434],\n",
       "        [0.4125887 ],\n",
       "        [0.40052307],\n",
       "        [0.40962   ],\n",
       "        [0.41172838],\n",
       "        [0.4193311 ],\n",
       "        [0.40584517],\n",
       "        [0.42027283],\n",
       "        [0.40888208],\n",
       "        [0.41316962],\n",
       "        [0.4132493 ],\n",
       "        [0.41380265],\n",
       "        [0.4137848 ],\n",
       "        [0.40597266],\n",
       "        [0.40098748],\n",
       "        [0.40527153],\n",
       "        [0.41760132],\n",
       "        [0.41056538],\n",
       "        [0.41840094],\n",
       "        [0.41597876],\n",
       "        [0.4234258 ],\n",
       "        [0.4078619 ],\n",
       "        [0.40990964],\n",
       "        [0.40720025],\n",
       "        [0.41214874],\n",
       "        [0.41380417],\n",
       "        [0.41235003],\n",
       "        [0.40645227],\n",
       "        [0.40932748],\n",
       "        [0.41223264],\n",
       "        [0.41465753],\n",
       "        [0.41352853],\n",
       "        [0.40295932],\n",
       "        [0.4010423 ],\n",
       "        [0.41356197],\n",
       "        [0.41163728],\n",
       "        [0.4188995 ],\n",
       "        [0.4088092 ],\n",
       "        [0.41445008],\n",
       "        [0.40144956],\n",
       "        [0.41652513],\n",
       "        [0.41371453],\n",
       "        [0.41261256],\n",
       "        [0.40658236],\n",
       "        [0.41558304],\n",
       "        [0.42180923],\n",
       "        [0.41763756],\n",
       "        [0.3995533 ],\n",
       "        [0.41253713],\n",
       "        [0.40965694],\n",
       "        [0.4136246 ],\n",
       "        [0.40581217],\n",
       "        [0.4173364 ],\n",
       "        [0.41837803],\n",
       "        [0.41595507],\n",
       "        [0.41299644],\n",
       "        [0.41849968],\n",
       "        [0.41450584],\n",
       "        [0.41414797],\n",
       "        [0.40786293],\n",
       "        [0.39941728],\n",
       "        [0.4136542 ],\n",
       "        [0.4097752 ],\n",
       "        [0.40702635],\n",
       "        [0.40308967],\n",
       "        [0.42210317],\n",
       "        [0.41258976],\n",
       "        [0.41704467],\n",
       "        [0.41184336],\n",
       "        [0.41009465]], dtype=float32)>]"
      ]
     },
     "execution_count": 110,
     "metadata": {},
     "output_type": "execute_result"
    }
   ],
   "source": [
    "distort(b.astype(np.float32))"
   ]
  },
  {
   "cell_type": "code",
   "execution_count": 42,
   "metadata": {},
   "outputs": [],
   "source": [
    "rde = RDE(model,1)"
   ]
  },
  {
   "cell_type": "code",
   "execution_count": 37,
   "metadata": {},
   "outputs": [
    {
     "data": {
      "text/plain": [
       "<tensorflow.python.keras.engine.training.Model at 0x14e23e4f0490>"
      ]
     },
     "execution_count": 37,
     "metadata": {},
     "output_type": "execute_result"
    }
   ],
   "source": [
    "model"
   ]
  },
  {
   "cell_type": "code",
   "execution_count": 45,
   "metadata": {},
   "outputs": [
    {
     "name": "stdout",
     "output_type": "stream",
     "text": [
      "Epoch 1/100\n",
      "1/1 [==============================] - 0s 939us/step - loss: 0.3583\n",
      "Epoch 2/100\n",
      "1/1 [==============================] - 0s 2ms/step - loss: 0.3336\n",
      "Epoch 3/100\n",
      "1/1 [==============================] - 0s 1ms/step - loss: 0.3033\n",
      "Epoch 4/100\n",
      "1/1 [==============================] - 0s 935us/step - loss: 0.2960\n",
      "Epoch 5/100\n",
      "1/1 [==============================] - 0s 1ms/step - loss: 0.2572\n",
      "Epoch 6/100\n",
      "1/1 [==============================] - 0s 962us/step - loss: 0.2293\n",
      "Epoch 7/100\n",
      "1/1 [==============================] - 0s 1ms/step - loss: 0.2050\n",
      "Epoch 8/100\n",
      "1/1 [==============================] - 0s 1ms/step - loss: 0.1910\n",
      "Epoch 9/100\n",
      "1/1 [==============================] - 0s 2ms/step - loss: 0.1724\n",
      "Epoch 10/100\n",
      "1/1 [==============================] - 0s 1ms/step - loss: 0.1601\n",
      "Epoch 11/100\n",
      "1/1 [==============================] - 0s 1ms/step - loss: 0.1515\n",
      "Epoch 12/100\n",
      "1/1 [==============================] - 0s 1ms/step - loss: 0.1429\n",
      "Epoch 13/100\n",
      "1/1 [==============================] - 0s 1ms/step - loss: 0.1391\n",
      "Epoch 14/100\n",
      "1/1 [==============================] - 0s 1ms/step - loss: 0.1321\n",
      "Epoch 15/100\n",
      "1/1 [==============================] - 0s 1ms/step - loss: 0.1328\n",
      "Epoch 16/100\n",
      "1/1 [==============================] - 0s 1ms/step - loss: 0.1287\n",
      "Epoch 17/100\n",
      "1/1 [==============================] - 0s 1ms/step - loss: 0.1293\n",
      "Epoch 18/100\n",
      "1/1 [==============================] - 0s 1ms/step - loss: 0.1213\n",
      "Epoch 19/100\n",
      "1/1 [==============================] - 0s 938us/step - loss: 0.1186\n",
      "Epoch 20/100\n",
      "1/1 [==============================] - 0s 1ms/step - loss: 0.1161\n",
      "Epoch 21/100\n",
      "1/1 [==============================] - 0s 1ms/step - loss: 0.1144\n",
      "Epoch 22/100\n",
      "1/1 [==============================] - 0s 1ms/step - loss: 0.1116\n",
      "Epoch 23/100\n",
      "1/1 [==============================] - 0s 923us/step - loss: 0.1094\n",
      "Epoch 24/100\n",
      "1/1 [==============================] - 0s 1ms/step - loss: 0.1071\n",
      "Epoch 25/100\n",
      "1/1 [==============================] - 0s 1ms/step - loss: 0.1071\n",
      "Epoch 26/100\n",
      "1/1 [==============================] - 0s 1ms/step - loss: 0.1040\n",
      "Epoch 27/100\n",
      "1/1 [==============================] - 0s 1ms/step - loss: 0.1017\n",
      "Epoch 28/100\n",
      "1/1 [==============================] - 0s 1ms/step - loss: 0.0994\n",
      "Epoch 29/100\n",
      "1/1 [==============================] - 0s 915us/step - loss: 0.0977\n",
      "Epoch 30/100\n",
      "1/1 [==============================] - 0s 970us/step - loss: 0.0959\n",
      "Epoch 31/100\n",
      "1/1 [==============================] - 0s 1ms/step - loss: 0.0952\n",
      "Epoch 32/100\n",
      "1/1 [==============================] - 0s 1ms/step - loss: 0.0916\n",
      "Epoch 33/100\n",
      "1/1 [==============================] - 0s 1000us/step - loss: 0.0901\n",
      "Epoch 34/100\n",
      "1/1 [==============================] - 0s 923us/step - loss: 0.0873\n",
      "Epoch 35/100\n",
      "1/1 [==============================] - 0s 1ms/step - loss: 0.0876\n",
      "Epoch 36/100\n",
      "1/1 [==============================] - 0s 1ms/step - loss: 0.0836\n",
      "Epoch 37/100\n",
      "1/1 [==============================] - 0s 1ms/step - loss: 0.0823\n",
      "Epoch 38/100\n",
      "1/1 [==============================] - 0s 984us/step - loss: 0.0831\n",
      "Epoch 39/100\n",
      "1/1 [==============================] - 0s 996us/step - loss: 0.0787\n",
      "Epoch 40/100\n",
      "1/1 [==============================] - 0s 1ms/step - loss: 0.0769\n",
      "Epoch 41/100\n",
      "1/1 [==============================] - 0s 1ms/step - loss: 0.0753\n",
      "Epoch 42/100\n",
      "1/1 [==============================] - 0s 1ms/step - loss: 0.0750\n",
      "Epoch 43/100\n",
      "1/1 [==============================] - 0s 1ms/step - loss: 0.0716\n",
      "Epoch 44/100\n",
      "1/1 [==============================] - 0s 921us/step - loss: 0.0695\n",
      "Epoch 45/100\n",
      "1/1 [==============================] - 0s 1ms/step - loss: 0.0678\n",
      "Epoch 46/100\n",
      "1/1 [==============================] - 0s 928us/step - loss: 0.0665\n",
      "Epoch 47/100\n",
      "1/1 [==============================] - 0s 3ms/step - loss: 0.0653\n",
      "Epoch 48/100\n",
      "1/1 [==============================] - 0s 960us/step - loss: 0.0640\n",
      "Epoch 49/100\n",
      "1/1 [==============================] - 0s 902us/step - loss: 0.0621\n",
      "Epoch 50/100\n",
      "1/1 [==============================] - 0s 988us/step - loss: 0.0609\n",
      "Epoch 51/100\n",
      "1/1 [==============================] - 0s 1ms/step - loss: 0.0597\n",
      "Epoch 52/100\n",
      "1/1 [==============================] - 0s 1ms/step - loss: 0.0583\n",
      "Epoch 53/100\n",
      "1/1 [==============================] - 0s 1ms/step - loss: 0.0571\n",
      "Epoch 54/100\n",
      "1/1 [==============================] - 0s 1ms/step - loss: 0.0554\n",
      "Epoch 55/100\n",
      "1/1 [==============================] - 0s 1ms/step - loss: 0.0544\n",
      "Epoch 56/100\n",
      "1/1 [==============================] - 0s 915us/step - loss: 0.0531\n",
      "Epoch 57/100\n",
      "1/1 [==============================] - 0s 1ms/step - loss: 0.0521\n",
      "Epoch 58/100\n",
      "1/1 [==============================] - 0s 1ms/step - loss: 0.0523\n",
      "Epoch 59/100\n",
      "1/1 [==============================] - 0s 937us/step - loss: 0.0504\n",
      "Epoch 60/100\n",
      "1/1 [==============================] - 0s 919us/step - loss: 0.0493\n",
      "Epoch 61/100\n",
      "1/1 [==============================] - 0s 2ms/step - loss: 0.0502\n",
      "Epoch 62/100\n",
      "1/1 [==============================] - 0s 1ms/step - loss: 0.0476\n",
      "Epoch 63/100\n",
      "1/1 [==============================] - 0s 1ms/step - loss: 0.0469\n",
      "Epoch 64/100\n",
      "1/1 [==============================] - 0s 1ms/step - loss: 0.0458\n",
      "Epoch 65/100\n",
      "1/1 [==============================] - 0s 940us/step - loss: 0.0449\n",
      "Epoch 66/100\n",
      "1/1 [==============================] - 0s 999us/step - loss: 0.0435\n",
      "Epoch 67/100\n",
      "1/1 [==============================] - 0s 991us/step - loss: 0.0427\n",
      "Epoch 68/100\n",
      "1/1 [==============================] - 0s 919us/step - loss: 0.0422\n",
      "Epoch 69/100\n",
      "1/1 [==============================] - 0s 1ms/step - loss: 0.0406\n",
      "Epoch 70/100\n",
      "1/1 [==============================] - 0s 1ms/step - loss: 0.0417\n",
      "Epoch 71/100\n",
      "1/1 [==============================] - 0s 964us/step - loss: 0.0392\n",
      "Epoch 72/100\n",
      "1/1 [==============================] - 0s 914us/step - loss: 0.0381\n",
      "Epoch 73/100\n",
      "1/1 [==============================] - 0s 1ms/step - loss: 0.0386\n",
      "Epoch 74/100\n",
      "1/1 [==============================] - 0s 1ms/step - loss: 0.0384\n",
      "Epoch 75/100\n",
      "1/1 [==============================] - 0s 2ms/step - loss: 0.0374\n",
      "Epoch 76/100\n",
      "1/1 [==============================] - 0s 930us/step - loss: 0.0355\n",
      "Epoch 77/100\n",
      "1/1 [==============================] - 0s 1ms/step - loss: 0.0347\n",
      "Epoch 78/100\n",
      "1/1 [==============================] - 0s 920us/step - loss: 0.0341\n",
      "Epoch 79/100\n",
      "1/1 [==============================] - 0s 1ms/step - loss: 0.0336\n",
      "Epoch 80/100\n",
      "1/1 [==============================] - 0s 952us/step - loss: 0.0326\n",
      "Epoch 81/100\n",
      "1/1 [==============================] - 0s 1000us/step - loss: 0.0318\n",
      "Epoch 82/100\n",
      "1/1 [==============================] - 0s 1ms/step - loss: 0.0315\n",
      "Epoch 83/100\n",
      "1/1 [==============================] - 0s 985us/step - loss: 0.0308\n",
      "Epoch 84/100\n",
      "1/1 [==============================] - 0s 997us/step - loss: 0.0308\n",
      "Epoch 85/100\n",
      "1/1 [==============================] - 0s 1ms/step - loss: 0.0296\n",
      "Epoch 86/100\n",
      "1/1 [==============================] - 0s 1ms/step - loss: 0.0295\n",
      "Epoch 87/100\n",
      "1/1 [==============================] - 0s 1ms/step - loss: 0.0305\n",
      "Epoch 88/100\n",
      "1/1 [==============================] - 0s 966us/step - loss: 0.0288\n",
      "Epoch 89/100\n",
      "1/1 [==============================] - 0s 999us/step - loss: 0.0293\n",
      "Epoch 90/100\n",
      "1/1 [==============================] - 0s 1ms/step - loss: 0.0281\n",
      "Epoch 91/100\n",
      "1/1 [==============================] - 0s 1ms/step - loss: 0.0337\n",
      "Epoch 92/100\n",
      "1/1 [==============================] - 0s 1ms/step - loss: 0.0273\n",
      "Epoch 93/100\n",
      "1/1 [==============================] - 0s 953us/step - loss: 0.0286\n",
      "Epoch 94/100\n",
      "1/1 [==============================] - 0s 2ms/step - loss: 0.0278\n",
      "Epoch 95/100\n",
      "1/1 [==============================] - 0s 993us/step - loss: 0.0267\n",
      "Epoch 96/100\n",
      "1/1 [==============================] - 0s 1ms/step - loss: 0.0267\n",
      "Epoch 97/100\n",
      "1/1 [==============================] - 0s 999us/step - loss: 0.0289\n",
      "Epoch 98/100\n",
      "1/1 [==============================] - 0s 1ms/step - loss: 0.0266\n",
      "Epoch 99/100\n",
      "1/1 [==============================] - 0s 946us/step - loss: 0.0263\n",
      "Epoch 100/100\n",
      "1/1 [==============================] - 0s 1ms/step - loss: 0.0277\n"
     ]
    },
    {
     "data": {
      "text/plain": [
       "<tensorflow.python.keras.callbacks.History at 0x14e21ed488d0>"
      ]
     },
     "execution_count": 45,
     "metadata": {},
     "output_type": "execute_result"
    }
   ],
   "source": [
    "input_boards = b[None,...]\n",
    "rde.rde.fit(x=input_boards,y=rde.model(input_boards)[rde.out_node],epochs=100)"
   ]
  },
  {
   "cell_type": "code",
   "execution_count": 66,
   "metadata": {
    "scrolled": true
   },
   "outputs": [
    {
     "data": {
      "text/plain": [
       "<AxesSubplot:>"
      ]
     },
     "execution_count": 66,
     "metadata": {},
     "output_type": "execute_result"
    },
    {
     "data": {
      "image/png": "[encoded data removed]",
      "text/plain": [
       "<Figure size 432x288 with 2 Axes>"
      ]
     },
     "metadata": {
      "needs_background": "light"
     },
     "output_type": "display_data"
    }
   ],
   "source": [
    "mask=rde.rde.layers[1].w.numpy()[0]\n",
    "sns.heatmap(mask,linecolor='white',linewidth=3,square=True)"
   ]
  },
  {
   "cell_type": "code",
   "execution_count": 36,
   "metadata": {},
   "outputs": [
    {
     "data": {
      "text/plain": [
       "<tf.Tensor: shape=(100, 1), dtype=float32, numpy=\n",
       "array([[0.40562978],\n",
       "       [0.38287377],\n",
       "       [0.40019011],\n",
       "       [0.37942287],\n",
       "       [0.40467313],\n",
       "       [0.3967703 ],\n",
       "       [0.39320144],\n",
       "       [0.40532166],\n",
       "       [0.40721202],\n",
       "       [0.395609  ],\n",
       "       [0.40285277],\n",
       "       [0.4040576 ],\n",
       "       [0.41298375],\n",
       "       [0.39492816],\n",
       "       [0.4032964 ],\n",
       "       [0.39262524],\n",
       "       [0.40524945],\n",
       "       [0.39887568],\n",
       "       [0.3923952 ],\n",
       "       [0.39074248],\n",
       "       [0.40058085],\n",
       "       [0.39205244],\n",
       "       [0.40314868],\n",
       "       [0.38917103],\n",
       "       [0.40402162],\n",
       "       [0.4039686 ],\n",
       "       [0.39240754],\n",
       "       [0.4085719 ],\n",
       "       [0.39330953],\n",
       "       [0.40684205],\n",
       "       [0.4019967 ],\n",
       "       [0.39048228],\n",
       "       [0.39943567],\n",
       "       [0.40457544],\n",
       "       [0.38547462],\n",
       "       [0.41586322],\n",
       "       [0.4037995 ],\n",
       "       [0.39956552],\n",
       "       [0.3979388 ],\n",
       "       [0.39592817],\n",
       "       [0.39705428],\n",
       "       [0.40470093],\n",
       "       [0.3854946 ],\n",
       "       [0.39907697],\n",
       "       [0.33885208],\n",
       "       [0.40751347],\n",
       "       [0.40633452],\n",
       "       [0.37876314],\n",
       "       [0.3911227 ],\n",
       "       [0.3952683 ],\n",
       "       [0.39582732],\n",
       "       [0.40520212],\n",
       "       [0.38998836],\n",
       "       [0.4030256 ],\n",
       "       [0.39890835],\n",
       "       [0.4014052 ],\n",
       "       [0.39802867],\n",
       "       [0.3799954 ],\n",
       "       [0.40278313],\n",
       "       [0.40270603],\n",
       "       [0.41764292],\n",
       "       [0.40622765],\n",
       "       [0.39571977],\n",
       "       [0.3989417 ],\n",
       "       [0.39029777],\n",
       "       [0.39587867],\n",
       "       [0.4050654 ],\n",
       "       [0.39995015],\n",
       "       [0.39663112],\n",
       "       [0.40309787],\n",
       "       [0.39892048],\n",
       "       [0.40205064],\n",
       "       [0.38180473],\n",
       "       [0.39065838],\n",
       "       [0.39793295],\n",
       "       [0.3986007 ],\n",
       "       [0.393573  ],\n",
       "       [0.39738074],\n",
       "       [0.38487178],\n",
       "       [0.39254856],\n",
       "       [0.36523303],\n",
       "       [0.4103394 ],\n",
       "       [0.38751256],\n",
       "       [0.4056054 ],\n",
       "       [0.38829714],\n",
       "       [0.4024354 ],\n",
       "       [0.37483388],\n",
       "       [0.40694013],\n",
       "       [0.39881316],\n",
       "       [0.40043563],\n",
       "       [0.39145583],\n",
       "       [0.40696526],\n",
       "       [0.40650243],\n",
       "       [0.37820083],\n",
       "       [0.39369628],\n",
       "       [0.38370493],\n",
       "       [0.40051618],\n",
       "       [0.3912618 ],\n",
       "       [0.4053185 ],\n",
       "       [0.4069206 ]], dtype=float32)>"
      ]
     },
     "execution_count": 36,
     "metadata": {},
     "output_type": "execute_result"
    }
   ],
   "source": [
    "rde(b[None,...])"
   ]
  },
  {
   "cell_type": "code",
   "execution_count": 77,
   "metadata": {},
   "outputs": [
    {
     "data": {
      "text/plain": [
       "(4, 9)"
      ]
     },
     "execution_count": 77,
     "metadata": {},
     "output_type": "execute_result"
    }
   ],
   "source": [
    "model.layers[0].input_shape[0][1:]"
   ]
  },
  {
   "cell_type": "code",
   "execution_count": 56,
   "metadata": {},
   "outputs": [],
   "source": [
    "distort = Distort()"
   ]
  },
  {
   "cell_type": "code",
   "execution_count": 65,
   "metadata": {},
   "outputs": [],
   "source": [
    "b_distorted =np.mean(distort(tf.constant(b,dtype='float')),axis=0)\n"
   ]
  },
  {
   "cell_type": "code",
   "execution_count": 66,
   "metadata": {},
   "outputs": [
    {
     "data": {
      "text/plain": [
       "<AxesSubplot:>"
      ]
     },
     "execution_count": 66,
     "metadata": {},
     "output_type": "execute_result"
    },
    {
     "data": {
      "image/png": "[encoded data removed]",
      "text/plain": [
       "<Figure size 432x288 with 2 Axes>"
      ]
     },
     "metadata": {
      "needs_background": "light"
     },
     "output_type": "display_data"
    }
   ],
   "source": [
    "import seaborn as sns\n",
    "sns.heatmap(b_distorted,linecolor='green')"
   ]
  },
  {
   "cell_type": "code",
   "execution_count": 39,
   "metadata": {
    "scrolled": true
   },
   "outputs": [
    {
     "data": {
      "text/plain": [
       "<tensorflow.python.keras.engine.training.Model at 0x1497141c3390>"
      ]
     },
     "execution_count": 39,
     "metadata": {},
     "output_type": "execute_result"
    }
   ],
   "source": [
    "model"
   ]
  },
  {
   "cell_type": "code",
   "execution_count": 42,
   "metadata": {},
   "outputs": [],
   "source": [
    "model.trainable=False\n",
    "real_model = model_test(model)\n",
    "real_model.compile(optimizer=Adam(),loss=keras.losses.MeanSquaredError(),metrics=None)"
   ]
  },
  {
   "cell_type": "code",
   "execution_count": 44,
   "metadata": {},
   "outputs": [
    {
     "data": {
      "text/plain": [
       "array([[1, 1, 1, 0, 0, 0, 0, 0, 0],\n",
       "       [0, 0, 0, 0, 0, 0, 0, 0, 0],\n",
       "       [0, 0, 0, 0, 0, 0, 0, 0, 0],\n",
       "       [0, 0, 0, 0, 0, 0, 0, 0, 0]])"
      ]
     },
     "execution_count": 44,
     "metadata": {},
     "output_type": "execute_result"
    }
   ],
   "source": [
    "b"
   ]
  },
  {
   "cell_type": "code",
   "execution_count": 45,
   "metadata": {},
   "outputs": [
    {
     "data": {
      "text/plain": [
       "<tf.Tensor: shape=(1, 1), dtype=float32, numpy=array([[1.]], dtype=float32)>"
      ]
     },
     "execution_count": 45,
     "metadata": {},
     "output_type": "execute_result"
    }
   ],
   "source": [
    "real_model(b[None,...])"
   ]
  },
  {
   "cell_type": "code",
   "execution_count": null,
   "metadata": {},
   "outputs": [],
   "source": []
  }
 ],
 "metadata": {
  "kernelspec": {
   "display_name": "Python 3",
   "language": "python",
   "name": "python3"
  },
  "language_info": {
   "codemirror_mode": {
    "name": "ipython",
    "version": 3
   },
   "file_extension": ".py",
   "mimetype": "text/x-python",
   "name": "python",
   "nbconvert_exporter": "python",
   "pygments_lexer": "ipython3",
   "version": "3.7.6"
  }
 },
 "nbformat": 4,
 "nbformat_minor": 4
}
