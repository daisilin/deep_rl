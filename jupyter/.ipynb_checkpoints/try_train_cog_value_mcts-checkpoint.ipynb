{
 "cells": [
  {
   "cell_type": "code",
   "execution_count": 11,
   "metadata": {},
   "outputs": [],
   "source": [
    "import sys\n",
    "import os\n",
    "sys.path.insert(0,'../classes')\n",
    "sys.path.insert(0,'../analysis')\n",
    "sys.path.insert(0,'/home/zz737/projects/fiar/cog_model/fourinarow/Analysis notebooks/new')\n",
    "hqfd = '/home/zz737/projects/fiar/cog_model/fourinarow/Analysis notebooks/new/Heuristic quality'\n",
    "sys.path.insert(0,hqfd)\n",
    "from fourinarowfunctions import *\n",
    "import matplotlib.pyplot as plt\n",
    "import pandas as pd\n",
    "import seaborn as sns\n",
    "\n",
    "import logging\n",
    "import numpy as np\n",
    "\n",
    "import coloredlogs\n",
    "\n",
    "from arena import Arena\n",
    "from coach import Coach\n",
    "from beck.beck_game import BeckGame as Game\n",
    "from beck.beck_nnet import NNetWrapper as nn\n",
    "from beck.beck_players import HumanBeckPlayer\n",
    "from mcts import MCTS\n",
    "from utils import *\n",
    "log = logging.getLogger(__name__)\n",
    "\n",
    "from keras import backend as K\n",
    "\n",
    "import tournament\n",
    "# participant_iters = tournament.participant_iters\n",
    "\n",
    "participants_dir = '/scratch/zz737/fiar/tournaments/tournament_4' # dir for trained networks\n",
    "results_dir = '/scratch/zz737/fiar/tournaments/results/tournament_4'\n",
    "moves_dir = '/scratch/zz737/fiar/tournaments/tournament_4/moves/raw/'\n",
    "splits_dir = '/scratch/zz737/fiar/tournaments/tournament_4/moves/splits/'\n",
    "\n",
    "import load, plot_fun, anl\n",
    "from cog_related import cog_value_net as cvn\n",
    "from importlib import reload\n",
    "reload(load)\n",
    "from cog_related import cog_value_net_trainable_mcts as cvntm"
   ]
  },
  {
   "cell_type": "code",
   "execution_count": null,
   "metadata": {},
   "outputs": [],
   "source": []
  },
  {
   "cell_type": "code",
   "execution_count": 12,
   "metadata": {},
   "outputs": [],
   "source": [
    "g = Game(4,9,4)"
   ]
  },
  {
   "cell_type": "code",
   "execution_count": 13,
   "metadata": {},
   "outputs": [],
   "source": [
    "board = g.getInitBoard()"
   ]
  },
  {
   "cell_type": "code",
   "execution_count": 24,
   "metadata": {},
   "outputs": [],
   "source": [
    "nnetwp = cvntm.NNetWrapper_cog(g)"
   ]
  },
  {
   "cell_type": "code",
   "execution_count": 26,
   "metadata": {},
   "outputs": [],
   "source": [
    "N_feats = 5\n",
    "\n",
    "args = dotdict({\n",
    "    'lr': 0.001,\n",
    "    'dropout': 0.3,\n",
    "    'epochs': 10,\n",
    "    'batch_size': 64,\n",
    "    'cuda': False,\n",
    "    'num_channels': 512,\n",
    "    'N_feats':N_feats\n",
    "})"
   ]
  },
  {
   "cell_type": "code",
   "execution_count": 40,
   "metadata": {},
   "outputs": [],
   "source": [
    "reload(cvntm)\n",
    "nnetwp = cvntm.NNetWrapper_cog(g)"
   ]
  },
  {
   "cell_type": "code",
   "execution_count": 41,
   "metadata": {
    "scrolled": true
   },
   "outputs": [
    {
     "data": {
      "text/plain": [
       "(array([0.02777778, 0.02777778, 0.02777778, 0.02777778, 0.02777778,\n",
       "        0.02777778, 0.02777778, 0.02777778, 0.02777778, 0.02777778,\n",
       "        0.02777778, 0.02777778, 0.02777778, 0.02777778, 0.02777778,\n",
       "        0.02777778, 0.02777778, 0.02777778, 0.02777778, 0.02777778,\n",
       "        0.02777778, 0.02777778, 0.02777778, 0.02777778, 0.02777778,\n",
       "        0.02777778, 0.02777778, 0.02777778, 0.02777778, 0.02777778,\n",
       "        0.02777778, 0.02777778, 0.02777778, 0.02777778, 0.02777778,\n",
       "        0.02777778], dtype=float32),\n",
       " array([0.], dtype=float32))"
      ]
     },
     "execution_count": 41,
     "metadata": {},
     "output_type": "execute_result"
    }
   ],
   "source": [
    "nnetwp.predict(board)"
   ]
  },
  {
   "cell_type": "code",
   "execution_count": 42,
   "metadata": {},
   "outputs": [],
   "source": [
    "pi = np.zeros(36)"
   ]
  },
  {
   "cell_type": "code",
   "execution_count": 44,
   "metadata": {},
   "outputs": [],
   "source": [
    "pi[0] = 1"
   ]
  },
  {
   "cell_type": "code",
   "execution_count": 47,
   "metadata": {},
   "outputs": [],
   "source": [
    "examples = [(board, pi, 1)]"
   ]
  },
  {
   "cell_type": "code",
   "execution_count": 68,
   "metadata": {},
   "outputs": [
    {
     "data": {
      "text/plain": [
       "[array([[ 0.30330998],\n",
       "        [ 0.6466014 ],\n",
       "        [-0.31532502],\n",
       "        [-0.57625145],\n",
       "        [-0.02030754],\n",
       "        [-0.01113045],\n",
       "        [-0.11489326],\n",
       "        [-0.4275066 ],\n",
       "        [-0.6517888 ],\n",
       "        [-0.7361808 ]], dtype=float32),\n",
       " array([0.00999671], dtype=float32)]"
      ]
     },
     "execution_count": 68,
     "metadata": {},
     "output_type": "execute_result"
    }
   ],
   "source": [
    "nnetwp.nnet.model.layers[-1].get_weights()"
   ]
  },
  {
   "cell_type": "code",
   "execution_count": 48,
   "metadata": {},
   "outputs": [
    {
     "name": "stdout",
     "output_type": "stream",
     "text": [
      "Epoch 1/10\n",
      "1/1 [==============================] - 0s 1ms/step - loss: 4.5835 - pi_loss: 3.5835 - v_loss: 1.0000\n",
      "Epoch 2/10\n",
      "1/1 [==============================] - 0s 1ms/step - loss: 4.5796 - pi_loss: 3.5816 - v_loss: 0.9980\n",
      "Epoch 3/10\n",
      "1/1 [==============================] - 0s 1ms/step - loss: 4.5756 - pi_loss: 3.5796 - v_loss: 0.9960\n",
      "Epoch 4/10\n",
      "1/1 [==============================] - 0s 977us/step - loss: 4.5717 - pi_loss: 3.5777 - v_loss: 0.9940\n",
      "Epoch 5/10\n",
      "1/1 [==============================] - 0s 983us/step - loss: 4.5678 - pi_loss: 3.5757 - v_loss: 0.9920\n",
      "Epoch 6/10\n",
      "1/1 [==============================] - 0s 1ms/step - loss: 4.5638 - pi_loss: 3.5738 - v_loss: 0.9900\n",
      "Epoch 7/10\n",
      "1/1 [==============================] - 0s 1ms/step - loss: 4.5599 - pi_loss: 3.5719 - v_loss: 0.9880\n",
      "Epoch 8/10\n",
      "1/1 [==============================] - 0s 1ms/step - loss: 4.5560 - pi_loss: 3.5699 - v_loss: 0.9861\n",
      "Epoch 9/10\n",
      "1/1 [==============================] - 0s 1ms/step - loss: 4.5520 - pi_loss: 3.5680 - v_loss: 0.9841\n",
      "Epoch 10/10\n",
      "1/1 [==============================] - 0s 1ms/step - loss: 4.5481 - pi_loss: 3.5660 - v_loss: 0.9821\n"
     ]
    }
   ],
   "source": [
    "nnetwp.train(examples)"
   ]
  },
  {
   "cell_type": "code",
   "execution_count": 11,
   "metadata": {},
   "outputs": [],
   "source": [
    "cvn = CogValueNet(g,args)"
   ]
  },
  {
   "cell_type": "code",
   "execution_count": 18,
   "metadata": {},
   "outputs": [
    {
     "data": {
      "text/plain": [
       "[array([[0.02777778, 0.02777778, 0.02777778, 0.02777778, 0.02777778,\n",
       "         0.02777778, 0.02777778, 0.02777778, 0.02777778, 0.02777778,\n",
       "         0.02777778, 0.02777778, 0.02777778, 0.02777778, 0.02777778,\n",
       "         0.02777778, 0.02777778, 0.02777778, 0.02777778, 0.02777778,\n",
       "         0.02777778, 0.02777778, 0.02777778, 0.02777778, 0.02777778,\n",
       "         0.02777778, 0.02777778, 0.02777778, 0.02777778, 0.02777778,\n",
       "         0.02777778, 0.02777778, 0.02777778, 0.02777778, 0.02777778,\n",
       "         0.02777778]], dtype=float32),\n",
       " array([[0.]], dtype=float32)]"
      ]
     },
     "execution_count": 18,
     "metadata": {},
     "output_type": "execute_result"
    }
   ],
   "source": [
    "board = board[None,:,:]\n",
    "feats = np.zeros((1,10))\n",
    "cvn.model.predict([board,feats])"
   ]
  },
  {
   "cell_type": "code",
   "execution_count": 31,
   "metadata": {},
   "outputs": [],
   "source": [
    "class B(A):\n",
    "    def __init(self):\n",
    "        self.b=2\n",
    "    "
   ]
  },
  {
   "cell_type": "code",
   "execution_count": 32,
   "metadata": {},
   "outputs": [],
   "source": [
    "b = B()"
   ]
  },
  {
   "cell_type": "code",
   "execution_count": 33,
   "metadata": {},
   "outputs": [
    {
     "name": "stdout",
     "output_type": "stream",
     "text": [
      "hi\n"
     ]
    }
   ],
   "source": [
    "b.dosth()"
   ]
  },
  {
   "cell_type": "code",
   "execution_count": 25,
   "metadata": {},
   "outputs": [],
   "source": [
    "for b in board:\n",
    "    cvn.get_all_feat(b,inv_dist_to_center)"
   ]
  },
  {
   "cell_type": "code",
   "execution_count": 81,
   "metadata": {},
   "outputs": [],
   "source": [
    "args = dotdict({\n",
    "    'numIters': 3,#1000,\n",
    "    'numEps': 3,#100,              # Number of complete self-play games to simulate during a new iteration.\n",
    "    'tempThreshold': 15,        #\n",
    "    'updateThreshold': 0,#0.6,     # During arena playoff, new neural net will be accepted if threshold or more of games are won.\n",
    "    'maxlenOfQueue': 200000,    # Number of game examples to train the neural networks.\n",
    "    'numMCTSSims': 10,#100,          # Number of games moves for MCTS to simulate.\n",
    "    'arenaCompare': 1,#60,         # Number of games to play during arena play to determine if new net will be accepted.\n",
    "    'cpuct': 2,\n",
    "\n",
    "    # 'checkpoint': './scratch/zz737/fiar/tournaments/tournament_4/checkpoints_mcts100_cpuct2_id10/',\n",
    "    'checkpoint': './scratch/zz737/fiar/models/cog_model_value_mcts/',\n",
    "    'load_model': False,#False,\n",
    "    'load_folder_file': None,#(checkpoint,'best.pth.tar'),\n",
    "    # 'load_folder_file': (checkpoint,f'checkpoint_{loaded_iter}.pth.tar'),\n",
    "    'numItersForTrainExamplesHistory': 20,\n",
    "\n",
    "    'loaded_iter': -1,#loaded_iter, #[SZ] by default -1, if loading a checkpoint, use that iter \n",
    "\n",
    "})"
   ]
  },
  {
   "cell_type": "code",
   "execution_count": 82,
   "metadata": {},
   "outputs": [],
   "source": [
    "C = Coach(g, nnetwp, args)"
   ]
  },
  {
   "cell_type": "code",
   "execution_count": 77,
   "metadata": {},
   "outputs": [
    {
     "data": {
      "text/plain": [
       "array([0.00739114], dtype=float32)"
      ]
     },
     "execution_count": 77,
     "metadata": {},
     "output_type": "execute_result"
    }
   ],
   "source": [
    "C.learn()"
   ]
  },
  {
   "cell_type": "code",
   "execution_count": 79,
   "metadata": {},
   "outputs": [
    {
     "data": {
      "text/plain": [
       "{(b'\\x00\\x00\\x00\\x00\\x00\\x00\\x00\\x00\\x00\\x00\\x00\\x00\\x00\\x00\\x00\\x00\\x00\\x00\\x00\\x00\\x00\\x00\\x00\\x00\\x00\\x00\\x00\\x00\\x00\\x00\\x00\\x00\\x00\\x00\\x00\\x00\\x00\\x00\\x00\\x00\\x00\\x00\\x00\\x00\\x00\\x00\\x00\\x00\\x00\\x00\\x00\\x00\\x00\\x00\\x00\\x00\\x00\\x00\\x00\\x00\\x00\\x00\\x00\\x00\\x00\\x00\\x00\\x00\\x00\\x00\\x00\\x00\\x00\\x00\\x00\\x00\\x00\\x00\\x00\\x00\\x00\\x00\\x00\\x00\\x00\\x00\\x00\\x00\\x00\\x00\\x00\\x00\\x00\\x00\\x00\\x00\\x00\\x00\\x00\\x00\\x00\\x00\\x00\\x00\\x00\\x00\\x00\\x00\\x00\\x00\\x00\\x00\\x00\\x00\\x00\\x00\\x00\\x00\\x00\\x00\\x00\\x00\\x00\\x00\\x00\\x00\\x00\\x00\\x00\\x00\\x00\\x00\\x00\\x00\\x00\\x00\\x00\\x00\\x00\\x00\\x00\\x00\\x00\\x00\\x00\\x00\\x00\\x00\\x00\\x00\\x00\\x00\\x00\\x00\\x00\\x00\\x00\\x00\\x00\\x00\\x00\\x00\\x00\\x00\\x00\\x00\\x00\\x00\\x00\\x00\\x00\\x00\\x00\\x00\\x00\\x00\\x00\\x00\\x00\\x00\\x00\\x00\\x00\\x00\\x00\\x00\\x00\\x00\\x00\\x00\\x00\\x00\\x00\\x00\\x00\\x00\\x00\\x00\\x00\\x00\\x00\\x00\\x00\\x00\\x00\\x00\\x00\\x00\\x00\\x00\\x00\\x00\\x00\\x00\\x00\\x00\\x00\\x00\\x00\\x00\\x00\\x00\\x00\\x00\\x00\\x00\\x00\\x00\\x00\\x00\\x00\\x00\\x00\\x00\\x00\\x00\\x00\\x00\\x00\\x00\\x00\\x00\\x00\\x00\\x00\\x00\\x00\\x00\\x00\\x00\\x00\\x00\\x00\\x00\\x00\\x00\\x00\\x00\\x00\\x00\\x00\\x00\\x00\\x00\\x00\\x00\\x00\\x00\\x00\\x00\\x00\\x00\\x00\\x00\\x00\\x00\\x00\\x00\\x00\\x00\\x00\\x00\\x00\\x00\\x00\\x00\\x00\\x00',\n",
       "  0): array([-0.00739114], dtype=float32)}"
      ]
     },
     "execution_count": 79,
     "metadata": {},
     "output_type": "execute_result"
    }
   ],
   "source": [
    "C.mcts.Qsa"
   ]
  },
  {
   "cell_type": "code",
   "execution_count": null,
   "metadata": {},
   "outputs": [],
   "source": []
  }
 ],
 "metadata": {
  "kernelspec": {
   "display_name": "Python 3",
   "language": "python",
   "name": "python3"
  },
  "language_info": {
   "codemirror_mode": {
    "name": "ipython",
    "version": 3
   },
   "file_extension": ".py",
   "mimetype": "text/x-python",
   "name": "python",
   "nbconvert_exporter": "python",
   "pygments_lexer": "ipython3",
   "version": "3.7.6"
  }
 },
 "nbformat": 4,
 "nbformat_minor": 4
}
