{
 "cells": [
  {
   "cell_type": "code",
   "execution_count": 1,
   "metadata": {},
   "outputs": [
    {
     "data": {
      "text/plain": [
       "<module 'supervised_learning' from '../classes/supervised_learning.py'>"
      ]
     },
     "execution_count": 1,
     "metadata": {},
     "output_type": "execute_result"
    }
   ],
   "source": [
    "import pandas as pd\n",
    "import sys,os,copy,pdb,importlib\n",
    "sys.path.append('../classes')\n",
    "sys.path.append('../analysis')\n",
    "import numpy as np\n",
    "np.set_printoptions(precision=3,suppress=True)\n",
    "import matplotlib.pyplot as plt\n",
    "\n",
    "import tournament_new as tn\n",
    "import create_database as cd\n",
    "importlib.reload(tn)\n",
    "\n",
    "import beck.beck_game\n",
    "importlib.reload(beck.beck_game)\n",
    "from beck.beck_game import BeckGame as Game\n",
    "from beck.beck_players import HumanBeckPlayer\n",
    "import arena\n",
    "importlib.reload(arena)\n",
    "from arena import Arena\n",
    "\n",
    "import mcts\n",
    "from bfts import BFTS\n",
    "\n",
    "import cog_related\n",
    "importlib.reload(cog_related)\n",
    "from cog_related import cog_value_net as cvn\n",
    "\n",
    "\n",
    "importlib.reload(tn)\n",
    "game = Game(4,9,4)\n",
    "all_p = pd.read_pickle(cd.DATABASE_LOC)\n",
    "\n",
    "from pickle import Pickler, Unpickler\n",
    "import pickle\n",
    "\n",
    "# res = tn.merge_res_to_base()\n",
    "tournament_res = pd.read_pickle('/scratch/zz737/fiar/tournaments/ai_all_player_round_robin_base.pkl')\n",
    "\n",
    "from utils import *\n",
    "mctsargs = dotdict({\n",
    "        'numMCTSSims': 100,\n",
    "        'cpuct': 2,\n",
    "        })\n",
    "import supervised_learning as sl\n",
    "from importlib import reload\n",
    "reload(sl)"
   ]
  },
  {
   "cell_type": "code",
   "execution_count": 2,
   "metadata": {},
   "outputs": [],
   "source": [
    "checkpoint_dir = '/scratch/zz737/fiar/sl/resnet/res15_color_Ex_tournament_6_checkpoints_mcts100_cpuct2_id_1_checkpoint_55'\n",
    "file = 'final'\n",
    "\n",
    "args = pickle.load(open(os.path.join(checkpoint_dir,'args.p'),'rb'))\n",
    "on_c = sl.OthelloNNet_resnet(game, args)\n",
    "nnet_c = sl.NNetWrapper_color(game,nnet=on_c,args=args)\n",
    "nnet_c.load_checkpoint(checkpoint_dir, file+'.pth.tar')"
   ]
  },
  {
   "cell_type": "code",
   "execution_count": 4,
   "metadata": {},
   "outputs": [],
   "source": [
    "# ex_dir = f'/scratch/zz737/fiar/tournaments/tournament_6/checkpoints_mcts100_cpuct2_id_1'\n",
    "ex_dir = f'/scratch/zz737/fiar/tournaments/tournament_9/checkpoints_mcts100_cpuct2_id_res9-0'\n",
    "ex_fn = f'checkpoint_28.pth.tar'\n",
    "\n",
    "load_folder_file = (ex_dir, ex_fn)\n",
    "\n",
    "modelFile = os.path.join(load_folder_file[0], load_folder_file[1])\n",
    "examplesFile = modelFile + \".examples\"\n",
    "with open(examplesFile, \"rb\") as f:\n",
    "    trainExamplesHistory = Unpickler(f).load()\n",
    "trainExamples = []\n",
    "for e in trainExamplesHistory:\n",
    "    trainExamples.extend(e)\n",
    "from random import shuffle\n",
    "shuffle(trainExamples)\n",
    "trainExamples = [(*x,int(x[0].sum()==0)) for x in trainExamples] # black: sum to 0, 1; white: not sum to 0, 0"
   ]
  },
  {
   "cell_type": "code",
   "execution_count": 5,
   "metadata": {},
   "outputs": [],
   "source": [
    "examples = trainExamples[:100]\n",
    "input_boards, target_pis, target_vs, colors = list(zip(*examples))\n",
    "input_boards = np.asarray(input_boards)\n",
    "target_pis = np.asarray(target_pis)\n",
    "target_vs = np.asarray(target_vs)\n",
    "color_input = np.full((4,9,len(colors)),colors).swapaxes(0,-1).swapaxes(1,2) # turn color_batch into b x 4 x 9"
   ]
  },
  {
   "cell_type": "code",
   "execution_count": 6,
   "metadata": {},
   "outputs": [
    {
     "data": {
      "text/plain": [
       "array([[1, 1, 1, 1, 1, 1, 1, 1, 1],\n",
       "       [1, 1, 1, 1, 1, 1, 1, 1, 1],\n",
       "       [1, 1, 1, 1, 1, 1, 1, 1, 1],\n",
       "       [1, 1, 1, 1, 1, 1, 1, 1, 1]])"
      ]
     },
     "execution_count": 6,
     "metadata": {},
     "output_type": "execute_result"
    }
   ],
   "source": [
    "color_input[17]"
   ]
  },
  {
   "cell_type": "code",
   "execution_count": 16,
   "metadata": {},
   "outputs": [
    {
     "data": {
      "text/plain": [
       "<tensorflow.python.keras.engine.training.Model at 0x14adb029e610>"
      ]
     },
     "execution_count": 16,
     "metadata": {},
     "output_type": "execute_result"
    }
   ],
   "source": [
    "nnet_c.nnet.model"
   ]
  },
  {
   "cell_type": "code",
   "execution_count": 7,
   "metadata": {},
   "outputs": [],
   "source": [
    "outs = nnet_c.nnet.model.__call__([input_boards,color_input],training=True)"
   ]
  },
  {
   "cell_type": "code",
   "execution_count": 11,
   "metadata": {},
   "outputs": [
    {
     "name": "stdout",
     "output_type": "stream",
     "text": [
      "10/10 [==============================] - 1s 81ms/step - loss: 0.8472 - pi_loss: 0.5802 - v_loss: 0.1183\n"
     ]
    },
    {
     "data": {
      "text/plain": [
       "[0.8471515774726868, 0.5802406668663025, 0.11829476058483124]"
      ]
     },
     "execution_count": 11,
     "metadata": {},
     "output_type": "execute_result"
    }
   ],
   "source": [
    "nnet_c.nnet.model.evaluate([input_boards,color_input],[target_pis,target_vs],batch_size=10)"
   ]
  },
  {
   "cell_type": "code",
   "execution_count": 12,
   "metadata": {},
   "outputs": [
    {
     "name": "stdout",
     "output_type": "stream",
     "text": [
      "10/10 [==============================] - 1s 77ms/step - loss: 1.3545 - pi_loss: 1.0083 - v_loss: 0.1976\n"
     ]
    },
    {
     "data": {
      "text/plain": [
       "[1.354451298713684, 1.0082526206970215, 0.19758252799510956]"
      ]
     },
     "execution_count": 12,
     "metadata": {},
     "output_type": "execute_result"
    }
   ],
   "source": [
    "nnet_c.nnet.model.evaluate([input_boards,np.abs(1-color_input)],[target_pis,target_vs],batch_size=10)"
   ]
  },
  {
   "cell_type": "code",
   "execution_count": null,
   "metadata": {},
   "outputs": [],
   "source": []
  }
 ],
 "metadata": {
  "kernelspec": {
   "display_name": "Python 3",
   "language": "python",
   "name": "python3"
  },
  "language_info": {
   "codemirror_mode": {
    "name": "ipython",
    "version": 3
   },
   "file_extension": ".py",
   "mimetype": "text/x-python",
   "name": "python",
   "nbconvert_exporter": "python",
   "pygments_lexer": "ipython3",
   "version": "3.7.6"
  }
 },
 "nbformat": 4,
 "nbformat_minor": 4
}
