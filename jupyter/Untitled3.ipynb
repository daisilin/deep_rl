{
 "cells": [
  {
   "cell_type": "code",
   "execution_count": 17,
   "metadata": {
    "scrolled": true
   },
   "outputs": [
    {
     "name": "stdout",
     "output_type": "stream",
     "text": [
      "2022-01-13 20:26:15.064515: W tensorflow/stream_executor/platform/default/dso_loader.cc:55] Could not load dynamic library 'libcuda.so.1'; dlerror: libcuda.so.1: cannot open shared object file: No such file or directory; LD_LIBRARY_PATH: /usr/local/nvidia/lib:/usr/local/nvidia/lib64:/.singularity.d/libs\n",
      "2022-01-13 20:26:15.064543: E tensorflow/stream_executor/cuda/cuda_driver.cc:313] failed call to cuInit: UNKNOWN ERROR (303)\n",
      "['1']\n",
      "\u001b[32m2022-01-13 20:26:20\u001b[0m \u001b[35mcs042.hpc.nyu.edu\u001b[0m \u001b[34m__main__[1136680]\u001b[0m \u001b[1;30mINFO\u001b[0m Loading BeckGame...\n",
      "\u001b[32m2022-01-13 20:26:20\u001b[0m \u001b[35mcs042.hpc.nyu.edu\u001b[0m \u001b[34m__main__[1136680]\u001b[0m \u001b[1;30mINFO\u001b[0m Loading NNetWrapper...\n",
      "\u001b[32m2022-01-13 20:26:20\u001b[0m \u001b[35mcs042.hpc.nyu.edu\u001b[0m \u001b[34m__main__[1136680]\u001b[0m \u001b[1;30mWARNING\u001b[0m \u001b[33mNot loading a checkpoint!\u001b[0m\n",
      "\u001b[32m2022-01-13 20:26:20\u001b[0m \u001b[35mcs042.hpc.nyu.edu\u001b[0m \u001b[34m__main__[1136680]\u001b[0m \u001b[1;30mINFO\u001b[0m Loading the Coach...\n",
      "\u001b[32m2022-01-13 20:26:20\u001b[0m \u001b[35mcs042.hpc.nyu.edu\u001b[0m \u001b[34m__main__[1136680]\u001b[0m \u001b[1;30mINFO\u001b[0m Starting the learning process 🎉\n",
      "\u001b[32m2022-01-13 20:26:20\u001b[0m \u001b[35mcs042.hpc.nyu.edu\u001b[0m \u001b[34mcoach[1136680]\u001b[0m \u001b[1;30mINFO\u001b[0m Starting Iter #1 ...\n",
      "Self Play: 100%|██████████████████████████████████| 1/1 [00:01<00:00,  1.40s/it]\n",
      "Checkpoint Directory exists! \n",
      "2/2 [==============================] - 0s 115ms/step - loss: 5.1006 - pi_loss: 3.8957 - v_loss: 1.0392\n",
      "\u001b[32m2022-01-13 20:26:24\u001b[0m \u001b[35mcs042.hpc.nyu.edu\u001b[0m \u001b[34mcoach[1136680]\u001b[0m \u001b[1;30mINFO\u001b[0m PITTING AGAINST PREVIOUS VERSION\n",
      "Arena.playGames (1): 0it [00:00, ?it/s]\n",
      "Arena.playGames (2): 0it [00:00, ?it/s]\n",
      "\u001b[32m2022-01-13 20:26:24\u001b[0m \u001b[35mcs042.hpc.nyu.edu\u001b[0m \u001b[34mcoach[1136680]\u001b[0m \u001b[1;30mINFO\u001b[0m NEW/PREV WINS : 0 / 0 ; DRAWS : 0\n",
      "\u001b[32m2022-01-13 20:26:24\u001b[0m \u001b[35mcs042.hpc.nyu.edu\u001b[0m \u001b[34mcoach[1136680]\u001b[0m \u001b[1;30mINFO\u001b[0m REJECTING NEW MODEL\n"
     ]
    }
   ],
   "source": [
    "! python ../classes/main.py 1"
   ]
  },
  {
   "cell_type": "code",
   "execution_count": 3,
   "metadata": {},
   "outputs": [
    {
     "name": "stdout",
     "output_type": "stream",
     "text": [
      "Wed Jan 12 22:20:34 2022       \r\n",
      "+-----------------------------------------------------------------------------+\r\n",
      "| NVIDIA-SMI 470.57.02    Driver Version: 470.57.02    CUDA Version: 11.4     |\r\n",
      "|-------------------------------+----------------------+----------------------+\r\n",
      "| GPU  Name        Persistence-M| Bus-Id        Disp.A | Volatile Uncorr. ECC |\r\n",
      "| Fan  Temp  Perf  Pwr:Usage/Cap|         Memory-Usage | GPU-Util  Compute M. |\r\n",
      "|                               |                      |               MIG M. |\r\n",
      "|===============================+======================+======================|\r\n",
      "|   0  Quadro RTX 8000     On   | 00000000:86:00.0 Off |                    0 |\r\n",
      "| N/A   51C    P0   181W / 250W |  43366MiB / 45556MiB |     78%      Default |\r\n",
      "|                               |                      |                  N/A |\r\n",
      "+-------------------------------+----------------------+----------------------+\r\n",
      "                                                                               \r\n",
      "+-----------------------------------------------------------------------------+\r\n",
      "| Processes:                                                                  |\r\n",
      "|  GPU   GI   CI        PID   Type   Process name                  GPU Memory |\r\n",
      "|        ID   ID                                                   Usage      |\r\n",
      "|=============================================================================|\r\n",
      "|    0   N/A  N/A    735448      C   ...nvs/fourinarow/bin/python    43363MiB |\r\n",
      "+-----------------------------------------------------------------------------+\r\n"
     ]
    }
   ],
   "source": [
    "!nvidia-smi"
   ]
  },
  {
   "cell_type": "code",
   "execution_count": null,
   "metadata": {},
   "outputs": [],
   "source": []
  }
 ],
 "metadata": {
  "kernelspec": {
   "display_name": "Python 3",
   "language": "python",
   "name": "python3"
  },
  "language_info": {
   "codemirror_mode": {
    "name": "ipython",
    "version": 3
   },
   "file_extension": ".py",
   "mimetype": "text/x-python",
   "name": "python",
   "nbconvert_exporter": "python",
   "pygments_lexer": "ipython3",
   "version": "3.7.6"
  }
 },
 "nbformat": 4,
 "nbformat_minor": 4
}
