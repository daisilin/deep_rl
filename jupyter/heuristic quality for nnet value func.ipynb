{
 "cells": [
  {
   "cell_type": "code",
   "execution_count": 1,
   "metadata": {},
   "outputs": [
    {
     "name": "stdout",
     "output_type": "stream",
     "text": [
      "{'mcts100_cpuct1': [1, 2, 3, 4, 6, 7, 9, 11, 12, 16, 18, 21, 25, 28, 29, 30, 37, 38, 39, 45, 47], 'mcts100_cpuct2': [1, 2, 3, 4, 6, 8, 12, 14, 15, 16, 21, 22, 24, 26, 27, 30, 32, 35, 39], 'mcts100_cpuct3': [1, 2, 3, 4, 5, 7, 8, 9, 10, 11, 12, 16, 17, 18, 20, 21, 25, 26, 28, 32, 34, 35, 36], 'mcts25_cpuct1': [1, 2, 3, 4, 9, 11, 13, 14, 16, 19, 22, 25, 28, 29, 31, 37, 39, 45, 59, 61], 'mcts50_cpuct1': [1, 2, 3, 4, 5, 6, 7, 9, 10, 13, 17, 18, 20, 21, 23, 25, 28, 29, 31, 37, 39, 41, 44, 45, 47, 48, 53], 'mcts80_cpuct1': [1, 2, 3, 4, 5, 7, 8, 9, 10, 13, 16, 19, 20, 21, 23, 24, 28, 34, 35, 36, 40], 'mcts80_cpuct2': [1, 2, 5, 6, 8, 10, 12, 13, 15, 17, 18, 19, 22, 25, 28, 30, 31, 34, 37, 38, 39, 40, 43, 45, 46, 51], 'mcts80_cpuct3': [1, 2, 5, 6, 7, 9, 12, 13, 14, 19, 21, 22, 23, 24, 26, 27, 28, 35, 36, 42, 43, 47, 49, 50, 51, 53, 54, 55, 56, 57]}\n",
      "189 participant iterations!\n"
     ]
    },
    {
     "data": {
      "text/plain": [
       "<module 'load' from '../analysis/load.py'>"
      ]
     },
     "execution_count": 1,
     "metadata": {},
     "output_type": "execute_result"
    }
   ],
   "source": [
    "import sys\n",
    "import os\n",
    "sys.path.insert(0,'../classes')\n",
    "sys.path.insert(0,'../analysis')\n",
    "import anl\n",
    "\n",
    "sys.path.insert(0,'/home/zz737/projects/fiar/cog_model/fourinarow/Analysis notebooks/new')\n",
    "hqfd = '/home/zz737/projects/fiar/cog_model/fourinarow/Analysis notebooks/new/Heuristic quality'\n",
    "sys.path.insert(0,hqfd)\n",
    "from fourinarowfunctions import *\n",
    "import matplotlib.pyplot as plt\n",
    "import pandas as pd\n",
    "import seaborn as sns\n",
    "\n",
    "import logging\n",
    "import numpy as np\n",
    "\n",
    "import coloredlogs\n",
    "\n",
    "from arena import Arena\n",
    "from coach import Coach\n",
    "from beck.beck_game import BeckGame as Game\n",
    "from beck.beck_nnet import NNetWrapper as nn\n",
    "from beck.beck_players import HumanBeckPlayer\n",
    "from mcts import MCTS\n",
    "from utils import *\n",
    "log = logging.getLogger(__name__)\n",
    "\n",
    "from keras import backend as K\n",
    "\n",
    "import tournament\n",
    "# participant_iters = tournament.participant_iters\n",
    "\n",
    "participants_dir = '/scratch/zz737/fiar/tournaments/tournament_4' # dir for trained networks\n",
    "results_dir = '/scratch/zz737/fiar/tournaments/results/tournament_4'\n",
    "moves_dir = '/scratch/zz737/fiar/tournaments/tournament_4/moves/raw/'\n",
    "splits_dir = '/scratch/zz737/fiar/tournaments/tournament_4/moves/splits/'\n",
    "\n",
    "import load\n",
    "import plot_fun\n",
    "from importlib import reload\n",
    "reload(load)"
   ]
  },
  {
   "cell_type": "code",
   "execution_count": 2,
   "metadata": {},
   "outputs": [],
   "source": [
    "hqfd = '/home/zz737/projects/fiar/cog_model/fourinarow/Analysis notebooks/new/Heuristic quality'\n",
    "move_stats_hvh = np.loadtxt(os.path.join(hqfd,'move_stats_hvh.txt'),dtype=int)\n",
    "feature_counts = np.loadtxt(os.path.join(hqfd,'optimal_feature_vals.txt'))[:,-35:]\n",
    "optimal_move_values = np.loadtxt(os.path.join(hqfd,'opt_hvh.txt'))[:,-36:]\n",
    "optimal_move_values_board = np.loadtxt(os.path.join(hqfd,'opt_hvh.txt'),dtype='object')[:,:2]"
   ]
  },
  {
   "cell_type": "code",
   "execution_count": 3,
   "metadata": {},
   "outputs": [],
   "source": [
    "g = Game(4, 9, 4)\n",
    "string_to_int_array = lambda x: (np.array(list(x[0]),dtype=int) -np.array(list(x[1]),dtype=int)).reshape(4,9)\n",
    "optimal_move_values_board_reshaped_int = np.apply_along_axis(string_to_int_array,1,optimal_move_values_board)"
   ]
  },
  {
   "cell_type": "code",
   "execution_count": 4,
   "metadata": {},
   "outputs": [],
   "source": [
    "player_color = move_stats_hvh[:,1]\n",
    "optimal_board_values = np.full_like(player_color,fill_value=np.nan,dtype=float)\n",
    "optimal_board_values[player_color==0] = np.nanmax(optimal_move_values[player_color==0,:],axis=1)\n",
    "optimal_board_values[player_color==1] = -np.nanmin(optimal_move_values[player_color==1,:],axis=1)"
   ]
  },
  {
   "cell_type": "code",
   "execution_count": 5,
   "metadata": {},
   "outputs": [],
   "source": [
    "optimal_move_values_board_reshaped_int[player_color==1] = optimal_move_values_board_reshaped_int[player_color==1] * (-1)"
   ]
  },
  {
   "cell_type": "code",
   "execution_count": 6,
   "metadata": {},
   "outputs": [],
   "source": [
    "from keras import backend as K\n",
    "K.clear_session()"
   ]
  },
  {
   "cell_type": "code",
   "execution_count": 6,
   "metadata": {},
   "outputs": [],
   "source": [
    "participants_dir = '/scratch/zz737/fiar/tournaments/tournament_4/checkpoints_mcts100_cpuct2_id-3754964'\n",
    "# participants_dir = '/scratch/zz737/fiar/tournaments/tournament_1/checkpoints_mcts100_cpuct2/'\n",
    "participant_iter = 'mcts100_cpuct2;70'\n",
    "nmcts, nnet = tournament.get_player(g, participants_dir, participant_iter)\n"
   ]
  },
  {
   "cell_type": "code",
   "execution_count": 10,
   "metadata": {},
   "outputs": [],
   "source": [
    "import multiprocessing\n",
    "from multiprocessing import Pool\n",
    "\n",
    "def get_value_quality_one_iter_number(i):\n",
    "    K.clear_session()\n",
    "#     participants_dir = '/scratch/zz737/fiar/tournaments/tournament_4/checkpoints_mcts100_cpuct2_id-3752918'\n",
    "    participants_dir = '/scratch/zz737/fiar/tournaments/tournament_1/checkpoints_mcts100_cpuct2/'\n",
    "    participant_iter = f'mcts100_cpuct2;{i}'\n",
    "    nmcts, nnet = tournament.get_player(g, participants_dir, participant_iter)\n",
    "    nnet_vals = nnet.predict_batch(optimal_move_values_board_reshaped_int)[1]\n",
    "    nnet_vals = np.squeeze(nnet_vals)\n",
    "    q = np.corrcoef(nnet_vals, optimal_board_values)[0,1]\n",
    "    \n",
    "    return q"
   ]
  },
  {
   "cell_type": "code",
   "execution_count": 11,
   "metadata": {},
   "outputs": [
    {
     "data": {
      "text/plain": [
       "0.07431205249255915"
      ]
     },
     "execution_count": 11,
     "metadata": {},
     "output_type": "execute_result"
    }
   ],
   "source": [
    "get_value_quality_one_iter_number(1)"
   ]
  },
  {
   "cell_type": "code",
   "execution_count": 12,
   "metadata": {},
   "outputs": [
    {
     "name": "stdout",
     "output_type": "stream",
     "text": [
      "no iter 5\n",
      "no iter 7\n",
      "no iter 9\n",
      "no iter 10\n",
      "no iter 11\n",
      "no iter 13\n",
      "no iter 17\n",
      "no iter 18\n",
      "no iter 19\n",
      "no iter 20\n",
      "no iter 23\n",
      "no iter 25\n",
      "no iter 28\n",
      "no iter 29\n",
      "no iter 31\n",
      "no iter 33\n",
      "no iter 34\n",
      "no iter 36\n",
      "no iter 37\n",
      "no iter 38\n",
      "no iter 40\n",
      "no iter 41\n",
      "no iter 42\n",
      "no iter 43\n",
      "no iter 44\n",
      "no iter 45\n",
      "no iter 46\n",
      "no iter 47\n",
      "no iter 48\n",
      "no iter 49\n",
      "no iter 50\n",
      "no iter 51\n",
      "no iter 52\n",
      "no iter 53\n",
      "no iter 54\n",
      "no iter 55\n",
      "no iter 56\n",
      "no iter 57\n",
      "no iter 58\n",
      "no iter 59\n",
      "no iter 60\n",
      "no iter 61\n",
      "no iter 62\n",
      "no iter 63\n",
      "no iter 64\n",
      "no iter 65\n",
      "no iter 66\n",
      "no iter 67\n",
      "no iter 68\n",
      "no iter 69\n",
      "no iter 70\n"
     ]
    },
    {
     "data": {
      "image/png": "[encoded data removed]",
      "text/plain": [
       "<Figure size 432x288 with 1 Axes>"
      ]
     },
     "metadata": {
      "needs_background": "light"
     },
     "output_type": "display_data"
    }
   ],
   "source": [
    "q_l=[]\n",
    "iter_l = []\n",
    "for i in np.arange(1,71,1):\n",
    "    try:\n",
    "        q_l.append(get_value_quality_one_iter_number(i))\n",
    "        iter_l.append(i)\n",
    "    except:\n",
    "        print(f'no iter {i}')\n",
    "fig,ax=plt.subplots()\n",
    "# ax.plot(np.arange(1,71,1),q_l)\n",
    "ax.plot(iter_l,q_l)\n",
    "ax.set_xlabel('training iterations')\n",
    "ax.set_ylabel('value quality')\n",
    "fig.savefig('nnet_value_quality_t1mcts100cpuct2.jpg')"
   ]
  },
  {
   "cell_type": "code",
   "execution_count": 131,
   "metadata": {},
   "outputs": [
    {
     "data": {
      "image/png": "[encoded data removed]",
      "text/plain": [
       "<Figure size 432x288 with 1 Axes>"
      ]
     },
     "metadata": {
      "needs_background": "light"
     },
     "output_type": "display_data"
    }
   ],
   "source": [
    "q_l=[]\n",
    "iter_l = []\n",
    "for i in np.arange(1,71,1):\n",
    "    try:\n",
    "        q_l.append(get_value_quality_one_iter_number(i))\n",
    "        iter_l.append(l)\n",
    "    except:\n",
    "        print(f'no iter {i}')\n",
    "fig,ax=plt.subplots()\n",
    "# ax.plot(np.arange(1,71,1),q_l)\n",
    "ax.plot(iter_l,q_l)\n",
    "ax.set_xlabel('training iterations')\n",
    "ax.set_ylabel('value quality')\n",
    "fig.savefig('nnet_value_quality_64.pdf')"
   ]
  },
  {
   "cell_type": "code",
   "execution_count": 8,
   "metadata": {},
   "outputs": [
    {
     "data": {
      "image/png": "[encoded data removed]",
      "text/plain": [
       "<Figure size 432x288 with 1 Axes>"
      ]
     },
     "metadata": {
      "needs_background": "light"
     },
     "output_type": "display_data"
    }
   ],
   "source": [
    "q_l=[]\n",
    "for i in np.arange(1,78,1):\n",
    "    q_l.append(get_value_quality_one_iter_number(i))\n",
    "fig,ax=plt.subplots()\n",
    "ax.plot(np.arange(1,78,1),q_l)\n",
    "ax.set_xlabel('training iterations')\n",
    "ax.set_ylabel('value quality')\n",
    "fig.savefig('nnet_value_quality_18.pdf')"
   ]
  },
  {
   "cell_type": "code",
   "execution_count": 8,
   "metadata": {},
   "outputs": [
    {
     "data": {
      "text/plain": [
       "Text(0.5, 1.0, 'board not flipped by color')"
      ]
     },
     "execution_count": 8,
     "metadata": {},
     "output_type": "execute_result"
    },
    {
     "data": {
      "image/png": "[encoded data removed]",
      "text/plain": [
       "<Figure size 432x288 with 1 Axes>"
      ]
     },
     "metadata": {
      "needs_background": "light"
     },
     "output_type": "display_data"
    }
   ],
   "source": [
    "q_l=[]\n",
    "for i in np.arange(1,78,1):\n",
    "    q_l.append(get_value_quality_one_iter_number(i))\n",
    "fig,ax=plt.subplots()\n",
    "ax.plot(np.arange(1,78,1),q_l)\n",
    "ax.set_xlabel('training iterations')\n",
    "ax.set_ylabel('value quality')\n",
    "ax.set_title('board not flipped by color')\n",
    "# fig.savefig('nnet_value_quality_18.pdf')"
   ]
  },
  {
   "cell_type": "code",
   "execution_count": 4,
   "metadata": {},
   "outputs": [],
   "source": [
    "game = Game(4,9,4)\n",
    "board = game.getInitBoard()"
   ]
  },
  {
   "cell_type": "code",
   "execution_count": 5,
   "metadata": {},
   "outputs": [],
   "source": [
    "a_l = np.array([1,2,3])\n",
    "x_l = a_l //game.n\n",
    "y_l = a_l %game.n\n",
    "ind_l = np.arange(len(a_l))"
   ]
  },
  {
   "cell_type": "code",
   "execution_count": 9,
   "metadata": {},
   "outputs": [],
   "source": [
    "index_batch = np.array([ind_l,x_l,y_l])"
   ]
  },
  {
   "cell_type": "code",
   "execution_count": 8,
   "metadata": {},
   "outputs": [],
   "source": [
    "board_batch = np.tile(board,(3,1,1))"
   ]
  },
  {
   "cell_type": "code",
   "execution_count": 13,
   "metadata": {},
   "outputs": [
    {
     "data": {
      "text/plain": [
       "array([[0, 1, 2],\n",
       "       [0, 0, 0],\n",
       "       [1, 2, 3]])"
      ]
     },
     "execution_count": 13,
     "metadata": {},
     "output_type": "execute_result"
    }
   ],
   "source": [
    "index_batch"
   ]
  },
  {
   "cell_type": "code",
   "execution_count": 17,
   "metadata": {},
   "outputs": [],
   "source": [
    "board_batch[ind_l,x_l,y_l] = 1"
   ]
  },
  {
   "cell_type": "code",
   "execution_count": 19,
   "metadata": {},
   "outputs": [
    {
     "data": {
      "text/plain": [
       "array([[[0, 1, 0, 0, 0, 0, 0, 0, 0],\n",
       "        [0, 0, 0, 0, 0, 0, 0, 0, 0],\n",
       "        [0, 0, 0, 0, 0, 0, 0, 0, 0],\n",
       "        [0, 0, 0, 0, 0, 0, 0, 0, 0]],\n",
       "\n",
       "       [[0, 0, 1, 0, 0, 0, 0, 0, 0],\n",
       "        [0, 0, 0, 0, 0, 0, 0, 0, 0],\n",
       "        [0, 0, 0, 0, 0, 0, 0, 0, 0],\n",
       "        [0, 0, 0, 0, 0, 0, 0, 0, 0]],\n",
       "\n",
       "       [[0, 0, 0, 1, 0, 0, 0, 0, 0],\n",
       "        [0, 0, 0, 0, 0, 0, 0, 0, 0],\n",
       "        [0, 0, 0, 0, 0, 0, 0, 0, 0],\n",
       "        [0, 0, 0, 0, 0, 0, 0, 0, 0]]])"
      ]
     },
     "execution_count": 19,
     "metadata": {},
     "output_type": "execute_result"
    }
   ],
   "source": [
    "board_batch"
   ]
  },
  {
   "cell_type": "code",
   "execution_count": 20,
   "metadata": {},
   "outputs": [
    {
     "data": {
      "text/plain": [
       "array([[0, 0, 0, 0, 0, 0, 0, 0, 0],\n",
       "       [0, 0, 0, 0, 0, 0, 0, 0, 0],\n",
       "       [0, 0, 0, 0, 0, 0, 0, 0, 0],\n",
       "       [0, 0, 0, 0, 0, 0, 0, 0, 0]])"
      ]
     },
     "execution_count": 20,
     "metadata": {},
     "output_type": "execute_result"
    }
   ],
   "source": [
    "board"
   ]
  },
  {
   "cell_type": "code",
   "execution_count": 9,
   "metadata": {},
   "outputs": [],
   "source": [
    "a = {('a',1):1,('b',2):2}"
   ]
  }
 ],
 "metadata": {
  "kernelspec": {
   "display_name": "Python 3 (ipykernel)",
   "language": "python",
   "name": "python3"
  },
  "language_info": {
   "codemirror_mode": {
    "name": "ipython",
    "version": 3
   },
   "file_extension": ".py",
   "mimetype": "text/x-python",
   "name": "python",
   "nbconvert_exporter": "python",
   "pygments_lexer": "ipython3",
   "version": "3.11.5"
  }
 },
 "nbformat": 4,
 "nbformat_minor": 4
}
