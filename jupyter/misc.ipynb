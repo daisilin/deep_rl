{
 "cells": [
  {
   "cell_type": "code",
   "execution_count": 1,
   "metadata": {},
   "outputs": [],
   "source": [
    "import os\n",
    "import numpy as np"
   ]
  },
  {
   "cell_type": "code",
   "execution_count": 2,
   "metadata": {},
   "outputs": [],
   "source": [
    "moves_direc = '/scratch/zz737/fiar/tournaments/tournament_3/moves/'\n",
    "splits_direc = moves_direc+'splits/'\n",
    "raw_direc = moves_direc+'raw/'"
   ]
  },
  {
   "cell_type": "code",
   "execution_count": 3,
   "metadata": {},
   "outputs": [],
   "source": [
    "available_params={}\n",
    "for d in os.listdir(splits_direc):\n",
    "    sub_d = splits_direc+d+'/'\n",
    "    if len(os.listdir(sub_d))<=6:\n",
    "#         loaded_moves = np.loadtxt(sub_d+'data.csv',dtype='object',delimiter=',')\n",
    "#         loaded_moves_1_row = loaded_moves[0].split('\\t')\n",
    "#         if 'cpuct1' in loaded_moves_1_row[-2]:\n",
    "#             print(d)\n",
    "#             print(loaded_moves_1_row[-2])\n",
    "#             n_moves = len(loaded_moves)\n",
    "#             print('n_moves',n_moves)\n",
    "#             available_params[loaded_moves_1_row[-2]] = d\n",
    "        print(sub_d)\n",
    "\n",
    "        "
   ]
  },
  {
   "cell_type": "code",
   "execution_count": 5,
   "metadata": {},
   "outputs": [
    {
     "name": "stdout",
     "output_type": "stream",
     "text": [
      "83\n",
      "mcts25_cpuct1;61\n",
      "n_moves 143\n",
      "7\n",
      "mcts100_cpuct1;2\n",
      "n_moves 1249\n",
      "108\n",
      "mcts50_cpuct1;53\n",
      "n_moves 36\n",
      "11\n",
      "mcts100_cpuct1;29\n",
      "n_moves 36\n",
      "14\n",
      "mcts100_cpuct1;37\n",
      "n_moves 39\n",
      "122\n",
      "mcts80_cpuct1;28\n",
      "n_moves 132\n",
      "17\n",
      "mcts100_cpuct1;4\n",
      "n_moves 934\n",
      "65\n",
      "mcts25_cpuct1;1\n",
      "n_moves 130\n",
      "2\n",
      "mcts100_cpuct1;1\n",
      "n_moves 1024\n",
      "4\n",
      "mcts100_cpuct1;12\n",
      "n_moves 42\n",
      "77\n",
      "mcts25_cpuct1;31\n",
      "n_moves 113\n",
      "72\n",
      "mcts25_cpuct1;22\n",
      "n_moves 35\n",
      "128\n",
      "mcts80_cpuct1;40\n",
      "n_moves 131\n",
      "13\n",
      "mcts100_cpuct1;30\n",
      "n_moves 45\n",
      "112\n",
      "mcts80_cpuct1;1\n",
      "n_moves 108\n",
      "81\n",
      "mcts25_cpuct1;45\n",
      "n_moves 36\n",
      "89\n",
      "mcts50_cpuct1;18\n",
      "n_moves 37\n",
      "113\n",
      "mcts80_cpuct1;10\n",
      "n_moves 148\n",
      "12\n",
      "mcts100_cpuct1;3\n",
      "n_moves 1399\n",
      "10\n",
      "mcts100_cpuct1;28\n",
      "n_moves 38\n",
      "8\n",
      "mcts100_cpuct1;21\n",
      "n_moves 39\n",
      "66\n",
      "mcts25_cpuct1;11\n",
      "n_moves 108\n"
     ]
    }
   ],
   "source": [
    "available_params={}\n",
    "for d in os.listdir(splits_direc):\n",
    "    sub_d = splits_direc+d+'/'\n",
    "    if len(os.listdir(sub_d))>6:\n",
    "        loaded_moves = np.loadtxt(sub_d+'data.csv',dtype='object',delimiter=',')\n",
    "        loaded_moves_1_row = loaded_moves[0].split('\\t')\n",
    "        if 'cpuct1' in loaded_moves_1_row[-2]:\n",
    "            print(d)\n",
    "            print(loaded_moves_1_row[-2])\n",
    "            n_moves = len(loaded_moves)\n",
    "            print('n_moves',n_moves)\n",
    "            available_params[loaded_moves_1_row[-2]] = d\n",
    "\n",
    "        "
   ]
  },
  {
   "cell_type": "code",
   "execution_count": 7,
   "metadata": {},
   "outputs": [
    {
     "data": {
      "text/plain": [
       "{'mcts25_cpuct1;61': '83',\n",
       " 'mcts100_cpuct1;2': '7',\n",
       " 'mcts50_cpuct1;53': '108',\n",
       " 'mcts100_cpuct1;29': '11',\n",
       " 'mcts100_cpuct1;37': '14',\n",
       " 'mcts80_cpuct1;28': '122',\n",
       " 'mcts100_cpuct1;4': '17',\n",
       " 'mcts25_cpuct1;1': '65',\n",
       " 'mcts100_cpuct1;1': '2',\n",
       " 'mcts100_cpuct1;12': '4',\n",
       " 'mcts25_cpuct1;31': '77',\n",
       " 'mcts25_cpuct1;22': '72',\n",
       " 'mcts80_cpuct1;40': '128',\n",
       " 'mcts100_cpuct1;30': '13',\n",
       " 'mcts80_cpuct1;1': '112',\n",
       " 'mcts25_cpuct1;45': '81',\n",
       " 'mcts50_cpuct1;18': '89',\n",
       " 'mcts80_cpuct1;10': '113',\n",
       " 'mcts100_cpuct1;3': '12',\n",
       " 'mcts100_cpuct1;28': '10',\n",
       " 'mcts100_cpuct1;21': '8',\n",
       " 'mcts25_cpuct1;11': '66'}"
      ]
     },
     "execution_count": 7,
     "metadata": {},
     "output_type": "execute_result"
    }
   ],
   "source": [
    "available_params"
   ]
  },
  {
   "cell_type": "code",
   "execution_count": 15,
   "metadata": {},
   "outputs": [
    {
     "data": {
      "text/plain": [
       "22"
      ]
     },
     "execution_count": 15,
     "metadata": {},
     "output_type": "execute_result"
    }
   ],
   "source": [
    "len(available_params)"
   ]
  },
  {
   "cell_type": "code",
   "execution_count": 10,
   "metadata": {},
   "outputs": [],
   "source": [
    "available_params_folder = [int(x) for x in available_params.values()]"
   ]
  },
  {
   "cell_type": "markdown",
   "metadata": {},
   "source": [
    "# combine params"
   ]
  },
  {
   "cell_type": "code",
   "execution_count": 9,
   "metadata": {},
   "outputs": [
    {
     "data": {
      "text/plain": [
       "''"
      ]
     },
     "execution_count": 9,
     "metadata": {},
     "output_type": "execute_result"
    }
   ],
   "source": [
    "os.path.join('','')"
   ]
  },
  {
   "cell_type": "code",
   "execution_count": 15,
   "metadata": {},
   "outputs": [],
   "source": [
    "import shutil"
   ]
  },
  {
   "cell_type": "code",
   "execution_count": 16,
   "metadata": {},
   "outputs": [
    {
     "name": "stdout",
     "output_type": "stream",
     "text": [
      "13  removed\n"
     ]
    }
   ],
   "source": [
    "# split_dir = '/scratch/zz737/fiar/tournaments/tournament_4/moves/splits/checkpoints_mcts100_cpuct2_id-3752918'\n",
    "# split_sub_dir = os.listdir(split_dir)\n",
    "# for sd in split_sub_dir:\n",
    "#     sd_dir = os.path.join(split_dir,sd)\n",
    "#     sd_dir_fn_l = os.listdir(sd_dir)\n",
    "#     for g in range(1,6):\n",
    "#         if f'params{g}.csv' not in sd_dir_fn_l:\n",
    "#             print(sd,' removed')\n",
    "#             shutil.rmtree(sd_dir)\n",
    "    # used to remove folders in which some paramx.csv is not present"
   ]
  },
  {
   "cell_type": "code",
   "execution_count": 18,
   "metadata": {},
   "outputs": [],
   "source": [
    "import os\n",
    "def expand_params(theta):\n",
    "    thresh = theta[0];\n",
    "    delta = theta[2];\n",
    "    w_center = theta[5];\n",
    "    w = theta[6:10]\n",
    "    lapse = theta[3];\n",
    "    c_act = theta[4];\n",
    "    gamma = theta[1];\n",
    "    return np.hstack([[10000,thresh,gamma,lapse,1,1,w_center],\n",
    "                     np.tile(w,4),\n",
    "                     [0],\n",
    "                     c_act*np.tile(w,4),\n",
    "                     [0],\n",
    "                     [delta]*17])\n",
    "\n",
    "# direc = '/scratch/zz737/fiar/tournaments/tournament_3/moves'\n",
    "direc = '/scratch/zz737/fiar/tournaments/tournament_4/moves'\n",
    "additional_dir = 'checkpoints_mcts100_cpuct2_id-3752918'\n",
    "model_copy_splits_direc = os.path.join(direc, 'splits',additional_dir)\n",
    "nsubfolders = len(os.listdir(model_copy_splits_direc))\n",
    "# behavior_names = np.arange(nsubfolders) + 1\n",
    "behavior_names = os.listdir(model_copy_splits_direc)\n",
    "# behavior_names = available_params_folder\n",
    "\n",
    "\n",
    "\n",
    "def main(additional_dir=''): #additional_dir used when under splits, there's model copy\n",
    "    fn = lambda i,g: os.path.join(model_copy_splits_direc, str(i), 'params' +str(g) +'.csv')\n",
    "    params_short = np.vstack([np.loadtxt(fn(i,g),delimiter=',') \n",
    "               for i in behavior_names for g in range(1,6)])\n",
    "    params = np.vstack([expand_params(np.loadtxt(fn(i,g),delimiter=',')) \n",
    "               for i in behavior_names for g in range(1,6)])\n",
    "    savedir = os.path.join(direc,'long',additional_dir)\n",
    "    if not os.path.exists(savedir):\n",
    "        os.makedirs(savedir, exist_ok=True)\n",
    "    np.savetxt(os.path.join(savedir,'params_transfer_pilot_long.txt'),params,fmt = '%6f')\n",
    "\n",
    "main(additional_dir)"
   ]
  },
  {
   "cell_type": "code",
   "execution_count": 16,
   "metadata": {},
   "outputs": [
    {
     "data": {
      "text/plain": [
       "[83,\n",
       " 7,\n",
       " 108,\n",
       " 11,\n",
       " 14,\n",
       " 122,\n",
       " 17,\n",
       " 65,\n",
       " 2,\n",
       " 4,\n",
       " 77,\n",
       " 72,\n",
       " 128,\n",
       " 13,\n",
       " 112,\n",
       " 81,\n",
       " 89,\n",
       " 113,\n",
       " 12,\n",
       " 10,\n",
       " 8,\n",
       " 66]"
      ]
     },
     "execution_count": 16,
     "metadata": {},
     "output_type": "execute_result"
    }
   ],
   "source": [
    "behavior_names"
   ]
  },
  {
   "cell_type": "code",
   "execution_count": 3,
   "metadata": {},
   "outputs": [],
   "source": [
    "# delete old params\n",
    "root_dir = '/scratch/zz737/fiar/tournaments/tournament_4/moves/splits/checkpoints_mcts100_cpuct2_id-3754964'\n",
    "iters = os.listdir(root_dir)\n",
    "for it in iters:\n",
    "    subdir = os.path.join(root_dir,it)\n",
    "    files = os.listdir(subdir)\n",
    "    for f in files:\n",
    "        fn = os.path.join(subdir,f)\n",
    "        if f.startswith('ll') or f.startswith('pa'):\n",
    "            os.remove(fn)"
   ]
  },
  {
   "cell_type": "code",
   "execution_count": null,
   "metadata": {},
   "outputs": [],
   "source": []
  }
 ],
 "metadata": {
  "kernelspec": {
   "display_name": "Python 3",
   "language": "python",
   "name": "python3"
  },
  "language_info": {
   "codemirror_mode": {
    "name": "ipython",
    "version": 3
   },
   "file_extension": ".py",
   "mimetype": "text/x-python",
   "name": "python",
   "nbconvert_exporter": "python",
   "pygments_lexer": "ipython3",
   "version": "3.7.6"
  }
 },
 "nbformat": 4,
 "nbformat_minor": 4
}
