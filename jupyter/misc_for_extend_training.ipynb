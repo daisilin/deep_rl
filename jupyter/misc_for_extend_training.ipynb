{
 "cells": [
  {
   "cell_type": "code",
   "execution_count": 1,
   "metadata": {},
   "outputs": [],
   "source": [
    "import os,sys,shutil\n",
    "import numpy as np"
   ]
  },
  {
   "cell_type": "code",
   "execution_count": 2,
   "metadata": {},
   "outputs": [],
   "source": [
    "root_dir = '/scratch/zz737/fiar/'\n"
   ]
  },
  {
   "cell_type": "code",
   "execution_count": 56,
   "metadata": {},
   "outputs": [],
   "source": [
    "subdirs = os.listdir(root_dir)"
   ]
  },
  {
   "cell_type": "code",
   "execution_count": 52,
   "metadata": {},
   "outputs": [],
   "source": [
    "des_dir = '/scratch/zz737/fiar/tournaments/tournament_4/'"
   ]
  },
  {
   "cell_type": "code",
   "execution_count": 27,
   "metadata": {},
   "outputs": [],
   "source": [
    "import re"
   ]
  },
  {
   "cell_type": "code",
   "execution_count": 47,
   "metadata": {},
   "outputs": [
    {
     "data": {
      "text/plain": [
       "'/scratch/zz737/fiar/run-3752917/scratch/zz737/fiar/tournaments/tournament_4/checkpoints_mcts100_cpuct2_id123'"
      ]
     },
     "execution_count": 47,
     "metadata": {},
     "output_type": "execute_result"
    }
   ],
   "source": [
    "re.sub('id.|id..','id123',sc)"
   ]
  },
  {
   "cell_type": "code",
   "execution_count": 58,
   "metadata": {},
   "outputs": [],
   "source": [
    "dir_part = 'scratch/zz737/fiar/tournaments/tournament_4/'\n",
    "for dir in subdirs:\n",
    "    if dir.startswith('run'):\n",
    "        run_num = dir.split('-')[1]\n",
    "        subdir = os.path.join(root_dir,dir,dir_part)\n",
    "        if os.path.exists(subdir):\n",
    "            model_dir = os.listdir(subdir)\n",
    "            if len(model_dir) > 0:\n",
    "                model_dir_name = model_dir[0]\n",
    "                sc = os.path.join(subdir,model_dir_name)\n",
    "#                 model_dir_name_new = f'id-{run_num}'\n",
    "#                 model_dir_name_new = re.sub('id.|id..',model_dir_name_new,sc)  \n",
    "    #             os.rename(sc,model_dir_name_new)\n",
    "                shutil.move(sc,des_dir)\n",
    "                "
   ]
  },
  {
   "cell_type": "code",
   "execution_count": 68,
   "metadata": {},
   "outputs": [],
   "source": [
    "subdirs = os.listdir(des_dir)"
   ]
  },
  {
   "cell_type": "code",
   "execution_count": 110,
   "metadata": {},
   "outputs": [
    {
     "data": {
      "text/plain": [
       "'checkpoints_mcts100_cpuct2_id-3754965'"
      ]
     },
     "execution_count": 110,
     "metadata": {},
     "output_type": "execute_result"
    }
   ],
   "source": [
    "dir"
   ]
  },
  {
   "cell_type": "code",
   "execution_count": 69,
   "metadata": {},
   "outputs": [],
   "source": [
    "for dir in subdirs:\n",
    "    model_dir = os.path.join(des_dir,dir)\n",
    "    model_fn_l =os.listdir(model_dir)\n",
    "    if len(model_fn_l) > 20:\n",
    "#         print(model_dir)\n",
    "#         shutil.rmtree(model_dir)\n",
    "        model_fn_l"
   ]
  },
  {
   "cell_type": "code",
   "execution_count": 108,
   "metadata": {},
   "outputs": [],
   "source": [
    "iter_max = 0\n",
    "for fn in model_fn_l:\n",
    "    if fn.endswith('examples'):\n",
    "        half = fn.split('_')[1]\n",
    "        iter = int(half.split('.')[0])\n",
    "        if iter > iter_max:\n",
    "            iter_max = iter"
   ]
  },
  {
   "cell_type": "code",
   "execution_count": 115,
   "metadata": {},
   "outputs": [
    {
     "name": "stdout",
     "output_type": "stream",
     "text": [
      "['/scratch/zz737/fiar/tournaments/tournament_4/checkpoints_mcts100_cpuct2_id-3754964', '/scratch/zz737/fiar/tournaments/tournament_4/checkpoints_mcts100_cpuct2_id-3752918', '/scratch/zz737/fiar/tournaments/tournament_4/checkpoints_mcts100_cpuct2_id-3752919', '/scratch/zz737/fiar/tournaments/tournament_4/checkpoints_mcts100_cpuct2_id-3752921', '/scratch/zz737/fiar/tournaments/tournament_4/checkpoints_mcts100_cpuct2_id-3753063', '/scratch/zz737/fiar/tournaments/tournament_4/checkpoints_mcts100_cpuct2_id-3752985', '/scratch/zz737/fiar/tournaments/tournament_4/checkpoints_mcts100_cpuct2_id-3752917', '/scratch/zz737/fiar/tournaments/tournament_4/checkpoints_mcts100_cpuct2_id-3751934', '/scratch/zz737/fiar/tournaments/tournament_4/checkpoints_mcts100_cpuct2_id-37549660', '/scratch/zz737/fiar/tournaments/tournament_4/checkpoints_mcts100_cpuct2_id-3754965']\r\n",
      "[49, 49, 48, 47, 51, 48, 44, 15, 48, 51]\r\n"
     ]
    }
   ],
   "source": [
    "!python ../batch_jobs/write_continue_training_sz.py"
   ]
  },
  {
   "cell_type": "code",
   "execution_count": 116,
   "metadata": {},
   "outputs": [
    {
     "data": {
      "text/plain": [
       "'abc/abc1.txt'"
      ]
     },
     "execution_count": 116,
     "metadata": {},
     "output_type": "execute_result"
    }
   ],
   "source": [
    "dirname = 'abc'\n",
    "scname ='abc1.txt'\n",
    "os.path.join(dirname,scname)"
   ]
  },
  {
   "cell_type": "code",
   "execution_count": 70,
   "metadata": {},
   "outputs": [],
   "source": [
    "import argparse"
   ]
  },
  {
   "cell_type": "code",
   "execution_count": 72,
   "metadata": {},
   "outputs": [
    {
     "data": {
      "text/plain": [
       "_StoreAction(option_strings=[], dest='Path', nargs=None, const=None, default=None, type=<class 'str'>, choices=None, help='the path to list', metavar='path')"
      ]
     },
     "execution_count": 72,
     "metadata": {},
     "output_type": "execute_result"
    }
   ],
   "source": [
    "my_parser = argparse.ArgumentParser(description='List the content of a folder')\n",
    "\n",
    "# Add the arguments\n",
    "my_parser.add_argument('Path',\n",
    "                       metavar='path',\n",
    "                       type=str,\n",
    "                       help='the path to list')\n",
    "\n",
    "# Execute the parse_args() method\n",
    "# args = my_parser.parse_args()"
   ]
  },
  {
   "cell_type": "code",
   "execution_count": 90,
   "metadata": {},
   "outputs": [
    {
     "name": "stdout",
     "output_type": "stream",
     "text": [
      "{'Path': 'op', 'value': True}\r\n",
      "The path specified does not exist\r\n"
     ]
    }
   ],
   "source": [
    "!python test.py -va 1 op\n",
    "# !python test.py op"
   ]
  },
  {
   "cell_type": "code",
   "execution_count": 91,
   "metadata": {},
   "outputs": [],
   "source": [
    "class dotdict(dict):\n",
    "    def __getattr__(self, name):\n",
    "        return self[name]\n"
   ]
  },
  {
   "cell_type": "code",
   "execution_count": 4,
   "metadata": {},
   "outputs": [],
   "source": [
    "sys.path.append('../classes')"
   ]
  },
  {
   "cell_type": "code",
   "execution_count": 12,
   "metadata": {},
   "outputs": [
    {
     "name": "stdout",
     "output_type": "stream",
     "text": [
      "{'mcts100_cpuct1': [1, 2, 3, 4, 6, 7, 9, 11, 12, 16, 18, 21, 25, 28, 29, 30, 37, 38, 39, 45, 47], 'mcts100_cpuct2': [1, 2, 3, 4, 6, 8, 12, 14, 15, 16, 21, 22, 24, 26, 27, 30, 32, 35, 39], 'mcts100_cpuct3': [1, 2, 3, 4, 5, 7, 8, 9, 10, 11, 12, 16, 17, 18, 20, 21, 25, 26, 28, 32, 34, 35, 36], 'mcts25_cpuct1': [1, 2, 3, 4, 9, 11, 13, 14, 16, 19, 22, 25, 28, 29, 31, 37, 39, 45, 59, 61], 'mcts50_cpuct1': [1, 2, 3, 4, 5, 6, 7, 9, 10, 13, 17, 18, 20, 21, 23, 25, 28, 29, 31, 37, 39, 41, 44, 45, 47, 48, 53], 'mcts80_cpuct1': [1, 2, 3, 4, 5, 7, 8, 9, 10, 13, 16, 19, 20, 21, 23, 24, 28, 34, 35, 36, 40], 'mcts80_cpuct2': [1, 2, 5, 6, 8, 10, 12, 13, 15, 17, 18, 19, 22, 25, 28, 30, 31, 34, 37, 38, 39, 40, 43, 45, 46, 51], 'mcts80_cpuct3': [1, 2, 5, 6, 7, 9, 12, 13, 14, 19, 21, 22, 23, 24, 26, 27, 28, 35, 36, 42, 43, 47, 49, 50, 51, 53, 54, 55, 56, 57]}\n",
      "189 participant iterations!\n"
     ]
    }
   ],
   "source": [
    "import tournament\n",
    "import importlib\n",
    "importlib.reload(tournament)\n",
    "from beck.beck_game import BeckGame as Game"
   ]
  },
  {
   "cell_type": "code",
   "execution_count": 10,
   "metadata": {},
   "outputs": [],
   "source": [
    "g  = Game(4,9,4)"
   ]
  },
  {
   "cell_type": "code",
   "execution_count": 29,
   "metadata": {},
   "outputs": [],
   "source": [
    "participants_dir = '/scratch/zz737/fiar/tournaments/tournament_4/checkpoints_mcts100_cpuct2_id-3751934'\n",
    "participant_iter = 'mcts100_cpuct2;50'\n",
    "ai, val_func = tournament.get_player(g,participants_dir,participant_iter)"
   ]
  },
  {
   "cell_type": "code",
   "execution_count": 30,
   "metadata": {},
   "outputs": [
    {
     "data": {
      "text/plain": [
       "30"
      ]
     },
     "execution_count": 30,
     "metadata": {},
     "output_type": "execute_result"
    }
   ],
   "source": [
    "ai(b)"
   ]
  },
  {
   "cell_type": "code",
   "execution_count": 31,
   "metadata": {},
   "outputs": [
    {
     "data": {
      "text/plain": [
       "(array([2.15305974e-07, 4.53008306e-06, 2.87621191e-07, 2.45702922e-01,\n",
       "        6.97864209e-07, 2.56191373e-01, 1.03578685e-07, 1.35560049e-05,\n",
       "        3.68918478e-08, 5.10552240e-07, 4.17803854e-08, 2.48453738e-08,\n",
       "        8.17030852e-08, 1.82850172e-07, 2.71402048e-08, 5.66386449e-09,\n",
       "        2.02496029e-08, 9.30749096e-08, 5.75965089e-07, 6.30031636e-08,\n",
       "        4.25828617e-08, 4.94683583e-08, 3.14616067e-08, 1.32406285e-07,\n",
       "        5.32476676e-08, 4.31371694e-09, 6.12165394e-08, 1.81682267e-07,\n",
       "        8.71896555e-06, 6.54866881e-08, 2.53237218e-01, 1.40091046e-07,\n",
       "        2.44831651e-01, 2.48782015e-07, 6.05594596e-06, 9.27069621e-09],\n",
       "       dtype=float32),\n",
       " array([0.31315565], dtype=float32))"
      ]
     },
     "execution_count": 31,
     "metadata": {},
     "output_type": "execute_result"
    }
   ],
   "source": [
    "val_func.predict(b)"
   ]
  },
  {
   "cell_type": "code",
   "execution_count": 17,
   "metadata": {},
   "outputs": [],
   "source": [
    "b = g.getInitBoard()"
   ]
  },
  {
   "cell_type": "code",
   "execution_count": 18,
   "metadata": {},
   "outputs": [
    {
     "data": {
      "text/plain": [
       "array([[0, 0, 0, 0, 0, 0, 0, 0, 0],\n",
       "       [0, 0, 0, 0, 0, 0, 0, 0, 0],\n",
       "       [0, 0, 0, 0, 0, 0, 0, 0, 0],\n",
       "       [0, 0, 0, 0, 0, 0, 0, 0, 0]])"
      ]
     },
     "execution_count": 18,
     "metadata": {},
     "output_type": "execute_result"
    }
   ],
   "source": [
    "b"
   ]
  },
  {
   "cell_type": "code",
   "execution_count": 32,
   "metadata": {},
   "outputs": [],
   "source": [
    "import os\n",
    "csv_dirs = '/scratch/zz737/fiar/tournaments/results/tournament_4'\n"
   ]
  },
  {
   "cell_type": "code",
   "execution_count": 42,
   "metadata": {},
   "outputs": [],
   "source": [
    "for d in os.listdir(csv_dirs):\n",
    "    dd = os.path.join(csv_dirs,d)\n",
    "    try:\n",
    "        for f in os.listdir(dd):\n",
    "            os.remove(os.path.join(dd,f))\n",
    "    except:\n",
    "        pass"
   ]
  },
  {
   "cell_type": "code",
   "execution_count": 43,
   "metadata": {},
   "outputs": [
    {
     "data": {
      "text/plain": [
       "'/scratch/zz737/fiar/tournaments/results/tournament_4/checkpoints_mcts100_cpuct2_id-3754965'"
      ]
     },
     "execution_count": 43,
     "metadata": {},
     "output_type": "execute_result"
    }
   ],
   "source": [
    "dd"
   ]
  },
  {
   "cell_type": "code",
   "execution_count": 44,
   "metadata": {},
   "outputs": [
    {
     "data": {
      "text/plain": [
       "'pgn.pgn'"
      ]
     },
     "execution_count": 44,
     "metadata": {},
     "output_type": "execute_result"
    }
   ],
   "source": [
    "f"
   ]
  },
  {
   "cell_type": "code",
   "execution_count": 45,
   "metadata": {},
   "outputs": [],
   "source": [
    "participants_dir = '/scratch/zz737/fiar/tournaments/tournament_4' \n",
    "results_dir = '/scratch/zz737/fiar/tournaments/results/tournament_4' \n",
    "moves_dir = '/scratch/zz737/fiar/tournaments/tournament_4/moves/raw/'\n"
   ]
  },
  {
   "cell_type": "code",
   "execution_count": 48,
   "metadata": {},
   "outputs": [],
   "source": [
    "model_copy_list  = os.listdir(participants_dir) # get ['checkpoints_mcts100_cpuct2_id-3751934', ...]\n",
    "model_copy_list = [x for x in model_copy_list if x.startswith('checkpoints')][:1] # only select checkpoints # [[testing!!!]] only select :1 to see if it runs\n",
    "\n",
    "script_dir_name = 'script_tournament_parallel_within_modelclass'"
   ]
  },
  {
   "cell_type": "code",
   "execution_count": 49,
   "metadata": {},
   "outputs": [],
   "source": [
    "model_copy = model_copy_list[0]"
   ]
  },
  {
   "cell_type": "code",
   "execution_count": 51,
   "metadata": {},
   "outputs": [],
   "source": [
    "sys.path.append('../batch_jobs')"
   ]
  },
  {
   "cell_type": "code",
   "execution_count": 53,
   "metadata": {},
   "outputs": [],
   "source": [
    "import write_tournament_parallel_within_modelclass_sz as wr"
   ]
  },
  {
   "cell_type": "code",
   "execution_count": 54,
   "metadata": {},
   "outputs": [
    {
     "name": "stdout",
     "output_type": "stream",
     "text": [
      "['mcts100_cpuct2;1', 'mcts100_cpuct2;2', 'mcts100_cpuct2;3', 'mcts100_cpuct2;4', 'mcts100_cpuct2;5', 'mcts100_cpuct2;6', 'mcts100_cpuct2;7', 'mcts100_cpuct2;8', 'mcts100_cpuct2;9', 'mcts100_cpuct2;10', 'mcts100_cpuct2;11', 'mcts100_cpuct2;12', 'mcts100_cpuct2;13', 'mcts100_cpuct2;14', 'mcts100_cpuct2;15', 'mcts100_cpuct2;16', 'mcts100_cpuct2;17', 'mcts100_cpuct2;18', 'mcts100_cpuct2;19', 'mcts100_cpuct2;20', 'mcts100_cpuct2;21', 'mcts100_cpuct2;22', 'mcts100_cpuct2;23', 'mcts100_cpuct2;24', 'mcts100_cpuct2;25', 'mcts100_cpuct2;26', 'mcts100_cpuct2;27', 'mcts100_cpuct2;28', 'mcts100_cpuct2;29', 'mcts100_cpuct2;30', 'mcts100_cpuct2;31', 'mcts100_cpuct2;32', 'mcts100_cpuct2;33', 'mcts100_cpuct2;34', 'mcts100_cpuct2;35', 'mcts100_cpuct2;36', 'mcts100_cpuct2;37', 'mcts100_cpuct2;38', 'mcts100_cpuct2;39', 'mcts100_cpuct2;40', 'mcts100_cpuct2;41', 'mcts100_cpuct2;42', 'mcts100_cpuct2;43', 'mcts100_cpuct2;44', 'mcts100_cpuct2;45', 'mcts100_cpuct2;46', 'mcts100_cpuct2;47', 'mcts100_cpuct2;48', 'mcts100_cpuct2;49', 'mcts100_cpuct2;50', 'mcts100_cpuct2;51', 'mcts100_cpuct2;52', 'mcts100_cpuct2;53', 'mcts100_cpuct2;54', 'mcts100_cpuct2;55', 'mcts100_cpuct2;56', 'mcts100_cpuct2;57', 'mcts100_cpuct2;58', 'mcts100_cpuct2;59', 'mcts100_cpuct2;60', 'mcts100_cpuct2;61', 'mcts100_cpuct2;62', 'mcts100_cpuct2;63', 'mcts100_cpuct2;64', 'mcts100_cpuct2;65', 'mcts100_cpuct2;66', 'mcts100_cpuct2;67', 'mcts100_cpuct2;68', 'mcts100_cpuct2;69', 'mcts100_cpuct2;70', 'mcts100_cpuct2;71', 'mcts100_cpuct2;72', 'mcts100_cpuct2;73', 'mcts100_cpuct2;74', 'mcts100_cpuct2;75', 'mcts100_cpuct2;76']\n"
     ]
    }
   ],
   "source": [
    "participant_iters, niters= wr.get_participant_iters(model_copy, participants_dir, results_dir, moves_dir)"
   ]
  },
  {
   "cell_type": "code",
   "execution_count": 59,
   "metadata": {},
   "outputs": [],
   "source": [
    "import pandas as pd\n",
    "results_name = 'round_robin'"
   ]
  },
  {
   "cell_type": "code",
   "execution_count": 60,
   "metadata": {},
   "outputs": [],
   "source": [
    "results_df = pd.DataFrame(index=participant_iters, columns=participant_iters)\n",
    "results_df.to_csv(os.path.join(results_dir, results_name + '.csv'))"
   ]
  },
  {
   "cell_type": "code",
   "execution_count": null,
   "metadata": {},
   "outputs": [],
   "source": [
    "results_df"
   ]
  },
  {
   "cell_type": "code",
   "execution_count": 63,
   "metadata": {},
   "outputs": [
    {
     "data": {
      "text/plain": [
       "'/scratch/zz737/fiar/tournaments/results/tournament_4'"
      ]
     },
     "execution_count": 63,
     "metadata": {},
     "output_type": "execute_result"
    }
   ],
   "source": [
    "results_dir"
   ]
  },
  {
   "cell_type": "code",
   "execution_count": 61,
   "metadata": {},
   "outputs": [
    {
     "data": {
      "text/plain": [
       "'checkpoints_mcts100_cpuct2_id-3754964'"
      ]
     },
     "execution_count": 61,
     "metadata": {},
     "output_type": "execute_result"
    }
   ],
   "source": [
    "model_copy"
   ]
  },
  {
   "cell_type": "code",
   "execution_count": 64,
   "metadata": {},
   "outputs": [],
   "source": [
    "ngames=1"
   ]
  },
  {
   "cell_type": "code",
   "execution_count": 71,
   "metadata": {},
   "outputs": [
    {
     "name": "stdout",
     "output_type": "stream",
     "text": [
      "{'mcts100_cpuct1': [1, 2, 3, 4, 6, 7, 9, 11, 12, 16, 18, 21, 25, 28, 29, 30, 37, 38, 39, 45, 47], 'mcts100_cpuct2': [1, 2, 3, 4, 6, 8, 12, 14, 15, 16, 21, 22, 24, 26, 27, 30, 32, 35, 39], 'mcts100_cpuct3': [1, 2, 3, 4, 5, 7, 8, 9, 10, 11, 12, 16, 17, 18, 20, 21, 25, 26, 28, 32, 34, 35, 36], 'mcts25_cpuct1': [1, 2, 3, 4, 9, 11, 13, 14, 16, 19, 22, 25, 28, 29, 31, 37, 39, 45, 59, 61], 'mcts50_cpuct1': [1, 2, 3, 4, 5, 6, 7, 9, 10, 13, 17, 18, 20, 21, 23, 25, 28, 29, 31, 37, 39, 41, 44, 45, 47, 48, 53], 'mcts80_cpuct1': [1, 2, 3, 4, 5, 7, 8, 9, 10, 13, 16, 19, 20, 21, 23, 24, 28, 34, 35, 36, 40], 'mcts80_cpuct2': [1, 2, 5, 6, 8, 10, 12, 13, 15, 17, 18, 19, 22, 25, 28, 30, 31, 34, 37, 38, 39, 40, 43, 45, 46, 51], 'mcts80_cpuct3': [1, 2, 5, 6, 7, 9, 12, 13, 14, 19, 21, 22, 23, 24, 26, 27, 28, 35, 36, 42, 43, 47, 49, 50, 51, 53, 54, 55, 56, 57]}\n",
      "189 participant iterations!\n",
      "['0', 'checkpoints_mcts100_cpuct2_id-3754964', '/scratch/zz737/fiar/tournaments/tournament_4', '/scratch/zz737/fiar/tournaments/results/tournament_4', '/scratch/zz737/fiar/tournaments/tournament_4/moves/raw/', 'round_robin', '1']\n",
      "['mcts100_cpuct2;10;cog', 'mcts100_cpuct2;50;cog', 'mcts100_cpuct2;1', 'mcts100_cpuct2;2', 'mcts100_cpuct2;3', 'mcts100_cpuct2;4', 'mcts100_cpuct2;5', 'mcts100_cpuct2;6', 'mcts100_cpuct2;7', 'mcts100_cpuct2;8', 'mcts100_cpuct2;9', 'mcts100_cpuct2;10', 'mcts100_cpuct2;11', 'mcts100_cpuct2;12', 'mcts100_cpuct2;13', 'mcts100_cpuct2;14', 'mcts100_cpuct2;15', 'mcts100_cpuct2;16', 'mcts100_cpuct2;17', 'mcts100_cpuct2;18', 'mcts100_cpuct2;19', 'mcts100_cpuct2;20', 'mcts100_cpuct2;21', 'mcts100_cpuct2;22', 'mcts100_cpuct2;23', 'mcts100_cpuct2;24', 'mcts100_cpuct2;25', 'mcts100_cpuct2;26', 'mcts100_cpuct2;27', 'mcts100_cpuct2;28', 'mcts100_cpuct2;29', 'mcts100_cpuct2;30', 'mcts100_cpuct2;31', 'mcts100_cpuct2;32', 'mcts100_cpuct2;33', 'mcts100_cpuct2;34', 'mcts100_cpuct2;35', 'mcts100_cpuct2;36', 'mcts100_cpuct2;37', 'mcts100_cpuct2;38', 'mcts100_cpuct2;39', 'mcts100_cpuct2;40', 'mcts100_cpuct2;41', 'mcts100_cpuct2;42', 'mcts100_cpuct2;43', 'mcts100_cpuct2;44', 'mcts100_cpuct2;45', 'mcts100_cpuct2;46', 'mcts100_cpuct2;47', 'mcts100_cpuct2;48', 'mcts100_cpuct2;49', 'mcts100_cpuct2;50', 'mcts100_cpuct2;51', 'mcts100_cpuct2;52', 'mcts100_cpuct2;53', 'mcts100_cpuct2;54', 'mcts100_cpuct2;55', 'mcts100_cpuct2;56', 'mcts100_cpuct2;57', 'mcts100_cpuct2;58', 'mcts100_cpuct2;59', 'mcts100_cpuct2;60', 'mcts100_cpuct2;61', 'mcts100_cpuct2;62', 'mcts100_cpuct2;63', 'mcts100_cpuct2;64', 'mcts100_cpuct2;65', 'mcts100_cpuct2;66', 'mcts100_cpuct2;67', 'mcts100_cpuct2;68', 'mcts100_cpuct2;69', 'mcts100_cpuct2;70', 'mcts100_cpuct2;71', 'mcts100_cpuct2;72', 'mcts100_cpuct2;73', 'mcts100_cpuct2;74', 'mcts100_cpuct2;75', 'mcts100_cpuct2;76']\n",
      "results df not exist, creating at /scratch/zz737/fiar/tournaments/results/tournament_4/checkpoints_mcts100_cpuct2_id-3754964/round_robin.csv\n",
      "[2021-05-10 16:55:53.815624] Starting round robin!\n",
      "[2021-05-10 16:55:53.815767] Skipping mcts100_cpuct2;10;cog v/s mcts100_cpuct2;10;cog...\n",
      "[2021-05-10 16:55:53.816706] mcts100_cpuct2;10;cog v/s mcts100_cpuct2;50;cog!\n",
      "\n",
      "\n",
      "Game beginning! mcts100_cpuct2;10;cog v/s mcts100_cpuct2;50;cog...\n",
      "2021-05-10 16:55:53.829698: W tensorflow/stream_executor/platform/default/dso_loader.cc:55] Could not load dynamic library 'libcuda.so.1'; dlerror: libcuda.so.1: cannot open shared object file: No such file or directory; LD_LIBRARY_PATH: /usr/local/nvidia/lib:/usr/local/nvidia/lib64:/.singularity.d/libs\n",
      "2021-05-10 16:55:53.829717: E tensorflow/stream_executor/cuda/cuda_driver.cc:313] failed call to cuInit: UNKNOWN ERROR (303)\n",
      "2021-05-10 16:55:53.829734: I tensorflow/stream_executor/cuda/cuda_diagnostics.cc:156] kernel driver does not appear to be running on this host (cm06.nyu.cluster): /proc/driver/nvidia/version does not exist\n",
      "2021-05-10 16:55:53.829875: I tensorflow/core/platform/cpu_feature_guard.cc:143] Your CPU supports instructions that this TensorFlow binary was not compiled to use: AVX2 AVX512F FMA\n",
      "2021-05-10 16:55:53.848434: I tensorflow/core/platform/profile_utils/cpu_utils.cc:102] CPU Frequency: 2900000000 Hz\n",
      "2021-05-10 16:55:53.848638: I tensorflow/compiler/xla/service/service.cc:168] XLA service 0x14f028000b20 initialized for platform Host (this does not guarantee that XLA will be used). Devices:\n",
      "2021-05-10 16:55:53.848665: I tensorflow/compiler/xla/service/service.cc:176]   StreamExecutor device (0): Host, Default Version\n",
      "WARNING:tensorflow:Model was constructed with shape (None, 4, 9) for input Tensor(\"input_1:0\", shape=(None, 4, 9), dtype=float32), but it was called on an input with incompatible shape (None, 1, 4, 9).\n",
      "Value of player to go: 0.0\n",
      "WARNING:tensorflow:Model was constructed with shape (None, 4, 9) for input Tensor(\"input_2:0\", shape=(None, 4, 9), dtype=float32), but it was called on an input with incompatible shape (None, 1, 4, 9).\n",
      "Value of player to go: -0.06666666666666667\n",
      "Value of player to go: 0.4666666666666666\n",
      "Value of player to go: 1.2266666666666666\n",
      "Value of player to go: 0.47786331371081037\n",
      "Value of player to go: 5.066193071217962\n",
      "Value of player to go: 2.8734918446834845\n",
      "Value of player to go: 8.245446470543945\n",
      "Value of player to go: 0.31856309475615086\n",
      "Value of player to go: 8.889337084777287\n",
      "Value of player to go: 7.123547566656075\n",
      "Value of player to go: 6.7437642757772025\n",
      "Value of player to go: 7.141707108315474\n",
      "Value of player to go: 6.806059473416543\n",
      "Value of player to go: 7.969467632648724\n",
      "Value of player to go: 10.776245233716544\n",
      "Value of player to go: 6.878806676692841\n",
      "Value of player to go: 54.63446452357511\n",
      "moves for mcts100_cpuct2;10;cog saved at /scratch/zz737/fiar/tournaments/tournament_4/moves/raw/checkpoints_mcts100_cpuct2_id-3754964/mcts100_cpuct2;10;cog.csv\n",
      "moves for mcts100_cpuct2;50;cog saved at /scratch/zz737/fiar/tournaments/tournament_4/moves/raw/checkpoints_mcts100_cpuct2_id-3754964/mcts100_cpuct2;50;cog.csv\n",
      "[2021-05-10 16:56:48.315048] mcts100_cpuct2;10;cog v/s mcts100_cpuct2;1!\n",
      "\n",
      "\n",
      "Game beginning! mcts100_cpuct2;10;cog v/s mcts100_cpuct2;1...\n",
      "WARNING:tensorflow:Model was constructed with shape (None, 4, 9) for input Tensor(\"input_1:0\", shape=(None, 4, 9), dtype=float32), but it was called on an input with incompatible shape (None, 1, 4, 9).\n",
      "Value of player to go: 0.0\n",
      "Value of player to go: [-0.32233942]\n",
      "Value of player to go: 0.6266666666666666\n",
      "Value of player to go: [-0.93856865]\n",
      "Value of player to go: 2.0933333333333333\n",
      "Value of player to go: [-0.7501606]\n",
      "Value of player to go: 16.587760524333248\n",
      "Value of player to go: [0.81322855]\n",
      "Value of player to go: 109.69099131606531\n",
      "moves for mcts100_cpuct2;10;cog saved at /scratch/zz737/fiar/tournaments/tournament_4/moves/raw/checkpoints_mcts100_cpuct2_id-3754964/mcts100_cpuct2;10;cog.csv\n",
      "moves for mcts100_cpuct2;1 saved at /scratch/zz737/fiar/tournaments/tournament_4/moves/raw/checkpoints_mcts100_cpuct2_id-3754964/mcts100_cpuct2;1.csv\n",
      "[2021-05-10 16:57:12.841595] mcts100_cpuct2;10;cog v/s mcts100_cpuct2;2!\n",
      "\n",
      "\n",
      "Game beginning! mcts100_cpuct2;10;cog v/s mcts100_cpuct2;2...\n",
      "WARNING:tensorflow:Model was constructed with shape (None, 4, 9) for input Tensor(\"input_1:0\", shape=(None, 4, 9), dtype=float32), but it was called on an input with incompatible shape (None, 1, 4, 9).\n",
      "Value of player to go: 0.0\n",
      "Value of player to go: [-0.07497431]\n",
      "Value of player to go: 0.6368524269666694\n",
      "Value of player to go: [0.24497159]\n",
      "Value of player to go: 5.9147157406774795\n",
      "Value of player to go: [0.49779722]\n",
      "Value of player to go: 53.21823483431082\n",
      "moves for mcts100_cpuct2;10;cog saved at /scratch/zz737/fiar/tournaments/tournament_4/moves/raw/checkpoints_mcts100_cpuct2_id-3754964/mcts100_cpuct2;10;cog.csv\n",
      "moves for mcts100_cpuct2;2 saved at /scratch/zz737/fiar/tournaments/tournament_4/moves/raw/checkpoints_mcts100_cpuct2_id-3754964/mcts100_cpuct2;2.csv\n",
      "[2021-05-10 16:57:33.154207] mcts100_cpuct2;10;cog v/s mcts100_cpuct2;3!\n",
      "\n",
      "\n",
      "Game beginning! mcts100_cpuct2;10;cog v/s mcts100_cpuct2;3...\n",
      "WARNING:tensorflow:Model was constructed with shape (None, 4, 9) for input Tensor(\"input_1:0\", shape=(None, 4, 9), dtype=float32), but it was called on an input with incompatible shape (None, 1, 4, 9).\n",
      "Value of player to go: 0.0\n",
      "Value of player to go: [-0.3356391]\n"
     ]
    },
    {
     "name": "stdout",
     "output_type": "stream",
     "text": [
      "^C\r\n",
      "Traceback (most recent call last):\r\n",
      "  File \"../classes/tournament_parallel_within_modelclass.py\", line 118, in <module>\r\n",
      "    play_ai_round_parallel(int(args[0]), *args[1:-1],int(args[-1])) # last one, ngames need to be turned into int\r\n",
      "  File \"../classes/tournament_parallel_within_modelclass.py\", line 109, in play_ai_round_parallel\r\n",
      "    results_df.loc[p1, p2] += tournament.play_game(g, participants_dir, p1, p2, moves_dir=moves_dir) #[SZ] changed to add instead of assignment, to accumulate result\r\n",
      "  File \"/home/zz737/projects/fiar/4IAR-RL/classes/tournament.py\", line 114, in play_game\r\n",
      "    win_res = arena.playGameSave(verbose=show_game,nnet=nnet_l,subjectID_l=[participant_iter_1,participant_iter_2],fd=moves_dir) # if fd not exists, should be automatically created\r\n",
      "  File \"/home/zz737/projects/fiar/4IAR-RL/classes/arena.py\", line 35, in playGameSave\r\n",
      "    win_result, moves_result = self.playGame(verbose=verbose, nnet=nnet, is_save_moves=True)\r\n",
      "  File \"/home/zz737/projects/fiar/4IAR-RL/classes/arena.py\", line 90, in playGame\r\n",
      "    action = players[curPlayer + 1](self.game.getCanonicalForm(board, curPlayer))\r\n",
      "  File \"/home/zz737/projects/fiar/4IAR-RL/classes/tournament.py\", line 90, in <lambda>\r\n",
      "    return lambda x: np.argmax(nmcts.getActionProb(x, temp=0)), nnet \r\n",
      "  File \"/home/zz737/projects/fiar/4IAR-RL/classes/mcts.py\", line 37, in getActionProb\r\n",
      "    self.search(canonicalBoard)\r\n",
      "  File \"/home/zz737/projects/fiar/4IAR-RL/classes/mcts.py\", line 122, in search\r\n",
      "    v = self.search(next_s)\r\n",
      "  File \"/home/zz737/projects/fiar/4IAR-RL/classes/mcts.py\", line 122, in search\r\n",
      "    v = self.search(next_s)\r\n",
      "  File \"/home/zz737/projects/fiar/4IAR-RL/classes/mcts.py\", line 122, in search\r\n",
      "    v = self.search(next_s)\r\n",
      "  File \"/home/zz737/projects/fiar/4IAR-RL/classes/mcts.py\", line 82, in search\r\n",
      "    self.Ps[s], v = self.nnet.predict(canonicalBoard) # (boardsize,) scalar\r\n",
      "  File \"/home/zz737/projects/fiar/4IAR-RL/classes/beck/beck_nnet.py\", line 80, in predict\r\n",
      "    pi, v = self.nnet.model.predict(board)\r\n",
      "  File \"/ext3/miniconda3/envs/fourinarow/lib/python3.7/site-packages/tensorflow/python/keras/engine/training.py\", line 88, in _method_wrapper\r\n",
      "    return method(self, *args, **kwargs)\r\n",
      "  File \"/ext3/miniconda3/envs/fourinarow/lib/python3.7/site-packages/tensorflow/python/keras/engine/training.py\", line 1268, in predict\r\n",
      "    tmp_batch_outputs = predict_function(iterator)\r\n",
      "  File \"/ext3/miniconda3/envs/fourinarow/lib/python3.7/site-packages/tensorflow/python/eager/def_function.py\", line 580, in __call__\r\n",
      "    result = self._call(*args, **kwds)\r\n",
      "  File \"/ext3/miniconda3/envs/fourinarow/lib/python3.7/site-packages/tensorflow/python/eager/def_function.py\", line 618, in _call\r\n",
      "    results = self._stateful_fn(*args, **kwds)\r\n",
      "  File \"/ext3/miniconda3/envs/fourinarow/lib/python3.7/site-packages/tensorflow/python/eager/function.py\", line 2420, in __call__\r\n",
      "    return graph_function._filtered_call(args, kwargs)  # pylint: disable=protected-access\r\n",
      "  File \"/ext3/miniconda3/envs/fourinarow/lib/python3.7/site-packages/tensorflow/python/eager/function.py\", line 1665, in _filtered_call\r\n",
      "    self.captured_inputs)\r\n",
      "  File \"/ext3/miniconda3/envs/fourinarow/lib/python3.7/site-packages/tensorflow/python/eager/function.py\", line 1746, in _call_flat\r\n",
      "    ctx, args, cancellation_manager=cancellation_manager))\r\n",
      "  File \"/ext3/miniconda3/envs/fourinarow/lib/python3.7/site-packages/tensorflow/python/eager/function.py\", line 598, in call\r\n",
      "    ctx=ctx)\r\n",
      "  File \"/ext3/miniconda3/envs/fourinarow/lib/python3.7/site-packages/tensorflow/python/eager/execute.py\", line 60, in quick_execute\r\n",
      "    inputs, attrs, num_outputs)\r\n",
      "KeyboardInterrupt\r\n"
     ]
    }
   ],
   "source": [
    "!python -W ignore -u ../classes/tournament_parallel_within_modelclass.py 0 $model_copy $participants_dir $results_dir $moves_dir round_robin $ngames\n",
    "\n",
    "\n"
   ]
  },
  {
   "cell_type": "code",
   "execution_count": 68,
   "metadata": {},
   "outputs": [
    {
     "name": "stdout",
     "output_type": "stream",
     "text": [
      "__pycache__\t      run_training.s\r\n",
      "combine_params.py     run_training_sz.s\r\n",
      "compute_depth.sh      script_autofit_within_modelclass\r\n",
      "compute_depth_new.sh  script_tournament_parallel_within_modelclass\r\n",
      "continue_training_sz  write_auto_fit_within_modelclass_sz.py\r\n",
      "create_splits.py      write_continue_training_sz.py\r\n",
      "run_round_robin.s     write_tournament_parallel_within_modelclass_sz.py\r\n"
     ]
    }
   ],
   "source": [
    "!ls ../batch_jobs"
   ]
  },
  {
   "cell_type": "code",
   "execution_count": null,
   "metadata": {},
   "outputs": [],
   "source": []
  }
 ],
 "metadata": {
  "kernelspec": {
   "display_name": "Python 3",
   "language": "python",
   "name": "python3"
  },
  "language_info": {
   "codemirror_mode": {
    "name": "ipython",
    "version": 3
   },
   "file_extension": ".py",
   "mimetype": "text/x-python",
   "name": "python",
   "nbconvert_exporter": "python",
   "pygments_lexer": "ipython3",
   "version": "3.7.6"
  }
 },
 "nbformat": 4,
 "nbformat_minor": 4
}
