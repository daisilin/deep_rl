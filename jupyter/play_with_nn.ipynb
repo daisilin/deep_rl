{
 "cells": [
  {
   "cell_type": "code",
   "execution_count": 37,
   "metadata": {},
   "outputs": [],
   "source": [
    "import sys\n",
    "sys.path.insert(0,'../classes')\n",
    "sys.path.insert(0,'../analysis')\n",
    "import matplotlib.pyplot as plt\n",
    "import pandas as pd\n",
    "import numpy as np\n",
    "np.set_printoptions(precision=3,suppress=True)\n",
    "import importlib"
   ]
  },
  {
   "cell_type": "code",
   "execution_count": 36,
   "metadata": {},
   "outputs": [],
   "source": [
    "import logging\n",
    "import numpy as np\n",
    "\n",
    "import coloredlogs\n",
    "\n",
    "from arena import Arena\n",
    "from coach import Coach\n",
    "from beck.beck_game import BeckGame as Game\n",
    "from beck.beck_nnet import NNetWrapper as nn\n",
    "from beck.beck_players import HumanBeckPlayer, NNPolicyPlayer, NNValuePlayer\n",
    "from mcts import MCTS\n",
    "from utils import *\n",
    "log = logging.getLogger(__name__)\n",
    "\n",
    "from keras import backend as K\n",
    "\n",
    "import tournament\n",
    "participant_iters = tournament.participant_iters\n",
    "\n",
    "import value_analysis as va\n",
    "\n",
    "participants_dir = '/scratch/zz737/fiar/tournaments/tournament_4' # dir for trained networks\n",
    "results_dir = '/scratch/zz737/fiar/tournaments/results/tournament_4'\n",
    "moves_dir = '/scratch/zz737/fiar/tournaments/tournament_4/moves/raw/'"
   ]
  },
  {
   "cell_type": "code",
   "execution_count": 5,
   "metadata": {},
   "outputs": [
    {
     "name": "stdout",
     "output_type": "stream",
     "text": [
      "{'mcts100_cpuct1': [1, 2, 3, 4, 6, 7, 9, 11, 12, 16, 18, 21, 25, 28, 29, 30, 37, 38, 39, 45, 47], 'mcts100_cpuct2': [1, 2, 3, 4, 6, 8, 12, 14, 15, 16, 21, 22, 24, 26, 27, 30, 32, 35, 39], 'mcts100_cpuct3': [1, 2, 3, 4, 5, 7, 8, 9, 10, 11, 12, 16, 17, 18, 20, 21, 25, 26, 28, 32, 34, 35, 36], 'mcts25_cpuct1': [1, 2, 3, 4, 9, 11, 13, 14, 16, 19, 22, 25, 28, 29, 31, 37, 39, 45, 59, 61], 'mcts50_cpuct1': [1, 2, 3, 4, 5, 6, 7, 9, 10, 13, 17, 18, 20, 21, 23, 25, 28, 29, 31, 37, 39, 41, 44, 45, 47, 48, 53], 'mcts80_cpuct1': [1, 2, 3, 4, 5, 7, 8, 9, 10, 13, 16, 19, 20, 21, 23, 24, 28, 34, 35, 36, 40], 'mcts80_cpuct2': [1, 2, 5, 6, 8, 10, 12, 13, 15, 17, 18, 19, 22, 25, 28, 30, 31, 34, 37, 38, 39, 40, 43, 45, 46, 51], 'mcts80_cpuct3': [1, 2, 5, 6, 7, 9, 12, 13, 14, 19, 21, 22, 23, 24, 26, 27, 28, 35, 36, 42, 43, 47, 49, 50, 51, 53, 54, 55, 56, 57]}\n",
      "189 participant iterations!\n",
      "Namespace(play_ai_round_robin=False, play_as_human=True)\n",
      "\n",
      "\n",
      "Game beginning! mcts100_cpuct1;1 v/s human...\n",
      "2021-06-21 05:14:38.375168: W tensorflow/stream_executor/platform/default/dso_loader.cc:55] Could not load dynamic library 'libcuda.so.1'; dlerror: libcuda.so.1: cannot open shared object file: No such file or directory; LD_LIBRARY_PATH: /usr/local/nvidia/lib:/usr/local/nvidia/lib64:/.singularity.d/libs\n",
      "2021-06-21 05:14:38.375187: E tensorflow/stream_executor/cuda/cuda_driver.cc:313] failed call to cuInit: UNKNOWN ERROR (303)\n",
      "2021-06-21 05:14:38.375199: I tensorflow/stream_executor/cuda/cuda_diagnostics.cc:156] kernel driver does not appear to be running on this host (cm01.nyu.cluster): /proc/driver/nvidia/version does not exist\n",
      "2021-06-21 05:14:38.375330: I tensorflow/core/platform/cpu_feature_guard.cc:143] Your CPU supports instructions that this TensorFlow binary was not compiled to use: AVX2 AVX512F FMA\n",
      "2021-06-21 05:14:38.392832: I tensorflow/core/platform/profile_utils/cpu_utils.cc:102] CPU Frequency: 2900000000 Hz\n",
      "2021-06-21 05:14:38.392971: I tensorflow/compiler/xla/service/service.cc:168] XLA service 0x1500e8000b20 initialized for platform Host (this does not guarantee that XLA will be used). Devices:\n",
      "2021-06-21 05:14:38.392988: I tensorflow/compiler/xla/service/service.cc:176]   StreamExecutor device (0): Host, Default Version\n",
      "Value of player to go: [0.12106696]\n",
      "Turn  1 Player  1\n",
      "   0 1 2 3 4 5 6 7 8 \n",
      "-----------------------\n",
      "0 |- - - - - - - - - |\n",
      "1 |- - - - - - - - - |\n",
      "2 |- - - - - - - - - |\n",
      "3 |- - - - - - - - - |\n",
      "-----------------------\n",
      "Value of player to go: -404\n",
      "Turn  2 Player  -1\n",
      "   0 1 2 3 4 5 6 7 8 \n",
      "-----------------------\n",
      "0 |- - - - - - - - - |\n",
      "1 |- - - - - - - - - |\n",
      "2 |- - - - - - - - - |\n",
      "3 |- - - - - O - - - |\n",
      "-----------------------\n",
      "[ 0 0] [ 0 1] [ 0 2] [ 0 3] [ 0 4] [ 0 5] [ 0 6] [ 0 7] [ 0 8] [ 1 0] [ 1 1] [ 1 2] [ 1 3] [ 1 4] [ 1 5] [ 1 6] [ 1 7] [ 1 8] [ 2 0] [ 2 1] [ 2 2] [ 2 3] [ 2 4] [ 2 5] [ 2 6] [ 2 7] [ 2 8] [ 3 0] [ 3 1] [ 3 2] [ 3 3] [ 3 4] [ 3 6] [ 3 7] [ 3 8] ^C\n",
      "Traceback (most recent call last):\n",
      "  File \"../classes/tournament.py\", line 172, in <module>\n",
      "    play_human_games()\n",
      "  File \"../classes/tournament.py\", line 126, in play_human_games\n",
      "    results_df.loc[opponent, 'human'] = play_game(g, participants_dir, opponent, 'human')\n",
      "  File \"../classes/tournament.py\", line 114, in play_game\n",
      "    win_res = arena.playGameSave(verbose=show_game,nnet=nnet_l,subjectID_l=[participant_iter_1,participant_iter_2],fd=moves_dir) # if fd not exists, should be automatically created\n",
      "  File \"/home/zz737/projects/fiar/4IAR-RL/classes/arena.py\", line 35, in playGameSave\n",
      "    win_result, moves_result = self.playGame(verbose=verbose, nnet=nnet, is_save_moves=True)\n",
      "  File \"/home/zz737/projects/fiar/4IAR-RL/classes/arena.py\", line 90, in playGame\n",
      "    action = players[curPlayer + 1](self.game.getCanonicalForm(board, curPlayer))\n",
      "  File \"../classes/tournament.py\", line 61, in <lambda>\n",
      "    return lambda x: player.play(x), None\n",
      "  File \"/home/zz737/projects/fiar/4IAR-RL/classes/beck/beck_players.py\", line 27, in play\n",
      "    input_move = input()\n",
      "KeyboardInterrupt\n"
     ]
    }
   ],
   "source": [
    "!python ../classes/tournament.py --play_as_human"
   ]
  },
  {
   "cell_type": "code",
   "execution_count": 3,
   "metadata": {
    "scrolled": true
   },
   "outputs": [
    {
     "name": "stdout",
     "output_type": "stream",
     "text": [
      "[[ 0  0  0  0 -1  1  0  0  0]\n",
      " [ 0  0  0  0 -1  1  0  0  0]\n",
      " [ 0  0  0  0 -1  0  0  0  0]\n",
      " [ 0  0  0  0  0  0  0  0  0]]\n"
     ]
    }
   ],
   "source": [
    "g = Game(4, 9, 4)\n",
    "test_board = g.getInitBoard()\n",
    "test_board[0:3,4]=-1\n",
    "test_board[0:2,5]=1\n",
    "print(test_board)"
   ]
  },
  {
   "cell_type": "code",
   "execution_count": null,
   "metadata": {},
   "outputs": [],
   "source": []
  },
  {
   "cell_type": "code",
   "execution_count": null,
   "metadata": {},
   "outputs": [],
   "source": [
    "g = Game(4, 9, 4)   \n",
    "test_board = g.getInitBoard()\n",
    "test_board[0:3,4]=-1\n",
    "test_board[0:2,5]=1\n",
    "# test_board[0,0:3]=-1\n",
    "# test_board[1,0:2]=1\n",
    "# test_board[1,0:3]=-1\n",
    "# test_board[2,0:2]=1\n",
    "\n",
    "test_board_flpud = np.flipud(test_board)\n",
    "\n",
    "iters = tournament.iters\n",
    "import time\n",
    "t = time.time()\n",
    "with tf.device(\"/GPU:0\"):\n",
    "#     v_l_dict = get_iters_test_board_value(test_board,iters,g)\n",
    "    v_l_flpud_dict = get_iters_test_board_value(test_board_flpud,iters,g)\n",
    "print(time.time() - t)"
   ]
  },
  {
   "cell_type": "code",
   "execution_count": null,
   "metadata": {},
   "outputs": [],
   "source": [
    "test_board"
   ]
  },
  {
   "cell_type": "code",
   "execution_count": 25,
   "metadata": {
    "collapsed": true
   },
   "outputs": [
    {
     "data": {
      "text/plain": [
       "['mcts100_cpuct1;1',\n",
       " 'mcts100_cpuct1;2',\n",
       " 'mcts100_cpuct1;3',\n",
       " 'mcts100_cpuct1;4',\n",
       " 'mcts100_cpuct1;6',\n",
       " 'mcts100_cpuct1;7',\n",
       " 'mcts100_cpuct1;9',\n",
       " 'mcts100_cpuct1;11',\n",
       " 'mcts100_cpuct1;12',\n",
       " 'mcts100_cpuct1;16',\n",
       " 'mcts100_cpuct1;18',\n",
       " 'mcts100_cpuct1;21',\n",
       " 'mcts100_cpuct1;25',\n",
       " 'mcts100_cpuct1;28',\n",
       " 'mcts100_cpuct1;29',\n",
       " 'mcts100_cpuct1;30',\n",
       " 'mcts100_cpuct1;37',\n",
       " 'mcts100_cpuct1;38',\n",
       " 'mcts100_cpuct1;39',\n",
       " 'mcts100_cpuct1;45',\n",
       " 'mcts100_cpuct1;47',\n",
       " 'mcts100_cpuct2;1',\n",
       " 'mcts100_cpuct2;2',\n",
       " 'mcts100_cpuct2;3',\n",
       " 'mcts100_cpuct2;4',\n",
       " 'mcts100_cpuct2;6',\n",
       " 'mcts100_cpuct2;8',\n",
       " 'mcts100_cpuct2;12',\n",
       " 'mcts100_cpuct2;14',\n",
       " 'mcts100_cpuct2;15',\n",
       " 'mcts100_cpuct2;16',\n",
       " 'mcts100_cpuct2;21',\n",
       " 'mcts100_cpuct2;22',\n",
       " 'mcts100_cpuct2;24',\n",
       " 'mcts100_cpuct2;26',\n",
       " 'mcts100_cpuct2;27',\n",
       " 'mcts100_cpuct2;30',\n",
       " 'mcts100_cpuct2;32',\n",
       " 'mcts100_cpuct2;35',\n",
       " 'mcts100_cpuct2;39',\n",
       " 'mcts100_cpuct3;1',\n",
       " 'mcts100_cpuct3;2',\n",
       " 'mcts100_cpuct3;3',\n",
       " 'mcts100_cpuct3;4',\n",
       " 'mcts100_cpuct3;5',\n",
       " 'mcts100_cpuct3;7',\n",
       " 'mcts100_cpuct3;8',\n",
       " 'mcts100_cpuct3;9',\n",
       " 'mcts100_cpuct3;10',\n",
       " 'mcts100_cpuct3;11',\n",
       " 'mcts100_cpuct3;12',\n",
       " 'mcts100_cpuct3;16',\n",
       " 'mcts100_cpuct3;17',\n",
       " 'mcts100_cpuct3;18',\n",
       " 'mcts100_cpuct3;20',\n",
       " 'mcts100_cpuct3;21',\n",
       " 'mcts100_cpuct3;25',\n",
       " 'mcts100_cpuct3;26',\n",
       " 'mcts100_cpuct3;28',\n",
       " 'mcts100_cpuct3;32',\n",
       " 'mcts100_cpuct3;34',\n",
       " 'mcts100_cpuct3;35',\n",
       " 'mcts100_cpuct3;36',\n",
       " 'mcts25_cpuct1;1',\n",
       " 'mcts25_cpuct1;2',\n",
       " 'mcts25_cpuct1;3',\n",
       " 'mcts25_cpuct1;4',\n",
       " 'mcts25_cpuct1;9',\n",
       " 'mcts25_cpuct1;11',\n",
       " 'mcts25_cpuct1;13',\n",
       " 'mcts25_cpuct1;14',\n",
       " 'mcts25_cpuct1;16',\n",
       " 'mcts25_cpuct1;19',\n",
       " 'mcts25_cpuct1;22',\n",
       " 'mcts25_cpuct1;25',\n",
       " 'mcts25_cpuct1;28',\n",
       " 'mcts25_cpuct1;29',\n",
       " 'mcts25_cpuct1;31',\n",
       " 'mcts25_cpuct1;37',\n",
       " 'mcts25_cpuct1;39',\n",
       " 'mcts25_cpuct1;45',\n",
       " 'mcts25_cpuct1;59',\n",
       " 'mcts25_cpuct1;61',\n",
       " 'mcts50_cpuct1;1',\n",
       " 'mcts50_cpuct1;2',\n",
       " 'mcts50_cpuct1;3',\n",
       " 'mcts50_cpuct1;4',\n",
       " 'mcts50_cpuct1;5',\n",
       " 'mcts50_cpuct1;6',\n",
       " 'mcts50_cpuct1;7',\n",
       " 'mcts50_cpuct1;9',\n",
       " 'mcts50_cpuct1;10',\n",
       " 'mcts50_cpuct1;13',\n",
       " 'mcts50_cpuct1;17',\n",
       " 'mcts50_cpuct1;18',\n",
       " 'mcts50_cpuct1;20',\n",
       " 'mcts50_cpuct1;21',\n",
       " 'mcts50_cpuct1;23',\n",
       " 'mcts50_cpuct1;25',\n",
       " 'mcts50_cpuct1;28',\n",
       " 'mcts50_cpuct1;29',\n",
       " 'mcts50_cpuct1;31',\n",
       " 'mcts50_cpuct1;37',\n",
       " 'mcts50_cpuct1;39',\n",
       " 'mcts50_cpuct1;41',\n",
       " 'mcts50_cpuct1;44',\n",
       " 'mcts50_cpuct1;45',\n",
       " 'mcts50_cpuct1;47',\n",
       " 'mcts50_cpuct1;48',\n",
       " 'mcts50_cpuct1;53',\n",
       " 'mcts80_cpuct1;1',\n",
       " 'mcts80_cpuct1;2',\n",
       " 'mcts80_cpuct1;3',\n",
       " 'mcts80_cpuct1;4',\n",
       " 'mcts80_cpuct1;5',\n",
       " 'mcts80_cpuct1;7',\n",
       " 'mcts80_cpuct1;8',\n",
       " 'mcts80_cpuct1;9',\n",
       " 'mcts80_cpuct1;10',\n",
       " 'mcts80_cpuct1;13',\n",
       " 'mcts80_cpuct1;16',\n",
       " 'mcts80_cpuct1;19',\n",
       " 'mcts80_cpuct1;20',\n",
       " 'mcts80_cpuct1;21',\n",
       " 'mcts80_cpuct1;23',\n",
       " 'mcts80_cpuct1;24',\n",
       " 'mcts80_cpuct1;28',\n",
       " 'mcts80_cpuct1;34',\n",
       " 'mcts80_cpuct1;35',\n",
       " 'mcts80_cpuct1;36',\n",
       " 'mcts80_cpuct1;40',\n",
       " 'mcts80_cpuct2;1',\n",
       " 'mcts80_cpuct2;2',\n",
       " 'mcts80_cpuct2;5',\n",
       " 'mcts80_cpuct2;6',\n",
       " 'mcts80_cpuct2;8',\n",
       " 'mcts80_cpuct2;10',\n",
       " 'mcts80_cpuct2;12',\n",
       " 'mcts80_cpuct2;13',\n",
       " 'mcts80_cpuct2;15',\n",
       " 'mcts80_cpuct2;17',\n",
       " 'mcts80_cpuct2;18',\n",
       " 'mcts80_cpuct2;19',\n",
       " 'mcts80_cpuct2;22',\n",
       " 'mcts80_cpuct2;25',\n",
       " 'mcts80_cpuct2;28',\n",
       " 'mcts80_cpuct2;30',\n",
       " 'mcts80_cpuct2;31',\n",
       " 'mcts80_cpuct2;34',\n",
       " 'mcts80_cpuct2;37',\n",
       " 'mcts80_cpuct2;38',\n",
       " 'mcts80_cpuct2;39',\n",
       " 'mcts80_cpuct2;40',\n",
       " 'mcts80_cpuct2;43',\n",
       " 'mcts80_cpuct2;45',\n",
       " 'mcts80_cpuct2;46',\n",
       " 'mcts80_cpuct2;51',\n",
       " 'mcts80_cpuct3;1',\n",
       " 'mcts80_cpuct3;2',\n",
       " 'mcts80_cpuct3;5',\n",
       " 'mcts80_cpuct3;6',\n",
       " 'mcts80_cpuct3;7',\n",
       " 'mcts80_cpuct3;9',\n",
       " 'mcts80_cpuct3;12',\n",
       " 'mcts80_cpuct3;13',\n",
       " 'mcts80_cpuct3;14',\n",
       " 'mcts80_cpuct3;19',\n",
       " 'mcts80_cpuct3;21',\n",
       " 'mcts80_cpuct3;22',\n",
       " 'mcts80_cpuct3;23',\n",
       " 'mcts80_cpuct3;24',\n",
       " 'mcts80_cpuct3;26',\n",
       " 'mcts80_cpuct3;27',\n",
       " 'mcts80_cpuct3;28',\n",
       " 'mcts80_cpuct3;35',\n",
       " 'mcts80_cpuct3;36',\n",
       " 'mcts80_cpuct3;42',\n",
       " 'mcts80_cpuct3;43',\n",
       " 'mcts80_cpuct3;47',\n",
       " 'mcts80_cpuct3;49',\n",
       " 'mcts80_cpuct3;50',\n",
       " 'mcts80_cpuct3;51',\n",
       " 'mcts80_cpuct3;53',\n",
       " 'mcts80_cpuct3;54',\n",
       " 'mcts80_cpuct3;55',\n",
       " 'mcts80_cpuct3;56',\n",
       " 'mcts80_cpuct3;57',\n",
       " 'random',\n",
       " 'greedy']"
      ]
     },
     "execution_count": 25,
     "metadata": {},
     "output_type": "execute_result"
    }
   ],
   "source": [
    "participant_iters"
   ]
  },
  {
   "cell_type": "code",
   "execution_count": 4,
   "metadata": {},
   "outputs": [],
   "source": [
    "import tensorflow as tf\n",
    "\n",
    "# nmcts, nnet = tournament.get_player(g, participants_dir, participant_iters[20])\n",
    "participants_dir_one = os.path.join(participants_dir,'checkpoints_mcts100_cpuct2_id-3754964')\n",
    "nmcts_p_late, nnet_late = tournament.get_player(g, participants_dir_one, 'mcts100_cpuct2;70')\n",
    "nmcts_p_early, nnet_early = tournament.get_player(g, participants_dir_one, 'mcts100_cpuct2;5')\n",
    "nmcts_p_mid, nnet_mid = tournament.get_player(g, participants_dir_one, 'mcts100_cpuct2;20')\n",
    "# mcts80_cpuct1;40\n",
    "# mcts80_cpuct2;40\n",
    "# mcts80_cpuct2;15\n",
    "# mcts80_cpuct3;10\n",
    "\n",
    "\n",
    "\n",
    "# p,v = nnet.predict(-test_board)"
   ]
  },
  {
   "cell_type": "code",
   "execution_count": 6,
   "metadata": {},
   "outputs": [],
   "source": [
    "nnet_dict = {'early':nnet_early,'mid':nnet_mid,'late':nnet_late}"
   ]
  },
  {
   "cell_type": "code",
   "execution_count": 18,
   "metadata": {},
   "outputs": [],
   "source": [
    "somemoves_fn = '/scratch/zz737/fiar/tournaments/tournament_4/moves/raw/checkpoints_mcts100_cpuct2_id-3754964/' \\\n",
    "+\\\n",
    "'mcts100_cpuct2;70.csv'"
   ]
  },
  {
   "cell_type": "code",
   "execution_count": 19,
   "metadata": {},
   "outputs": [
    {
     "data": {
      "text/plain": [
       "'/scratch/zz737/fiar/tournaments/tournament_4/moves/raw/checkpoints_mcts100_cpuct2_id-3754964/mcts100_cpuct2;70.csv'"
      ]
     },
     "execution_count": 19,
     "metadata": {},
     "output_type": "execute_result"
    }
   ],
   "source": [
    "somemoves_fn"
   ]
  },
  {
   "cell_type": "code",
   "execution_count": 33,
   "metadata": {},
   "outputs": [],
   "source": [
    "moves = pd.read_csv(somemoves_fn,sep=' ',header=None)\n",
    "moves.columns = ['bp','wp','player','move','rt','iter','value']\n"
   ]
  },
  {
   "cell_type": "code",
   "execution_count": 34,
   "metadata": {},
   "outputs": [
    {
     "data": {
      "text/html": [
       "<div>\n",
       "<style scoped>\n",
       "    .dataframe tbody tr th:only-of-type {\n",
       "        vertical-align: middle;\n",
       "    }\n",
       "\n",
       "    .dataframe tbody tr th {\n",
       "        vertical-align: top;\n",
       "    }\n",
       "\n",
       "    .dataframe thead th {\n",
       "        text-align: right;\n",
       "    }\n",
       "</style>\n",
       "<table border=\"1\" class=\"dataframe\">\n",
       "  <thead>\n",
       "    <tr style=\"text-align: right;\">\n",
       "      <th></th>\n",
       "      <th>bp</th>\n",
       "      <th>wp</th>\n",
       "      <th>player</th>\n",
       "      <th>move</th>\n",
       "      <th>rt</th>\n",
       "      <th>iter</th>\n",
       "      <th>value</th>\n",
       "    </tr>\n",
       "  </thead>\n",
       "  <tbody>\n",
       "    <tr>\n",
       "      <th>0</th>\n",
       "      <td>8192</td>\n",
       "      <td>0</td>\n",
       "      <td>white</td>\n",
       "      <td>2147483648</td>\n",
       "      <td>0</td>\n",
       "      <td>mcts100_cpuct2;70</td>\n",
       "      <td>-0.077968</td>\n",
       "    </tr>\n",
       "    <tr>\n",
       "      <th>1</th>\n",
       "      <td>536879104</td>\n",
       "      <td>2147483648</td>\n",
       "      <td>white</td>\n",
       "      <td>4194304</td>\n",
       "      <td>0</td>\n",
       "      <td>mcts100_cpuct2;70</td>\n",
       "      <td>0.067675</td>\n",
       "    </tr>\n",
       "    <tr>\n",
       "      <th>2</th>\n",
       "      <td>536879120</td>\n",
       "      <td>2151677952</td>\n",
       "      <td>white</td>\n",
       "      <td>2097152</td>\n",
       "      <td>0</td>\n",
       "      <td>mcts100_cpuct2;70</td>\n",
       "      <td>-0.151002</td>\n",
       "    </tr>\n",
       "    <tr>\n",
       "      <th>3</th>\n",
       "      <td>536879124</td>\n",
       "      <td>2153775104</td>\n",
       "      <td>white</td>\n",
       "      <td>1048576</td>\n",
       "      <td>0</td>\n",
       "      <td>mcts100_cpuct2;70</td>\n",
       "      <td>0.272241</td>\n",
       "    </tr>\n",
       "    <tr>\n",
       "      <th>4</th>\n",
       "      <td>536879156</td>\n",
       "      <td>2154823680</td>\n",
       "      <td>white</td>\n",
       "      <td>8388608</td>\n",
       "      <td>0</td>\n",
       "      <td>mcts100_cpuct2;70</td>\n",
       "      <td>1.000000</td>\n",
       "    </tr>\n",
       "    <tr>\n",
       "      <th>...</th>\n",
       "      <td>...</td>\n",
       "      <td>...</td>\n",
       "      <td>...</td>\n",
       "      <td>...</td>\n",
       "      <td>...</td>\n",
       "      <td>...</td>\n",
       "      <td>...</td>\n",
       "    </tr>\n",
       "    <tr>\n",
       "      <th>20978</th>\n",
       "      <td>4836563976</td>\n",
       "      <td>2149622292</td>\n",
       "      <td>white</td>\n",
       "      <td>134217728</td>\n",
       "      <td>0</td>\n",
       "      <td>mcts100_cpuct2;70</td>\n",
       "      <td>-0.002462</td>\n",
       "    </tr>\n",
       "    <tr>\n",
       "      <th>20979</th>\n",
       "      <td>5104999432</td>\n",
       "      <td>2283840020</td>\n",
       "      <td>white</td>\n",
       "      <td>2</td>\n",
       "      <td>0</td>\n",
       "      <td>mcts100_cpuct2;70</td>\n",
       "      <td>-0.008005</td>\n",
       "    </tr>\n",
       "    <tr>\n",
       "      <th>20980</th>\n",
       "      <td>5105064968</td>\n",
       "      <td>2283840022</td>\n",
       "      <td>white</td>\n",
       "      <td>16777216</td>\n",
       "      <td>0</td>\n",
       "      <td>mcts100_cpuct2;70</td>\n",
       "      <td>-0.001254</td>\n",
       "    </tr>\n",
       "    <tr>\n",
       "      <th>20981</th>\n",
       "      <td>5105064969</td>\n",
       "      <td>2300617238</td>\n",
       "      <td>white</td>\n",
       "      <td>16384</td>\n",
       "      <td>0</td>\n",
       "      <td>mcts100_cpuct2;70</td>\n",
       "      <td>0.686225</td>\n",
       "    </tr>\n",
       "    <tr>\n",
       "      <th>20982</th>\n",
       "      <td>6178806793</td>\n",
       "      <td>2300633622</td>\n",
       "      <td>white</td>\n",
       "      <td>17179869184</td>\n",
       "      <td>0</td>\n",
       "      <td>mcts100_cpuct2;70</td>\n",
       "      <td>0.999665</td>\n",
       "    </tr>\n",
       "  </tbody>\n",
       "</table>\n",
       "<p>20983 rows × 7 columns</p>\n",
       "</div>"
      ],
      "text/plain": [
       "               bp          wp player         move  rt               iter  \\\n",
       "0            8192           0  white   2147483648   0  mcts100_cpuct2;70   \n",
       "1       536879104  2147483648  white      4194304   0  mcts100_cpuct2;70   \n",
       "2       536879120  2151677952  white      2097152   0  mcts100_cpuct2;70   \n",
       "3       536879124  2153775104  white      1048576   0  mcts100_cpuct2;70   \n",
       "4       536879156  2154823680  white      8388608   0  mcts100_cpuct2;70   \n",
       "...           ...         ...    ...          ...  ..                ...   \n",
       "20978  4836563976  2149622292  white    134217728   0  mcts100_cpuct2;70   \n",
       "20979  5104999432  2283840020  white            2   0  mcts100_cpuct2;70   \n",
       "20980  5105064968  2283840022  white     16777216   0  mcts100_cpuct2;70   \n",
       "20981  5105064969  2300617238  white        16384   0  mcts100_cpuct2;70   \n",
       "20982  6178806793  2300633622  white  17179869184   0  mcts100_cpuct2;70   \n",
       "\n",
       "          value  \n",
       "0     -0.077968  \n",
       "1      0.067675  \n",
       "2     -0.151002  \n",
       "3      0.272241  \n",
       "4      1.000000  \n",
       "...         ...  \n",
       "20978 -0.002462  \n",
       "20979 -0.008005  \n",
       "20980 -0.001254  \n",
       "20981  0.686225  \n",
       "20982  0.999665  \n",
       "\n",
       "[20983 rows x 7 columns]"
      ]
     },
     "execution_count": 34,
     "metadata": {},
     "output_type": "execute_result"
    }
   ],
   "source": [
    "moves"
   ]
  },
  {
   "cell_type": "code",
   "execution_count": 40,
   "metadata": {},
   "outputs": [
    {
     "data": {
      "text/plain": [
       "17483"
      ]
     },
     "execution_count": 40,
     "metadata": {},
     "output_type": "execute_result"
    }
   ],
   "source": [
    "i"
   ]
  },
  {
   "cell_type": "code",
   "execution_count": 61,
   "metadata": {},
   "outputs": [],
   "source": [
    "ent_dict = {'early':[],'mid':[],'late':[]}\n",
    "for tt in range(1000):\n",
    "    i = np.random.randint(len(moves))\n",
    "    test_board = va.get_board(moves.iloc[i])\n",
    "#     print(test_board)\n",
    "\n",
    "    \n",
    "    for k,net in nnet_dict.items():\n",
    "        p,v=net.predict(test_board)\n",
    "#         print(k,p.reshape(4,9))\n",
    "        ent=entropy(p)\n",
    "#         print('entropy',ent)\n",
    "        tot_pieces = np.sum(np.abs(test_board))\n",
    "\n",
    "        ent_dict[k].append([tot_pieces, ent])\n",
    "for k in ent_dict.keys():\n",
    "    ent_dict[k] = np.array(ent_dict[k])"
   ]
  },
  {
   "cell_type": "code",
   "execution_count": 62,
   "metadata": {},
   "outputs": [
    {
     "data": {
      "text/plain": [
       "Text(0, 0.5, 'policy entropy')"
      ]
     },
     "execution_count": 62,
     "metadata": {},
     "output_type": "execute_result"
    },
    {
     "data": {
      "image/png": "[encoded data removed]",
      "text/plain": [
       "<Figure size 432x288 with 1 Axes>"
      ]
     },
     "metadata": {
      "needs_background": "light"
     },
     "output_type": "display_data"
    }
   ],
   "source": [
    "for k in ent_dict.keys():\n",
    "    plt.scatter(ent_dict[k][:,0],ent_dict[k][:,1],label=k)\n",
    "plt.legend()\n",
    "plt.xlabel('tot pieces')\n",
    "plt.ylabel('policy entropy')"
   ]
  },
  {
   "cell_type": "code",
   "execution_count": 9,
   "metadata": {},
   "outputs": [],
   "source": [
    "entropy = lambda p:-(p * np.log(p)).sum()"
   ]
  },
  {
   "cell_type": "code",
   "execution_count": 15,
   "metadata": {},
   "outputs": [
    {
     "name": "stdout",
     "output_type": "stream",
     "text": [
      "[[0 0 0 0 0 0 0 0 0]\n",
      " [0 0 0 0 0 0 0 0 0]\n",
      " [0 0 0 0 0 0 0 0 0]\n",
      " [0 0 0 0 0 0 0 0 0]]\n",
      "[[0.    0.    0.    0.    0.437 0.    0.    0.    0.   ]\n",
      " [0.    0.    0.035 0.    0.    0.    0.034 0.    0.   ]\n",
      " [0.    0.    0.035 0.    0.    0.    0.033 0.    0.   ]\n",
      " [0.    0.    0.    0.    0.426 0.    0.    0.    0.   ]]\n",
      "[0.426]\n"
     ]
    }
   ],
   "source": [
    "import copy\n",
    "test_board = g.getInitBoard()\n",
    "test_board[1,-3]=0\n",
    "# test_board[2,-3]=0\n",
    "# test_board[3,-2]=0\n",
    "# test_board[3,-4] = 1\n",
    "# test_board[1,-3] = -1\n",
    "# test_board[2,7] = -1\n",
    "test_board[2,8] = 0\n",
    "# test_board[2,6]=-1\n",
    "\n",
    "# test_board = -test_board\n",
    "print(test_board)\n",
    "\n",
    "p,v = nnet.predict(test_board)\n",
    "print(p.reshape((4,9)))\n",
    "print(v)\n",
    "# nmcts(-test_board)"
   ]
  },
  {
   "cell_type": "code",
   "execution_count": 16,
   "metadata": {},
   "outputs": [],
   "source": [
    "import beck.beck_players as bbp\n",
    "import importlib\n",
    "importlib.reload(bbp)\n",
    "\n",
    "nnvp = bbp.NNValuePlayer(g,nnet)\n",
    "choice, v_l = nnvp.play(test_board,-1)"
   ]
  },
  {
   "cell_type": "code",
   "execution_count": 47,
   "metadata": {},
   "outputs": [
    {
     "name": "stdout",
     "output_type": "stream",
     "text": [
      "[[ 0  0  0  0 -1  0  0  0  0]\n",
      " [ 0  0  0  1  1  0  0  0  0]\n",
      " [ 0 -1  0  0  1  0  0  0  0]\n",
      " [ 0  0  0  0  0  0  0  0  0]]\n",
      "[[0.    0.    0.012 0.003 0.    0.    0.    0.    0.   ]\n",
      " [0.    0.    0.832 0.    0.    0.128 0.015 0.    0.   ]\n",
      " [0.    0.    0.001 0.    0.    0.    0.    0.    0.   ]\n",
      " [0.    0.    0.001 0.001 0.    0.006 0.001 0.    0.   ]]\n",
      "[0.998]\n",
      "choice 14\n",
      "v_l  [[   0.999    0.99     0.717    0.985 1000.       0.889    0.974    0.999\n",
      "     1.   ]\n",
      " [   0.835    0.957    0.275 1000.    1000.       0.271    0.997    0.999\n",
      "     1.   ]\n",
      " [   0.996 1000.       0.937    0.857 1000.       0.995    0.999    1.\n",
      "     1.   ]\n",
      " [   1.       0.983    0.991    0.996    1.       1.       0.997    0.955\n",
      "     1.   ]]\n"
     ]
    }
   ],
   "source": [
    "g = Game(4, 9, 4)\n",
    "test_board = g.getInitBoard()\n",
    "# test_board[1,2:5]=-1\n",
    "# test_board[2,2:4]=1\n",
    "# test_board[2,7]=1\n",
    "\n",
    "p1_loc = np.array([[2,4],[1,4],[1,3]])\n",
    "p2_loc = np.array([[2,1],[0,4]])\n",
    "\n",
    "for loc in p1_loc:\n",
    "    test_board[loc[0],loc[1]]=1\n",
    "for loc in p2_loc:\n",
    "    test_board[loc[0],loc[1]]=-1\n",
    "\n",
    "\n",
    "test_board = test_board\n",
    "print(test_board)\n",
    "\n",
    "p,v = nnet.predict(test_board)\n",
    "print(p.reshape((4,9)))\n",
    "print(v)\n",
    "\n",
    "choice, v_l = nnvp.play(test_board,-1)\n",
    "print('choice',choice)\n",
    "print('v_l ',np.array(v_l).reshape(4,9))"
   ]
  },
  {
   "cell_type": "markdown",
   "metadata": {},
   "source": [
    "# play with value player"
   ]
  },
  {
   "cell_type": "code",
   "execution_count": 75,
   "metadata": {},
   "outputs": [
    {
     "name": "stdout",
     "output_type": "stream",
     "text": [
      "Value of player to go: [0.424]\n",
      "Turn  1 Player  1\n",
      "   0 1 2 3 4 5 6 7 8 \n",
      "-----------------------\n",
      "0 |- - - - - - - - - |\n",
      "1 |- - - - - - - - - |\n",
      "2 |- - - - - - - - - |\n",
      "3 |- - - - - - - - - |\n",
      "-----------------------\n",
      "[ 0 0] [ 0 1] [ 0 2] [ 0 3] [ 0 4] [ 0 5] [ 0 6] [ 0 7] [ 0 8] [ 1 0] [ 1 1] [ 1 2] [ 1 3] [ 1 4] [ 1 5] [ 1 6] [ 1 7] [ 1 8] [ 2 0] [ 2 1] [ 2 2] [ 2 3] [ 2 4] [ 2 5] [ 2 6] [ 2 7] [ 2 8] [ 3 0] [ 3 1] [ 3 2] [ 3 3] [ 3 4] [ 3 5] [ 3 6] [ 3 7] [ 3 8] 4 1\n",
      "Invalid move\n",
      "1 4\n",
      "Value of player to go: [0.046]\n",
      "Turn  2 Player  -1\n",
      "   0 1 2 3 4 5 6 7 8 \n",
      "-----------------------\n",
      "0 |- - - - - - - - - |\n",
      "1 |- - - - O - - - - |\n",
      "2 |- - - - - - - - - |\n",
      "3 |- - - - - - - - - |\n",
      "-----------------------\n",
      "Value of player to go: [-0.334]\n",
      "Turn  3 Player  1\n",
      "   0 1 2 3 4 5 6 7 8 \n",
      "-----------------------\n",
      "0 |- - - - - - - - - |\n",
      "1 |- - - - O - - - - |\n",
      "2 |- - - - - - - - - |\n",
      "3 |- - - - X - - - - |\n",
      "-----------------------\n",
      "[ 0 0] [ 0 1] [ 0 2] [ 0 3] [ 0 4] [ 0 5] [ 0 6] [ 0 7] [ 0 8] [ 1 0] [ 1 1] [ 1 2] [ 1 3] [ 1 5] [ 1 6] [ 1 7] [ 1 8] [ 2 0] [ 2 1] [ 2 2] [ 2 3] [ 2 4] [ 2 5] [ 2 6] [ 2 7] [ 2 8] [ 3 0] [ 3 1] [ 3 2] [ 3 3] [ 3 5] [ 3 6] [ 3 7] [ 3 8] 1 6\n",
      "Value of player to go: [0.031]\n",
      "Turn  4 Player  -1\n",
      "   0 1 2 3 4 5 6 7 8 \n",
      "-----------------------\n",
      "0 |- - - - - - - - - |\n",
      "1 |- - - - O - O - - |\n",
      "2 |- - - - - - - - - |\n",
      "3 |- - - - X - - - - |\n",
      "-----------------------\n",
      "Value of player to go: [-0.523]\n",
      "Turn  5 Player  1\n",
      "   0 1 2 3 4 5 6 7 8 \n",
      "-----------------------\n",
      "0 |- - - - - - - - - |\n",
      "1 |- - - - O X O - - |\n",
      "2 |- - - - - - - - - |\n",
      "3 |- - - - X - - - - |\n",
      "-----------------------\n",
      "[ 0 0] [ 0 1] [ 0 2] [ 0 3] [ 0 4] [ 0 5] [ 0 6] [ 0 7] [ 0 8] [ 1 0] [ 1 1] [ 1 2] [ 1 3] [ 1 7] [ 1 8] [ 2 0] [ 2 1] [ 2 2] [ 2 3] [ 2 4] [ 2 5] [ 2 6] [ 2 7] [ 2 8] [ 3 0] [ 3 1] [ 3 2] [ 3 3] [ 3 5] [ 3 6] [ 3 7] [ 3 8] 2 5\n",
      "Value of player to go: [0.217]\n",
      "Turn  6 Player  -1\n",
      "   0 1 2 3 4 5 6 7 8 \n",
      "-----------------------\n",
      "0 |- - - - - - - - - |\n",
      "1 |- - - - O X O - - |\n",
      "2 |- - - - - O - - - |\n",
      "3 |- - - - X - - - - |\n",
      "-----------------------\n",
      "Value of player to go: [-0.69]\n",
      "Turn  7 Player  1\n",
      "   0 1 2 3 4 5 6 7 8 \n",
      "-----------------------\n",
      "0 |- - - X - - - - - |\n",
      "1 |- - - - O X O - - |\n",
      "2 |- - - - - O - - - |\n",
      "3 |- - - - X - - - - |\n",
      "-----------------------\n",
      "[ 0 0] [ 0 1] [ 0 2] [ 0 4] [ 0 5] [ 0 6] [ 0 7] [ 0 8] [ 1 0] [ 1 1] [ 1 2] [ 1 3] [ 1 7] [ 1 8] [ 2 0] [ 2 1] [ 2 2] [ 2 3] [ 2 4] [ 2 6] [ 2 7] [ 2 8] [ 3 0] [ 3 1] [ 3 2] [ 3 3] [ 3 5] [ 3 6] [ 3 7] [ 3 8] 2 3\n",
      "Value of player to go: [-0.007]\n",
      "Turn  8 Player  -1\n",
      "   0 1 2 3 4 5 6 7 8 \n",
      "-----------------------\n",
      "0 |- - - X - - - - - |\n",
      "1 |- - - - O X O - - |\n",
      "2 |- - - O - O - - - |\n",
      "3 |- - - - X - - - - |\n",
      "-----------------------\n",
      "Value of player to go: [-0.051]\n",
      "Turn  9 Player  1\n",
      "   0 1 2 3 4 5 6 7 8 \n",
      "-----------------------\n",
      "0 |- - X X - - - - - |\n",
      "1 |- - - - O X O - - |\n",
      "2 |- - - O - O - - - |\n",
      "3 |- - - - X - - - - |\n",
      "-----------------------\n",
      "[ 0 0] [ 0 1] [ 0 4] [ 0 5] [ 0 6] [ 0 7] [ 0 8] [ 1 0] [ 1 1] [ 1 2] [ 1 3] [ 1 7] [ 1 8] [ 2 0] [ 2 1] [ 2 2] [ 2 4] [ 2 6] [ 2 7] [ 2 8] [ 3 0] [ 3 1] [ 3 2] [ 3 3] [ 3 5] [ 3 6] [ 3 7] [ 3 8] "
     ]
    },
    {
     "ename": "KeyboardInterrupt",
     "evalue": "Interrupted by user",
     "output_type": "error",
     "traceback": [
      "\u001b[0;31m---------------------------------------------------------------------------\u001b[0m",
      "\u001b[0;31mKeyboardInterrupt\u001b[0m                         Traceback (most recent call last)",
      "\u001b[0;32m<ipython-input-75-a279f294194c>\u001b[0m in \u001b[0;36m<module>\u001b[0;34m\u001b[0m\n\u001b[1;32m     27\u001b[0m \u001b[0marena\u001b[0m \u001b[0;34m=\u001b[0m \u001b[0mArena\u001b[0m\u001b[0;34m(\u001b[0m\u001b[0mhuman\u001b[0m\u001b[0;34m,\u001b[0m \u001b[0mai_nonmcts_30\u001b[0m\u001b[0;34m,\u001b[0m \u001b[0mg\u001b[0m\u001b[0;34m,\u001b[0m \u001b[0mdisplay\u001b[0m\u001b[0;34m=\u001b[0m\u001b[0mg\u001b[0m\u001b[0;34m.\u001b[0m\u001b[0mdisplay\u001b[0m\u001b[0;34m)\u001b[0m\u001b[0;34m\u001b[0m\u001b[0;34m\u001b[0m\u001b[0m\n\u001b[1;32m     28\u001b[0m \u001b[0;34m\u001b[0m\u001b[0m\n\u001b[0;32m---> 29\u001b[0;31m \u001b[0marena\u001b[0m\u001b[0;34m.\u001b[0m\u001b[0mplayGame\u001b[0m\u001b[0;34m(\u001b[0m\u001b[0mverbose\u001b[0m\u001b[0;34m=\u001b[0m\u001b[0;32mTrue\u001b[0m\u001b[0;34m,\u001b[0m\u001b[0mnnet\u001b[0m\u001b[0;34m=\u001b[0m\u001b[0mnnet\u001b[0m\u001b[0;34m,\u001b[0m \u001b[0mis_save_moves\u001b[0m\u001b[0;34m=\u001b[0m\u001b[0;32mFalse\u001b[0m\u001b[0;34m)\u001b[0m\u001b[0;34m\u001b[0m\u001b[0;34m\u001b[0m\u001b[0m\n\u001b[0m\u001b[1;32m     30\u001b[0m \u001b[0;31m# arena.playGames(4,nnet=nnet)\u001b[0m\u001b[0;34m\u001b[0m\u001b[0;34m\u001b[0m\u001b[0;34m\u001b[0m\u001b[0m\n",
      "\u001b[0;32m~/projects/fiar/4IAR-RL/classes/arena.py\u001b[0m in \u001b[0;36mplayGame\u001b[0;34m(self, verbose, nnet, is_save_moves)\u001b[0m\n\u001b[1;32m     88\u001b[0m                 \u001b[0mself\u001b[0m\u001b[0;34m.\u001b[0m\u001b[0mdisplay\u001b[0m\u001b[0;34m(\u001b[0m\u001b[0mboard\u001b[0m\u001b[0;34m)\u001b[0m\u001b[0;34m\u001b[0m\u001b[0;34m\u001b[0m\u001b[0m\n\u001b[1;32m     89\u001b[0m \u001b[0;34m\u001b[0m\u001b[0m\n\u001b[0;32m---> 90\u001b[0;31m             \u001b[0maction\u001b[0m \u001b[0;34m=\u001b[0m \u001b[0mplayers\u001b[0m\u001b[0;34m[\u001b[0m\u001b[0mcurPlayer\u001b[0m \u001b[0;34m+\u001b[0m \u001b[0;36m1\u001b[0m\u001b[0;34m]\u001b[0m\u001b[0;34m(\u001b[0m\u001b[0mself\u001b[0m\u001b[0;34m.\u001b[0m\u001b[0mgame\u001b[0m\u001b[0;34m.\u001b[0m\u001b[0mgetCanonicalForm\u001b[0m\u001b[0;34m(\u001b[0m\u001b[0mboard\u001b[0m\u001b[0;34m,\u001b[0m \u001b[0mcurPlayer\u001b[0m\u001b[0;34m)\u001b[0m\u001b[0;34m)\u001b[0m\u001b[0;34m\u001b[0m\u001b[0;34m\u001b[0m\u001b[0m\n\u001b[0m\u001b[1;32m     91\u001b[0m \u001b[0;34m\u001b[0m\u001b[0m\n\u001b[1;32m     92\u001b[0m             \u001b[0mvalids\u001b[0m \u001b[0;34m=\u001b[0m \u001b[0mself\u001b[0m\u001b[0;34m.\u001b[0m\u001b[0mgame\u001b[0m\u001b[0;34m.\u001b[0m\u001b[0mgetValidMoves\u001b[0m\u001b[0;34m(\u001b[0m\u001b[0mself\u001b[0m\u001b[0;34m.\u001b[0m\u001b[0mgame\u001b[0m\u001b[0;34m.\u001b[0m\u001b[0mgetCanonicalForm\u001b[0m\u001b[0;34m(\u001b[0m\u001b[0mboard\u001b[0m\u001b[0;34m,\u001b[0m \u001b[0mcurPlayer\u001b[0m\u001b[0;34m)\u001b[0m\u001b[0;34m,\u001b[0m \u001b[0;36m1\u001b[0m\u001b[0;34m)\u001b[0m\u001b[0;34m\u001b[0m\u001b[0;34m\u001b[0m\u001b[0m\n",
      "\u001b[0;32m<ipython-input-75-a279f294194c>\u001b[0m in \u001b[0;36m<lambda>\u001b[0;34m(x)\u001b[0m\n\u001b[1;32m     19\u001b[0m \u001b[0;34m\u001b[0m\u001b[0m\n\u001b[1;32m     20\u001b[0m \u001b[0mhuman_player\u001b[0m \u001b[0;34m=\u001b[0m \u001b[0mHumanBeckPlayer\u001b[0m\u001b[0;34m(\u001b[0m\u001b[0mg\u001b[0m\u001b[0;34m)\u001b[0m\u001b[0;34m\u001b[0m\u001b[0;34m\u001b[0m\u001b[0m\n\u001b[0;32m---> 21\u001b[0;31m \u001b[0mhuman\u001b[0m \u001b[0;34m=\u001b[0m \u001b[0;32mlambda\u001b[0m \u001b[0mx\u001b[0m\u001b[0;34m:\u001b[0m \u001b[0mhuman_player\u001b[0m\u001b[0;34m.\u001b[0m\u001b[0mplay\u001b[0m\u001b[0;34m(\u001b[0m\u001b[0mx\u001b[0m\u001b[0;34m)\u001b[0m\u001b[0;34m\u001b[0m\u001b[0;34m\u001b[0m\u001b[0m\n\u001b[0m\u001b[1;32m     22\u001b[0m \u001b[0;34m\u001b[0m\u001b[0m\n\u001b[1;32m     23\u001b[0m \u001b[0mg\u001b[0m \u001b[0;34m=\u001b[0m \u001b[0mGame\u001b[0m\u001b[0;34m(\u001b[0m\u001b[0;36m4\u001b[0m\u001b[0;34m,\u001b[0m \u001b[0;36m9\u001b[0m\u001b[0;34m,\u001b[0m \u001b[0;36m4\u001b[0m\u001b[0;34m)\u001b[0m\u001b[0;34m\u001b[0m\u001b[0;34m\u001b[0m\u001b[0m\n",
      "\u001b[0;32m~/projects/fiar/4IAR-RL/classes/beck/beck_players.py\u001b[0m in \u001b[0;36mplay\u001b[0;34m(self, board)\u001b[0m\n\u001b[1;32m     25\u001b[0m                 \u001b[0mprint\u001b[0m\u001b[0;34m(\u001b[0m\u001b[0;34m\"[\"\u001b[0m\u001b[0;34m,\u001b[0m \u001b[0mint\u001b[0m\u001b[0;34m(\u001b[0m\u001b[0mi\u001b[0m\u001b[0;34m/\u001b[0m\u001b[0mself\u001b[0m\u001b[0;34m.\u001b[0m\u001b[0mgame\u001b[0m\u001b[0;34m.\u001b[0m\u001b[0mn\u001b[0m\u001b[0;34m)\u001b[0m\u001b[0;34m,\u001b[0m \u001b[0mint\u001b[0m\u001b[0;34m(\u001b[0m\u001b[0mi\u001b[0m\u001b[0;34m%\u001b[0m\u001b[0mself\u001b[0m\u001b[0;34m.\u001b[0m\u001b[0mgame\u001b[0m\u001b[0;34m.\u001b[0m\u001b[0mn\u001b[0m\u001b[0;34m)\u001b[0m\u001b[0;34m,\u001b[0m \u001b[0mend\u001b[0m\u001b[0;34m=\u001b[0m\u001b[0;34m\"] \"\u001b[0m\u001b[0;34m)\u001b[0m\u001b[0;34m\u001b[0m\u001b[0;34m\u001b[0m\u001b[0m\n\u001b[1;32m     26\u001b[0m         \u001b[0;32mwhile\u001b[0m \u001b[0;32mTrue\u001b[0m\u001b[0;34m:\u001b[0m\u001b[0;34m\u001b[0m\u001b[0;34m\u001b[0m\u001b[0m\n\u001b[0;32m---> 27\u001b[0;31m             \u001b[0minput_move\u001b[0m \u001b[0;34m=\u001b[0m \u001b[0minput\u001b[0m\u001b[0;34m(\u001b[0m\u001b[0;34m)\u001b[0m\u001b[0;34m\u001b[0m\u001b[0;34m\u001b[0m\u001b[0m\n\u001b[0m\u001b[1;32m     28\u001b[0m             \u001b[0minput_a\u001b[0m \u001b[0;34m=\u001b[0m \u001b[0minput_move\u001b[0m\u001b[0;34m.\u001b[0m\u001b[0msplit\u001b[0m\u001b[0;34m(\u001b[0m\u001b[0;34m\" \"\u001b[0m\u001b[0;34m)\u001b[0m\u001b[0;34m\u001b[0m\u001b[0;34m\u001b[0m\u001b[0m\n\u001b[1;32m     29\u001b[0m             \u001b[0;32mif\u001b[0m \u001b[0mlen\u001b[0m\u001b[0;34m(\u001b[0m\u001b[0minput_a\u001b[0m\u001b[0;34m)\u001b[0m \u001b[0;34m==\u001b[0m \u001b[0;36m2\u001b[0m\u001b[0;34m:\u001b[0m\u001b[0;34m\u001b[0m\u001b[0;34m\u001b[0m\u001b[0m\n",
      "\u001b[0;32m/ext3/miniconda3/envs/fourinarow/lib/python3.7/site-packages/ipykernel/kernelbase.py\u001b[0m in \u001b[0;36mraw_input\u001b[0;34m(self, prompt)\u001b[0m\n\u001b[1;32m    858\u001b[0m             \u001b[0mself\u001b[0m\u001b[0;34m.\u001b[0m\u001b[0m_parent_ident\u001b[0m\u001b[0;34m,\u001b[0m\u001b[0;34m\u001b[0m\u001b[0;34m\u001b[0m\u001b[0m\n\u001b[1;32m    859\u001b[0m             \u001b[0mself\u001b[0m\u001b[0;34m.\u001b[0m\u001b[0m_parent_header\u001b[0m\u001b[0;34m,\u001b[0m\u001b[0;34m\u001b[0m\u001b[0;34m\u001b[0m\u001b[0m\n\u001b[0;32m--> 860\u001b[0;31m             \u001b[0mpassword\u001b[0m\u001b[0;34m=\u001b[0m\u001b[0;32mFalse\u001b[0m\u001b[0;34m,\u001b[0m\u001b[0;34m\u001b[0m\u001b[0;34m\u001b[0m\u001b[0m\n\u001b[0m\u001b[1;32m    861\u001b[0m         )\n\u001b[1;32m    862\u001b[0m \u001b[0;34m\u001b[0m\u001b[0m\n",
      "\u001b[0;32m/ext3/miniconda3/envs/fourinarow/lib/python3.7/site-packages/ipykernel/kernelbase.py\u001b[0m in \u001b[0;36m_input_request\u001b[0;34m(self, prompt, ident, parent, password)\u001b[0m\n\u001b[1;32m    899\u001b[0m             \u001b[0;32mexcept\u001b[0m \u001b[0mKeyboardInterrupt\u001b[0m\u001b[0;34m:\u001b[0m\u001b[0;34m\u001b[0m\u001b[0;34m\u001b[0m\u001b[0m\n\u001b[1;32m    900\u001b[0m                 \u001b[0;31m# re-raise KeyboardInterrupt, to truncate traceback\u001b[0m\u001b[0;34m\u001b[0m\u001b[0;34m\u001b[0m\u001b[0;34m\u001b[0m\u001b[0m\n\u001b[0;32m--> 901\u001b[0;31m                 \u001b[0;32mraise\u001b[0m \u001b[0mKeyboardInterrupt\u001b[0m\u001b[0;34m(\u001b[0m\u001b[0;34m\"Interrupted by user\"\u001b[0m\u001b[0;34m)\u001b[0m \u001b[0;32mfrom\u001b[0m \u001b[0;32mNone\u001b[0m\u001b[0;34m\u001b[0m\u001b[0;34m\u001b[0m\u001b[0m\n\u001b[0m\u001b[1;32m    902\u001b[0m             \u001b[0;32mexcept\u001b[0m \u001b[0mException\u001b[0m \u001b[0;32mas\u001b[0m \u001b[0me\u001b[0m\u001b[0;34m:\u001b[0m\u001b[0;34m\u001b[0m\u001b[0;34m\u001b[0m\u001b[0m\n\u001b[1;32m    903\u001b[0m                 \u001b[0mself\u001b[0m\u001b[0;34m.\u001b[0m\u001b[0mlog\u001b[0m\u001b[0;34m.\u001b[0m\u001b[0mwarning\u001b[0m\u001b[0;34m(\u001b[0m\u001b[0;34m\"Invalid Message:\"\u001b[0m\u001b[0;34m,\u001b[0m \u001b[0mexc_info\u001b[0m\u001b[0;34m=\u001b[0m\u001b[0;32mTrue\u001b[0m\u001b[0;34m)\u001b[0m\u001b[0;34m\u001b[0m\u001b[0;34m\u001b[0m\u001b[0m\n",
      "\u001b[0;31mKeyboardInterrupt\u001b[0m: Interrupted by user"
     ]
    }
   ],
   "source": [
    "import beck.beck_players as bbp\n",
    "import importlib\n",
    "importlib.reload(bbp)\n",
    "\n",
    "participants_dir_one = os.path.join(participants_dir,'checkpoints_mcts100_cpuct2_id-37549660')\n",
    "nmcts_p, nnet70 = tournament.get_player(g, participants_dir_one, 'mcts100_cpuct2;70')\n",
    "nmcts_p, nnet30 = tournament.get_player(g, participants_dir_one, 'mcts100_cpuct2;30')\n",
    "\n",
    "# nnet = [nnet70,nnet30]\n",
    "nnet = [nnet30,nnet70]\n",
    "\n",
    "nnvp70 = bbp.NNValuePlayer(g,nnet70)\n",
    "nnvp30 = bbp.NNValuePlayer(g,nnet30)\n",
    "# choice, v_l = nnvp.play(test_board,-1)\n",
    "\n",
    "ai_nonmcts_70 = lambda x:nnvp70.play(x,-1)[0] #return (action, list of values)\n",
    "# ai_nonmcts_30 = lambda x:nnvp30.play(x,1)[0] #return (action, list of values)\n",
    "ai_nonmcts_30 = lambda x:nnvp30.play(x,-1)[0] #return (action, list of values)\n",
    "\n",
    "human_player = HumanBeckPlayer(g)\n",
    "human = lambda x: human_player.play(x)\n",
    "\n",
    "g = Game(4, 9, 4)\n",
    "# arena = Arena(human, ai_nonmcts, g, display=g.display)\n",
    "# arena = Arena(ai_nonmcts_70, ai_nonmcts_30, g, display=g.display)\n",
    "# arena = Arena(ai_nonmcts_30, ai_nonmcts_70, g, display=g.display)\n",
    "arena = Arena(human, ai_nonmcts_30, g, display=g.display)\n",
    "\n",
    "arena.playGame(verbose=True,nnet=nnet, is_save_moves=False)\n",
    "# arena.playGames(4,nnet=nnet)"
   ]
  },
  {
   "cell_type": "code",
   "execution_count": 24,
   "metadata": {
    "scrolled": true
   },
   "outputs": [
    {
     "name": "stderr",
     "output_type": "stream",
     "text": [
      "2021-04-01 14:00:55 cm01.nyu.cluster play_ai[3902741] INFO Loading BeckGame...\n",
      "2021-04-01 14:00:55 cm01.nyu.cluster play_ai[3902741] INFO Loading NNetWrapper...\n",
      "2021-04-01 14:00:55 cm01.nyu.cluster play_ai[3902741] INFO Loading checkpoint \"/scratch/zz737/fiar/tournaments/tournament_4/checkpoints_mcts100_cpuct2_id-37549660//checkpoint_70.pth.tar\"...\n",
      "2021-04-01 14:00:56 cm01.nyu.cluster play_ai[3902741] INFO Starting the game 🎉\n"
     ]
    },
    {
     "name": "stdout",
     "output_type": "stream",
     "text": [
      "Value of player to go: [0.426]\n",
      "Turn  1 Player  1\n",
      "   0 1 2 3 4 5 6 7 8 \n",
      "-----------------------\n",
      "0 |- - - - - - - - - |\n",
      "1 |- - - - - - - - - |\n",
      "2 |- - - - - - - - - |\n",
      "3 |- - - - - - - - - |\n",
      "-----------------------\n",
      "[ 0 0] [ 0 1] [ 0 2] [ 0 3] [ 0 4] [ 0 5] [ 0 6] [ 0 7] [ 0 8] [ 1 0] [ 1 1] [ 1 2] [ 1 3] [ 1 4] [ 1 5] [ 1 6] [ 1 7] [ 1 8] [ 2 0] [ 2 1] [ 2 2] [ 2 3] [ 2 4] [ 2 5] [ 2 6] [ 2 7] [ 2 8] [ 3 0] [ 3 1] [ 3 2] [ 3 3] [ 3 4] [ 3 5] [ 3 6] [ 3 7] [ 3 8] 2 4\n",
      "Value of player to go: [0.074]\n",
      "Turn  2 Player  -1\n",
      "   0 1 2 3 4 5 6 7 8 \n",
      "-----------------------\n",
      "0 |- - - - - - - - - |\n",
      "1 |- - - - - - - - - |\n",
      "2 |- - - - O - - - - |\n",
      "3 |- - - - - - - - - |\n",
      "-----------------------\n",
      "Value of player to go: [0.757]\n",
      "Turn  3 Player  1\n",
      "   0 1 2 3 4 5 6 7 8 \n",
      "-----------------------\n",
      "0 |- - - - - - - - - |\n",
      "1 |- - - - - - - - - |\n",
      "2 |- X - - O - - - - |\n",
      "3 |- - - - - - - - - |\n",
      "-----------------------\n",
      "[ 0 0] [ 0 1] [ 0 2] [ 0 3] [ 0 4] [ 0 5] [ 0 6] [ 0 7] [ 0 8] [ 1 0] [ 1 1] [ 1 2] [ 1 3] [ 1 4] [ 1 5] [ 1 6] [ 1 7] [ 1 8] [ 2 0] [ 2 2] [ 2 3] [ 2 5] [ 2 6] [ 2 7] [ 2 8] [ 3 0] [ 3 1] [ 3 2] [ 3 3] [ 3 4] [ 3 5] [ 3 6] [ 3 7] [ 3 8] 1 4\n",
      "Value of player to go: [-0.207]\n",
      "Turn  4 Player  -1\n",
      "   0 1 2 3 4 5 6 7 8 \n",
      "-----------------------\n",
      "0 |- - - - - - - - - |\n",
      "1 |- - - - O - - - - |\n",
      "2 |- X - - O - - - - |\n",
      "3 |- - - - - - - - - |\n",
      "-----------------------\n",
      "Value of player to go: [0.156]\n",
      "Turn  5 Player  1\n",
      "   0 1 2 3 4 5 6 7 8 \n",
      "-----------------------\n",
      "0 |- - - - X - - - - |\n",
      "1 |- - - - O - - - - |\n",
      "2 |- X - - O - - - - |\n",
      "3 |- - - - - - - - - |\n",
      "-----------------------\n",
      "[ 0 0] [ 0 1] [ 0 2] [ 0 3] [ 0 5] [ 0 6] [ 0 7] [ 0 8] [ 1 0] [ 1 1] [ 1 2] [ 1 3] [ 1 5] [ 1 6] [ 1 7] [ 1 8] [ 2 0] [ 2 2] [ 2 3] [ 2 5] [ 2 6] [ 2 7] [ 2 8] [ 3 0] [ 3 1] [ 3 2] [ 3 3] [ 3 4] [ 3 5] [ 3 6] [ 3 7] [ 3 8] 1 3\n",
      "Value of player to go: [-0.954]\n",
      "Turn  6 Player  -1\n",
      "   0 1 2 3 4 5 6 7 8 \n",
      "-----------------------\n",
      "0 |- - - - X - - - - |\n",
      "1 |- - - O O - - - - |\n",
      "2 |- X - - O - - - - |\n",
      "3 |- - - - - - - - - |\n",
      "-----------------------\n",
      "Value of player to go: [1.]\n",
      "Turn  7 Player  1\n",
      "   0 1 2 3 4 5 6 7 8 \n",
      "-----------------------\n",
      "0 |- - - - X - - - - |\n",
      "1 |- - - O O - - - - |\n",
      "2 |- X - - O - - - - |\n",
      "3 |- - - - - X - - - |\n",
      "-----------------------\n",
      "[ 0 0] [ 0 1] [ 0 2] [ 0 3] [ 0 5] [ 0 6] [ 0 7] [ 0 8] [ 1 0] [ 1 1] [ 1 2] [ 1 5] [ 1 6] [ 1 7] [ 1 8] [ 2 0] [ 2 2] [ 2 3] [ 2 5] [ 2 6] [ 2 7] [ 2 8] [ 3 0] [ 3 1] [ 3 2] [ 3 3] [ 3 4] [ 3 6] [ 3 7] [ 3 8] 2 3\n",
      "Value of player to go: [-0.999]\n",
      "Turn  8 Player  -1\n",
      "   0 1 2 3 4 5 6 7 8 \n",
      "-----------------------\n",
      "0 |- - - - X - - - - |\n",
      "1 |- - - O O - - - - |\n",
      "2 |- X - O O - - - - |\n",
      "3 |- - - - - X - - - |\n",
      "-----------------------\n",
      "Value of player to go: [0.97]\n",
      "Turn  9 Player  1\n",
      "   0 1 2 3 4 5 6 7 8 \n",
      "-----------------------\n",
      "0 |- - - - X - - - - |\n",
      "1 |- - - O O - - - - |\n",
      "2 |- X - O O X - - - |\n",
      "3 |- - - - - X - - - |\n",
      "-----------------------\n",
      "[ 0 0] [ 0 1] [ 0 2] [ 0 3] [ 0 5] [ 0 6] [ 0 7] [ 0 8] [ 1 0] [ 1 1] [ 1 2] [ 1 5] [ 1 6] [ 1 7] [ 1 8] [ 2 0] [ 2 2] [ 2 6] [ 2 7] [ 2 8] [ 3 0] [ 3 1] [ 3 2] [ 3 3] [ 3 4] [ 3 6] [ 3 7] [ 3 8] 1 5\n",
      "Value of player to go: [-1.]\n",
      "Turn  10 Player  -1\n",
      "   0 1 2 3 4 5 6 7 8 \n",
      "-----------------------\n",
      "0 |- - - - X - - - - |\n",
      "1 |- - - O O O - - - |\n",
      "2 |- X - O O X - - - |\n",
      "3 |- - - - - X - - - |\n",
      "-----------------------\n",
      "Value of player to go: [1.]\n",
      "Turn  11 Player  1\n",
      "   0 1 2 3 4 5 6 7 8 \n",
      "-----------------------\n",
      "0 |- - - - X - - - - |\n",
      "1 |- X - O O O - - - |\n",
      "2 |- X - O O X - - - |\n",
      "3 |- - - - - X - - - |\n",
      "-----------------------\n",
      "[ 0 0] [ 0 1] [ 0 2] [ 0 3] [ 0 5] [ 0 6] [ 0 7] [ 0 8] [ 1 0] [ 1 2] [ 1 6] [ 1 7] [ 1 8] [ 2 0] [ 2 2] [ 2 6] [ 2 7] [ 2 8] [ 3 0] [ 3 1] [ 3 2] [ 3 3] [ 3 4] [ 3 6] [ 3 7] [ 3 8] 1 2\n",
      "Game over: Turn  11 Result  1\n",
      "   0 1 2 3 4 5 6 7 8 \n",
      "-----------------------\n",
      "0 |- - - - X - - - - |\n",
      "1 |- X O O O O - - - |\n",
      "2 |- X - O O X - - - |\n",
      "3 |- - - - - X - - - |\n",
      "-----------------------\n"
     ]
    }
   ],
   "source": [
    "import play_ai\n",
    "import importlib\n",
    "importlib.reload(play_ai)\n",
    "play_ai.main()"
   ]
  },
  {
   "cell_type": "code",
   "execution_count": 4,
   "metadata": {},
   "outputs": [],
   "source": [
    "g = Game(4, 9, 4)\n",
    "board = g.getInitBoard()\n",
    "black_pieces = np.array([[0,1],[0,4],[0,5],[1,3],[1,4],[1,5],[1,6],[2,4],[2,6],[3,2]])\n",
    "white_pieces = np.array([[0, 3],[1,2],[2,2],[2,3],[2,5],[2,7],[3,3],[3,4],[3,7]])\n",
    "board[black_pieces[:,0],black_pieces[:,1]] = 1\n",
    "board[white_pieces[:,0],white_pieces[:,1]] = -1"
   ]
  },
  {
   "cell_type": "code",
   "execution_count": null,
   "metadata": {},
   "outputs": [],
   "source": [
    "# test_board = g.getInitBoard()\n",
    "# test_board = np.tile(test_board,(2,1,1))\n",
    "test_board = randb\n",
    "nnet.predict_batch(test_board)"
   ]
  },
  {
   "cell_type": "code",
   "execution_count": null,
   "metadata": {},
   "outputs": [],
   "source": [
    "K.clear_session()"
   ]
  },
  {
   "cell_type": "code",
   "execution_count": null,
   "metadata": {},
   "outputs": [],
   "source": [
    "keys = list(v_l_flpud_dict.keys())\n",
    "keys = keys[5:9]\n",
    "plt.figure()\n",
    "for k in keys:\n",
    "    plt.plot(v_l_flpud_dict[k],label=k)\n",
    "plt.legend()"
   ]
  },
  {
   "cell_type": "code",
   "execution_count": null,
   "metadata": {},
   "outputs": [],
   "source": [
    "keys = list(v_l_dict.keys())\n",
    "keys = keys[5:9]\n",
    "plt.figure()\n",
    "for k in keys:\n",
    "    plt.plot(v_l_dict[k],label=k)\n",
    "plt.legend()"
   ]
  },
  {
   "cell_type": "code",
   "execution_count": null,
   "metadata": {},
   "outputs": [],
   "source": [
    "participant_iters"
   ]
  },
  {
   "cell_type": "code",
   "execution_count": null,
   "metadata": {},
   "outputs": [],
   "source": [
    "def get_iters_test_board_value(test_board,iters,game):\n",
    "    agent_keys = iters.keys()\n",
    "    v_l_dict = {}\n",
    "    for k in agent_keys:\n",
    "        p_iters = [f'{k};{x}' for x in iters[k]]\n",
    "        v_l = get_participant_iters_test_board_value(test_board,p_iters,game)\n",
    "        v_l_dict[k] = v_l\n",
    "    return v_l_dict\n",
    "        \n",
    "\n",
    "def get_participant_iters_test_board_value(test_board,participant_iters,game):\n",
    "    v_l = []\n",
    "    for p in participant_iters:\n",
    "        nmcts, nnet = tournament.get_player(game, participants_dir, p)\n",
    "        p,v = nnet.predict(test_board)\n",
    "        v_l.append(v)\n",
    "        K.clear_session()\n",
    "    return np.array(v_l)\n",
    "        "
   ]
  },
  {
   "cell_type": "code",
   "execution_count": null,
   "metadata": {},
   "outputs": [],
   "source": [
    "v_l = get_participant_iters_test_board_value(test_board,participant_iters[:40])"
   ]
  },
  {
   "cell_type": "code",
   "execution_count": null,
   "metadata": {},
   "outputs": [],
   "source": [
    "participant_iters[:40]"
   ]
  },
  {
   "cell_type": "code",
   "execution_count": null,
   "metadata": {},
   "outputs": [],
   "source": [
    "plt.plot(v_l)"
   ]
  },
  {
   "cell_type": "code",
   "execution_count": null,
   "metadata": {},
   "outputs": [],
   "source": [
    "numMCTSSims = 80\n",
    "cpuct = 1\n",
    "model_class_name = f'checkpoints_mcts{numMCTSSims}_cpuct{cpuct}'\n",
    "model_instance_name = 'checkpoint_40'\n",
    "temp = 0\n",
    "model_dir = '/scratch/zz737/fiar/tournaments/tournament_1/'\n",
    "\n",
    "args = dotdict({\n",
    "    'display':True,\n",
    "    'numIters': 1000,\n",
    "    'numEps': 100,              # Number of complete self-play games to simulate during a new iteration.\n",
    "    'tempThreshold': 15,        #\n",
    "    'temp':temp,\n",
    "    'updateThreshold': 0.6,     # During arena playoff, new neural net will be accepted if threshold or more of games are won.\n",
    "    'maxlenOfQueue': 200000,    # Number of game examples to train the neural networks.\n",
    "    'numMCTSSims': numMCTSSims,#100,          # Number of games moves for MCTS to simulate.\n",
    "    'arenaCompare': 40,         # Number of games to play during arena play to determine if new net will be accepted.\n",
    "    'cpuct': cpuct,\n",
    "\n",
    "    'checkpoint': './temp/',\n",
    "    'load_model': True,\n",
    "    # 'load_folder_file': (f'../models/{model_class_name}',f'{model_instance_name}.pth.tar'),\n",
    "    'load_folder_file': (f'{model_dir}/{model_class_name}',f'{model_instance_name}.pth.tar'),\n",
    "\n",
    "    'numItersForTrainExamplesHistory': 20,\n",
    "\n",
    "    # for saving moves\n",
    "    'is_save_moves': False,\n",
    "    'save_moves_folder': f'../moves/{model_class_name}',\n",
    "    'save_moves_file': f'{model_instance_name}_temp{temp}.csv', \n",
    "    'overwrite': True, # whether overwrite the existing csv file or add to it\n",
    "\n",
    "    #\n",
    "    'numGames':2,\n",
    "\n",
    "})\n"
   ]
  },
  {
   "cell_type": "code",
   "execution_count": null,
   "metadata": {},
   "outputs": [],
   "source": [
    "g = Game(4, 9, 4)\n",
    "\n",
    "log.info('Loading %s...', nn.__name__)\n",
    "nnet = nn(g)\n",
    "nnet.load_checkpoint(args.load_folder_file[0], args.load_folder_file[1])"
   ]
  },
  {
   "cell_type": "code",
   "execution_count": 17,
   "metadata": {},
   "outputs": [],
   "source": [
    "test_board = g.getInitBoard()\n",
    "test_board[0:3,4]=-1\n",
    "test_board[0:2,5]=1"
   ]
  },
  {
   "cell_type": "code",
   "execution_count": 18,
   "metadata": {},
   "outputs": [
    {
     "data": {
      "text/plain": [
       "array([[ 0,  0,  0,  0, -1,  1,  0,  0,  0],\n",
       "       [ 0,  0,  0,  0, -1,  1,  0,  0,  0],\n",
       "       [ 0,  0,  0,  0, -1,  0,  0,  0,  0],\n",
       "       [ 0,  0,  0,  0,  0,  0,  0,  0,  0]])"
      ]
     },
     "execution_count": 18,
     "metadata": {},
     "output_type": "execute_result"
    }
   ],
   "source": [
    "test_board"
   ]
  },
  {
   "cell_type": "code",
   "execution_count": null,
   "metadata": {},
   "outputs": [],
   "source": [
    "nnet.predict(test_board) # checkpt 1"
   ]
  },
  {
   "cell_type": "code",
   "execution_count": null,
   "metadata": {},
   "outputs": [],
   "source": [
    "nnet.predict(test_board) #checkpt 11"
   ]
  },
  {
   "cell_type": "code",
   "execution_count": null,
   "metadata": {},
   "outputs": [],
   "source": [
    "nnet.predict(test_board) #checkpt 22"
   ]
  },
  {
   "cell_type": "code",
   "execution_count": null,
   "metadata": {},
   "outputs": [],
   "source": [
    "test_board = g.getInitBoard()\n",
    "test_board[2,4] = 1\n",
    "nnet.predict(test_board)"
   ]
  },
  {
   "cell_type": "code",
   "execution_count": null,
   "metadata": {},
   "outputs": [],
   "source": [
    "test_board = g.getInitBoard()\n",
    "test_board[2,4] = -1\n",
    "nnet.predict(test_board)"
   ]
  },
  {
   "cell_type": "code",
   "execution_count": null,
   "metadata": {},
   "outputs": [],
   "source": []
  }
 ],
 "metadata": {
  "kernelspec": {
   "display_name": "Python 3",
   "language": "python",
   "name": "python3"
  },
  "language_info": {
   "codemirror_mode": {
    "name": "ipython",
    "version": 3
   },
   "file_extension": ".py",
   "mimetype": "text/x-python",
   "name": "python",
   "nbconvert_exporter": "python",
   "pygments_lexer": "ipython3",
   "version": "3.7.6"
  }
 },
 "nbformat": 4,
 "nbformat_minor": 4
}
