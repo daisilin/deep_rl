{
 "cells": [
  {
   "cell_type": "code",
   "execution_count": 1,
   "metadata": {},
   "outputs": [
    {
     "data": {
      "text/plain": [
       "<module 'supervised_learning' from '../classes/supervised_learning.py'>"
      ]
     },
     "execution_count": 1,
     "metadata": {},
     "output_type": "execute_result"
    }
   ],
   "source": [
    "import pandas as pd\n",
    "import sys,os,copy,pdb,importlib\n",
    "sys.path.append('../classes')\n",
    "sys.path.append('../analysis')\n",
    "import numpy as np\n",
    "np.set_printoptions(precision=3,suppress=True)\n",
    "import matplotlib.pyplot as plt\n",
    "\n",
    "import tournament_new as tn\n",
    "import create_database as cd\n",
    "importlib.reload(tn)\n",
    "\n",
    "from beck.beck_game import BeckGame as Game\n",
    "from beck.beck_players import HumanBeckPlayer\n",
    "from arena import Arena\n",
    "\n",
    "import mcts\n",
    "\n",
    "importlib.reload(tn)\n",
    "game = Game(4,9,4)\n",
    "all_p = pd.read_pickle(cd.DATABASE_LOC)\n",
    "\n",
    "from pickle import Pickler, Unpickler\n",
    "import pickle\n",
    "\n",
    "# res = tn.merge_res_to_base()\n",
    "tournament_res = pd.read_pickle('/scratch/zz737/fiar/tournaments/ai_all_player_round_robin_base.pkl')\n",
    "\n",
    "from utils import *\n",
    "mctsargs = dotdict({\n",
    "        'numMCTSSims': 100,\n",
    "        'cpuct': 2,\n",
    "        })\n",
    "import supervised_learning as sl\n",
    "from importlib import reload\n",
    "reload(sl)"
   ]
  },
  {
   "cell_type": "code",
   "execution_count": 2,
   "metadata": {},
   "outputs": [],
   "source": [
    "from collections import OrderedDict\n",
    "# aa =OrderedDict({'a':1,'b':2})"
   ]
  },
  {
   "cell_type": "code",
   "execution_count": 11,
   "metadata": {},
   "outputs": [
    {
     "data": {
      "text/plain": [
       "{'lr': 0.001,\n",
       " 'dropout': 0.3,\n",
       " 'epochs': 80,\n",
       " 'batch_size': 64,\n",
       " 'cuda': False,\n",
       " 'num_channels': 256,\n",
       " 'wl2': 0.0001,\n",
       " 'n_res': 15,\n",
       " 'res_ks': 3,\n",
       " 'track_color': True}"
      ]
     },
     "execution_count": 11,
     "metadata": {},
     "output_type": "execute_result"
    }
   ],
   "source": [
    "sl.nnet_dict['res15_color'].args"
   ]
  },
  {
   "cell_type": "code",
   "execution_count": 5,
   "metadata": {
    "scrolled": false
   },
   "outputs": [
    {
     "data": {
      "text/plain": [
       "{'lr': 0.001,\n",
       " 'dropout': 0.3,\n",
       " 'epochs': 80,\n",
       " 'batch_size': 64,\n",
       " 'cuda': False,\n",
       " 'num_channels': 256,\n",
       " 'wl2': 0.0001,\n",
       " 'n_res': 3,\n",
       " 'res_ks': 4}"
      ]
     },
     "execution_count": 5,
     "metadata": {},
     "output_type": "execute_result"
    }
   ],
   "source": [
    "args"
   ]
  },
  {
   "cell_type": "code",
   "execution_count": 73,
   "metadata": {},
   "outputs": [],
   "source": [
    "checkpoint_dir = '/scratch/zz737/fiar/sl/resnet/res15_color_Ex_tournament_6_checkpoints_mcts100_cpuct2_id_1_checkpoint_55'\n",
    "file = 'final'\n",
    "args = pickle.load(open(os.path.join(checkpoint_dir,'args.p'),'rb'))\n",
    "on_c = sl.OthelloNNet_resnet(game, args)\n",
    "nnet_c = sl.NNetWrapper_color(game,nnet=on_c,args=args)\n",
    "nnet_c.load_checkpoint(checkpoint_dir, file+'.pth.tar')"
   ]
  },
  {
   "cell_type": "code",
   "execution_count": 64,
   "metadata": {},
   "outputs": [],
   "source": [
    "checkpoint_dir = '/scratch/zz737/fiar/tournaments/tournament_8/checkpoints_mcts100_cpuct2_id_res9-0'\n",
    "file = 'checkpoint_36'\n",
    "# checkpoint_dir = '/scratch/zz737/fiar/sl/resnet/res15_color_Ex_tournament_6_checkpoints_mcts100_cpuct2_id_1_checkpoint_55'\n",
    "# file = 'final'\n",
    "# args = pickle.load(open(os.path.join(checkpoint_dir,'args.p'),'rb'))\n",
    "# on = sl.OthelloNNet_resnet(game, sl.get_args(n_res=15, epochs=10, num_channels=256))\n",
    "# on = sl.OthelloNNet_resnet(game, args)\n",
    "on = sl.OthelloNNet_resnet(game, sl.get_args(n_res=9, epochs=10, num_channels=256, kernel_size=3))\n",
    "# nnet = sl.NNetWrapper_color(game,nnet=on,args=args)\n",
    "nnet = sl.NNetWrapper(game,nnet=on,args=args)\n",
    "nnet.load_checkpoint(checkpoint_dir, file+'.pth.tar')"
   ]
  },
  {
   "cell_type": "code",
   "execution_count": 237,
   "metadata": {},
   "outputs": [],
   "source": [
    "select_row_by_id = lambda id,df:df.loc[df['id']==id].iloc[0]\n",
    "# p2_id = 'tournament_1;mcts100;cpuct2;best'\n",
    "p2_id = 'tournament_6;mcts100;cpuct2;id-1;best'\n",
    "p2_row = select_row_by_id(p2_id,all_p)\n",
    "p2,p2_val,p2_tree = tn.get_player(game, p2_row, temp=1/10,deterministic=False)\n",
    "p2_tree = mcts.MCTS_select_value(game,p2_val,mctsargs)"
   ]
  },
  {
   "cell_type": "code",
   "execution_count": 35,
   "metadata": {
    "scrolled": true
   },
   "outputs": [
    {
     "data": {
      "text/plain": [
       "{'lr': 0.001,\n",
       " 'dropout': 0.3,\n",
       " 'epochs': 10,\n",
       " 'batch_size': 64,\n",
       " 'cuda': False,\n",
       " 'num_channels': 256,\n",
       " 'wl2': 0.0001,\n",
       " 'n_res': 9,\n",
       " 'res_ks': 3,\n",
       " 'track_color': True}"
      ]
     },
     "execution_count": 35,
     "metadata": {},
     "output_type": "execute_result"
    }
   ],
   "source": [
    "pickle.load(open('/scratch/zz737/fiar/tournaments/tournament_9/checkpoints_mcts100_cpuct2_id_res9-0/args.p','rb'))\n"
   ]
  },
  {
   "cell_type": "code",
   "execution_count": 164,
   "metadata": {},
   "outputs": [
    {
     "data": {
      "text/plain": [
       "<module 'mcts' from '../classes/mcts.py'>"
      ]
     },
     "execution_count": 164,
     "metadata": {},
     "output_type": "execute_result"
    }
   ],
   "source": [
    "reload(mcts)\n",
    "# mctsargs['w_count'] = 0.5\n",
    "# tree_value = mcts.MCTS_select_value(game,nnet,mctsargs)"
   ]
  },
  {
   "cell_type": "code",
   "execution_count": 77,
   "metadata": {
    "scrolled": true
   },
   "outputs": [
    {
     "name": "stdout",
     "output_type": "stream",
     "text": [
      "Turn  1 Player  1\n",
      "   0 1 2 3 4 5 6 7 8 \n",
      "-----------------------\n",
      "0 |- - - - - - - - - |\n",
      "1 |- - - - - - - - - |\n",
      "2 |- - - - - - - - - |\n",
      "3 |- - - - - - - - - |\n",
      "-----------------------\n",
      "Turn  2 Player  -1\n",
      "   0 1 2 3 4 5 6 7 8 \n",
      "-----------------------\n",
      "0 |- - - - - - - - - |\n",
      "1 |- - - - - O - - - |\n",
      "2 |- - - - - - - - - |\n",
      "3 |- - - - - - - - - |\n",
      "-----------------------\n",
      "Turn  3 Player  1\n",
      "   0 1 2 3 4 5 6 7 8 \n",
      "-----------------------\n",
      "0 |- - - - - - - - - |\n",
      "1 |- - - - - O - - - |\n",
      "2 |- - - - - - - - - |\n",
      "3 |- - - - - - X - - |\n",
      "-----------------------\n",
      "Turn  4 Player  -1\n",
      "   0 1 2 3 4 5 6 7 8 \n",
      "-----------------------\n",
      "0 |- - - - - - - - - |\n",
      "1 |- - - - O O - - - |\n",
      "2 |- - - - - - - - - |\n",
      "3 |- - - - - - X - - |\n",
      "-----------------------\n",
      "Turn  5 Player  1\n",
      "   0 1 2 3 4 5 6 7 8 \n",
      "-----------------------\n",
      "0 |- - - - - - - - - |\n",
      "1 |- - - X O O - - - |\n",
      "2 |- - - - - - - - - |\n",
      "3 |- - - - - - X - - |\n",
      "-----------------------\n",
      "Turn  6 Player  -1\n",
      "   0 1 2 3 4 5 6 7 8 \n",
      "-----------------------\n",
      "0 |- - - - - - - - - |\n",
      "1 |- - - X O O O - - |\n",
      "2 |- - - - - - - - - |\n",
      "3 |- - - - - - X - - |\n",
      "-----------------------\n",
      "Turn  7 Player  1\n",
      "   0 1 2 3 4 5 6 7 8 \n",
      "-----------------------\n",
      "0 |- - - - - - - - - |\n",
      "1 |- - - X O O O X - |\n",
      "2 |- - - - - - - - - |\n",
      "3 |- - - - - - X - - |\n",
      "-----------------------\n",
      "Turn  8 Player  -1\n",
      "   0 1 2 3 4 5 6 7 8 \n",
      "-----------------------\n",
      "0 |- - - - - - - - - |\n",
      "1 |- - - X O O O X - |\n",
      "2 |- - - - O - - - - |\n",
      "3 |- - - - - - X - - |\n",
      "-----------------------\n",
      "Turn  9 Player  1\n",
      "   0 1 2 3 4 5 6 7 8 \n",
      "-----------------------\n",
      "0 |- - - - X - - - - |\n",
      "1 |- - - X O O O X - |\n",
      "2 |- - - - O - - - - |\n",
      "3 |- - - - - - X - - |\n",
      "-----------------------\n",
      "Turn  10 Player  -1\n",
      "   0 1 2 3 4 5 6 7 8 \n",
      "-----------------------\n",
      "0 |- - - - X - - - - |\n",
      "1 |- - - X O O O X - |\n",
      "2 |- - - - O O - - - |\n",
      "3 |- - - - - - X - - |\n",
      "-----------------------\n",
      "Turn  11 Player  1\n",
      "   0 1 2 3 4 5 6 7 8 \n",
      "-----------------------\n",
      "0 |- - - - X - - - - |\n",
      "1 |- - - X O O O X - |\n",
      "2 |- - - - O O X - - |\n",
      "3 |- - - - - - X - - |\n",
      "-----------------------\n",
      "Turn  12 Player  -1\n",
      "   0 1 2 3 4 5 6 7 8 \n",
      "-----------------------\n",
      "0 |- - - - X - - - - |\n",
      "1 |- - - X O O O X - |\n",
      "2 |- - - - O O X - - |\n",
      "3 |- - - - O - X - - |\n",
      "-----------------------\n",
      "Turn  13 Player  1\n",
      "   0 1 2 3 4 5 6 7 8 \n",
      "-----------------------\n",
      "0 |- - - - X - - X - |\n",
      "1 |- - - X O O O X - |\n",
      "2 |- - - - O O X - - |\n",
      "3 |- - - - O - X - - |\n",
      "-----------------------\n",
      "Turn  14 Player  -1\n",
      "   0 1 2 3 4 5 6 7 8 \n",
      "-----------------------\n",
      "0 |- - - - X - - X - |\n",
      "1 |- - - X O O O X - |\n",
      "2 |- - - - O O X - - |\n",
      "3 |- - - - O O X - - |\n",
      "-----------------------\n",
      "Turn  15 Player  1\n",
      "   0 1 2 3 4 5 6 7 8 \n",
      "-----------------------\n",
      "0 |- - - - X X - X - |\n",
      "1 |- - - X O O O X - |\n",
      "2 |- - - - O O X - - |\n",
      "3 |- - - - O O X - - |\n",
      "-----------------------\n",
      "Turn  16 Player  -1\n",
      "   0 1 2 3 4 5 6 7 8 \n",
      "-----------------------\n",
      "0 |- - - - X X O X - |\n",
      "1 |- - - X O O O X - |\n",
      "2 |- - - - O O X - - |\n",
      "3 |- - - - O O X - - |\n",
      "-----------------------\n",
      "Turn  17 Player  1\n",
      "   0 1 2 3 4 5 6 7 8 \n",
      "-----------------------\n",
      "0 |- - - - X X O X - |\n",
      "1 |- - - X O O O X - |\n",
      "2 |- - - - O O X - - |\n",
      "3 |- - - X O O X - - |\n",
      "-----------------------\n",
      "Turn  18 Player  -1\n",
      "   0 1 2 3 4 5 6 7 8 \n",
      "-----------------------\n",
      "0 |- - - O X X O X - |\n",
      "1 |- - - X O O O X - |\n",
      "2 |- - - - O O X - - |\n",
      "3 |- - - X O O X - - |\n",
      "-----------------------\n",
      "Turn  19 Player  1\n",
      "   0 1 2 3 4 5 6 7 8 \n",
      "-----------------------\n",
      "0 |- - - O X X O X - |\n",
      "1 |- - - X O O O X - |\n",
      "2 |- - X - O O X - - |\n",
      "3 |- - - X O O X - - |\n",
      "-----------------------\n",
      "Turn  20 Player  -1\n",
      "   0 1 2 3 4 5 6 7 8 \n",
      "-----------------------\n",
      "0 |- - - O X X O X - |\n",
      "1 |- - - X O O O X - |\n",
      "2 |- - X - O O X - - |\n",
      "3 |- O - X O O X - - |\n",
      "-----------------------\n",
      "Turn  21 Player  1\n",
      "   0 1 2 3 4 5 6 7 8 \n",
      "-----------------------\n",
      "0 |- - - O X X O X - |\n",
      "1 |- - - X O O O X - |\n",
      "2 |- - X - O O X X - |\n",
      "3 |- O - X O O X - - |\n",
      "-----------------------\n",
      "Turn  22 Player  -1\n",
      "   0 1 2 3 4 5 6 7 8 \n",
      "-----------------------\n",
      "0 |- - - O X X O X - |\n",
      "1 |- - - X O O O X - |\n",
      "2 |- - X - O O X X - |\n",
      "3 |- O - X O O X O - |\n",
      "-----------------------\n",
      "Turn  23 Player  1\n",
      "   0 1 2 3 4 5 6 7 8 \n",
      "-----------------------\n",
      "0 |- - - O X X O X - |\n",
      "1 |- X - X O O O X - |\n",
      "2 |- - X - O O X X - |\n",
      "3 |- O - X O O X O - |\n",
      "-----------------------\n",
      "Turn  24 Player  -1\n",
      "   0 1 2 3 4 5 6 7 8 \n",
      "-----------------------\n",
      "0 |O - - O X X O X - |\n",
      "1 |- X - X O O O X - |\n",
      "2 |- - X - O O X X - |\n",
      "3 |- O - X O O X O - |\n",
      "-----------------------\n",
      "Turn  25 Player  1\n",
      "   0 1 2 3 4 5 6 7 8 \n",
      "-----------------------\n",
      "0 |O - - O X X O X - |\n",
      "1 |- X X X O O O X - |\n",
      "2 |- - X - O O X X - |\n",
      "3 |- O - X O O X O - |\n",
      "-----------------------\n",
      "Turn  26 Player  -1\n",
      "   0 1 2 3 4 5 6 7 8 \n",
      "-----------------------\n",
      "0 |O - - O X X O X - |\n",
      "1 |O X X X O O O X - |\n",
      "2 |- - X - O O X X - |\n",
      "3 |- O - X O O X O - |\n",
      "-----------------------\n",
      "Turn  27 Player  1\n",
      "   0 1 2 3 4 5 6 7 8 \n",
      "-----------------------\n",
      "0 |O - - O X X O X - |\n",
      "1 |O X X X O O O X - |\n",
      "2 |- - X - O O X X - |\n",
      "3 |- O X X O O X O - |\n",
      "-----------------------\n",
      "Turn  28 Player  -1\n",
      "   0 1 2 3 4 5 6 7 8 \n",
      "-----------------------\n",
      "0 |O - O O X X O X - |\n",
      "1 |O X X X O O O X - |\n",
      "2 |- - X - O O X X - |\n",
      "3 |- O X X O O X O - |\n",
      "-----------------------\n",
      "Turn  29 Player  1\n",
      "   0 1 2 3 4 5 6 7 8 \n",
      "-----------------------\n",
      "0 |O X O O X X O X - |\n",
      "1 |O X X X O O O X - |\n",
      "2 |- - X - O O X X - |\n",
      "3 |- O X X O O X O - |\n",
      "-----------------------\n",
      "Turn  30 Player  -1\n",
      "   0 1 2 3 4 5 6 7 8 \n",
      "-----------------------\n",
      "0 |O X O O X X O X - |\n",
      "1 |O X X X O O O X - |\n",
      "2 |- - X - O O X X - |\n",
      "3 |- O X X O O X O O |\n",
      "-----------------------\n",
      "Turn  31 Player  1\n",
      "   0 1 2 3 4 5 6 7 8 \n",
      "-----------------------\n",
      "0 |O X O O X X O X - |\n",
      "1 |O X X X O O O X - |\n",
      "2 |- - X X O O X X - |\n",
      "3 |- O X X O O X O O |\n",
      "-----------------------\n",
      "Turn  32 Player  -1\n",
      "   0 1 2 3 4 5 6 7 8 \n",
      "-----------------------\n",
      "0 |O X O O X X O X - |\n",
      "1 |O X X X O O O X - |\n",
      "2 |- - X X O O X X - |\n",
      "3 |O O X X O O X O O |\n",
      "-----------------------\n",
      "Turn  33 Player  1\n",
      "   0 1 2 3 4 5 6 7 8 \n",
      "-----------------------\n",
      "0 |O X O O X X O X - |\n",
      "1 |O X X X O O O X - |\n",
      "2 |X - X X O O X X - |\n",
      "3 |O O X X O O X O O |\n",
      "-----------------------\n",
      "Turn  34 Player  -1\n",
      "   0 1 2 3 4 5 6 7 8 \n",
      "-----------------------\n",
      "0 |O X O O X X O X - |\n",
      "1 |O X X X O O O X - |\n",
      "2 |X O X X O O X X - |\n",
      "3 |O O X X O O X O O |\n",
      "-----------------------\n",
      "Turn  35 Player  1\n",
      "   0 1 2 3 4 5 6 7 8 \n",
      "-----------------------\n",
      "0 |O X O O X X O X - |\n",
      "1 |O X X X O O O X - |\n",
      "2 |X O X X O O X X X |\n",
      "3 |O O X X O O X O O |\n",
      "-----------------------\n",
      "Turn  36 Player  -1\n",
      "   0 1 2 3 4 5 6 7 8 \n",
      "-----------------------\n",
      "0 |O X O O X X O X - |\n",
      "1 |O X X X O O O X O |\n",
      "2 |X O X X O O X X X |\n",
      "3 |O O X X O O X O O |\n",
      "-----------------------\n",
      "Game over: Turn  36 Result  0.0001\n",
      "   0 1 2 3 4 5 6 7 8 \n",
      "-----------------------\n",
      "0 |O X O O X X O X X |\n",
      "1 |O X X X O O O X O |\n",
      "2 |X O X X O O X X X |\n",
      "3 |O O X X O O X O O |\n",
      "-----------------------\n"
     ]
    },
    {
     "data": {
      "text/plain": [
       "0.0001"
      ]
     },
     "execution_count": 77,
     "metadata": {},
     "output_type": "execute_result"
    }
   ],
   "source": [
    "p2_tree = tree = mcts.MCTS(game,nnet,mctsargs)\n",
    "# p2_tree = tree_value\n",
    "p2 = lambda x: np.random.choice(np.arange(game.getActionSize()),p=p2_tree.getActionProb(x, temp=1/10))\n",
    "# p2 = lambda x: np.random.choice(np.arange(game.getActionSize()),p=p2_tree.getActionProb(x, temp=1/20))\n",
    "p1_tree  = mcts.MCTS_color(game,nnet_c,mctsargs)\n",
    "p1 = lambda x: np.random.choice(np.arange(game.getActionSize()),p=p1_tree.getActionProb(x, 0,temp=1/10))\n",
    "\n",
    "\n",
    "human_p = HumanBeckPlayer(game)\n",
    "p_human = lambda x:human_p.play(x)\n",
    "\n",
    "# arena = Arena(p2, p1, game, display=game.display,tree1=None,tree2=p2_tree)\n",
    "# arena = Arena(p1, p2, game, display=game.display,tree1=None,tree2=p2_tree)\n",
    "arena = Arena(p2, p1, game, display=game.display,tree1=p1_tree,tree2=p2_tree,track_color=[False,False])\n",
    "# arena = Arena(p1, p2, game, display=game.display,tree1=p1_tree,tree2=p2_tree,track_color=[False,False])\n",
    "# arena = Arena(p_human, p2, game, display=game.display,tree1=None,tree2=p2_tree,track_color=[False,False])\n",
    "# arena = Arena(p1, p_human, game, display=game.display,tree1=p1_tree,tree2=None,track_color=[False,False])\n",
    "# res=arena.playGames(10,verbose=True)\n",
    "arena.playGame(verbose=True)"
   ]
  },
  {
   "cell_type": "code",
   "execution_count": 68,
   "metadata": {},
   "outputs": [
    {
     "data": {
      "text/plain": [
       "array([[-1,  0,  0,  0,  0,  0,  1,  0,  0],\n",
       "       [-1,  0,  0,  0,  0,  1,  0,  0,  0],\n",
       "       [-1,  0,  0, -1,  1,  0,  0,  0,  0],\n",
       "       [ 1,  0,  0, -1,  0,  0,  0,  0,  0]])"
      ]
     },
     "execution_count": 68,
     "metadata": {},
     "output_type": "execute_result"
    }
   ],
   "source": [
    "b_str='''0 |- - - - - - - - X |\n",
    "1 |- - - X - O X O - |\n",
    "2 |- - - - X - O - - |\n",
    "3 |- - - - - O - - - |'''\n",
    "b_str = '''0 |- - - - X O X O X |\n",
    "1 |- - - - X O O O X |\n",
    "2 |- - X - - X O X - |\n",
    "3 |- - - - - O O X O |'''\n",
    "b_str='''0 |- - - - - - - - X |\n",
    "1 |- - - X - O X O - |\n",
    "2 |- - - - X - O - - |\n",
    "3 |- - - - - O - - - |'''\n",
    "b_str ='''0 |O - - - - - X - - |\n",
    "1 |O - - - - X - - - |\n",
    "2 |O - - O X - - - - |\n",
    "3 |X - - O - - - - - |'''\n",
    "b = game.get_board_from_xo_str(b_str)\n",
    "b = -b\n",
    "b_str_rep = b.tostring()\n",
    "b"
   ]
  },
  {
   "cell_type": "code",
   "execution_count": 169,
   "metadata": {},
   "outputs": [],
   "source": [
    "tree_value.refresh()\n",
    "tree_value.args.w_count=0"
   ]
  },
  {
   "cell_type": "code",
   "execution_count": 69,
   "metadata": {
    "scrolled": true
   },
   "outputs": [
    {
     "name": "stdout",
     "output_type": "stream",
     "text": [
      "[[0.    0.01  0.01  0.02  0.101 0.01  0.    0.01  0.01 ]\n",
      " [0.    0.01  0.01  0.02  0.01  0.    0.182 0.01  0.01 ]\n",
      " [0.    0.232 0.232 0.    0.    0.01  0.01  0.01  0.01 ]\n",
      " [0.    0.01  0.01  0.    0.01  0.01  0.01  0.01  0.01 ]]\n"
     ]
    },
    {
     "data": {
      "text/plain": [
       "Text(0.5, 1.0, 'action prob')"
      ]
     },
     "execution_count": 69,
     "metadata": {},
     "output_type": "execute_result"
    },
    {
     "data": {
      "image/png": "[encoded data removed]",
      "text/plain": [
       "<Figure size 432x288 with 1 Axes>"
      ]
     },
     "metadata": {
      "needs_background": "light"
     },
     "output_type": "display_data"
    }
   ],
   "source": [
    "val_func = nnet\n",
    "tree = mcts.MCTS(game,val_func,mctsargs)\n",
    "# tree = tree_value\n",
    "# tree = mcts.MCTS_color(game,val_func,mctsargs)\n",
    "actprob=np.array(tree.getActionProb(b)).reshape(4,9)\n",
    "# actprob = np.array(tree.getActionProb(b,0)).reshape(4,9)\n",
    "print(actprob)\n",
    "plt.imshow(actprob)\n",
    "plt.title('action prob')"
   ]
  },
  {
   "cell_type": "code",
   "execution_count": 122,
   "metadata": {},
   "outputs": [],
   "source": [
    "b[2,4] = 1\n",
    "b=-b\n",
    "b_str_rep = b.tostring()\n"
   ]
  },
  {
   "cell_type": "code",
   "execution_count": 124,
   "metadata": {},
   "outputs": [
    {
     "data": {
      "text/plain": [
       "array([[ 0,  0,  0,  0, -1,  1, -1,  1, -1],\n",
       "       [ 0,  0,  0,  0, -1,  1,  1,  1, -1],\n",
       "       [ 0,  0, -1,  0, -1, -1,  1, -1,  0],\n",
       "       [ 0,  1,  0,  0,  0,  1,  1, -1,  1]])"
      ]
     },
     "execution_count": 124,
     "metadata": {},
     "output_type": "execute_result"
    }
   ],
   "source": [
    "b"
   ]
  },
  {
   "cell_type": "code",
   "execution_count": 171,
   "metadata": {
    "scrolled": false
   },
   "outputs": [
    {
     "data": {
      "text/plain": [
       "(array([0.005, 0.001, 0.002, 0.004, 0.143, 0.447, 0.003, 0.003, 0.001,\n",
       "        0.004, 0.001, 0.001, 0.   , 0.011, 0.001, 0.   , 0.003, 0.001,\n",
       "        0.002, 0.002, 0.002, 0.064, 0.001, 0.178, 0.   , 0.014, 0.014,\n",
       "        0.003, 0.001, 0.001, 0.031, 0.006, 0.002, 0.001, 0.038, 0.007],\n",
       "       dtype=float32),\n",
       " array([0.883], dtype=float32))"
      ]
     },
     "execution_count": 171,
     "metadata": {},
     "output_type": "execute_result"
    }
   ],
   "source": [
    "tree_value.nnet.predict(b)"
   ]
  },
  {
   "cell_type": "code",
   "execution_count": 172,
   "metadata": {},
   "outputs": [],
   "source": [
    "self=tree_value\n",
    "s=b_str_rep\n",
    "counts = np.array([self.Nsa[(s, a)] if (s, a) in self.Nsa else 0 for a in range(self.game.getActionSize())])\n",
    "vals = np.array([self.Qsa[(s, a)] if (s, a) in self.Qsa else np.nan for a in range(self.game.getActionSize())]).astype(np.float32)\n",
    "ps = self.Ps[s]\n",
    "ns = self.Ns[s]"
   ]
  },
  {
   "cell_type": "code",
   "execution_count": 173,
   "metadata": {},
   "outputs": [
    {
     "data": {
      "text/plain": [
       "array([0., 0., 0., 0., 0., 1., 0., 0., 0., 0., 0., 0., 0., 0., 0., 0., 0.,\n",
       "       0., 0., 0., 0., 0., 0., 0., 0., 0., 0., 0., 0., 0., 0., 0., 0., 0.,\n",
       "       0., 0.])"
      ]
     },
     "execution_count": 173,
     "metadata": {},
     "output_type": "execute_result"
    }
   ],
   "source": [
    "counts ** (10) /(counts ** (10)).sum()"
   ]
  },
  {
   "cell_type": "code",
   "execution_count": 174,
   "metadata": {
    "scrolled": true
   },
   "outputs": [
    {
     "data": {
      "text/plain": [
       "Text(0.5, 1.0, 'policy')"
      ]
     },
     "execution_count": 174,
     "metadata": {},
     "output_type": "execute_result"
    },
    {
     "data": {
      "image/png": "[encoded data removed]",
      "text/plain": [
       "<Figure size 432x288 with 1 Axes>"
      ]
     },
     "metadata": {
      "needs_background": "light"
     },
     "output_type": "display_data"
    }
   ],
   "source": [
    "plt.imshow(ps.reshape(4,9))\n",
    "plt.title('policy')"
   ]
  },
  {
   "cell_type": "code",
   "execution_count": 127,
   "metadata": {},
   "outputs": [
    {
     "data": {
      "text/plain": [
       "array([[0, 0, 0, 0, 0, 0, 0, 0, 0],\n",
       "       [0, 0, 0, 0, 0, 0, 0, 0, 0],\n",
       "       [0, 0, 0, 0, 0, 0, 0, 0, 0],\n",
       "       [0, 0, 0, 0, 0, 0, 0, 0, 0]])"
      ]
     },
     "execution_count": 127,
     "metadata": {},
     "output_type": "execute_result"
    }
   ],
   "source": [
    "counts.reshape(4,9)"
   ]
  },
  {
   "cell_type": "code",
   "execution_count": 55,
   "metadata": {},
   "outputs": [
    {
     "data": {
      "text/plain": [
       "array([[0.   , 0.   , 0.   , 0.   , 0.   , 0.   , 0.   , 0.   , 0.   ],\n",
       "       [0.   , 0.   , 0.   , 0.   , 0.01 , 0.   , 0.004, 0.   , 0.   ],\n",
       "       [0.   , 0.   , 0.977, 0.   , 0.   , 0.01 , 0.   , 0.   , 0.   ],\n",
       "       [0.   , 0.   , 0.   , 0.   , 0.   , 0.   , 0.   , 0.   , 0.   ]],\n",
       "      dtype=float32)"
      ]
     },
     "execution_count": 55,
     "metadata": {},
     "output_type": "execute_result"
    }
   ],
   "source": [
    "import scipy\n",
    "vals[np.isnan(vals)]=-1000\n",
    "scipy.special.softmax(vals * 30).reshape(4,9)"
   ]
  },
  {
   "cell_type": "code",
   "execution_count": 175,
   "metadata": {},
   "outputs": [
    {
     "data": {
      "text/plain": [
       "Text(0.5, 1.0, 'final value')"
      ]
     },
     "execution_count": 175,
     "metadata": {},
     "output_type": "execute_result"
    },
    {
     "data": {
      "image/png": "[encoded data removed]",
      "text/plain": [
       "<Figure size 432x288 with 2 Axes>"
      ]
     },
     "metadata": {
      "needs_background": "light"
     },
     "output_type": "display_data"
    }
   ],
   "source": [
    "plt.imshow(vals.reshape(4,9))\n",
    "plt.colorbar()\n",
    "plt.title('final value')"
   ]
  },
  {
   "cell_type": "code",
   "execution_count": 153,
   "metadata": {},
   "outputs": [
    {
     "data": {
      "text/plain": [
       "(array([0.   , 0.005, 0.004, 0.002, 0.   , 0.   , 0.001, 0.   , 0.   ,\n",
       "        0.   , 0.001, 0.001, 0.001, 0.   , 0.   , 0.   , 0.   , 0.   ,\n",
       "        0.003, 0.01 , 0.   , 0.787, 0.   , 0.   , 0.001, 0.   , 0.093,\n",
       "        0.008, 0.006, 0.01 , 0.001, 0.003, 0.052, 0.   , 0.   , 0.01 ],\n",
       "       dtype=float32),\n",
       " array([-0.92], dtype=float32))"
      ]
     },
     "execution_count": 153,
     "metadata": {},
     "output_type": "execute_result"
    }
   ],
   "source": [
    "b_copy = copy.copy(b)\n",
    "b_copy[-1,1]=0\n",
    "b_copy[-1,-1]=0\n",
    "b_copy[-1,-4]=0\n",
    "nnet.predict(b_copy)"
   ]
  },
  {
   "cell_type": "code",
   "execution_count": 19,
   "metadata": {},
   "outputs": [
    {
     "data": {
      "text/plain": [
       "array([[0.   , 0.002, 0.01 , 0.042, 0.316, 0.016, 0.001, 0.01 , 0.006],\n",
       "       [0.001, 0.025, 0.015, 0.096, 0.042, 0.001, 0.056, 0.012, 0.01 ],\n",
       "       [0.005, 0.076, 0.063, 0.001, 0.001, 0.03 , 0.036, 0.009, 0.014],\n",
       "       [0.001, 0.009, 0.011, 0.002, 0.027, 0.01 , 0.011, 0.016, 0.017]],\n",
       "      dtype=float32)"
      ]
     },
     "execution_count": 19,
     "metadata": {},
     "output_type": "execute_result"
    }
   ],
   "source": [
    "\n",
    "val_func.predict(b)[0].reshape(4,9)"
   ]
  },
  {
   "cell_type": "code",
   "execution_count": 41,
   "metadata": {},
   "outputs": [
    {
     "data": {
      "text/plain": [
       "array([[[1, 1, 1, 1, 1, 1, 1, 1, 1],\n",
       "        [1, 1, 1, 1, 1, 1, 1, 1, 1],\n",
       "        [1, 1, 1, 1, 1, 1, 1, 1, 1],\n",
       "        [1, 1, 1, 1, 1, 1, 1, 1, 1]],\n",
       "\n",
       "       [[2, 2, 2, 2, 2, 2, 2, 2, 2],\n",
       "        [2, 2, 2, 2, 2, 2, 2, 2, 2],\n",
       "        [2, 2, 2, 2, 2, 2, 2, 2, 2],\n",
       "        [2, 2, 2, 2, 2, 2, 2, 2, 2]],\n",
       "\n",
       "       [[3, 3, 3, 3, 3, 3, 3, 3, 3],\n",
       "        [3, 3, 3, 3, 3, 3, 3, 3, 3],\n",
       "        [3, 3, 3, 3, 3, 3, 3, 3, 3],\n",
       "        [3, 3, 3, 3, 3, 3, 3, 3, 3]]])"
      ]
     },
     "execution_count": 41,
     "metadata": {},
     "output_type": "execute_result"
    }
   ],
   "source": [
    "np.full((4,9,3),np.array([1,2,3])).swapaxes(0,-1).swapaxes(1,2)"
   ]
  },
  {
   "cell_type": "code",
   "execution_count": 92,
   "metadata": {},
   "outputs": [],
   "source": [
    "reload(sl)\n",
    "onet = sl.OthelloNNet_resnet(game,sl.get_args(n_res=3,track_color=True, nepochs=80))"
   ]
  },
  {
   "cell_type": "code",
   "execution_count": 93,
   "metadata": {},
   "outputs": [],
   "source": [
    "import beck.beck_nnet as bb\n",
    "reload(bb)\n",
    "nn = bb.NNetWrapper_color\n",
    "nnet = nn(game,nnet=onet)\n",
    "# onet.model.predict([b[None,:,:]])"
   ]
  },
  {
   "cell_type": "code",
   "execution_count": 91,
   "metadata": {},
   "outputs": [
    {
     "data": {
      "text/plain": [
       "{'lr': 0.001,\n",
       " 'dropout': 0.3,\n",
       " 'epochs': 200,\n",
       " 'batch_size': 64,\n",
       " 'cuda': False,\n",
       " 'num_channels': 512,\n",
       " 'wl2': 0.0001,\n",
       " 'n_res': 3,\n",
       " 'res_ks': 3,\n",
       " 'track_color': True}"
      ]
     },
     "execution_count": 91,
     "metadata": {},
     "output_type": "execute_result"
    }
   ],
   "source": [
    "nnet.args"
   ]
  },
  {
   "cell_type": "code",
   "execution_count": 90,
   "metadata": {},
   "outputs": [
    {
     "name": "stdout",
     "output_type": "stream",
     "text": [
      "Epoch 1/200\n",
      "1/1 [==============================] - 0s 1ms/step - loss: 5.1999 - pi_loss: 4.0232 - v_loss: 0.8571\n",
      "Epoch 2/200\n",
      "1/1 [==============================] - 0s 1ms/step - loss: 2.7994 - pi_loss: 2.3045 - v_loss: 0.1741\n",
      "Epoch 3/200\n",
      "1/1 [==============================] - 0s 972us/step - loss: 2.0548 - pi_loss: 1.6945 - v_loss: 0.0371\n",
      "Epoch 4/200\n",
      "1/1 [==============================] - 0s 1ms/step - loss: 1.9625 - pi_loss: 1.6204 - v_loss: 0.0163\n",
      "Epoch 5/200\n",
      "1/1 [==============================] - 0s 1ms/step - loss: 1.9027 - pi_loss: 1.5651 - v_loss: 0.0089\n",
      "Epoch 6/200\n",
      "1/1 [==============================] - 0s 1ms/step - loss: 1.8557 - pi_loss: 1.5189 - v_loss: 0.0054\n",
      "Epoch 7/200\n",
      "1/1 [==============================] - 0s 1ms/step - loss: 1.8207 - pi_loss: 1.4831 - v_loss: 0.0035\n",
      "Epoch 8/200\n",
      "1/1 [==============================] - 0s 1ms/step - loss: 1.7943 - pi_loss: 1.4553 - v_loss: 0.0024\n",
      "Epoch 9/200\n",
      "1/1 [==============================] - 0s 1ms/step - loss: 1.7721 - pi_loss: 1.4314 - v_loss: 0.0017\n",
      "Epoch 10/200\n",
      "1/1 [==============================] - 0s 1ms/step - loss: 1.7523 - pi_loss: 1.4099 - v_loss: 0.0012\n",
      "Epoch 11/200\n",
      "1/1 [==============================] - 0s 1ms/step - loss: 1.7351 - pi_loss: 1.3908 - v_loss: 9.0007e-04\n",
      "Epoch 12/200\n",
      "1/1 [==============================] - 0s 1ms/step - loss: 1.7198 - pi_loss: 1.3738 - v_loss: 6.7439e-04\n",
      "Epoch 13/200\n",
      "1/1 [==============================] - 0s 1ms/step - loss: 1.7061 - pi_loss: 1.3584 - v_loss: 5.1579e-04\n",
      "Epoch 14/200\n",
      "1/1 [==============================] - 0s 1ms/step - loss: 1.6935 - pi_loss: 1.3443 - v_loss: 4.0463e-04\n",
      "Epoch 15/200\n",
      "1/1 [==============================] - 0s 1ms/step - loss: 1.6820 - pi_loss: 1.3312 - v_loss: 3.2411e-04\n",
      "Epoch 16/200\n",
      "1/1 [==============================] - 0s 1ms/step - loss: 1.6713 - pi_loss: 1.3191 - v_loss: 2.6420e-04\n",
      "Epoch 17/200\n",
      "1/1 [==============================] - 0s 1ms/step - loss: 1.6614 - pi_loss: 1.3079 - v_loss: 2.1903e-04\n",
      "Epoch 18/200\n",
      "1/1 [==============================] - 0s 1ms/step - loss: 1.6523 - pi_loss: 1.2976 - v_loss: 1.8451e-04\n",
      "Epoch 19/200\n",
      "1/1 [==============================] - 0s 1ms/step - loss: 1.6440 - pi_loss: 1.2882 - v_loss: 1.5754e-04\n",
      "Epoch 20/200\n",
      "1/1 [==============================] - 0s 1ms/step - loss: 1.6363 - pi_loss: 1.2795 - v_loss: 1.3626e-04\n",
      "Epoch 21/200\n",
      "1/1 [==============================] - 0s 1ms/step - loss: 1.6292 - pi_loss: 1.2715 - v_loss: 1.1872e-04\n",
      "Epoch 22/200\n",
      "1/1 [==============================] - 0s 1ms/step - loss: 1.6225 - pi_loss: 1.2639 - v_loss: 1.0453e-04\n",
      "Epoch 23/200\n",
      "1/1 [==============================] - 0s 1ms/step - loss: 1.6161 - pi_loss: 1.2567 - v_loss: 9.2914e-05\n",
      "Epoch 24/200\n",
      "1/1 [==============================] - 0s 1ms/step - loss: 1.6100 - pi_loss: 1.2499 - v_loss: 8.3276e-05\n",
      "Epoch 25/200\n",
      "1/1 [==============================] - 0s 1ms/step - loss: 1.6042 - pi_loss: 1.2435 - v_loss: 7.5227e-05\n",
      "Epoch 26/200\n",
      "1/1 [==============================] - 0s 1ms/step - loss: 1.5987 - pi_loss: 1.2374 - v_loss: 6.8456e-05\n",
      "Epoch 27/200\n",
      "1/1 [==============================] - 0s 985us/step - loss: 1.5936 - pi_loss: 1.2318 - v_loss: 6.2726e-05\n",
      "Epoch 28/200\n",
      "1/1 [==============================] - 0s 1ms/step - loss: 1.5888 - pi_loss: 1.2265 - v_loss: 5.7842e-05\n",
      "Epoch 29/200\n",
      "1/1 [==============================] - 0s 1ms/step - loss: 1.5842 - pi_loss: 1.2215 - v_loss: 5.3649e-05\n",
      "Epoch 30/200\n",
      "1/1 [==============================] - 0s 1ms/step - loss: 1.5799 - pi_loss: 1.2168 - v_loss: 5.0028e-05\n",
      "Epoch 31/200\n",
      "1/1 [==============================] - 0s 1ms/step - loss: 1.5758 - pi_loss: 1.2124 - v_loss: 4.6894e-05\n",
      "Epoch 32/200\n",
      "1/1 [==============================] - 0s 1ms/step - loss: 1.5719 - pi_loss: 1.2082 - v_loss: 4.4157e-05\n",
      "Epoch 33/200\n",
      "1/1 [==============================] - 0s 1ms/step - loss: 1.5682 - pi_loss: 1.2043 - v_loss: 4.1751e-05\n",
      "Epoch 34/200\n",
      "1/1 [==============================] - 0s 1ms/step - loss: 1.5647 - pi_loss: 1.2005 - v_loss: 3.9630e-05\n",
      "Epoch 35/200\n",
      "1/1 [==============================] - 0s 1ms/step - loss: 1.5614 - pi_loss: 1.1970 - v_loss: 3.7755e-05\n",
      "Epoch 36/200\n",
      "1/1 [==============================] - 0s 1ms/step - loss: 1.5582 - pi_loss: 1.1937 - v_loss: 3.6090e-05\n",
      "Epoch 37/200\n",
      "1/1 [==============================] - 0s 1ms/step - loss: 1.5552 - pi_loss: 1.1905 - v_loss: 3.4607e-05\n",
      "Epoch 38/200\n",
      "1/1 [==============================] - 0s 1ms/step - loss: 1.5523 - pi_loss: 1.1875 - v_loss: 3.3286e-05\n",
      "Epoch 39/200\n",
      "1/1 [==============================] - 0s 1ms/step - loss: 1.5495 - pi_loss: 1.1846 - v_loss: 3.2108e-05\n",
      "Epoch 40/200\n",
      "1/1 [==============================] - 0s 1ms/step - loss: 1.5469 - pi_loss: 1.1819 - v_loss: 3.1057e-05\n",
      "Epoch 41/200\n",
      "1/1 [==============================] - 0s 1ms/step - loss: 1.5444 - pi_loss: 1.1793 - v_loss: 3.0113e-05\n",
      "Epoch 42/200\n",
      "1/1 [==============================] - 0s 1ms/step - loss: 1.5420 - pi_loss: 1.1769 - v_loss: 2.9265e-05\n",
      "Epoch 43/200\n",
      "1/1 [==============================] - 0s 1ms/step - loss: 1.5397 - pi_loss: 1.1746 - v_loss: 2.8500e-05\n",
      "Epoch 44/200\n",
      "1/1 [==============================] - 0s 1ms/step - loss: 1.5376 - pi_loss: 1.1724 - v_loss: 2.7813e-05\n",
      "Epoch 45/200\n",
      "1/1 [==============================] - 0s 1ms/step - loss: 1.5355 - pi_loss: 1.1703 - v_loss: 2.7194e-05\n",
      "Epoch 46/200\n",
      "1/1 [==============================] - 0s 1ms/step - loss: 1.5335 - pi_loss: 1.1684 - v_loss: 2.6633e-05\n",
      "Epoch 47/200\n",
      "1/1 [==============================] - 0s 1ms/step - loss: 1.5316 - pi_loss: 1.1665 - v_loss: 2.6126e-05\n",
      "Epoch 48/200\n",
      "1/1 [==============================] - 0s 1ms/step - loss: 1.5298 - pi_loss: 1.1647 - v_loss: 2.5665e-05\n",
      "Epoch 49/200\n",
      "1/1 [==============================] - 0s 1ms/step - loss: 1.5281 - pi_loss: 1.1630 - v_loss: 2.5247e-05\n",
      "Epoch 50/200\n",
      "1/1 [==============================] - 0s 1ms/step - loss: 1.5264 - pi_loss: 1.1613 - v_loss: 2.4868e-05\n",
      "Epoch 51/200\n",
      "1/1 [==============================] - 0s 1ms/step - loss: 1.5248 - pi_loss: 1.1598 - v_loss: 2.4519e-05\n",
      "Epoch 52/200\n",
      "1/1 [==============================] - 0s 993us/step - loss: 1.5233 - pi_loss: 1.1583 - v_loss: 2.4203e-05\n",
      "Epoch 53/200\n",
      "1/1 [==============================] - 0s 1ms/step - loss: 1.5218 - pi_loss: 1.1569 - v_loss: 2.3911e-05\n",
      "Epoch 54/200\n",
      "1/1 [==============================] - 0s 1ms/step - loss: 1.5204 - pi_loss: 1.1556 - v_loss: 2.3643e-05\n",
      "Epoch 55/200\n",
      "1/1 [==============================] - 0s 1ms/step - loss: 1.5190 - pi_loss: 1.1543 - v_loss: 2.3396e-05\n",
      "Epoch 56/200\n",
      "1/1 [==============================] - 0s 1ms/step - loss: 1.5177 - pi_loss: 1.1531 - v_loss: 2.3167e-05\n",
      "Epoch 57/200\n",
      "1/1 [==============================] - 0s 1ms/step - loss: 1.5165 - pi_loss: 1.1519 - v_loss: 2.2955e-05\n",
      "Epoch 58/200\n",
      "1/1 [==============================] - 0s 1ms/step - loss: 1.5153 - pi_loss: 1.1508 - v_loss: 2.2755e-05\n",
      "Epoch 59/200\n",
      "1/1 [==============================] - 0s 1ms/step - loss: 1.5141 - pi_loss: 1.1497 - v_loss: 2.2565e-05\n",
      "Epoch 60/200\n",
      "1/1 [==============================] - 0s 1ms/step - loss: 1.5130 - pi_loss: 1.1487 - v_loss: 2.2390e-05\n",
      "Epoch 61/200\n",
      "1/1 [==============================] - 0s 1ms/step - loss: 1.5119 - pi_loss: 1.1477 - v_loss: 2.2226e-05\n",
      "Epoch 62/200\n",
      "1/1 [==============================] - 0s 960us/step - loss: 1.5108 - pi_loss: 1.1467 - v_loss: 2.2075e-05\n",
      "Epoch 63/200\n",
      "1/1 [==============================] - 0s 1ms/step - loss: 1.5098 - pi_loss: 1.1458 - v_loss: 2.1933e-05\n",
      "Epoch 64/200\n",
      "1/1 [==============================] - 0s 1ms/step - loss: 1.5088 - pi_loss: 1.1450 - v_loss: 2.1803e-05\n",
      "Epoch 65/200\n",
      "1/1 [==============================] - 0s 1ms/step - loss: 1.5079 - pi_loss: 1.1441 - v_loss: 2.1680e-05\n",
      "Epoch 66/200\n",
      "1/1 [==============================] - 0s 1ms/step - loss: 1.5070 - pi_loss: 1.1433 - v_loss: 2.1570e-05\n",
      "Epoch 67/200\n",
      "1/1 [==============================] - 0s 1ms/step - loss: 1.5061 - pi_loss: 1.1425 - v_loss: 2.1465e-05\n",
      "Epoch 68/200\n",
      "1/1 [==============================] - 0s 1ms/step - loss: 1.5052 - pi_loss: 1.1418 - v_loss: 2.1367e-05\n",
      "Epoch 69/200\n",
      "1/1 [==============================] - 0s 1ms/step - loss: 1.5044 - pi_loss: 1.1411 - v_loss: 2.1276e-05\n",
      "Epoch 70/200\n",
      "1/1 [==============================] - 0s 1ms/step - loss: 1.5036 - pi_loss: 1.1404 - v_loss: 2.1188e-05\n",
      "Epoch 71/200\n",
      "1/1 [==============================] - 0s 1ms/step - loss: 1.5028 - pi_loss: 1.1397 - v_loss: 2.1106e-05\n",
      "Epoch 72/200\n",
      "1/1 [==============================] - 0s 1ms/step - loss: 1.5020 - pi_loss: 1.1391 - v_loss: 2.1027e-05\n",
      "Epoch 73/200\n",
      "1/1 [==============================] - 0s 1ms/step - loss: 1.5013 - pi_loss: 1.1384 - v_loss: 2.0951e-05\n",
      "Epoch 74/200\n",
      "1/1 [==============================] - 0s 1ms/step - loss: 1.5006 - pi_loss: 1.1378 - v_loss: 2.0884e-05\n",
      "Epoch 75/200\n",
      "1/1 [==============================] - 0s 1ms/step - loss: 1.4999 - pi_loss: 1.1373 - v_loss: 2.0811e-05\n",
      "Epoch 76/200\n",
      "1/1 [==============================] - 0s 1ms/step - loss: 1.4992 - pi_loss: 1.1367 - v_loss: 2.0745e-05\n",
      "Epoch 77/200\n",
      "1/1 [==============================] - 0s 1ms/step - loss: 1.4985 - pi_loss: 1.1361 - v_loss: 2.0678e-05\n",
      "Epoch 78/200\n",
      "1/1 [==============================] - 0s 1ms/step - loss: 1.4978 - pi_loss: 1.1356 - v_loss: 2.0613e-05\n",
      "Epoch 79/200\n",
      "1/1 [==============================] - 0s 1ms/step - loss: 1.4972 - pi_loss: 1.1351 - v_loss: 2.0550e-05\n",
      "Epoch 80/200\n",
      "1/1 [==============================] - 0s 1ms/step - loss: 1.4966 - pi_loss: 1.1346 - v_loss: 2.0487e-05\n",
      "Epoch 81/200\n",
      "1/1 [==============================] - 0s 1ms/step - loss: 1.4960 - pi_loss: 1.1341 - v_loss: 2.0440e-05\n",
      "Epoch 82/200\n",
      "1/1 [==============================] - 0s 1ms/step - loss: 1.4954 - pi_loss: 1.1337 - v_loss: 2.0387e-05\n",
      "Epoch 83/200\n",
      "1/1 [==============================] - 0s 1ms/step - loss: 1.4948 - pi_loss: 1.1332 - v_loss: 2.0329e-05\n",
      "Epoch 84/200\n",
      "1/1 [==============================] - 0s 1ms/step - loss: 1.4943 - pi_loss: 1.1328 - v_loss: 2.0267e-05\n",
      "Epoch 85/200\n",
      "1/1 [==============================] - 0s 1ms/step - loss: 1.4937 - pi_loss: 1.1324 - v_loss: 2.0199e-05\n",
      "Epoch 86/200\n",
      "1/1 [==============================] - 0s 1ms/step - loss: 1.4932 - pi_loss: 1.1320 - v_loss: 2.0125e-05\n",
      "Epoch 87/200\n",
      "1/1 [==============================] - 0s 1ms/step - loss: 1.4927 - pi_loss: 1.1316 - v_loss: 2.0049e-05\n",
      "Epoch 88/200\n",
      "1/1 [==============================] - 0s 1ms/step - loss: 1.4921 - pi_loss: 1.1312 - v_loss: 1.9966e-05\n",
      "Epoch 89/200\n",
      "1/1 [==============================] - 0s 1ms/step - loss: 1.4916 - pi_loss: 1.1308 - v_loss: 1.9879e-05\n",
      "Epoch 90/200\n",
      "1/1 [==============================] - 0s 1ms/step - loss: 1.4911 - pi_loss: 1.1305 - v_loss: 1.9788e-05\n",
      "Epoch 91/200\n",
      "1/1 [==============================] - 0s 1ms/step - loss: 1.4907 - pi_loss: 1.1301 - v_loss: 1.9699e-05\n",
      "Epoch 92/200\n",
      "1/1 [==============================] - 0s 1ms/step - loss: 1.4902 - pi_loss: 1.1298 - v_loss: 1.9613e-05\n",
      "Epoch 93/200\n",
      "1/1 [==============================] - 0s 1ms/step - loss: 1.4897 - pi_loss: 1.1294 - v_loss: 1.9520e-05\n",
      "Epoch 94/200\n",
      "1/1 [==============================] - ETA: 0s - loss: 1.4893 - pi_loss: 1.1291 - v_loss: 1.9429e-05"
     ]
    },
    {
     "ename": "KeyboardInterrupt",
     "evalue": "",
     "output_type": "error",
     "traceback": [
      "\u001b[0;31m---------------------------------------------------------------------------\u001b[0m",
      "\u001b[0;31mKeyboardInterrupt\u001b[0m                         Traceback (most recent call last)",
      "\u001b[0;32m<ipython-input-90-063804b3c3cd>\u001b[0m in \u001b[0;36m<module>\u001b[0;34m\u001b[0m\n\u001b[1;32m      1\u001b[0m \u001b[0;31m# nnet.predict_batch(b[None,:],[0])\u001b[0m\u001b[0;34m\u001b[0m\u001b[0;34m\u001b[0m\u001b[0;34m\u001b[0m\u001b[0m\n\u001b[0;32m----> 2\u001b[0;31m \u001b[0mnnet\u001b[0m\u001b[0;34m.\u001b[0m\u001b[0mtrain\u001b[0m\u001b[0;34m(\u001b[0m\u001b[0mte\u001b[0m\u001b[0;34m[\u001b[0m\u001b[0;34m:\u001b[0m\u001b[0;36m1\u001b[0m\u001b[0;34m]\u001b[0m\u001b[0;34m)\u001b[0m\u001b[0;34m\u001b[0m\u001b[0;34m\u001b[0m\u001b[0m\n\u001b[0m",
      "\u001b[0;32m~/projects/fiar/4IAR-RL/classes/beck/beck_nnet.py\u001b[0m in \u001b[0;36mtrain\u001b[0;34m(self, examples)\u001b[0m\n\u001b[1;32m    131\u001b[0m         \u001b[0mtarget_vs\u001b[0m \u001b[0;34m=\u001b[0m \u001b[0mnp\u001b[0m\u001b[0;34m.\u001b[0m\u001b[0masarray\u001b[0m\u001b[0;34m(\u001b[0m\u001b[0mtarget_vs\u001b[0m\u001b[0;34m)\u001b[0m\u001b[0;34m\u001b[0m\u001b[0;34m\u001b[0m\u001b[0m\n\u001b[1;32m    132\u001b[0m         \u001b[0mcolor_input\u001b[0m \u001b[0;34m=\u001b[0m \u001b[0mnp\u001b[0m\u001b[0;34m.\u001b[0m\u001b[0mfull\u001b[0m\u001b[0;34m(\u001b[0m\u001b[0;34m(\u001b[0m\u001b[0mself\u001b[0m\u001b[0;34m.\u001b[0m\u001b[0mboard_x\u001b[0m\u001b[0;34m,\u001b[0m\u001b[0mself\u001b[0m\u001b[0;34m.\u001b[0m\u001b[0mboard_y\u001b[0m\u001b[0;34m,\u001b[0m\u001b[0mlen\u001b[0m\u001b[0;34m(\u001b[0m\u001b[0mcolors\u001b[0m\u001b[0;34m)\u001b[0m\u001b[0;34m)\u001b[0m\u001b[0;34m,\u001b[0m\u001b[0mcolors\u001b[0m\u001b[0;34m)\u001b[0m\u001b[0;34m.\u001b[0m\u001b[0mswapaxes\u001b[0m\u001b[0;34m(\u001b[0m\u001b[0;36m0\u001b[0m\u001b[0;34m,\u001b[0m\u001b[0;34m-\u001b[0m\u001b[0;36m1\u001b[0m\u001b[0;34m)\u001b[0m\u001b[0;34m.\u001b[0m\u001b[0mswapaxes\u001b[0m\u001b[0;34m(\u001b[0m\u001b[0;36m1\u001b[0m\u001b[0;34m,\u001b[0m\u001b[0;36m2\u001b[0m\u001b[0;34m)\u001b[0m \u001b[0;31m# turn color_batch into b x 4 x 9\u001b[0m\u001b[0;34m\u001b[0m\u001b[0;34m\u001b[0m\u001b[0m\n\u001b[0;32m--> 133\u001b[0;31m         \u001b[0mself\u001b[0m\u001b[0;34m.\u001b[0m\u001b[0mnnet\u001b[0m\u001b[0;34m.\u001b[0m\u001b[0mmodel\u001b[0m\u001b[0;34m.\u001b[0m\u001b[0mfit\u001b[0m\u001b[0;34m(\u001b[0m\u001b[0mx\u001b[0m \u001b[0;34m=\u001b[0m \u001b[0;34m[\u001b[0m\u001b[0minput_boards\u001b[0m\u001b[0;34m,\u001b[0m\u001b[0mcolor_input\u001b[0m\u001b[0;34m]\u001b[0m\u001b[0;34m,\u001b[0m \u001b[0my\u001b[0m \u001b[0;34m=\u001b[0m \u001b[0;34m[\u001b[0m\u001b[0mtarget_pis\u001b[0m\u001b[0;34m,\u001b[0m \u001b[0mtarget_vs\u001b[0m\u001b[0;34m]\u001b[0m\u001b[0;34m,\u001b[0m \u001b[0mbatch_size\u001b[0m \u001b[0;34m=\u001b[0m \u001b[0mself\u001b[0m\u001b[0;34m.\u001b[0m\u001b[0margs\u001b[0m\u001b[0;34m.\u001b[0m\u001b[0mbatch_size\u001b[0m\u001b[0;34m,\u001b[0m \u001b[0mepochs\u001b[0m \u001b[0;34m=\u001b[0m \u001b[0mself\u001b[0m\u001b[0;34m.\u001b[0m\u001b[0margs\u001b[0m\u001b[0;34m.\u001b[0m\u001b[0mepochs\u001b[0m\u001b[0;34m)\u001b[0m\u001b[0;34m\u001b[0m\u001b[0;34m\u001b[0m\u001b[0m\n\u001b[0m\u001b[1;32m    134\u001b[0m \u001b[0;34m\u001b[0m\u001b[0m\n\u001b[1;32m    135\u001b[0m     \u001b[0;32mdef\u001b[0m \u001b[0mpredict\u001b[0m\u001b[0;34m(\u001b[0m\u001b[0mself\u001b[0m\u001b[0;34m,\u001b[0m \u001b[0mboard\u001b[0m\u001b[0;34m,\u001b[0m \u001b[0mcolor\u001b[0m\u001b[0;34m)\u001b[0m\u001b[0;34m:\u001b[0m\u001b[0;34m\u001b[0m\u001b[0;34m\u001b[0m\u001b[0m\n",
      "\u001b[0;32m/ext3/miniconda3/envs/fourinarow/lib/python3.7/site-packages/tensorflow/python/keras/engine/training.py\u001b[0m in \u001b[0;36m_method_wrapper\u001b[0;34m(self, *args, **kwargs)\u001b[0m\n\u001b[1;32m     64\u001b[0m   \u001b[0;32mdef\u001b[0m \u001b[0m_method_wrapper\u001b[0m\u001b[0;34m(\u001b[0m\u001b[0mself\u001b[0m\u001b[0;34m,\u001b[0m \u001b[0;34m*\u001b[0m\u001b[0margs\u001b[0m\u001b[0;34m,\u001b[0m \u001b[0;34m**\u001b[0m\u001b[0mkwargs\u001b[0m\u001b[0;34m)\u001b[0m\u001b[0;34m:\u001b[0m\u001b[0;34m\u001b[0m\u001b[0;34m\u001b[0m\u001b[0m\n\u001b[1;32m     65\u001b[0m     \u001b[0;32mif\u001b[0m \u001b[0;32mnot\u001b[0m \u001b[0mself\u001b[0m\u001b[0;34m.\u001b[0m\u001b[0m_in_multi_worker_mode\u001b[0m\u001b[0;34m(\u001b[0m\u001b[0;34m)\u001b[0m\u001b[0;34m:\u001b[0m  \u001b[0;31m# pylint: disable=protected-access\u001b[0m\u001b[0;34m\u001b[0m\u001b[0;34m\u001b[0m\u001b[0m\n\u001b[0;32m---> 66\u001b[0;31m       \u001b[0;32mreturn\u001b[0m \u001b[0mmethod\u001b[0m\u001b[0;34m(\u001b[0m\u001b[0mself\u001b[0m\u001b[0;34m,\u001b[0m \u001b[0;34m*\u001b[0m\u001b[0margs\u001b[0m\u001b[0;34m,\u001b[0m \u001b[0;34m**\u001b[0m\u001b[0mkwargs\u001b[0m\u001b[0;34m)\u001b[0m\u001b[0;34m\u001b[0m\u001b[0;34m\u001b[0m\u001b[0m\n\u001b[0m\u001b[1;32m     67\u001b[0m \u001b[0;34m\u001b[0m\u001b[0m\n\u001b[1;32m     68\u001b[0m     \u001b[0;31m# Running inside `run_distribute_coordinator` already.\u001b[0m\u001b[0;34m\u001b[0m\u001b[0;34m\u001b[0m\u001b[0;34m\u001b[0m\u001b[0m\n",
      "\u001b[0;32m/ext3/miniconda3/envs/fourinarow/lib/python3.7/site-packages/tensorflow/python/keras/engine/training.py\u001b[0m in \u001b[0;36mfit\u001b[0;34m(self, x, y, batch_size, epochs, verbose, callbacks, validation_split, validation_data, shuffle, class_weight, sample_weight, initial_epoch, steps_per_epoch, validation_steps, validation_batch_size, validation_freq, max_queue_size, workers, use_multiprocessing)\u001b[0m\n\u001b[1;32m    853\u001b[0m                 \u001b[0mcontext\u001b[0m\u001b[0;34m.\u001b[0m\u001b[0masync_wait\u001b[0m\u001b[0;34m(\u001b[0m\u001b[0;34m)\u001b[0m\u001b[0;34m\u001b[0m\u001b[0;34m\u001b[0m\u001b[0m\n\u001b[1;32m    854\u001b[0m               \u001b[0mlogs\u001b[0m \u001b[0;34m=\u001b[0m \u001b[0mtmp_logs\u001b[0m  \u001b[0;31m# No error, now safe to assign to logs.\u001b[0m\u001b[0;34m\u001b[0m\u001b[0;34m\u001b[0m\u001b[0m\n\u001b[0;32m--> 855\u001b[0;31m               \u001b[0mcallbacks\u001b[0m\u001b[0;34m.\u001b[0m\u001b[0mon_train_batch_end\u001b[0m\u001b[0;34m(\u001b[0m\u001b[0mstep\u001b[0m\u001b[0;34m,\u001b[0m \u001b[0mlogs\u001b[0m\u001b[0;34m)\u001b[0m\u001b[0;34m\u001b[0m\u001b[0;34m\u001b[0m\u001b[0m\n\u001b[0m\u001b[1;32m    856\u001b[0m         \u001b[0mepoch_logs\u001b[0m \u001b[0;34m=\u001b[0m \u001b[0mcopy\u001b[0m\u001b[0;34m.\u001b[0m\u001b[0mcopy\u001b[0m\u001b[0;34m(\u001b[0m\u001b[0mlogs\u001b[0m\u001b[0;34m)\u001b[0m\u001b[0;34m\u001b[0m\u001b[0;34m\u001b[0m\u001b[0m\n\u001b[1;32m    857\u001b[0m \u001b[0;34m\u001b[0m\u001b[0m\n",
      "\u001b[0;32m/ext3/miniconda3/envs/fourinarow/lib/python3.7/site-packages/tensorflow/python/keras/callbacks.py\u001b[0m in \u001b[0;36mon_train_batch_end\u001b[0;34m(self, batch, logs)\u001b[0m\n\u001b[1;32m    388\u001b[0m     \u001b[0;32mif\u001b[0m \u001b[0mself\u001b[0m\u001b[0;34m.\u001b[0m\u001b[0m_should_call_train_batch_hooks\u001b[0m\u001b[0;34m:\u001b[0m\u001b[0;34m\u001b[0m\u001b[0;34m\u001b[0m\u001b[0m\n\u001b[1;32m    389\u001b[0m       \u001b[0mlogs\u001b[0m \u001b[0;34m=\u001b[0m \u001b[0mself\u001b[0m\u001b[0;34m.\u001b[0m\u001b[0m_process_logs\u001b[0m\u001b[0;34m(\u001b[0m\u001b[0mlogs\u001b[0m\u001b[0;34m)\u001b[0m\u001b[0;34m\u001b[0m\u001b[0;34m\u001b[0m\u001b[0m\n\u001b[0;32m--> 390\u001b[0;31m       \u001b[0mself\u001b[0m\u001b[0;34m.\u001b[0m\u001b[0m_call_batch_hook\u001b[0m\u001b[0;34m(\u001b[0m\u001b[0mModeKeys\u001b[0m\u001b[0;34m.\u001b[0m\u001b[0mTRAIN\u001b[0m\u001b[0;34m,\u001b[0m \u001b[0;34m'end'\u001b[0m\u001b[0;34m,\u001b[0m \u001b[0mbatch\u001b[0m\u001b[0;34m,\u001b[0m \u001b[0mlogs\u001b[0m\u001b[0;34m=\u001b[0m\u001b[0mlogs\u001b[0m\u001b[0;34m)\u001b[0m\u001b[0;34m\u001b[0m\u001b[0;34m\u001b[0m\u001b[0m\n\u001b[0m\u001b[1;32m    391\u001b[0m \u001b[0;34m\u001b[0m\u001b[0m\n\u001b[1;32m    392\u001b[0m   \u001b[0;32mdef\u001b[0m \u001b[0mon_test_batch_begin\u001b[0m\u001b[0;34m(\u001b[0m\u001b[0mself\u001b[0m\u001b[0;34m,\u001b[0m \u001b[0mbatch\u001b[0m\u001b[0;34m,\u001b[0m \u001b[0mlogs\u001b[0m\u001b[0;34m=\u001b[0m\u001b[0;32mNone\u001b[0m\u001b[0;34m)\u001b[0m\u001b[0;34m:\u001b[0m\u001b[0;34m\u001b[0m\u001b[0;34m\u001b[0m\u001b[0m\n",
      "\u001b[0;32m/ext3/miniconda3/envs/fourinarow/lib/python3.7/site-packages/tensorflow/python/keras/callbacks.py\u001b[0m in \u001b[0;36m_call_batch_hook\u001b[0;34m(self, mode, hook, batch, logs)\u001b[0m\n\u001b[1;32m    296\u001b[0m     \u001b[0;32mfor\u001b[0m \u001b[0mcallback\u001b[0m \u001b[0;32min\u001b[0m \u001b[0mself\u001b[0m\u001b[0;34m.\u001b[0m\u001b[0mcallbacks\u001b[0m\u001b[0;34m:\u001b[0m\u001b[0;34m\u001b[0m\u001b[0;34m\u001b[0m\u001b[0m\n\u001b[1;32m    297\u001b[0m       \u001b[0mbatch_hook\u001b[0m \u001b[0;34m=\u001b[0m \u001b[0mgetattr\u001b[0m\u001b[0;34m(\u001b[0m\u001b[0mcallback\u001b[0m\u001b[0;34m,\u001b[0m \u001b[0mhook_name\u001b[0m\u001b[0;34m)\u001b[0m\u001b[0;34m\u001b[0m\u001b[0;34m\u001b[0m\u001b[0m\n\u001b[0;32m--> 298\u001b[0;31m       \u001b[0mbatch_hook\u001b[0m\u001b[0;34m(\u001b[0m\u001b[0mbatch\u001b[0m\u001b[0;34m,\u001b[0m \u001b[0mlogs\u001b[0m\u001b[0;34m)\u001b[0m\u001b[0;34m\u001b[0m\u001b[0;34m\u001b[0m\u001b[0m\n\u001b[0m\u001b[1;32m    299\u001b[0m     \u001b[0mself\u001b[0m\u001b[0;34m.\u001b[0m\u001b[0m_delta_ts\u001b[0m\u001b[0;34m[\u001b[0m\u001b[0mhook_name\u001b[0m\u001b[0;34m]\u001b[0m\u001b[0;34m.\u001b[0m\u001b[0mappend\u001b[0m\u001b[0;34m(\u001b[0m\u001b[0mtime\u001b[0m\u001b[0;34m.\u001b[0m\u001b[0mtime\u001b[0m\u001b[0;34m(\u001b[0m\u001b[0;34m)\u001b[0m \u001b[0;34m-\u001b[0m \u001b[0mt_before_callbacks\u001b[0m\u001b[0;34m)\u001b[0m\u001b[0;34m\u001b[0m\u001b[0;34m\u001b[0m\u001b[0m\n\u001b[1;32m    300\u001b[0m \u001b[0;34m\u001b[0m\u001b[0m\n",
      "\u001b[0;32m/ext3/miniconda3/envs/fourinarow/lib/python3.7/site-packages/tensorflow/python/keras/callbacks.py\u001b[0m in \u001b[0;36mon_train_batch_end\u001b[0;34m(self, batch, logs)\u001b[0m\n\u001b[1;32m    882\u001b[0m \u001b[0;34m\u001b[0m\u001b[0m\n\u001b[1;32m    883\u001b[0m   \u001b[0;32mdef\u001b[0m \u001b[0mon_train_batch_end\u001b[0m\u001b[0;34m(\u001b[0m\u001b[0mself\u001b[0m\u001b[0;34m,\u001b[0m \u001b[0mbatch\u001b[0m\u001b[0;34m,\u001b[0m \u001b[0mlogs\u001b[0m\u001b[0;34m=\u001b[0m\u001b[0;32mNone\u001b[0m\u001b[0;34m)\u001b[0m\u001b[0;34m:\u001b[0m\u001b[0;34m\u001b[0m\u001b[0;34m\u001b[0m\u001b[0m\n\u001b[0;32m--> 884\u001b[0;31m     \u001b[0mself\u001b[0m\u001b[0;34m.\u001b[0m\u001b[0m_batch_update_progbar\u001b[0m\u001b[0;34m(\u001b[0m\u001b[0mlogs\u001b[0m\u001b[0;34m)\u001b[0m\u001b[0;34m\u001b[0m\u001b[0;34m\u001b[0m\u001b[0m\n\u001b[0m\u001b[1;32m    885\u001b[0m \u001b[0;34m\u001b[0m\u001b[0m\n\u001b[1;32m    886\u001b[0m   \u001b[0;32mdef\u001b[0m \u001b[0mon_test_batch_end\u001b[0m\u001b[0;34m(\u001b[0m\u001b[0mself\u001b[0m\u001b[0;34m,\u001b[0m \u001b[0mbatch\u001b[0m\u001b[0;34m,\u001b[0m \u001b[0mlogs\u001b[0m\u001b[0;34m=\u001b[0m\u001b[0;32mNone\u001b[0m\u001b[0;34m)\u001b[0m\u001b[0;34m:\u001b[0m\u001b[0;34m\u001b[0m\u001b[0;34m\u001b[0m\u001b[0m\n",
      "\u001b[0;32m/ext3/miniconda3/envs/fourinarow/lib/python3.7/site-packages/tensorflow/python/keras/callbacks.py\u001b[0m in \u001b[0;36m_batch_update_progbar\u001b[0;34m(self, logs)\u001b[0m\n\u001b[1;32m    926\u001b[0m     \u001b[0madd_seen\u001b[0m \u001b[0;34m=\u001b[0m \u001b[0mnum_steps\u001b[0m \u001b[0;32mif\u001b[0m \u001b[0mself\u001b[0m\u001b[0;34m.\u001b[0m\u001b[0muse_steps\u001b[0m \u001b[0;32melse\u001b[0m \u001b[0mnum_steps\u001b[0m \u001b[0;34m*\u001b[0m \u001b[0mbatch_size\u001b[0m\u001b[0;34m\u001b[0m\u001b[0;34m\u001b[0m\u001b[0m\n\u001b[1;32m    927\u001b[0m     \u001b[0mself\u001b[0m\u001b[0;34m.\u001b[0m\u001b[0mseen\u001b[0m \u001b[0;34m+=\u001b[0m \u001b[0madd_seen\u001b[0m\u001b[0;34m\u001b[0m\u001b[0;34m\u001b[0m\u001b[0m\n\u001b[0;32m--> 928\u001b[0;31m     \u001b[0mself\u001b[0m\u001b[0;34m.\u001b[0m\u001b[0mprogbar\u001b[0m\u001b[0;34m.\u001b[0m\u001b[0mupdate\u001b[0m\u001b[0;34m(\u001b[0m\u001b[0mself\u001b[0m\u001b[0;34m.\u001b[0m\u001b[0mseen\u001b[0m\u001b[0;34m,\u001b[0m \u001b[0mlist\u001b[0m\u001b[0;34m(\u001b[0m\u001b[0mlogs\u001b[0m\u001b[0;34m.\u001b[0m\u001b[0mitems\u001b[0m\u001b[0;34m(\u001b[0m\u001b[0;34m)\u001b[0m\u001b[0;34m)\u001b[0m\u001b[0;34m,\u001b[0m \u001b[0mfinalize\u001b[0m\u001b[0;34m=\u001b[0m\u001b[0;32mFalse\u001b[0m\u001b[0;34m)\u001b[0m\u001b[0;34m\u001b[0m\u001b[0;34m\u001b[0m\u001b[0m\n\u001b[0m\u001b[1;32m    929\u001b[0m \u001b[0;34m\u001b[0m\u001b[0m\n\u001b[1;32m    930\u001b[0m   \u001b[0;32mdef\u001b[0m \u001b[0m_finalize_progbar\u001b[0m\u001b[0;34m(\u001b[0m\u001b[0mself\u001b[0m\u001b[0;34m,\u001b[0m \u001b[0mlogs\u001b[0m\u001b[0;34m)\u001b[0m\u001b[0;34m:\u001b[0m\u001b[0;34m\u001b[0m\u001b[0;34m\u001b[0m\u001b[0m\n",
      "\u001b[0;32m/ext3/miniconda3/envs/fourinarow/lib/python3.7/site-packages/tensorflow/python/keras/utils/generic_utils.py\u001b[0m in \u001b[0;36mupdate\u001b[0;34m(self, current, values, finalize)\u001b[0m\n\u001b[1;32m    654\u001b[0m \u001b[0;34m\u001b[0m\u001b[0m\n\u001b[1;32m    655\u001b[0m       \u001b[0msys\u001b[0m\u001b[0;34m.\u001b[0m\u001b[0mstdout\u001b[0m\u001b[0;34m.\u001b[0m\u001b[0mwrite\u001b[0m\u001b[0;34m(\u001b[0m\u001b[0minfo\u001b[0m\u001b[0;34m)\u001b[0m\u001b[0;34m\u001b[0m\u001b[0;34m\u001b[0m\u001b[0m\n\u001b[0;32m--> 656\u001b[0;31m       \u001b[0msys\u001b[0m\u001b[0;34m.\u001b[0m\u001b[0mstdout\u001b[0m\u001b[0;34m.\u001b[0m\u001b[0mflush\u001b[0m\u001b[0;34m(\u001b[0m\u001b[0;34m)\u001b[0m\u001b[0;34m\u001b[0m\u001b[0;34m\u001b[0m\u001b[0m\n\u001b[0m\u001b[1;32m    657\u001b[0m \u001b[0;34m\u001b[0m\u001b[0m\n\u001b[1;32m    658\u001b[0m     \u001b[0;32melif\u001b[0m \u001b[0mself\u001b[0m\u001b[0;34m.\u001b[0m\u001b[0mverbose\u001b[0m \u001b[0;34m==\u001b[0m \u001b[0;36m2\u001b[0m\u001b[0;34m:\u001b[0m\u001b[0;34m\u001b[0m\u001b[0;34m\u001b[0m\u001b[0m\n",
      "\u001b[0;32m/ext3/miniconda3/envs/fourinarow/lib/python3.7/site-packages/ipykernel/iostream.py\u001b[0m in \u001b[0;36mflush\u001b[0;34m(self)\u001b[0m\n\u001b[1;32m    348\u001b[0m                 \u001b[0mself\u001b[0m\u001b[0;34m.\u001b[0m\u001b[0mpub_thread\u001b[0m\u001b[0;34m.\u001b[0m\u001b[0mschedule\u001b[0m\u001b[0;34m(\u001b[0m\u001b[0mevt\u001b[0m\u001b[0;34m.\u001b[0m\u001b[0mset\u001b[0m\u001b[0;34m)\u001b[0m\u001b[0;34m\u001b[0m\u001b[0;34m\u001b[0m\u001b[0m\n\u001b[1;32m    349\u001b[0m                 \u001b[0;31m# and give a timeout to avoid\u001b[0m\u001b[0;34m\u001b[0m\u001b[0;34m\u001b[0m\u001b[0;34m\u001b[0m\u001b[0m\n\u001b[0;32m--> 350\u001b[0;31m                 \u001b[0;32mif\u001b[0m \u001b[0;32mnot\u001b[0m \u001b[0mevt\u001b[0m\u001b[0;34m.\u001b[0m\u001b[0mwait\u001b[0m\u001b[0;34m(\u001b[0m\u001b[0mself\u001b[0m\u001b[0;34m.\u001b[0m\u001b[0mflush_timeout\u001b[0m\u001b[0;34m)\u001b[0m\u001b[0;34m:\u001b[0m\u001b[0;34m\u001b[0m\u001b[0;34m\u001b[0m\u001b[0m\n\u001b[0m\u001b[1;32m    351\u001b[0m                     \u001b[0;31m# write directly to __stderr__ instead of warning because\u001b[0m\u001b[0;34m\u001b[0m\u001b[0;34m\u001b[0m\u001b[0;34m\u001b[0m\u001b[0m\n\u001b[1;32m    352\u001b[0m                     \u001b[0;31m# if this is happening sys.stderr may be the problem.\u001b[0m\u001b[0;34m\u001b[0m\u001b[0;34m\u001b[0m\u001b[0;34m\u001b[0m\u001b[0m\n",
      "\u001b[0;32m/ext3/miniconda3/envs/fourinarow/lib/python3.7/threading.py\u001b[0m in \u001b[0;36mwait\u001b[0;34m(self, timeout)\u001b[0m\n\u001b[1;32m    550\u001b[0m             \u001b[0msignaled\u001b[0m \u001b[0;34m=\u001b[0m \u001b[0mself\u001b[0m\u001b[0;34m.\u001b[0m\u001b[0m_flag\u001b[0m\u001b[0;34m\u001b[0m\u001b[0;34m\u001b[0m\u001b[0m\n\u001b[1;32m    551\u001b[0m             \u001b[0;32mif\u001b[0m \u001b[0;32mnot\u001b[0m \u001b[0msignaled\u001b[0m\u001b[0;34m:\u001b[0m\u001b[0;34m\u001b[0m\u001b[0;34m\u001b[0m\u001b[0m\n\u001b[0;32m--> 552\u001b[0;31m                 \u001b[0msignaled\u001b[0m \u001b[0;34m=\u001b[0m \u001b[0mself\u001b[0m\u001b[0;34m.\u001b[0m\u001b[0m_cond\u001b[0m\u001b[0;34m.\u001b[0m\u001b[0mwait\u001b[0m\u001b[0;34m(\u001b[0m\u001b[0mtimeout\u001b[0m\u001b[0;34m)\u001b[0m\u001b[0;34m\u001b[0m\u001b[0;34m\u001b[0m\u001b[0m\n\u001b[0m\u001b[1;32m    553\u001b[0m             \u001b[0;32mreturn\u001b[0m \u001b[0msignaled\u001b[0m\u001b[0;34m\u001b[0m\u001b[0;34m\u001b[0m\u001b[0m\n\u001b[1;32m    554\u001b[0m \u001b[0;34m\u001b[0m\u001b[0m\n",
      "\u001b[0;32m/ext3/miniconda3/envs/fourinarow/lib/python3.7/threading.py\u001b[0m in \u001b[0;36mwait\u001b[0;34m(self, timeout)\u001b[0m\n\u001b[1;32m    298\u001b[0m             \u001b[0;32melse\u001b[0m\u001b[0;34m:\u001b[0m\u001b[0;34m\u001b[0m\u001b[0;34m\u001b[0m\u001b[0m\n\u001b[1;32m    299\u001b[0m                 \u001b[0;32mif\u001b[0m \u001b[0mtimeout\u001b[0m \u001b[0;34m>\u001b[0m \u001b[0;36m0\u001b[0m\u001b[0;34m:\u001b[0m\u001b[0;34m\u001b[0m\u001b[0;34m\u001b[0m\u001b[0m\n\u001b[0;32m--> 300\u001b[0;31m                     \u001b[0mgotit\u001b[0m \u001b[0;34m=\u001b[0m \u001b[0mwaiter\u001b[0m\u001b[0;34m.\u001b[0m\u001b[0macquire\u001b[0m\u001b[0;34m(\u001b[0m\u001b[0;32mTrue\u001b[0m\u001b[0;34m,\u001b[0m \u001b[0mtimeout\u001b[0m\u001b[0;34m)\u001b[0m\u001b[0;34m\u001b[0m\u001b[0;34m\u001b[0m\u001b[0m\n\u001b[0m\u001b[1;32m    301\u001b[0m                 \u001b[0;32melse\u001b[0m\u001b[0;34m:\u001b[0m\u001b[0;34m\u001b[0m\u001b[0;34m\u001b[0m\u001b[0m\n\u001b[1;32m    302\u001b[0m                     \u001b[0mgotit\u001b[0m \u001b[0;34m=\u001b[0m \u001b[0mwaiter\u001b[0m\u001b[0;34m.\u001b[0m\u001b[0macquire\u001b[0m\u001b[0;34m(\u001b[0m\u001b[0;32mFalse\u001b[0m\u001b[0;34m)\u001b[0m\u001b[0;34m\u001b[0m\u001b[0;34m\u001b[0m\u001b[0m\n",
      "\u001b[0;31mKeyboardInterrupt\u001b[0m: "
     ]
    }
   ],
   "source": [
    "# nnet.predict_batch(b[None,:],[0])\n",
    "nnet.train(te[:1])"
   ]
  },
  {
   "cell_type": "code",
   "execution_count": 64,
   "metadata": {},
   "outputs": [],
   "source": [
    "b = game.getInitBoard()\n",
    "b[0:3,0]=1\n",
    "b[0:3,1] = -1"
   ]
  },
  {
   "cell_type": "code",
   "execution_count": 65,
   "metadata": {},
   "outputs": [
    {
     "data": {
      "text/plain": [
       "array([[ 1, -1,  0,  0,  0,  0,  0,  0,  0],\n",
       "       [ 1, -1,  0,  0,  0,  0,  0,  0,  0],\n",
       "       [ 1, -1,  0,  0,  0,  0,  0,  0,  0],\n",
       "       [ 0,  0,  0,  0,  0,  0,  0,  0,  0]])"
      ]
     },
     "execution_count": 65,
     "metadata": {},
     "output_type": "execute_result"
    }
   ],
   "source": [
    "b"
   ]
  },
  {
   "cell_type": "code",
   "execution_count": 66,
   "metadata": {},
   "outputs": [],
   "source": [
    "reload(mcts)\n",
    "tree = mcts.MCTS_color(game, nnet, mcts.MCTS_ARGS)"
   ]
  },
  {
   "cell_type": "code",
   "execution_count": 69,
   "metadata": {},
   "outputs": [
    {
     "data": {
      "text/plain": [
       "array([[0.   , 0.   , 0.003, 0.003, 0.003, 0.003, 0.003, 0.003, 0.003],\n",
       "       [0.   , 0.   , 0.003, 0.003, 0.003, 0.003, 0.003, 0.003, 0.003],\n",
       "       [0.   , 0.   , 0.003, 0.003, 0.003, 0.003, 0.003, 0.003, 0.003],\n",
       "       [0.903, 0.003, 0.003, 0.003, 0.003, 0.003, 0.003, 0.003, 0.003]])"
      ]
     },
     "execution_count": 69,
     "metadata": {},
     "output_type": "execute_result"
    }
   ],
   "source": [
    "np.array(tree.getActionProb(b,0)).reshape(4,9)"
   ]
  },
  {
   "cell_type": "code",
   "execution_count": 70,
   "metadata": {},
   "outputs": [
    {
     "data": {
      "text/plain": [
       "array([[0.   , 0.   , 0.003, 0.003, 0.003, 0.003, 0.003, 0.003, 0.003],\n",
       "       [0.   , 0.   , 0.003, 0.003, 0.003, 0.003, 0.003, 0.003, 0.003],\n",
       "       [0.   , 0.   , 0.003, 0.003, 0.003, 0.003, 0.003, 0.003, 0.003],\n",
       "       [0.927, 0.003, 0.003, 0.003, 0.003, 0.003, 0.003, 0.003, 0.003]])"
      ]
     },
     "execution_count": 70,
     "metadata": {},
     "output_type": "execute_result"
    }
   ],
   "source": [
    "np.array(tree.getActionProb(b,1)).reshape(4,9)"
   ]
  },
  {
   "cell_type": "code",
   "execution_count": 86,
   "metadata": {},
   "outputs": [],
   "source": [
    "reload(sl)\n",
    "te = sl.load_data(track_color=True)"
   ]
  },
  {
   "cell_type": "code",
   "execution_count": 88,
   "metadata": {},
   "outputs": [
    {
     "data": {
      "text/plain": [
       "(array([[ 0,  0,  0,  0,  0,  0,  0,  0,  0],\n",
       "        [ 0,  0,  0,  1,  0, -1,  0,  0,  0],\n",
       "        [ 0,  0,  1, -1, -1, -1,  1,  0,  0],\n",
       "        [ 0,  0,  0, -1,  0,  1,  0,  0,  0]]),\n",
       " array([0.004, 0.004, 0.004, 0.004, 0.004, 0.   , 0.924, 0.004, 0.   ,\n",
       "        0.004, 0.004, 0.004, 0.   , 0.   , 0.   , 0.004, 0.004, 0.   ,\n",
       "        0.004, 0.004, 0.   , 0.   , 0.   , 0.   , 0.   , 0.004, 0.004,\n",
       "        0.004, 0.004, 0.004, 0.   , 0.004, 0.   , 0.004, 0.004, 0.   ]),\n",
       " -1,\n",
       " 0)"
      ]
     },
     "execution_count": 88,
     "metadata": {},
     "output_type": "execute_result"
    }
   ],
   "source": [
    "te[1]"
   ]
  },
  {
   "cell_type": "code",
   "execution_count": 75,
   "metadata": {},
   "outputs": [
    {
     "data": {
      "text/plain": [
       "array([[ 0,  0,  0,  0,  0,  0,  0,  0,  0],\n",
       "       [ 0,  0,  0,  0,  0,  0,  0,  0,  0],\n",
       "       [ 0,  0,  0,  0,  0, -1,  0,  0,  0],\n",
       "       [ 0,  0,  0,  0,  0,  0,  0,  0,  0]])"
      ]
     },
     "execution_count": 75,
     "metadata": {},
     "output_type": "execute_result"
    }
   ],
   "source": [
    "te[2][0]"
   ]
  },
  {
   "cell_type": "code",
   "execution_count": 77,
   "metadata": {},
   "outputs": [
    {
     "data": {
      "text/plain": [
       "0"
      ]
     },
     "execution_count": 77,
     "metadata": {},
     "output_type": "execute_result"
    }
   ],
   "source": [
    "te[3][0].sum()"
   ]
  },
  {
   "cell_type": "code",
   "execution_count": 78,
   "metadata": {},
   "outputs": [
    {
     "data": {
      "text/plain": [
       "[None, None]"
      ]
     },
     "execution_count": 78,
     "metadata": {},
     "output_type": "execute_result"
    }
   ],
   "source": [
    "a = [[1],[1]]\n",
    "[aa.append(2) for aa in a]"
   ]
  },
  {
   "cell_type": "code",
   "execution_count": 80,
   "metadata": {},
   "outputs": [
    {
     "data": {
      "text/plain": [
       "[[1, 2], [1, 2]]"
      ]
     },
     "execution_count": 80,
     "metadata": {},
     "output_type": "execute_result"
    }
   ],
   "source": [
    "a"
   ]
  },
  {
   "cell_type": "code",
   "execution_count": 225,
   "metadata": {
    "scrolled": true
   },
   "outputs": [
    {
     "name": "stdout",
     "output_type": "stream",
     "text": [
      "2022-01-15 15:50:38.529456: W tensorflow/stream_executor/platform/default/dso_loader.cc:55] Could not load dynamic library 'libcuda.so.1'; dlerror: libcuda.so.1: cannot open shared object file: No such file or directory; LD_LIBRARY_PATH: /usr/local/nvidia/lib:/usr/local/nvidia/lib64:/.singularity.d/libs\n",
      "2022-01-15 15:50:38.529487: E tensorflow/stream_executor/cuda/cuda_driver.cc:313] failed call to cuInit: UNKNOWN ERROR (303)\n",
      "['0']\n",
      "\u001b[32m2022-01-15 15:50:46\u001b[0m \u001b[35mcm005.hpc.nyu.edu\u001b[0m \u001b[34m__main__[2324255]\u001b[0m \u001b[1;30mINFO\u001b[0m Loading BeckGame...\n",
      "\u001b[32m2022-01-15 15:50:46\u001b[0m \u001b[35mcm005.hpc.nyu.edu\u001b[0m \u001b[34m__main__[2324255]\u001b[0m \u001b[1;30mINFO\u001b[0m Loading NNetWrapper...\n",
      "\u001b[32m2022-01-15 15:50:46\u001b[0m \u001b[35mcm005.hpc.nyu.edu\u001b[0m \u001b[34m__main__[2324255]\u001b[0m \u001b[1;30mWARNING\u001b[0m \u001b[33mNot loading a checkpoint!\u001b[0m\n",
      "\u001b[32m2022-01-15 15:50:46\u001b[0m \u001b[35mcm005.hpc.nyu.edu\u001b[0m \u001b[34m__main__[2324255]\u001b[0m \u001b[1;30mINFO\u001b[0m Loading the Coach...\n",
      "\u001b[32m2022-01-15 15:50:47\u001b[0m \u001b[35mcm005.hpc.nyu.edu\u001b[0m \u001b[34m__main__[2324255]\u001b[0m \u001b[1;30mINFO\u001b[0m Starting the learning process 🎉\n",
      "\u001b[32m2022-01-15 15:50:47\u001b[0m \u001b[35mcm005.hpc.nyu.edu\u001b[0m \u001b[34mcoach[2324255]\u001b[0m \u001b[1;30mINFO\u001b[0m Starting Iter #1 ...\n",
      "Self Play:   0%|                                        | 0/100 [00:00<?, ?it/s](36,)\n",
      "(36,)\n",
      "(36,)\n",
      "(36,)\n",
      "[0.02780308 0.02772953 0.02783864 0.02772324 0.0277708  0.02770519\n",
      " 0.02776787 0.027729   0.02777931 0.02773707 0.02779826 0.02769065\n",
      " 0.027772   0.02773406 0.02778357 0.02767807 0.02785198 0.02773993\n",
      " 0.02782296 0.0279318  0.0278935  0.02782317 0.02784193 0.02776738\n",
      " 0.02776034 0.02780994 0.02782794 0.02777915 0.02786039 0.02780302\n",
      " 0.02769493 0.02773556 0.02765524 0.02777133 0.02777815 0.02781101]\n",
      "(36,)\n",
      "(36,)\n",
      "(36,)\n",
      "(36,)\n",
      "[0.0285657  0.0285249  0.02864419 0.02850974 0.02857143 0.02847741\n",
      " 0.02859083 0.02853187 0.02856633 0.02856286 0.02858798 0.02849944\n",
      " 0.02854204 0.02856328 0.02854705 0.02852115 0.02856089 0.02842465\n",
      " 0.02867968 0.02875047 0.0287099  0.02864443 0.02869805 0.0285848\n",
      " 0.02862874 0.         0.02862885 0.02858954 0.02866032 0.02856127\n",
      " 0.02844453 0.02848259 0.02842349 0.02863808 0.02855815 0.02852537]\n",
      "(36,)\n",
      "(36,)\n",
      "(36,)\n",
      "(36,)\n",
      "[0.02943587 0.02938162 0.02948769 0.02936423 0.02940164 0.02940241\n",
      " 0.02942657 0.02943886 0.02937278 0.0293934  0.02938559 0.02927421\n",
      " 0.02942206 0.02934577 0.02941422 0.0292765  0.02939811 0.02935058\n",
      " 0.02949922 0.02959491 0.02952531 0.02944955 0.02957952 0.02947407\n",
      " 0.0293938  0.         0.         0.02935268 0.02940127 0.02935507\n",
      " 0.02933877 0.02938317 0.02941426 0.02944203 0.02943004 0.02939423]\n",
      "^C\n",
      "Self Play:   0%|                                        | 0/100 [00:10<?, ?it/s]\n",
      "Traceback (most recent call last):\n",
      "  File \"../classes/main.py\", line 100, in <module>\n",
      "    main(int(main_args[0]))\n",
      "  File \"../classes/main.py\", line 94, in main\n",
      "    c.learn()\n",
      "  File \"/home/zz737/projects/fiar/fiarrl/classes/coach.py\", line 133, in learn\n",
      "    iterationTrainExamples += self.executeEpisode()\n",
      "  File \"/home/zz737/projects/fiar/fiarrl/classes/coach.py\", line 87, in executeEpisode\n",
      "    pi = self.mcts.getActionProb(canonicalBoard, temp=temp)\n",
      "  File \"/home/zz737/projects/fiar/fiarrl/classes/mcts.py\", line 93, in getActionProb\n",
      "    self.search(canonicalBoard)\n",
      "  File \"/home/zz737/projects/fiar/fiarrl/classes/mcts.py\", line 224, in search\n",
      "    v = self.search(next_s)\n",
      "  File \"/home/zz737/projects/fiar/fiarrl/classes/mcts.py\", line 224, in search\n",
      "    v = self.search(next_s)\n",
      "  File \"/home/zz737/projects/fiar/fiarrl/classes/mcts.py\", line 184, in search\n",
      "    self.Ps[s], v = self.nnet.predict(canonicalBoard) # (boardsize,) scalar\n",
      "  File \"/home/zz737/projects/fiar/fiarrl/classes/beck/beck_nnet.py\", line 87, in predict\n",
      "    pi, v = self.nnet.model.predict(board)\n",
      "  File \"/ext3/miniconda3/envs/fourinarow/lib/python3.7/site-packages/tensorflow/python/keras/engine/training.py\", line 88, in _method_wrapper\n",
      "    return method(self, *args, **kwargs)\n",
      "  File \"/ext3/miniconda3/envs/fourinarow/lib/python3.7/site-packages/tensorflow/python/keras/engine/training.py\", line 1268, in predict\n",
      "    tmp_batch_outputs = predict_function(iterator)\n",
      "  File \"/ext3/miniconda3/envs/fourinarow/lib/python3.7/site-packages/tensorflow/python/eager/def_function.py\", line 580, in __call__\n",
      "    result = self._call(*args, **kwds)\n",
      "  File \"/ext3/miniconda3/envs/fourinarow/lib/python3.7/site-packages/tensorflow/python/eager/def_function.py\", line 618, in _call\n",
      "    results = self._stateful_fn(*args, **kwds)\n",
      "  File \"/ext3/miniconda3/envs/fourinarow/lib/python3.7/site-packages/tensorflow/python/eager/function.py\", line 2420, in __call__\n",
      "    return graph_function._filtered_call(args, kwargs)  # pylint: disable=protected-access\n",
      "  File \"/ext3/miniconda3/envs/fourinarow/lib/python3.7/site-packages/tensorflow/python/eager/function.py\", line 1665, in _filtered_call\n",
      "    self.captured_inputs)\n",
      "  File \"/ext3/miniconda3/envs/fourinarow/lib/python3.7/site-packages/tensorflow/python/eager/function.py\", line 1746, in _call_flat\n",
      "    ctx, args, cancellation_manager=cancellation_manager))\n",
      "  File \"/ext3/miniconda3/envs/fourinarow/lib/python3.7/site-packages/tensorflow/python/eager/function.py\", line 598, in call\n",
      "    ctx=ctx)\n",
      "  File \"/ext3/miniconda3/envs/fourinarow/lib/python3.7/site-packages/tensorflow/python/eager/execute.py\", line 60, in quick_execute\n",
      "    inputs, attrs, num_outputs)\n",
      "KeyboardInterrupt\n"
     ]
    }
   ],
   "source": [
    "!python ../classes/main.py 0"
   ]
  },
  {
   "cell_type": "code",
   "execution_count": 37,
   "metadata": {},
   "outputs": [],
   "source": [
    "import fiarrl.classes.coach as fcc\n",
    "from fiarrl.classes import main\n",
    "Coach = fcc.Coach"
   ]
  },
  {
   "cell_type": "code",
   "execution_count": 38,
   "metadata": {},
   "outputs": [],
   "source": [
    "c = Coach(game,nnet,main.args) \n",
    "episode = c.executeEpisode()"
   ]
  },
  {
   "cell_type": "code",
   "execution_count": 40,
   "metadata": {},
   "outputs": [],
   "source": [
    "\n",
    "from pickle import Pickler, Unpickler\n",
    "\n",
    "ex_tournament = 6\n",
    "ex_id = 'checkpoints_mcts100_cpuct2_id_1'\n",
    "ex_fn_part = 'checkpoint_55'\n",
    "\n",
    "ex_dir = f'/scratch/zz737/fiar/tournaments/tournament_{ex_tournament}/{ex_id}'\n",
    "ex_fn = f'{ex_fn_part}.pth.tar'\n",
    "load_folder_file = (ex_dir, ex_fn)\n",
    "\n",
    "modelFile = os.path.join(load_folder_file[0], load_folder_file[1])\n",
    "examplesFile = modelFile + \".examples\"\n",
    "with open(examplesFile, \"rb\") as f:\n",
    "    trainExamplesHistory = Unpickler(f).load()"
   ]
  },
  {
   "cell_type": "code",
   "execution_count": 54,
   "metadata": {},
   "outputs": [],
   "source": [
    "input_boards, target_pis, target_vs = list(zip(*trainExamplesHistory[2]))\n",
    "input_boards = np.asarray(input_boards)\n",
    "target_pis = np.asarray(target_pis)\n",
    "target_vs = np.asarray(target_vs)\n",
    "# color_input = np.full((4,9,len(colors)),colors).swapaxes(0,-1).swapaxes(1,2) # turn color_batch into b x 4 x 9\n",
    "\n"
   ]
  },
  {
   "cell_type": "code",
   "execution_count": 62,
   "metadata": {},
   "outputs": [
    {
     "data": {
      "text/plain": [
       "array([[0, 0, 0, 0, 0, 0, 0, 0, 0],\n",
       "       [0, 0, 0, 0, 0, 0, 0, 0, 0],\n",
       "       [0, 0, 0, 0, 0, 0, 0, 0, 0],\n",
       "       [0, 0, 0, 0, 0, 0, 0, 0, 0]])"
      ]
     },
     "execution_count": 62,
     "metadata": {},
     "output_type": "execute_result"
    }
   ],
   "source": [
    "input_boards[0]"
   ]
  },
  {
   "cell_type": "code",
   "execution_count": 63,
   "metadata": {},
   "outputs": [
    {
     "data": {
      "text/plain": [
       "-1"
      ]
     },
     "execution_count": 63,
     "metadata": {},
     "output_type": "execute_result"
    }
   ],
   "source": [
    "b = copy.copy(input_boards[-1])\n",
    "b[3,2]=1\n",
    "game.getGameEnded(b,-1)"
   ]
  },
  {
   "cell_type": "code",
   "execution_count": 61,
   "metadata": {},
   "outputs": [
    {
     "data": {
      "text/plain": [
       "1.0"
      ]
     },
     "execution_count": 61,
     "metadata": {},
     "output_type": "execute_result"
    }
   ],
   "source": [
    "target_vs[-1]"
   ]
  },
  {
   "cell_type": "code",
   "execution_count": null,
   "metadata": {},
   "outputs": [],
   "source": []
  }
 ],
 "metadata": {
  "kernelspec": {
   "display_name": "Python 3",
   "language": "python",
   "name": "python3"
  },
  "language_info": {
   "codemirror_mode": {
    "name": "ipython",
    "version": 3
   },
   "file_extension": ".py",
   "mimetype": "text/x-python",
   "name": "python",
   "nbconvert_exporter": "python",
   "pygments_lexer": "ipython3",
   "version": "3.7.6"
  }
 },
 "nbformat": 4,
 "nbformat_minor": 4
}
