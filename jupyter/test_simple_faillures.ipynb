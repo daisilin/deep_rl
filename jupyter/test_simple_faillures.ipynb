{
 "cells": [
  {
   "cell_type": "code",
   "execution_count": 1,
   "metadata": {},
   "outputs": [],
   "source": [
    "import pandas as pd\n",
    "import sys,os,copy,pdb,importlib\n",
    "sys.path.append('../classes')\n",
    "sys.path.append('../analysis')\n",
    "import numpy as np\n",
    "np.set_printoptions(precision=3,suppress=True)\n",
    "import matplotlib.pyplot as plt\n",
    "\n",
    "import tournament_new as tn\n",
    "import create_database as cd\n",
    "importlib.reload(tn)\n",
    "\n",
    "from beck.beck_game import BeckGame as Game\n",
    "from beck.beck_players import HumanBeckPlayer\n",
    "from arena import Arena\n",
    "\n",
    "import mcts\n",
    "\n",
    "importlib.reload(tn)\n",
    "game = Game(4,9,4)\n",
    "all_p = pd.read_pickle(cd.DATABASE_LOC)\n",
    "\n",
    "from pickle import Pickler, Unpickler\n",
    "\n",
    "# res = tn.merge_res_to_base()\n",
    "tournament_res = pd.read_pickle('/scratch/zz737/fiar/tournaments/ai_all_player_round_robin_base.pkl')\n",
    "\n",
    "from utils import *\n",
    "mctsargs = dotdict({\n",
    "        'numMCTSSims': 100,\n",
    "        'cpuct': 2,\n",
    "        })\n"
   ]
  },
  {
   "cell_type": "code",
   "execution_count": 365,
   "metadata": {
    "scrolled": true
   },
   "outputs": [
    {
     "name": "stdout",
     "output_type": "stream",
     "text": [
      "Turn  1 Player  1\n",
      "   0 1 2 3 4 5 6 7 8 \n",
      "-----------------------\n",
      "0 |- - - - - - - - - |\n",
      "1 |- - - - - - - - - |\n",
      "2 |- - - - - - - - - |\n",
      "3 |- - - - - - - - - |\n",
      "-----------------------\n",
      "[ 0 0] [ 0 1] [ 0 2] [ 0 3] [ 0 4] [ 0 5] [ 0 6] [ 0 7] [ 0 8] [ 1 0] [ 1 1] [ 1 2] [ 1 3] [ 1 4] [ 1 5] [ 1 6] [ 1 7] [ 1 8] [ 2 0] [ 2 1] [ 2 2] [ 2 3] [ 2 4] [ 2 5] [ 2 6] [ 2 7] [ 2 8] [ 3 0] [ 3 1] [ 3 2] [ 3 3] [ 3 4] [ 3 5] [ 3 6] [ 3 7] [ 3 8] 3 8\n",
      "Turn  2 Player  -1\n",
      "   0 1 2 3 4 5 6 7 8 \n",
      "-----------------------\n",
      "0 |- - - - - - - - - |\n",
      "1 |- - - - - - - - - |\n",
      "2 |- - - - - - - - - |\n",
      "3 |- - - - - - - - O |\n",
      "-----------------------\n",
      "Turn  3 Player  1\n",
      "   0 1 2 3 4 5 6 7 8 \n",
      "-----------------------\n",
      "0 |- - - - X - - - - |\n",
      "1 |- - - - - - - - - |\n",
      "2 |- - - - - - - - - |\n",
      "3 |- - - - - - - - O |\n",
      "-----------------------\n",
      "[ 0 0] [ 0 1] [ 0 2] [ 0 3] [ 0 5] [ 0 6] [ 0 7] [ 0 8] [ 1 0] [ 1 1] [ 1 2] [ 1 3] [ 1 4] [ 1 5] [ 1 6] [ 1 7] [ 1 8] [ 2 0] [ 2 1] [ 2 2] [ 2 3] [ 2 4] [ 2 5] [ 2 6] [ 2 7] [ 2 8] [ 3 0] [ 3 1] [ 3 2] [ 3 3] [ 3 4] [ 3 5] [ 3 6] [ 3 7] 2 8\n",
      "Turn  4 Player  -1\n",
      "   0 1 2 3 4 5 6 7 8 \n",
      "-----------------------\n",
      "0 |- - - - X - - - - |\n",
      "1 |- - - - - - - - - |\n",
      "2 |- - - - - - - - O |\n",
      "3 |- - - - - - - - O |\n",
      "-----------------------\n",
      "Turn  5 Player  1\n",
      "   0 1 2 3 4 5 6 7 8 \n",
      "-----------------------\n",
      "0 |- - - - X - - - - |\n",
      "1 |- - - X - - - - - |\n",
      "2 |- - - - - - - - O |\n",
      "3 |- - - - - - - - O |\n",
      "-----------------------\n",
      "[ 0 0] [ 0 1] [ 0 2] [ 0 3] [ 0 5] [ 0 6] [ 0 7] [ 0 8] [ 1 0] [ 1 1] [ 1 2] [ 1 4] [ 1 5] [ 1 6] [ 1 7] [ 1 8] [ 2 0] [ 2 1] [ 2 2] [ 2 3] [ 2 4] [ 2 5] [ 2 6] [ 2 7] [ 3 0] [ 3 1] [ 3 2] [ 3 3] [ 3 4] [ 3 5] [ 3 6] [ 3 7] 1 8\n",
      "Turn  6 Player  -1\n",
      "   0 1 2 3 4 5 6 7 8 \n",
      "-----------------------\n",
      "0 |- - - - X - - - - |\n",
      "1 |- - - X - - - - O |\n",
      "2 |- - - - - - - - O |\n",
      "3 |- - - - - - - - O |\n",
      "-----------------------\n",
      "Turn  7 Player  1\n",
      "   0 1 2 3 4 5 6 7 8 \n",
      "-----------------------\n",
      "0 |- - - - X - - - X |\n",
      "1 |- - - X - - - - O |\n",
      "2 |- - - - - - - - O |\n",
      "3 |- - - - - - - - O |\n",
      "-----------------------\n",
      "[ 0 0] [ 0 1] [ 0 2] [ 0 3] [ 0 5] [ 0 6] [ 0 7] [ 1 0] [ 1 1] [ 1 2] [ 1 4] [ 1 5] [ 1 6] [ 1 7] [ 2 0] [ 2 1] [ 2 2] [ 2 3] [ 2 4] [ 2 5] [ 2 6] [ 2 7] [ 3 0] [ 3 1] [ 3 2] [ 3 3] [ 3 4] [ 3 5] [ 3 6] [ 3 7] "
     ]
    },
    {
     "ename": "KeyboardInterrupt",
     "evalue": "Interrupted by user",
     "output_type": "error",
     "traceback": [
      "\u001b[0;31m---------------------------------------------------------------------------\u001b[0m",
      "\u001b[0;31mKeyboardInterrupt\u001b[0m                         Traceback (most recent call last)",
      "\u001b[0;32m<ipython-input-365-ccefccab2777>\u001b[0m in \u001b[0;36m<module>\u001b[0;34m\u001b[0m\n\u001b[1;32m     26\u001b[0m \u001b[0marena\u001b[0m \u001b[0;34m=\u001b[0m \u001b[0mArena\u001b[0m\u001b[0;34m(\u001b[0m\u001b[0mp1\u001b[0m\u001b[0;34m,\u001b[0m \u001b[0mp2\u001b[0m\u001b[0;34m,\u001b[0m \u001b[0mgame\u001b[0m\u001b[0;34m,\u001b[0m \u001b[0mdisplay\u001b[0m\u001b[0;34m=\u001b[0m\u001b[0mgame\u001b[0m\u001b[0;34m.\u001b[0m\u001b[0mdisplay\u001b[0m\u001b[0;34m,\u001b[0m\u001b[0mtree1\u001b[0m\u001b[0;34m=\u001b[0m\u001b[0;32mNone\u001b[0m\u001b[0;34m,\u001b[0m\u001b[0mtree2\u001b[0m\u001b[0;34m=\u001b[0m\u001b[0mp2_tree\u001b[0m\u001b[0;34m)\u001b[0m\u001b[0;34m\u001b[0m\u001b[0;34m\u001b[0m\u001b[0m\n\u001b[1;32m     27\u001b[0m \u001b[0;31m# res=arena.playGames(10,verbose=True)\u001b[0m\u001b[0;34m\u001b[0m\u001b[0;34m\u001b[0m\u001b[0;34m\u001b[0m\u001b[0m\n\u001b[0;32m---> 28\u001b[0;31m \u001b[0marena\u001b[0m\u001b[0;34m.\u001b[0m\u001b[0mplayGame\u001b[0m\u001b[0;34m(\u001b[0m\u001b[0mverbose\u001b[0m\u001b[0;34m=\u001b[0m\u001b[0;32mTrue\u001b[0m\u001b[0;34m)\u001b[0m\u001b[0;34m\u001b[0m\u001b[0;34m\u001b[0m\u001b[0m\n\u001b[0m",
      "\u001b[0;32m~/projects/fiar/4IAR-RL/classes/arena.py\u001b[0m in \u001b[0;36mplayGame\u001b[0;34m(self, verbose, nnet, is_save_moves)\u001b[0m\n\u001b[1;32m     97\u001b[0m \u001b[0;34m\u001b[0m\u001b[0m\n\u001b[1;32m     98\u001b[0m \u001b[0;34m\u001b[0m\u001b[0m\n\u001b[0;32m---> 99\u001b[0;31m             \u001b[0maction\u001b[0m \u001b[0;34m=\u001b[0m \u001b[0mplayers\u001b[0m\u001b[0;34m[\u001b[0m\u001b[0mcurPlayer\u001b[0m \u001b[0;34m+\u001b[0m \u001b[0;36m1\u001b[0m\u001b[0;34m]\u001b[0m\u001b[0;34m(\u001b[0m\u001b[0mself\u001b[0m\u001b[0;34m.\u001b[0m\u001b[0mgame\u001b[0m\u001b[0;34m.\u001b[0m\u001b[0mgetCanonicalForm\u001b[0m\u001b[0;34m(\u001b[0m\u001b[0mboard\u001b[0m\u001b[0;34m,\u001b[0m \u001b[0mcurPlayer\u001b[0m\u001b[0;34m)\u001b[0m\u001b[0;34m)\u001b[0m\u001b[0;34m\u001b[0m\u001b[0;34m\u001b[0m\u001b[0m\n\u001b[0m\u001b[1;32m    100\u001b[0m \u001b[0;34m\u001b[0m\u001b[0m\n\u001b[1;32m    101\u001b[0m             \u001b[0mvalids\u001b[0m \u001b[0;34m=\u001b[0m \u001b[0mself\u001b[0m\u001b[0;34m.\u001b[0m\u001b[0mgame\u001b[0m\u001b[0;34m.\u001b[0m\u001b[0mgetValidMoves\u001b[0m\u001b[0;34m(\u001b[0m\u001b[0mself\u001b[0m\u001b[0;34m.\u001b[0m\u001b[0mgame\u001b[0m\u001b[0;34m.\u001b[0m\u001b[0mgetCanonicalForm\u001b[0m\u001b[0;34m(\u001b[0m\u001b[0mboard\u001b[0m\u001b[0;34m,\u001b[0m \u001b[0mcurPlayer\u001b[0m\u001b[0;34m)\u001b[0m\u001b[0;34m,\u001b[0m \u001b[0;36m1\u001b[0m\u001b[0;34m)\u001b[0m\u001b[0;34m\u001b[0m\u001b[0;34m\u001b[0m\u001b[0m\n",
      "\u001b[0;32m<ipython-input-365-ccefccab2777>\u001b[0m in \u001b[0;36m<lambda>\u001b[0;34m(x)\u001b[0m\n\u001b[1;32m     19\u001b[0m \u001b[0;34m\u001b[0m\u001b[0m\n\u001b[1;32m     20\u001b[0m \u001b[0mhuman_p\u001b[0m \u001b[0;34m=\u001b[0m \u001b[0mHumanBeckPlayer\u001b[0m\u001b[0;34m(\u001b[0m\u001b[0mgame\u001b[0m\u001b[0;34m)\u001b[0m\u001b[0;34m\u001b[0m\u001b[0;34m\u001b[0m\u001b[0m\n\u001b[0;32m---> 21\u001b[0;31m \u001b[0mp1\u001b[0m \u001b[0;34m=\u001b[0m \u001b[0;32mlambda\u001b[0m \u001b[0mx\u001b[0m\u001b[0;34m:\u001b[0m\u001b[0mhuman_p\u001b[0m\u001b[0;34m.\u001b[0m\u001b[0mplay\u001b[0m\u001b[0;34m(\u001b[0m\u001b[0mx\u001b[0m\u001b[0;34m)\u001b[0m\u001b[0;34m\u001b[0m\u001b[0;34m\u001b[0m\u001b[0m\n\u001b[0m\u001b[1;32m     22\u001b[0m \u001b[0;34m\u001b[0m\u001b[0m\n\u001b[1;32m     23\u001b[0m \u001b[0;31m# p1,_,p1_tree = tn.get_player(game, p1_row, temp=0,deterministic=False)\u001b[0m\u001b[0;34m\u001b[0m\u001b[0;34m\u001b[0m\u001b[0;34m\u001b[0m\u001b[0m\n",
      "\u001b[0;32m~/projects/fiar/4IAR-RL/classes/beck/beck_players.py\u001b[0m in \u001b[0;36mplay\u001b[0;34m(self, board)\u001b[0m\n\u001b[1;32m     25\u001b[0m                 \u001b[0mprint\u001b[0m\u001b[0;34m(\u001b[0m\u001b[0;34m\"[\"\u001b[0m\u001b[0;34m,\u001b[0m \u001b[0mint\u001b[0m\u001b[0;34m(\u001b[0m\u001b[0mi\u001b[0m\u001b[0;34m/\u001b[0m\u001b[0mself\u001b[0m\u001b[0;34m.\u001b[0m\u001b[0mgame\u001b[0m\u001b[0;34m.\u001b[0m\u001b[0mn\u001b[0m\u001b[0;34m)\u001b[0m\u001b[0;34m,\u001b[0m \u001b[0mint\u001b[0m\u001b[0;34m(\u001b[0m\u001b[0mi\u001b[0m\u001b[0;34m%\u001b[0m\u001b[0mself\u001b[0m\u001b[0;34m.\u001b[0m\u001b[0mgame\u001b[0m\u001b[0;34m.\u001b[0m\u001b[0mn\u001b[0m\u001b[0;34m)\u001b[0m\u001b[0;34m,\u001b[0m \u001b[0mend\u001b[0m\u001b[0;34m=\u001b[0m\u001b[0;34m\"] \"\u001b[0m\u001b[0;34m)\u001b[0m\u001b[0;34m\u001b[0m\u001b[0;34m\u001b[0m\u001b[0m\n\u001b[1;32m     26\u001b[0m         \u001b[0;32mwhile\u001b[0m \u001b[0;32mTrue\u001b[0m\u001b[0;34m:\u001b[0m\u001b[0;34m\u001b[0m\u001b[0;34m\u001b[0m\u001b[0m\n\u001b[0;32m---> 27\u001b[0;31m             \u001b[0minput_move\u001b[0m \u001b[0;34m=\u001b[0m \u001b[0minput\u001b[0m\u001b[0;34m(\u001b[0m\u001b[0;34m)\u001b[0m\u001b[0;34m\u001b[0m\u001b[0;34m\u001b[0m\u001b[0m\n\u001b[0m\u001b[1;32m     28\u001b[0m             \u001b[0minput_a\u001b[0m \u001b[0;34m=\u001b[0m \u001b[0minput_move\u001b[0m\u001b[0;34m.\u001b[0m\u001b[0msplit\u001b[0m\u001b[0;34m(\u001b[0m\u001b[0;34m\" \"\u001b[0m\u001b[0;34m)\u001b[0m\u001b[0;34m\u001b[0m\u001b[0;34m\u001b[0m\u001b[0m\n\u001b[1;32m     29\u001b[0m             \u001b[0;32mif\u001b[0m \u001b[0mlen\u001b[0m\u001b[0;34m(\u001b[0m\u001b[0minput_a\u001b[0m\u001b[0;34m)\u001b[0m \u001b[0;34m==\u001b[0m \u001b[0;36m2\u001b[0m\u001b[0;34m:\u001b[0m\u001b[0;34m\u001b[0m\u001b[0;34m\u001b[0m\u001b[0m\n",
      "\u001b[0;32m/ext3/miniconda3/envs/fourinarow/lib/python3.7/site-packages/ipykernel/kernelbase.py\u001b[0m in \u001b[0;36mraw_input\u001b[0;34m(self, prompt)\u001b[0m\n\u001b[1;32m    858\u001b[0m             \u001b[0mself\u001b[0m\u001b[0;34m.\u001b[0m\u001b[0m_parent_ident\u001b[0m\u001b[0;34m,\u001b[0m\u001b[0;34m\u001b[0m\u001b[0;34m\u001b[0m\u001b[0m\n\u001b[1;32m    859\u001b[0m             \u001b[0mself\u001b[0m\u001b[0;34m.\u001b[0m\u001b[0m_parent_header\u001b[0m\u001b[0;34m,\u001b[0m\u001b[0;34m\u001b[0m\u001b[0;34m\u001b[0m\u001b[0m\n\u001b[0;32m--> 860\u001b[0;31m             \u001b[0mpassword\u001b[0m\u001b[0;34m=\u001b[0m\u001b[0;32mFalse\u001b[0m\u001b[0;34m,\u001b[0m\u001b[0;34m\u001b[0m\u001b[0;34m\u001b[0m\u001b[0m\n\u001b[0m\u001b[1;32m    861\u001b[0m         )\n\u001b[1;32m    862\u001b[0m \u001b[0;34m\u001b[0m\u001b[0m\n",
      "\u001b[0;32m/ext3/miniconda3/envs/fourinarow/lib/python3.7/site-packages/ipykernel/kernelbase.py\u001b[0m in \u001b[0;36m_input_request\u001b[0;34m(self, prompt, ident, parent, password)\u001b[0m\n\u001b[1;32m    899\u001b[0m             \u001b[0;32mexcept\u001b[0m \u001b[0mKeyboardInterrupt\u001b[0m\u001b[0;34m:\u001b[0m\u001b[0;34m\u001b[0m\u001b[0;34m\u001b[0m\u001b[0m\n\u001b[1;32m    900\u001b[0m                 \u001b[0;31m# re-raise KeyboardInterrupt, to truncate traceback\u001b[0m\u001b[0;34m\u001b[0m\u001b[0;34m\u001b[0m\u001b[0;34m\u001b[0m\u001b[0m\n\u001b[0;32m--> 901\u001b[0;31m                 \u001b[0;32mraise\u001b[0m \u001b[0mKeyboardInterrupt\u001b[0m\u001b[0;34m(\u001b[0m\u001b[0;34m\"Interrupted by user\"\u001b[0m\u001b[0;34m)\u001b[0m \u001b[0;32mfrom\u001b[0m \u001b[0;32mNone\u001b[0m\u001b[0;34m\u001b[0m\u001b[0;34m\u001b[0m\u001b[0m\n\u001b[0m\u001b[1;32m    902\u001b[0m             \u001b[0;32mexcept\u001b[0m \u001b[0mException\u001b[0m \u001b[0;32mas\u001b[0m \u001b[0me\u001b[0m\u001b[0;34m:\u001b[0m\u001b[0;34m\u001b[0m\u001b[0;34m\u001b[0m\u001b[0m\n\u001b[1;32m    903\u001b[0m                 \u001b[0mself\u001b[0m\u001b[0;34m.\u001b[0m\u001b[0mlog\u001b[0m\u001b[0;34m.\u001b[0m\u001b[0mwarning\u001b[0m\u001b[0;34m(\u001b[0m\u001b[0;34m\"Invalid Message:\"\u001b[0m\u001b[0;34m,\u001b[0m \u001b[0mexc_info\u001b[0m\u001b[0;34m=\u001b[0m\u001b[0;32mTrue\u001b[0m\u001b[0;34m)\u001b[0m\u001b[0;34m\u001b[0m\u001b[0;34m\u001b[0m\u001b[0m\n",
      "\u001b[0;31mKeyboardInterrupt\u001b[0m: Interrupted by user"
     ]
    }
   ],
   "source": [
    "# p2_id = 'tournament_5;mcts100;cpuct2;id-0;12'#'tournament_6;mcts100;cpuct2;id-1;13'# #'tournament_6;mcts100;cpuct2;id-1;best'#\n",
    "#'tournament_1;mcts50;cpuct1;best'#'tournament_1;mcts100;cpuct2;best'#'tournament_4;mcts100;cpuct2;id-3754964;best'#'cog_id_1;tournament_4;mcts100;cpuct2;id-3754964;best'#'cog_id_1;tournament_1;mcts100;cpuct2;21'\n",
    "# p2_id = 'tournament_4;mcts100;cpuct2;id-3754964;best'#'tournament_1;mcts100;cpuct2;21'\n",
    "# p2_id = 'tournament_1;mcts100;cpuct2;best'\n",
    "# p2_id = p1_id\n",
    "# p2_id= 'tournament_1;mcts100;cpuct1;6'#'tournament_5;mcts100;cpuct2;id-1;48'\n",
    "#'tournament_1;mcts50;cpuct1;39'#'tournament_5;mcts100;cpuct2;id-0;best'#'tournament_1;mcts100;cpuct2;best'#'tournament_1;mcts100;cpuct2;21'\n",
    "\n",
    "game = Game(4,9,4)\n",
    "select_row_by_id = lambda id,df:df.loc[df['id']==id].iloc[0]\n",
    "p2_row = select_row_by_id(p2_id,all_p)\n",
    "\n",
    "p1_row = copy.copy(p2_row)\n",
    "p1_row.loc[:] = np.nan\n",
    "p1_row.other_type = 'human'\n",
    "# p2_row = select_row_by_id(p2_id,all_p)\n",
    "# p2_row = cd.merge_cog_with_mcts(all_p,'cog_id_1',p1_id)\n",
    "# p2_row.cpuct = 1\n",
    "\n",
    "human_p = HumanBeckPlayer(game)\n",
    "p1 = lambda x:human_p.play(x)\n",
    "\n",
    "# p1,_,p1_tree = tn.get_player(game, p1_row, temp=0,deterministic=False)\n",
    "p2,p2_val,p2_tree = tn.get_player(game, p2_row, temp=1/10,deterministic=False)\n",
    "# p1 = tn.get_player()\n",
    "arena = Arena(p1, p2, game, display=game.display,tree1=None,tree2=p2_tree)\n",
    "# res=arena.playGames(10,verbose=True)\n",
    "arena.playGame(verbose=True)"
   ]
  },
  {
   "cell_type": "code",
   "execution_count": 359,
   "metadata": {},
   "outputs": [],
   "source": [
    "# b_str = '''0 |- - - - - - - - O |\n",
    "# 1 |- - - - - - - - O |\n",
    "# 2 |- - - X X - - - O |\n",
    "# 3 |- - - - - - - - - |\n",
    "# '''\n",
    "# b_str='''0 |- - - - - - - - X |\n",
    "# 1 |- - - - - - - - X |\n",
    "# 2 |- - - O O O - - X |\n",
    "# 3 |- - - - - - - - - |'''\n",
    "b_str = '''0 |- - - - - - - - O |\n",
    "1 |- - - - - - - - O |\n",
    "2 |- - - X - - - - O |\n",
    "3 |- - - - X - - - - |\n",
    "'''\n",
    "b_str='''0 |- - - - - - - - O |\n",
    "1 |- - - - - - - - O |\n",
    "2 |- - - - - - - - O |\n",
    "3 |- - - - X X - - - |'''\n",
    "\n",
    "b_str='''0 |- - - - - - - - X |\n",
    "1 |- - - - - - - - X |\n",
    "2 |- - - - - - - - X |\n",
    "3 |- - - O O O - - - |\n",
    "'''\n",
    "b = game.get_board_from_xo_str(b_str)\n",
    "b = -b\n",
    "b\n",
    "b_str_rep = game.stringRepresentation(b)\n",
    "# b_str_rep = game.stringRepresentation(-b)"
   ]
  },
  {
   "cell_type": "code",
   "execution_count": 343,
   "metadata": {},
   "outputs": [
    {
     "data": {
      "text/plain": [
       "<module 'analysis.tree_helper' from '../analysis/tree_helper.py'>"
      ]
     },
     "execution_count": 343,
     "metadata": {},
     "output_type": "execute_result"
    }
   ],
   "source": [
    "from analysis import tree_helper as th\n",
    "importlib.reload(th)"
   ]
  },
  {
   "cell_type": "code",
   "execution_count": 2,
   "metadata": {},
   "outputs": [],
   "source": [
    "import beck.beck_game\n",
    "importlib.reload(beck.beck_game)\n",
    "from beck.beck_game import BeckGame as Game\n",
    "game = Game(4,9,4)"
   ]
  },
  {
   "cell_type": "code",
   "execution_count": 357,
   "metadata": {
    "scrolled": true
   },
   "outputs": [
    {
     "data": {
      "text/plain": [
       "array([[ 0,  0,  0,  0,  0,  0,  0,  0, -1],\n",
       "       [ 0,  0,  0,  0,  0,  0,  0,  0, -1],\n",
       "       [ 0,  0,  0,  0,  0,  0,  0,  0, -1],\n",
       "       [ 0,  0,  0,  0,  1,  1,  0,  0,  0]])"
      ]
     },
     "execution_count": 357,
     "metadata": {},
     "output_type": "execute_result"
    }
   ],
   "source": [
    "b"
   ]
  },
  {
   "cell_type": "code",
   "execution_count": 360,
   "metadata": {
    "scrolled": true
   },
   "outputs": [
    {
     "name": "stdout",
     "output_type": "stream",
     "text": [
      "new board\n",
      "   0 1 2 3 4 5 6 7 8 \n",
      "-----------------------\n",
      "0 |- - - - - - - - O |\n",
      "1 |- - - - O - - - O |\n",
      "2 |- - - - - - - - O |\n",
      "3 |- - - X X X - - - |\n",
      "-----------------------\n",
      "action 13\n",
      "value [-1.]\n",
      "\n",
      "new board\n",
      "   0 1 2 3 4 5 6 7 8 \n",
      "-----------------------\n",
      "0 |- - - - - - - - O |\n",
      "1 |- - - - - - - - O |\n",
      "2 |- - - - - - - - O |\n",
      "3 |- - - X X X - - O |\n",
      "-----------------------\n",
      "action 35\n",
      "value 1.0\n",
      "\n"
     ]
    },
    {
     "data": {
      "text/plain": [
       "[(array([[ 0,  0,  0,  0,  0,  0,  0,  0,  1],\n",
       "         [ 0,  0,  0,  0,  1,  0,  0,  0,  1],\n",
       "         [ 0,  0,  0,  0,  0,  0,  0,  0,  1],\n",
       "         [ 0,  0,  0, -1, -1, -1,  0,  0,  0]]),\n",
       "  13,\n",
       "  array([-1.], dtype=float32)),\n",
       " (array([[ 0,  0,  0,  0,  0,  0,  0,  0,  1],\n",
       "         [ 0,  0,  0,  0,  0,  0,  0,  0,  1],\n",
       "         [ 0,  0,  0,  0,  0,  0,  0,  0,  1],\n",
       "         [ 0,  0,  0, -1, -1, -1,  0,  0,  1]]),\n",
       "  35,\n",
       "  1.0)]"
      ]
     },
     "execution_count": 360,
     "metadata": {},
     "output_type": "execute_result"
    }
   ],
   "source": [
    "p2_tree.game=game\n",
    "th.get_children(b,p2_tree)"
   ]
  },
  {
   "cell_type": "code",
   "execution_count": 346,
   "metadata": {},
   "outputs": [],
   "source": [
    "self=p2_tree\n",
    "s=b_str_rep\n",
    "counts = np.array([self.Nsa[(s, a)] if (s, a) in self.Nsa else 0 for a in range(self.game.getActionSize())])\n",
    "vals = np.array([self.Qsa[(s, a)] if (s, a) in self.Qsa else 0 for a in range(self.game.getActionSize())]).astype(np.float32)\n",
    "ps = self.Ps[s]\n",
    "ns = self.Ns[s]"
   ]
  },
  {
   "cell_type": "code",
   "execution_count": 347,
   "metadata": {},
   "outputs": [
    {
     "data": {
      "text/plain": [
       "array([ 0,  4,  1,  0,  1,  0,  1,  2,  1,  0,  1,  5,  0,  1,  0,  0,  4,\n",
       "        0,  0,  0,  1,  0,  2,  2,  1,  2,  3, 61,  0,  0,  2,  0,  1,  2,\n",
       "        1,  1])"
      ]
     },
     "execution_count": 347,
     "metadata": {},
     "output_type": "execute_result"
    }
   ],
   "source": [
    "counts"
   ]
  },
  {
   "cell_type": "code",
   "execution_count": 348,
   "metadata": {},
   "outputs": [
    {
     "data": {
      "text/plain": [
       "array([ 0.   , -0.537, -0.221,  0.   , -1.   ,  0.   , -0.498, -0.014,\n",
       "       -0.973,  0.   , -0.995, -0.602,  0.   , -0.973,  0.   ,  0.   ,\n",
       "       -0.5  ,  0.   ,  0.   ,  0.   , -0.131,  0.   , -0.016, -0.448,\n",
       "       -0.526, -0.079, -0.335,  0.158,  0.   ,  0.   , -0.362,  0.   ,\n",
       "       -0.477, -0.137, -0.969, -0.847], dtype=float32)"
      ]
     },
     "execution_count": 348,
     "metadata": {},
     "output_type": "execute_result"
    }
   ],
   "source": [
    "vals"
   ]
  },
  {
   "cell_type": "code",
   "execution_count": 33,
   "metadata": {},
   "outputs": [],
   "source": [
    "np.set_printoptions(precision=3,suppress=True)"
   ]
  },
  {
   "cell_type": "code",
   "execution_count": 349,
   "metadata": {},
   "outputs": [
    {
     "data": {
      "text/plain": [
       "array([ 0.   ,  0.098, -0.123,  0.171, -0.905,  0.114, -0.227,  0.046,\n",
       "       -0.562,  0.   , -0.884,  0.17 ,  0.178, -0.871,  0.039,  0.114,\n",
       "        0.071,  0.168,  0.   ,  0.032,  0.087,  0.   ,  0.13 , -0.221,\n",
       "       -0.353, -0.01 ,  0.09 ,  0.173,  0.165,  0.095, -0.301,  0.   ,\n",
       "       -0.373, -0.003, -0.86 , -0.708])"
      ]
     },
     "execution_count": 349,
     "metadata": {},
     "output_type": "execute_result"
    }
   ],
   "source": [
    "eps = 1\n",
    "vals + 2 * ps * np.sqrt(ns + eps)/(1+counts)"
   ]
  },
  {
   "cell_type": "code",
   "execution_count": 362,
   "metadata": {},
   "outputs": [],
   "source": [
    "b = game.getInitBoard()\n",
    "# b[:-1,0] = -1\n",
    "b[:-1,-1] = -1\n",
    "# b[:-1,-2] = -1"
   ]
  },
  {
   "cell_type": "code",
   "execution_count": 363,
   "metadata": {},
   "outputs": [
    {
     "data": {
      "text/plain": [
       "array([[ 0,  0,  0,  0,  0,  0,  0,  0, -1],\n",
       "       [ 0,  0,  0,  0,  0,  0,  0,  0, -1],\n",
       "       [ 0,  0,  0,  0,  0,  0,  0,  0, -1],\n",
       "       [ 0,  0,  0,  0,  0,  0,  0,  0,  0]])"
      ]
     },
     "execution_count": 363,
     "metadata": {},
     "output_type": "execute_result"
    }
   ],
   "source": [
    "b"
   ]
  },
  {
   "cell_type": "code",
   "execution_count": 364,
   "metadata": {},
   "outputs": [
    {
     "name": "stdout",
     "output_type": "stream",
     "text": [
      "val [0.184]\n"
     ]
    },
    {
     "data": {
      "text/plain": [
       "<matplotlib.image.AxesImage at 0x1526b445a110>"
      ]
     },
     "execution_count": 364,
     "metadata": {},
     "output_type": "execute_result"
    },
    {
     "data": {
      "image/png": "[encoded data removed]",
      "text/plain": [
       "<Figure size 432x288 with 1 Axes>"
      ]
     },
     "metadata": {
      "needs_background": "light"
     },
     "output_type": "display_data"
    }
   ],
   "source": [
    "policy,val = p2_val.predict(b)\n",
    "print(f'val {val}')\n",
    "plt.imshow(policy.reshape(4,9))\n"
   ]
  },
  {
   "cell_type": "markdown",
   "metadata": {},
   "source": [
    "# partial model"
   ]
  },
  {
   "cell_type": "code",
   "execution_count": 243,
   "metadata": {},
   "outputs": [],
   "source": [
    "from tensorflow.python.keras import backend as K\n",
    "model = p2_val.nnet.model\n",
    "inp = model.input                                           # input placeholder\n",
    "outputs = [layer.output for layer in model.layers]          # all layer outputs\n",
    "functors = [K.function([inp, backend.symbolic_learning_phase()], [out]) for out in outputs]    # evaluation functions\n",
    "\n",
    "# Testing\n",
    "# test = np.random.random([4,9])[np.newaxis,...]\n",
    "# test = opt_boards[10:12]\n",
    "test = b[None,:,:]\n",
    "layer_outs = [func([test, False]) for func in functors]\n",
    "# print(layer_outs)"
   ]
  },
  {
   "cell_type": "code",
   "execution_count": 188,
   "metadata": {},
   "outputs": [
    {
     "data": {
      "text/plain": [
       "[<tensorflow.python.keras.engine.input_layer.InputLayer at 0x152718637bd0>,\n",
       " <tensorflow.python.keras.layers.core.Reshape at 0x15271972e690>,\n",
       " <tensorflow.python.keras.layers.convolutional.Conv2D at 0x15271016b7d0>,\n",
       " <tensorflow.python.keras.layers.normalization_v2.BatchNormalization at 0x1526d3d547d0>,\n",
       " <tensorflow.python.keras.layers.core.Activation at 0x1526d3ad6610>,\n",
       " <tensorflow.python.keras.layers.convolutional.Conv2D at 0x1527152506d0>,\n",
       " <tensorflow.python.keras.layers.normalization_v2.BatchNormalization at 0x1526d353bd90>,\n",
       " <tensorflow.python.keras.layers.core.Activation at 0x1527110c4e10>,\n",
       " <tensorflow.python.keras.layers.convolutional.Conv2D at 0x152719676cd0>,\n",
       " <tensorflow.python.keras.layers.normalization_v2.BatchNormalization at 0x15271524cbd0>,\n",
       " <tensorflow.python.keras.layers.core.Activation at 0x1526d36b39d0>,\n",
       " <tensorflow.python.keras.layers.convolutional.Conv2D at 0x152719653390>,\n",
       " <tensorflow.python.keras.layers.normalization_v2.BatchNormalization at 0x1527196735d0>,\n",
       " <tensorflow.python.keras.layers.core.Activation at 0x15271524bdd0>,\n",
       " <tensorflow.python.keras.layers.core.Flatten at 0x15271966de90>,\n",
       " <tensorflow.python.keras.layers.core.Dense at 0x152719604590>,\n",
       " <tensorflow.python.keras.layers.normalization_v2.BatchNormalization at 0x152719602c50>,\n",
       " <tensorflow.python.keras.layers.core.Activation at 0x1527195fedd0>,\n",
       " <tensorflow.python.keras.layers.core.Dropout at 0x152719651890>,\n",
       " <tensorflow.python.keras.layers.core.Dense at 0x152711a19d10>,\n",
       " <tensorflow.python.keras.layers.normalization_v2.BatchNormalization at 0x15271961f2d0>,\n",
       " <tensorflow.python.keras.layers.core.Activation at 0x152719604a10>,\n",
       " <tensorflow.python.keras.layers.core.Dropout at 0x1526d2ca8bd0>,\n",
       " <tensorflow.python.keras.layers.core.Dense at 0x152711a55450>,\n",
       " <tensorflow.python.keras.layers.core.Dense at 0x1527195c5450>]"
      ]
     },
     "execution_count": 188,
     "metadata": {},
     "output_type": "execute_result"
    }
   ],
   "source": [
    "model.layers"
   ]
  },
  {
   "cell_type": "code",
   "execution_count": 366,
   "metadata": {},
   "outputs": [
    {
     "data": {
      "text/plain": [
       "(1, 1, 6, 512)"
      ]
     },
     "execution_count": 366,
     "metadata": {},
     "output_type": "execute_result"
    }
   ],
   "source": [
    "layer_outs[1 + 4 * 3][0].shape"
   ]
  },
  {
   "cell_type": "code",
   "execution_count": 244,
   "metadata": {},
   "outputs": [
    {
     "data": {
      "text/plain": [
       "<matplotlib.image.AxesImage at 0x1527169dd510>"
      ]
     },
     "execution_count": 244,
     "metadata": {},
     "output_type": "execute_result"
    },
    {
     "data": {
      "image/png": "[encoded data removed]",
      "text/plain": [
       "<Figure size 432x288 with 1 Axes>"
      ]
     },
     "metadata": {
      "needs_background": "light"
     },
     "output_type": "display_data"
    }
   ],
   "source": [
    "plt.imshow(layer_outs[1 + 4 * 3][0][0,0],aspect='auto')\n",
    "\n"
   ]
  },
  {
   "cell_type": "code",
   "execution_count": 240,
   "metadata": {},
   "outputs": [
    {
     "data": {
      "text/plain": [
       "<matplotlib.image.AxesImage at 0x152716e89e10>"
      ]
     },
     "execution_count": 240,
     "metadata": {},
     "output_type": "execute_result"
    },
    {
     "data": {
      "image/png": "[encoded data removed]",
      "text/plain": [
       "<Figure size 432x288 with 1 Axes>"
      ]
     },
     "metadata": {
      "needs_background": "light"
     },
     "output_type": "display_data"
    }
   ],
   "source": [
    "plt.imshow(layer_outs[1 + 4 * 3][0][0,0],aspect='auto')\n",
    "\n"
   ]
  },
  {
   "cell_type": "code",
   "execution_count": null,
   "metadata": {},
   "outputs": [],
   "source": []
  },
  {
   "cell_type": "markdown",
   "metadata": {},
   "source": [
    "# find similar boards in trainexamples"
   ]
  },
  {
   "cell_type": "code",
   "execution_count": 319,
   "metadata": {},
   "outputs": [],
   "source": [
    "from cog_related import cog_value_net as cvn"
   ]
  },
  {
   "cell_type": "code",
   "execution_count": 321,
   "metadata": {},
   "outputs": [],
   "source": [
    "feat_vals,feat_names = cvn.get_all_feat(te_batch,cvn.get_inv_dist_to_center(game))"
   ]
  },
  {
   "cell_type": "code",
   "execution_count": 336,
   "metadata": {},
   "outputs": [
    {
     "data": {
      "text/plain": [
       "array([[ 1,  0,  0, -1,  1,  0,  0,  0, -1],\n",
       "       [ 0,  0,  0,  0,  1, -1,  1,  1,  0],\n",
       "       [-1,  1,  0,  0, -1, -1,  1,  0, -1],\n",
       "       [-1,  0, -1,  0,  0,  0,  1,  0,  1]])"
      ]
     },
     "execution_count": 336,
     "metadata": {},
     "output_type": "execute_result"
    }
   ],
   "source": [
    "te_batch[(feat_vals[:,-2]==1)][40]"
   ]
  },
  {
   "cell_type": "code",
   "execution_count": 320,
   "metadata": {},
   "outputs": [
    {
     "data": {
      "text/plain": [
       "array([[[ 0,  0,  0, ...,  0,  0,  0],\n",
       "        [ 0,  0,  0, ...,  0,  0,  0],\n",
       "        [ 0,  0,  0, ...,  0,  0,  0],\n",
       "        [ 0,  0,  0, ...,  0,  0,  0]],\n",
       "\n",
       "       [[ 0,  0,  0, ...,  0,  0,  0],\n",
       "        [ 0,  0,  0, ...,  0,  0,  0],\n",
       "        [ 0,  0,  0, ...,  0,  0,  0],\n",
       "        [ 0,  0,  0, ...,  0,  0,  0]],\n",
       "\n",
       "       [[ 0,  0,  0, ...,  0,  0,  0],\n",
       "        [ 0,  0,  0, ...,  0,  0,  0],\n",
       "        [ 0,  0,  0, ...,  0,  0,  0],\n",
       "        [ 0,  0,  0, ...,  0,  0,  0]],\n",
       "\n",
       "       ...,\n",
       "\n",
       "       [[-1,  1,  1, ...,  1,  1, -1],\n",
       "        [-1,  1,  1, ..., -1,  1,  0],\n",
       "        [ 1,  1,  1, ...,  1,  1,  1],\n",
       "        [-1, -1, -1, ...,  1, -1, -1]],\n",
       "\n",
       "       [[-1,  1,  1, ...,  1,  1, -1],\n",
       "        [ 0,  1, -1, ...,  1,  1, -1],\n",
       "        [ 1,  1,  1, ...,  1,  1,  1],\n",
       "        [-1, -1,  1, ..., -1, -1, -1]],\n",
       "\n",
       "       [[-1, -1, -1, ...,  1, -1, -1],\n",
       "        [ 1,  1,  1, ...,  1,  1,  1],\n",
       "        [-1,  1,  1, ..., -1,  1,  0],\n",
       "        [-1,  1,  1, ...,  1,  1, -1]]])"
      ]
     },
     "execution_count": 320,
     "metadata": {},
     "output_type": "execute_result"
    }
   ],
   "source": [
    "te_batch"
   ]
  },
  {
   "cell_type": "code",
   "execution_count": 317,
   "metadata": {},
   "outputs": [
    {
     "name": "stderr",
     "output_type": "stream",
     "text": [
      "/ext3/miniconda3/envs/fourinarow/lib/python3.7/site-packages/ipykernel_launcher.py:16: RuntimeWarning: invalid value encountered in true_divide\n",
      "  app.launch_new_instance()\n"
     ]
    },
    {
     "data": {
      "text/plain": [
       "(array([[ 0,  0,  0,  1,  0,  0,  0,  0,  0],\n",
       "        [ 0,  0,  0,  0,  0,  1,  0, -1,  0],\n",
       "        [ 0,  0,  0,  0,  0,  0,  0,  0, -1],\n",
       "        [ 0,  0,  0,  0,  0,  0,  0,  0,  0]]),\n",
       " array([0.  , 0.03, 0.96, 0.  , 0.  , 0.  , 0.  , 0.  , 0.  , 0.  , 0.  ,\n",
       "        0.01, 0.  , 0.  , 0.  , 0.  , 0.  , 0.  , 0.  , 0.  , 0.  , 0.  ,\n",
       "        0.  , 0.  , 0.  , 0.  , 0.  , 0.  , 0.  , 0.  , 0.  , 0.  , 0.  ,\n",
       "        0.  , 0.  , 0.  ]),\n",
       " 1)"
      ]
     },
     "execution_count": 317,
     "metadata": {},
     "output_type": "execute_result"
    }
   ],
   "source": [
    "modelFile = p2_row.mcts_location\n",
    "# modelFile=modelFile.replace('best','checkpoint_47')\n",
    "examplesFile = modelFile + \".examples\"\n",
    "with open(examplesFile, \"rb\") as f:\n",
    "    trainExamplesHistory = Unpickler(f).load()\n",
    "\n",
    "trainExamples = []\n",
    "for e in trainExamplesHistory:\n",
    "    trainExamples.extend(e)\n",
    "\n",
    "def stddize(x):\n",
    "    return (x - x.mean(axis=(-1,-2),keepdims=True) / x.std(axis=(-1,-2),keepdims=True))\n",
    "\n",
    "te_batch = np.stack([te[0] for te in trainExamples],axis=0)\n",
    "\n",
    "te_batch_stddz = (te_batch - te_batch.mean(axis=(1,2),keepdims=True)) / te_batch.std(axis=(1,2),keepdims=True)\n",
    "\n",
    "b_stddz = stddize(b)\n",
    "\n",
    "prod = np.einsum('ij,bij->b',b_stddz,te_batch_stddz)\n",
    "\n",
    "ind=np.nanargmax(prod)\n",
    "\n",
    "trainExamples[ind]"
   ]
  },
  {
   "cell_type": "markdown",
   "metadata": {},
   "source": [
    "# other failures"
   ]
  },
  {
   "cell_type": "code",
   "execution_count": 48,
   "metadata": {},
   "outputs": [
    {
     "name": "stdout",
     "output_type": "stream",
     "text": [
      "Turn  1 Player  1\n",
      "   0 1 2 3 4 5 6 7 8 \n",
      "-----------------------\n",
      "0 |- - - - - - - - - |\n",
      "1 |- - - - - - - - - |\n",
      "2 |- - - - - - - - - |\n",
      "3 |- - - - - - - - - |\n",
      "-----------------------\n",
      "Turn  2 Player  -1\n",
      "   0 1 2 3 4 5 6 7 8 \n",
      "-----------------------\n",
      "0 |- - - - - - - - - |\n",
      "1 |- - - - - - - - - |\n",
      "2 |- - - - - - - - - |\n",
      "3 |- - - - - O - - - |\n",
      "-----------------------\n",
      "[ 0 0] [ 0 1] [ 0 2] [ 0 3] [ 0 4] [ 0 5] [ 0 6] [ 0 7] [ 0 8] [ 1 0] [ 1 1] [ 1 2] [ 1 3] [ 1 4] [ 1 5] [ 1 6] [ 1 7] [ 1 8] [ 2 0] [ 2 1] [ 2 2] [ 2 3] [ 2 4] [ 2 5] [ 2 6] [ 2 7] [ 2 8] [ 3 0] [ 3 1] [ 3 2] [ 3 3] [ 3 4] [ 3 6] [ 3 7] [ 3 8] 3 6\n",
      "Turn  3 Player  1\n",
      "   0 1 2 3 4 5 6 7 8 \n",
      "-----------------------\n",
      "0 |- - - - - - - - - |\n",
      "1 |- - - - - - - - - |\n",
      "2 |- - - - - - - - - |\n",
      "3 |- - - - - O X - - |\n",
      "-----------------------\n",
      "Turn  4 Player  -1\n",
      "   0 1 2 3 4 5 6 7 8 \n",
      "-----------------------\n",
      "0 |- - - - - - - - - |\n",
      "1 |- - - - - - - - - |\n",
      "2 |- - - - - - O - - |\n",
      "3 |- - - - - O X - - |\n",
      "-----------------------\n",
      "[ 0 0] [ 0 1] [ 0 2] [ 0 3] [ 0 4] [ 0 5] [ 0 6] [ 0 7] [ 0 8] [ 1 0] [ 1 1] [ 1 2] [ 1 3] [ 1 4] [ 1 5] [ 1 6] [ 1 7] [ 1 8] [ 2 0] [ 2 1] [ 2 2] [ 2 3] [ 2 4] [ 2 5] [ 2 7] [ 2 8] [ 3 0] [ 3 1] [ 3 2] [ 3 3] [ 3 4] [ 3 7] [ 3 8] 2 5\n",
      "Turn  5 Player  1\n",
      "   0 1 2 3 4 5 6 7 8 \n",
      "-----------------------\n",
      "0 |- - - - - - - - - |\n",
      "1 |- - - - - - - - - |\n",
      "2 |- - - - - X O - - |\n",
      "3 |- - - - - O X - - |\n",
      "-----------------------\n",
      "Turn  6 Player  -1\n",
      "   0 1 2 3 4 5 6 7 8 \n",
      "-----------------------\n",
      "0 |- - - - - - - - - |\n",
      "1 |- - - - - - - O - |\n",
      "2 |- - - - - X O - - |\n",
      "3 |- - - - - O X - - |\n",
      "-----------------------\n",
      "[ 0 0] [ 0 1] [ 0 2] [ 0 3] [ 0 4] [ 0 5] [ 0 6] [ 0 7] [ 0 8] [ 1 0] [ 1 1] [ 1 2] [ 1 3] [ 1 4] [ 1 5] [ 1 6] [ 1 8] [ 2 0] [ 2 1] [ 2 2] [ 2 3] [ 2 4] [ 2 7] [ 2 8] [ 3 0] [ 3 1] [ 3 2] [ 3 3] [ 3 4] [ 3 7] [ 3 8] 1 4\n",
      "Turn  7 Player  1\n",
      "   0 1 2 3 4 5 6 7 8 \n",
      "-----------------------\n",
      "0 |- - - - - - - - - |\n",
      "1 |- - - - X - - O - |\n",
      "2 |- - - - - X O - - |\n",
      "3 |- - - - - O X - - |\n",
      "-----------------------\n",
      "Game over: Turn  7 Result  1\n",
      "   0 1 2 3 4 5 6 7 8 \n",
      "-----------------------\n",
      "0 |- - - - - - - - O |\n",
      "1 |- - - - X - - O - |\n",
      "2 |- - - - - X O - - |\n",
      "3 |- - - - - O X - - |\n",
      "-----------------------\n"
     ]
    },
    {
     "data": {
      "text/plain": [
       "1"
      ]
     },
     "execution_count": 48,
     "metadata": {},
     "output_type": "execute_result"
    }
   ],
   "source": [
    "\n",
    "game = Game(4,9,4)\n",
    "select_row_by_id = lambda id,df:df.loc[df['id']==id].iloc[0]\n",
    "p2_id = 'tournament_1;mcts100;cpuct2;best'\n",
    "p2_row = select_row_by_id(p2_id,all_p)\n",
    "\n",
    "p1_row = copy.copy(p2_row)\n",
    "p1_row.loc[:] = np.nan\n",
    "p1_row.other_type = 'human'\n",
    "# p2_row = select_row_by_id(p2_id,all_p)\n",
    "# p2_row = cd.merge_cog_with_mcts(all_p,'cog_id_1',p1_id)\n",
    "# p2_row.cpuct = 1\n",
    "\n",
    "human_p = HumanBeckPlayer(game)\n",
    "p1 = lambda x:human_p.play(x)\n",
    "\n",
    "# p1,_,p1_tree = tn.get_player(game, p1_row, temp=0,deterministic=False)\n",
    "p2,p2_val,p2_tree = tn.get_player(game, p2_row, temp=1/10,deterministic=False)\n",
    "\n",
    "arena = Arena(p2, p1, game, display=game.display,tree1=None,tree2=p2_tree)\n",
    "# res=arena.playGames(10,verbose=True)\n",
    "arena.playGame(verbose=True)\n"
   ]
  },
  {
   "cell_type": "code",
   "execution_count": 63,
   "metadata": {},
   "outputs": [
    {
     "data": {
      "text/plain": [
       "array([[ 0,  0,  0,  0,  1, -1,  0, -1,  0],\n",
       "       [ 0,  0, -1,  1,  1,  1, -1,  0,  0],\n",
       "       [-1,  1,  1,  1, -1,  1,  1,  0,  0],\n",
       "       [ 0, -1,  1, -1, -1,  0,  0,  0,  0]])"
      ]
     },
     "execution_count": 63,
     "metadata": {},
     "output_type": "execute_result"
    }
   ],
   "source": [
    "b_str = '''0 |- - - - O X - X - |\n",
    "1 |- - X O O O X - - |\n",
    "2 |X O O O X O O - - |\n",
    "3 |- X O X X - - - - |\n",
    "'''\n",
    "# b_str='''0 |- - - - O X - X - |\n",
    "# 1 |- - X O O O X - - |\n",
    "# 2 |X O O O X O O X - |\n",
    "# 3 |- X O X X - - - - |\n",
    "# '''\n",
    "\n",
    "b = game.get_board_from_xo_str(b_str)\n",
    "# b = -b\n",
    "b_str_rep = b.tostring()\n",
    "b"
   ]
  },
  {
   "cell_type": "code",
   "execution_count": 37,
   "metadata": {},
   "outputs": [
    {
     "data": {
      "text/plain": [
       "array([[ 0,  0,  0, -1, -1,  1,  0,  1,  0],\n",
       "       [ 0,  0,  1, -1, -1, -1,  1,  0,  0],\n",
       "       [ 1, -1, -1, -1,  1, -1, -1,  1,  0],\n",
       "       [ 0,  1, -1,  1,  1,  0,  0,  0,  0]])"
      ]
     },
     "execution_count": 37,
     "metadata": {},
     "output_type": "execute_result"
    }
   ],
   "source": [
    "b[0,3] = 1\n",
    "b = -b\n",
    "b_str_rep = b.tostring()\n",
    "b"
   ]
  },
  {
   "cell_type": "code",
   "execution_count": 40,
   "metadata": {},
   "outputs": [],
   "source": [
    "self=p2_tree\n",
    "s=b_str_rep\n",
    "counts = np.array([self.Nsa[(s, a)] if (s, a) in self.Nsa else 0 for a in range(self.game.getActionSize())])\n",
    "vals = np.array([self.Qsa[(s, a)] if (s, a) in self.Qsa else 0 for a in range(self.game.getActionSize())]).astype(np.float32)\n",
    "ps = self.Ps[s]\n",
    "ns = self.Ns[s]"
   ]
  },
  {
   "cell_type": "code",
   "execution_count": 41,
   "metadata": {},
   "outputs": [
    {
     "data": {
      "text/plain": [
       "[0.0,\n",
       " 0.0,\n",
       " 0.0,\n",
       " 0.026881720430107527,\n",
       " 0.0,\n",
       " 0.0,\n",
       " 0.0,\n",
       " 0.0,\n",
       " 0.0,\n",
       " 0.0,\n",
       " 0.0,\n",
       " 0.0,\n",
       " 0.0,\n",
       " 0.0,\n",
       " 0.0,\n",
       " 0.0,\n",
       " 0.0,\n",
       " 0.0,\n",
       " 0.0,\n",
       " 0.0,\n",
       " 0.0,\n",
       " 0.0,\n",
       " 0.0,\n",
       " 0.0,\n",
       " 0.0,\n",
       " 0.0,\n",
       " 0.0,\n",
       " 0.0,\n",
       " 0.0,\n",
       " 0.0,\n",
       " 0.0,\n",
       " 0.0,\n",
       " 0.0,\n",
       " 0.0,\n",
       " 0.3817204301075269,\n",
       " 0.5913978494623656]"
      ]
     },
     "execution_count": 41,
     "metadata": {},
     "output_type": "execute_result"
    }
   ],
   "source": [
    "p2_tree.getActionProb(b)"
   ]
  },
  {
   "cell_type": "code",
   "execution_count": 26,
   "metadata": {},
   "outputs": [
    {
     "data": {
      "text/plain": [
       "array([[ 0,  0,  0,  0,  1, -1,  0,  0,  0],\n",
       "       [ 0,  0,  0,  0,  1,  1, -1,  0,  0],\n",
       "       [ 0,  0,  0,  0,  0,  1,  1,  0,  0],\n",
       "       [ 0,  0,  0,  0,  0,  0,  0,  0,  0]])"
      ]
     },
     "execution_count": 26,
     "metadata": {},
     "output_type": "execute_result"
    }
   ],
   "source": [
    "b = game.getInitBoard()\n",
    "b[0,4]=1\n",
    "b[1,5]=1\n",
    "b[2,6]=1\n",
    "b[1,4]=1\n",
    "b[2,5]=1\n",
    "b[0,5]=-1\n",
    "b[1,6]=-1\n",
    "b"
   ]
  },
  {
   "cell_type": "code",
   "execution_count": 54,
   "metadata": {},
   "outputs": [
    {
     "data": {
      "text/plain": [
       "array([[ 0,  0,  0,  0,  1, -1,  0, -1,  0],\n",
       "       [ 0,  0, -1,  1,  1,  1, -1,  0,  0],\n",
       "       [-1,  1,  1,  1, -1,  1,  1, -1,  0],\n",
       "       [ 0, -1,  1, -1, -1,  0,  0,  0,  0]])"
      ]
     },
     "execution_count": 54,
     "metadata": {},
     "output_type": "execute_result"
    }
   ],
   "source": [
    "b"
   ]
  },
  {
   "cell_type": "code",
   "execution_count": 53,
   "metadata": {},
   "outputs": [
    {
     "name": "stdout",
     "output_type": "stream",
     "text": [
      "[0.019]\n"
     ]
    },
    {
     "data": {
      "text/plain": [
       "<matplotlib.image.AxesImage at 0x149ed0594050>"
      ]
     },
     "execution_count": 53,
     "metadata": {},
     "output_type": "execute_result"
    },
    {
     "data": {
      "image/png": "[encoded data removed]",
      "text/plain": [
       "<Figure size 432x288 with 1 Axes>"
      ]
     },
     "metadata": {
      "needs_background": "light"
     },
     "output_type": "display_data"
    }
   ],
   "source": [
    "po,va = p2_val.predict(b)\n",
    "print(va)\n",
    "plt.imshow(po.reshape(4,9))"
   ]
  },
  {
   "cell_type": "code",
   "execution_count": 2,
   "metadata": {},
   "outputs": [
    {
     "data": {
      "text/plain": [
       "<module 'supervised_learning' from '../classes/supervised_learning.py'>"
      ]
     },
     "execution_count": 2,
     "metadata": {},
     "output_type": "execute_result"
    }
   ],
   "source": [
    "import supervised_learning as sl\n",
    "from importlib import reload\n",
    "reload(sl)"
   ]
  },
  {
   "cell_type": "code",
   "execution_count": 17,
   "metadata": {},
   "outputs": [],
   "source": [
    "sl_folder = '/scratch/zz737/fiar/sl'\n",
    "\n",
    "args = sl.args\n",
    "args.num_channels=256\n",
    "ores=sl.OthelloNNet_resnet(game,args)\n",
    "resnet = sl.NNetWrapper(game,args,ores)\n",
    "resnet.load_checkpoint(folder=sl_folder, filename='res_Ex_tournament_6_mcts100_cpuct2_id_1_iter55.pth.tar')\n",
    "\n",
    "args = sl.get_args()\n",
    "oks4 =sl.OthelloNNet_ks4(game,args)\n",
    "ks4net = sl.NNetWrapper(game,args,oks4)\n",
    "ks4net.load_checkpoint(folder=sl_folder, filename = 'ks4_Ex_tournament_1_mcts100_cpuct2_iter39.pth.tar')\n"
   ]
  },
  {
   "cell_type": "code",
   "execution_count": 84,
   "metadata": {},
   "outputs": [
    {
     "data": {
      "text/plain": [
       "array([[ 0,  0,  0,  0, -1,  1,  0,  1,  0],\n",
       "       [ 0,  0,  1, -1, -1, -1,  1,  0,  0],\n",
       "       [ 1, -1, -1, -1,  1, -1, -1,  0,  0],\n",
       "       [ 0,  1, -1,  1,  1,  0,  0,  0,  0]])"
      ]
     },
     "execution_count": 84,
     "metadata": {},
     "output_type": "execute_result"
    }
   ],
   "source": [
    "-b"
   ]
  },
  {
   "cell_type": "code",
   "execution_count": 57,
   "metadata": {},
   "outputs": [
    {
     "name": "stdout",
     "output_type": "stream",
     "text": [
      "[0.019]\n"
     ]
    },
    {
     "data": {
      "text/plain": [
       "<matplotlib.image.AxesImage at 0x149ed00d6110>"
      ]
     },
     "execution_count": 57,
     "metadata": {},
     "output_type": "execute_result"
    },
    {
     "data": {
      "image/png": "[encoded data removed]",
      "text/plain": [
       "<Figure size 432x288 with 1 Axes>"
      ]
     },
     "metadata": {
      "needs_background": "light"
     },
     "output_type": "display_data"
    }
   ],
   "source": [
    "po,va = p2_val.predict(b)\n",
    "print(va)\n",
    "plt.imshow(po.reshape(4,9))"
   ]
  },
  {
   "cell_type": "code",
   "execution_count": 65,
   "metadata": {},
   "outputs": [
    {
     "data": {
      "text/plain": [
       "array([[ 0,  0,  0,  0,  1, -1,  0, -1,  0],\n",
       "       [ 0,  0, -1,  1,  1,  1, -1,  0,  0],\n",
       "       [-1,  1,  1,  1, -1,  1,  1,  0,  0],\n",
       "       [ 0, -1,  1, -1, -1,  0,  0,  0,  0]])"
      ]
     },
     "execution_count": 65,
     "metadata": {},
     "output_type": "execute_result"
    }
   ],
   "source": [
    "b"
   ]
  },
  {
   "cell_type": "code",
   "execution_count": 85,
   "metadata": {},
   "outputs": [],
   "source": [
    "restree = mcts.MCTS(game,resnet,mctsargs)\n",
    "\n",
    "ks4tree = mcts.MCTS(game,ks4net, mctsargs)"
   ]
  },
  {
   "cell_type": "code",
   "execution_count": 67,
   "metadata": {
    "scrolled": true
   },
   "outputs": [
    {
     "data": {
      "text/plain": [
       "[0.010101010101010102,\n",
       " 0.010101010101010102,\n",
       " 0.010101010101010102,\n",
       " 0.010101010101010102,\n",
       " 0.0,\n",
       " 0.0,\n",
       " 0.04040404040404041,\n",
       " 0.0,\n",
       " 0.010101010101010102,\n",
       " 0.010101010101010102,\n",
       " 0.010101010101010102,\n",
       " 0.0,\n",
       " 0.0,\n",
       " 0.0,\n",
       " 0.0,\n",
       " 0.0,\n",
       " 0.010101010101010102,\n",
       " 0.010101010101010102,\n",
       " 0.0,\n",
       " 0.0,\n",
       " 0.0,\n",
       " 0.0,\n",
       " 0.0,\n",
       " 0.0,\n",
       " 0.0,\n",
       " 0.04040404040404041,\n",
       " 0.010101010101010102,\n",
       " 0.010101010101010102,\n",
       " 0.0,\n",
       " 0.0,\n",
       " 0.0,\n",
       " 0.0,\n",
       " 0.010101010101010102,\n",
       " 0.010101010101010102,\n",
       " 0.7777777777777778,\n",
       " 0.010101010101010102]"
      ]
     },
     "execution_count": 67,
     "metadata": {},
     "output_type": "execute_result"
    }
   ],
   "source": [
    "restree.getActionProb(-b)"
   ]
  },
  {
   "cell_type": "code",
   "execution_count": 87,
   "metadata": {},
   "outputs": [
    {
     "data": {
      "text/plain": [
       "[0.0,\n",
       " 0.0,\n",
       " 0.0,\n",
       " 0.0,\n",
       " 0.0,\n",
       " 0.0,\n",
       " 0.0,\n",
       " 0.0,\n",
       " 0.0,\n",
       " 0.0,\n",
       " 0.0,\n",
       " 0.0,\n",
       " 0.0,\n",
       " 0.0,\n",
       " 0.0,\n",
       " 0.0,\n",
       " 0.0,\n",
       " 0.010101010101010102,\n",
       " 0.0,\n",
       " 0.0,\n",
       " 0.0,\n",
       " 0.0,\n",
       " 0.0,\n",
       " 0.0,\n",
       " 0.0,\n",
       " 0.8787878787878788,\n",
       " 0.0,\n",
       " 0.0,\n",
       " 0.0,\n",
       " 0.0,\n",
       " 0.0,\n",
       " 0.0,\n",
       " 0.0,\n",
       " 0.0,\n",
       " 0.1111111111111111,\n",
       " 0.0]"
      ]
     },
     "execution_count": 87,
     "metadata": {},
     "output_type": "execute_result"
    }
   ],
   "source": [
    "p2_tree.getActionProb(-b)"
   ]
  },
  {
   "cell_type": "code",
   "execution_count": 86,
   "metadata": {},
   "outputs": [
    {
     "data": {
      "text/plain": [
       "[0.0,\n",
       " 0.0,\n",
       " 0.0,\n",
       " 0.020202020202020204,\n",
       " 0.0,\n",
       " 0.0,\n",
       " 0.08080808080808081,\n",
       " 0.0,\n",
       " 0.0,\n",
       " 0.010101010101010102,\n",
       " 0.0,\n",
       " 0.0,\n",
       " 0.0,\n",
       " 0.0,\n",
       " 0.0,\n",
       " 0.0,\n",
       " 0.0,\n",
       " 0.0,\n",
       " 0.0,\n",
       " 0.0,\n",
       " 0.0,\n",
       " 0.0,\n",
       " 0.0,\n",
       " 0.0,\n",
       " 0.0,\n",
       " 0.43434343434343436,\n",
       " 0.010101010101010102,\n",
       " 0.0,\n",
       " 0.0,\n",
       " 0.0,\n",
       " 0.0,\n",
       " 0.0,\n",
       " 0.030303030303030304,\n",
       " 0.0,\n",
       " 0.41414141414141414,\n",
       " 0.0]"
      ]
     },
     "execution_count": 86,
     "metadata": {},
     "output_type": "execute_result"
    }
   ],
   "source": [
    "ks4tree.getActionProb(-b)"
   ]
  },
  {
   "cell_type": "code",
   "execution_count": 89,
   "metadata": {},
   "outputs": [
    {
     "name": "stdout",
     "output_type": "stream",
     "text": [
      "Turn  1 Player  1\n",
      "   0 1 2 3 4 5 6 7 8 \n",
      "-----------------------\n",
      "0 |- - - - - - - - - |\n",
      "1 |- - - - - - - - - |\n",
      "2 |- - - - - - - - - |\n",
      "3 |- - - - - - - - - |\n",
      "-----------------------\n",
      "[ 0 0] [ 0 1] [ 0 2] [ 0 3] [ 0 4] [ 0 5] [ 0 6] [ 0 7] [ 0 8] [ 1 0] [ 1 1] [ 1 2] [ 1 3] [ 1 4] [ 1 5] [ 1 6] [ 1 7] [ 1 8] [ 2 0] [ 2 1] [ 2 2] [ 2 3] [ 2 4] [ 2 5] [ 2 6] [ 2 7] [ 2 8] [ 3 0] [ 3 1] [ 3 2] [ 3 3] [ 3 4] [ 3 5] [ 3 6] [ 3 7] [ 3 8] 0 0\n",
      "Turn  2 Player  -1\n",
      "   0 1 2 3 4 5 6 7 8 \n",
      "-----------------------\n",
      "0 |O - - - - - - - - |\n",
      "1 |- - - - - - - - - |\n",
      "2 |- - - - - - - - - |\n",
      "3 |- - - - - - - - - |\n",
      "-----------------------\n",
      "Turn  3 Player  1\n",
      "   0 1 2 3 4 5 6 7 8 \n",
      "-----------------------\n",
      "0 |O - - - - - - - - |\n",
      "1 |- - - - - - - - - |\n",
      "2 |- - - - - - - - - |\n",
      "3 |- - - X - - - - - |\n",
      "-----------------------\n",
      "[ 0 1] [ 0 2] [ 0 3] [ 0 4] [ 0 5] [ 0 6] [ 0 7] [ 0 8] [ 1 0] [ 1 1] [ 1 2] [ 1 3] [ 1 4] [ 1 5] [ 1 6] [ 1 7] [ 1 8] [ 2 0] [ 2 1] [ 2 2] [ 2 3] [ 2 4] [ 2 5] [ 2 6] [ 2 7] [ 2 8] [ 3 0] [ 3 1] [ 3 2] [ 3 4] [ 3 5] [ 3 6] [ 3 7] [ 3 8] 1 0\n",
      "Turn  4 Player  -1\n",
      "   0 1 2 3 4 5 6 7 8 \n",
      "-----------------------\n",
      "0 |O - - - - - - - - |\n",
      "1 |O - - - - - - - - |\n",
      "2 |- - - - - - - - - |\n",
      "3 |- - - X - - - - - |\n",
      "-----------------------\n",
      "Turn  5 Player  1\n",
      "   0 1 2 3 4 5 6 7 8 \n",
      "-----------------------\n",
      "0 |O - - - - - - - - |\n",
      "1 |O - - - - X - - - |\n",
      "2 |- - - - - - - - - |\n",
      "3 |- - - X - - - - - |\n",
      "-----------------------\n",
      "[ 0 1] [ 0 2] [ 0 3] [ 0 4] [ 0 5] [ 0 6] [ 0 7] [ 0 8] [ 1 1] [ 1 2] [ 1 3] [ 1 4] [ 1 6] [ 1 7] [ 1 8] [ 2 0] [ 2 1] [ 2 2] [ 2 3] [ 2 4] [ 2 5] [ 2 6] [ 2 7] [ 2 8] [ 3 0] [ 3 1] [ 3 2] [ 3 4] [ 3 5] [ 3 6] [ 3 7] [ 3 8] 2 0\n",
      "Turn  6 Player  -1\n",
      "   0 1 2 3 4 5 6 7 8 \n",
      "-----------------------\n",
      "0 |O - - - - - - - - |\n",
      "1 |O - - - - X - - - |\n",
      "2 |O - - - - - - - - |\n",
      "3 |- - - X - - - - - |\n",
      "-----------------------\n",
      "Turn  7 Player  1\n",
      "   0 1 2 3 4 5 6 7 8 \n",
      "-----------------------\n",
      "0 |O - - - - - - - - |\n",
      "1 |O - - - - X X - - |\n",
      "2 |O - - - - - - - - |\n",
      "3 |- - - X - - - - - |\n",
      "-----------------------\n",
      "[ 0 1] [ 0 2] [ 0 3] [ 0 4] [ 0 5] [ 0 6] [ 0 7] [ 0 8] [ 1 1] [ 1 2] [ 1 3] [ 1 4] [ 1 7] [ 1 8] [ 2 1] [ 2 2] [ 2 3] [ 2 4] [ 2 5] [ 2 6] [ 2 7] [ 2 8] [ 3 0] [ 3 1] [ 3 2] [ 3 4] [ 3 5] [ 3 6] [ 3 7] [ 3 8] 3 0\n",
      "Game over: Turn  7 Result  1\n",
      "   0 1 2 3 4 5 6 7 8 \n",
      "-----------------------\n",
      "0 |O - - - - - - - - |\n",
      "1 |O - - - - X X - - |\n",
      "2 |O - - - - - - - - |\n",
      "3 |O - - X - - - - - |\n",
      "-----------------------\n"
     ]
    },
    {
     "data": {
      "text/plain": [
       "1"
      ]
     },
     "execution_count": 89,
     "metadata": {},
     "output_type": "execute_result"
    }
   ],
   "source": [
    "# player = 'res'\n",
    "# print(f'====playing against {player}====')\n",
    "# p2 = ai_dict[player]\n",
    "p2 = lambda x: np.random.choice(np.arange(game.getActionSize()),p=ks4tree.getActionProb(x, temp=1/10))\n",
    "val_func = ks4net#nnet_dict[player]\n",
    "p2_tree = ks4tree#MCTS(game,val_func,tree_args)\n",
    "arena = Arena(p1, p2, game, display=game.display,tree1=None,tree2=p2_tree)\n",
    "# res=arena.playGames(10,verbose=True)\n",
    "arena.playGame(verbose=True)"
   ]
  },
  {
   "cell_type": "code",
   "execution_count": 98,
   "metadata": {},
   "outputs": [
    {
     "data": {
      "text/plain": [
       "<module 'supervised_learning' from '../classes/supervised_learning.py'>"
      ]
     },
     "execution_count": 98,
     "metadata": {},
     "output_type": "execute_result"
    }
   ],
   "source": [
    "\n",
    "reload(sl)"
   ]
  },
  {
   "cell_type": "code",
   "execution_count": 16,
   "metadata": {
    "collapsed": true
   },
   "outputs": [
    {
     "ename": "ValueError",
     "evalue": "Shapes (3, 3, 256, 256) and (1, 1, 256, 1) are incompatible",
     "output_type": "error",
     "traceback": [
      "\u001b[0;31m---------------------------------------------------------------------------\u001b[0m",
      "\u001b[0;31mValueError\u001b[0m                                Traceback (most recent call last)",
      "\u001b[0;32m<ipython-input-16-e1c8725cb3cd>\u001b[0m in \u001b[0;36m<module>\u001b[0;34m\u001b[0m\n\u001b[1;32m      1\u001b[0m \u001b[0mres_folder\u001b[0m \u001b[0;34m=\u001b[0m \u001b[0;34mf'/scratch/zz737/fiar/sl/resnet/res3_Ex_tournament_{sl.ex_tournament}_{sl.ex_id}_{sl.ex_fn_part}'\u001b[0m\u001b[0;34m\u001b[0m\u001b[0;34m\u001b[0m\u001b[0m\n\u001b[1;32m      2\u001b[0m \u001b[0mres3\u001b[0m \u001b[0;34m=\u001b[0m \u001b[0msl\u001b[0m\u001b[0;34m.\u001b[0m\u001b[0mnnet_dict\u001b[0m\u001b[0;34m[\u001b[0m\u001b[0;34m'res3'\u001b[0m\u001b[0;34m]\u001b[0m\u001b[0;34m\u001b[0m\u001b[0;34m\u001b[0m\u001b[0m\n\u001b[0;32m----> 3\u001b[0;31m \u001b[0mres3\u001b[0m\u001b[0;34m.\u001b[0m\u001b[0mload_checkpoint\u001b[0m\u001b[0;34m(\u001b[0m\u001b[0mfolder\u001b[0m\u001b[0;34m=\u001b[0m\u001b[0mres_folder\u001b[0m\u001b[0;34m,\u001b[0m \u001b[0mfilename\u001b[0m\u001b[0;34m=\u001b[0m\u001b[0;34m'final.pth.tar'\u001b[0m\u001b[0;34m)\u001b[0m\u001b[0;34m\u001b[0m\u001b[0;34m\u001b[0m\u001b[0m\n\u001b[0m",
      "\u001b[0;32m~/projects/fiar/4IAR-RL/classes/beck/beck_nnet.py\u001b[0m in \u001b[0;36mload_checkpoint\u001b[0;34m(self, folder, filename)\u001b[0m\n\u001b[1;32m    111\u001b[0m         \u001b[0;31m# if not os.path.exists(filepath):\u001b[0m\u001b[0;34m\u001b[0m\u001b[0;34m\u001b[0m\u001b[0;34m\u001b[0m\u001b[0m\n\u001b[1;32m    112\u001b[0m         \u001b[0;31m#     raise FileNotFoundError(\"No model in path {}\".format(filepath))\u001b[0m\u001b[0;34m\u001b[0m\u001b[0;34m\u001b[0m\u001b[0;34m\u001b[0m\u001b[0m\n\u001b[0;32m--> 113\u001b[0;31m         \u001b[0mself\u001b[0m\u001b[0;34m.\u001b[0m\u001b[0mnnet\u001b[0m\u001b[0;34m.\u001b[0m\u001b[0mmodel\u001b[0m\u001b[0;34m.\u001b[0m\u001b[0mload_weights\u001b[0m\u001b[0;34m(\u001b[0m\u001b[0mfilepath\u001b[0m\u001b[0;34m)\u001b[0m\u001b[0;34m.\u001b[0m\u001b[0mexpect_partial\u001b[0m\u001b[0;34m(\u001b[0m\u001b[0;34m)\u001b[0m\u001b[0;34m\u001b[0m\u001b[0;34m\u001b[0m\u001b[0m\n\u001b[0m",
      "\u001b[0;32m/ext3/miniconda3/envs/fourinarow/lib/python3.7/site-packages/tensorflow/python/keras/engine/training.py\u001b[0m in \u001b[0;36mload_weights\u001b[0;34m(self, filepath, by_name, skip_mismatch)\u001b[0m\n\u001b[1;32m    248\u001b[0m         raise ValueError('Load weights is not yet supported with TPUStrategy '\n\u001b[1;32m    249\u001b[0m                          'with steps_per_run greater than 1.')\n\u001b[0;32m--> 250\u001b[0;31m     \u001b[0;32mreturn\u001b[0m \u001b[0msuper\u001b[0m\u001b[0;34m(\u001b[0m\u001b[0mModel\u001b[0m\u001b[0;34m,\u001b[0m \u001b[0mself\u001b[0m\u001b[0;34m)\u001b[0m\u001b[0;34m.\u001b[0m\u001b[0mload_weights\u001b[0m\u001b[0;34m(\u001b[0m\u001b[0mfilepath\u001b[0m\u001b[0;34m,\u001b[0m \u001b[0mby_name\u001b[0m\u001b[0;34m,\u001b[0m \u001b[0mskip_mismatch\u001b[0m\u001b[0;34m)\u001b[0m\u001b[0;34m\u001b[0m\u001b[0;34m\u001b[0m\u001b[0m\n\u001b[0m\u001b[1;32m    251\u001b[0m \u001b[0;34m\u001b[0m\u001b[0m\n\u001b[1;32m    252\u001b[0m   def compile(self,\n",
      "\u001b[0;32m/ext3/miniconda3/envs/fourinarow/lib/python3.7/site-packages/tensorflow/python/keras/engine/network.py\u001b[0m in \u001b[0;36mload_weights\u001b[0;34m(self, filepath, by_name, skip_mismatch)\u001b[0m\n\u001b[1;32m   1235\u001b[0m         \u001b[0msave_format\u001b[0m \u001b[0;34m=\u001b[0m \u001b[0;34m'h5'\u001b[0m\u001b[0;34m\u001b[0m\u001b[0;34m\u001b[0m\u001b[0m\n\u001b[1;32m   1236\u001b[0m     \u001b[0;32mif\u001b[0m \u001b[0msave_format\u001b[0m \u001b[0;34m==\u001b[0m \u001b[0;34m'tf'\u001b[0m\u001b[0;34m:\u001b[0m\u001b[0;34m\u001b[0m\u001b[0;34m\u001b[0m\u001b[0m\n\u001b[0;32m-> 1237\u001b[0;31m       \u001b[0mstatus\u001b[0m \u001b[0;34m=\u001b[0m \u001b[0mself\u001b[0m\u001b[0;34m.\u001b[0m\u001b[0m_trackable_saver\u001b[0m\u001b[0;34m.\u001b[0m\u001b[0mrestore\u001b[0m\u001b[0;34m(\u001b[0m\u001b[0mfilepath\u001b[0m\u001b[0;34m)\u001b[0m\u001b[0;34m\u001b[0m\u001b[0;34m\u001b[0m\u001b[0m\n\u001b[0m\u001b[1;32m   1238\u001b[0m       \u001b[0;32mif\u001b[0m \u001b[0mby_name\u001b[0m\u001b[0;34m:\u001b[0m\u001b[0;34m\u001b[0m\u001b[0;34m\u001b[0m\u001b[0m\n\u001b[1;32m   1239\u001b[0m         raise NotImplementedError(\n",
      "\u001b[0;32m/ext3/miniconda3/envs/fourinarow/lib/python3.7/site-packages/tensorflow/python/training/tracking/util.py\u001b[0m in \u001b[0;36mrestore\u001b[0;34m(self, save_path)\u001b[0m\n\u001b[1;32m   1302\u001b[0m         graph_view=self._graph_view)\n\u001b[1;32m   1303\u001b[0m     base.CheckpointPosition(\n\u001b[0;32m-> 1304\u001b[0;31m         checkpoint=checkpoint, proto_id=0).restore(self._graph_view.root)\n\u001b[0m\u001b[1;32m   1305\u001b[0m     load_status = CheckpointLoadStatus(\n\u001b[1;32m   1306\u001b[0m         \u001b[0mcheckpoint\u001b[0m\u001b[0;34m,\u001b[0m\u001b[0;34m\u001b[0m\u001b[0;34m\u001b[0m\u001b[0m\n",
      "\u001b[0;32m/ext3/miniconda3/envs/fourinarow/lib/python3.7/site-packages/tensorflow/python/training/tracking/base.py\u001b[0m in \u001b[0;36mrestore\u001b[0;34m(self, trackable)\u001b[0m\n\u001b[1;32m    207\u001b[0m         \u001b[0;31m# This object's correspondence with a checkpointed object is new, so\u001b[0m\u001b[0;34m\u001b[0m\u001b[0;34m\u001b[0m\u001b[0;34m\u001b[0m\u001b[0m\n\u001b[1;32m    208\u001b[0m         \u001b[0;31m# process deferred restorations for it and its dependencies.\u001b[0m\u001b[0;34m\u001b[0m\u001b[0;34m\u001b[0m\u001b[0;34m\u001b[0m\u001b[0m\n\u001b[0;32m--> 209\u001b[0;31m         \u001b[0mrestore_ops\u001b[0m \u001b[0;34m=\u001b[0m \u001b[0mtrackable\u001b[0m\u001b[0;34m.\u001b[0m\u001b[0m_restore_from_checkpoint_position\u001b[0m\u001b[0;34m(\u001b[0m\u001b[0mself\u001b[0m\u001b[0;34m)\u001b[0m  \u001b[0;31m# pylint: disable=protected-access\u001b[0m\u001b[0;34m\u001b[0m\u001b[0;34m\u001b[0m\u001b[0m\n\u001b[0m\u001b[1;32m    210\u001b[0m         \u001b[0;32mif\u001b[0m \u001b[0mrestore_ops\u001b[0m\u001b[0;34m:\u001b[0m\u001b[0;34m\u001b[0m\u001b[0;34m\u001b[0m\u001b[0m\n\u001b[1;32m    211\u001b[0m           \u001b[0mself\u001b[0m\u001b[0;34m.\u001b[0m\u001b[0m_checkpoint\u001b[0m\u001b[0;34m.\u001b[0m\u001b[0mnew_restore_ops\u001b[0m\u001b[0;34m(\u001b[0m\u001b[0mrestore_ops\u001b[0m\u001b[0;34m)\u001b[0m\u001b[0;34m\u001b[0m\u001b[0;34m\u001b[0m\u001b[0m\n",
      "\u001b[0;32m/ext3/miniconda3/envs/fourinarow/lib/python3.7/site-packages/tensorflow/python/training/tracking/base.py\u001b[0m in \u001b[0;36m_restore_from_checkpoint_position\u001b[0;34m(self, checkpoint_position)\u001b[0m\n\u001b[1;32m    899\u001b[0m           ._single_restoration_from_checkpoint_position(\n\u001b[1;32m    900\u001b[0m               \u001b[0mcheckpoint_position\u001b[0m\u001b[0;34m=\u001b[0m\u001b[0mcurrent_position\u001b[0m\u001b[0;34m,\u001b[0m\u001b[0;34m\u001b[0m\u001b[0;34m\u001b[0m\u001b[0m\n\u001b[0;32m--> 901\u001b[0;31m               visit_queue=visit_queue))\n\u001b[0m\u001b[1;32m    902\u001b[0m       \u001b[0mrestore_ops\u001b[0m\u001b[0;34m.\u001b[0m\u001b[0mextend\u001b[0m\u001b[0;34m(\u001b[0m\u001b[0mnew_restore_ops\u001b[0m\u001b[0;34m)\u001b[0m\u001b[0;34m\u001b[0m\u001b[0;34m\u001b[0m\u001b[0m\n\u001b[1;32m    903\u001b[0m       \u001b[0mtensor_saveables\u001b[0m\u001b[0;34m.\u001b[0m\u001b[0mupdate\u001b[0m\u001b[0;34m(\u001b[0m\u001b[0mnew_tensor_saveables\u001b[0m\u001b[0;34m)\u001b[0m\u001b[0;34m\u001b[0m\u001b[0;34m\u001b[0m\u001b[0m\n",
      "\u001b[0;32m/ext3/miniconda3/envs/fourinarow/lib/python3.7/site-packages/tensorflow/python/training/tracking/base.py\u001b[0m in \u001b[0;36m_single_restoration_from_checkpoint_position\u001b[0;34m(self, checkpoint_position, visit_queue)\u001b[0m\n\u001b[1;32m    934\u001b[0m                                                []).append(child_position)\n\u001b[1;32m    935\u001b[0m       \u001b[0;32melse\u001b[0m\u001b[0;34m:\u001b[0m\u001b[0;34m\u001b[0m\u001b[0;34m\u001b[0m\u001b[0m\n\u001b[0;32m--> 936\u001b[0;31m         \u001b[0;32mif\u001b[0m \u001b[0mchild_position\u001b[0m\u001b[0;34m.\u001b[0m\u001b[0mbind_object\u001b[0m\u001b[0;34m(\u001b[0m\u001b[0mtrackable\u001b[0m\u001b[0;34m=\u001b[0m\u001b[0mlocal_object\u001b[0m\u001b[0;34m)\u001b[0m\u001b[0;34m:\u001b[0m\u001b[0;34m\u001b[0m\u001b[0;34m\u001b[0m\u001b[0m\n\u001b[0m\u001b[1;32m    937\u001b[0m           \u001b[0;31m# This object's correspondence is new, so dependencies need to be\u001b[0m\u001b[0;34m\u001b[0m\u001b[0;34m\u001b[0m\u001b[0;34m\u001b[0m\u001b[0m\n\u001b[1;32m    938\u001b[0m           \u001b[0;31m# visited. Delay doing it so that we get a breadth-first dependency\u001b[0m\u001b[0;34m\u001b[0m\u001b[0;34m\u001b[0m\u001b[0;34m\u001b[0m\u001b[0m\n",
      "\u001b[0;32m/ext3/miniconda3/envs/fourinarow/lib/python3.7/site-packages/tensorflow/python/training/tracking/base.py\u001b[0m in \u001b[0;36mbind_object\u001b[0;34m(self, trackable)\u001b[0m\n\u001b[1;32m    256\u001b[0m                   proto_id=slot_restoration.slot_variable_id),\n\u001b[1;32m    257\u001b[0m               \u001b[0mvariable\u001b[0m\u001b[0;34m=\u001b[0m\u001b[0mtrackable\u001b[0m\u001b[0;34m,\u001b[0m\u001b[0;34m\u001b[0m\u001b[0;34m\u001b[0m\u001b[0m\n\u001b[0;32m--> 258\u001b[0;31m               slot_name=slot_restoration.slot_name)\n\u001b[0m\u001b[1;32m    259\u001b[0m       \u001b[0;32mreturn\u001b[0m \u001b[0;32mTrue\u001b[0m  \u001b[0;31m# New assignment\u001b[0m\u001b[0;34m\u001b[0m\u001b[0;34m\u001b[0m\u001b[0m\n\u001b[1;32m    260\u001b[0m     \u001b[0;32melse\u001b[0m\u001b[0;34m:\u001b[0m\u001b[0;34m\u001b[0m\u001b[0;34m\u001b[0m\u001b[0m\n",
      "\u001b[0;32m/ext3/miniconda3/envs/fourinarow/lib/python3.7/site-packages/tensorflow/python/keras/optimizer_v2/optimizer_v2.py\u001b[0m in \u001b[0;36m_create_or_restore_slot_variable\u001b[0;34m(self, slot_variable_position, slot_name, variable)\u001b[0m\n\u001b[1;32m   1191\u001b[0m       \u001b[0;31m# If we've either made this slot variable, or if we've pulled out an\u001b[0m\u001b[0;34m\u001b[0m\u001b[0;34m\u001b[0m\u001b[0;34m\u001b[0m\u001b[0m\n\u001b[1;32m   1192\u001b[0m       \u001b[0;31m# existing slot variable, we should restore it.\u001b[0m\u001b[0;34m\u001b[0m\u001b[0;34m\u001b[0m\u001b[0;34m\u001b[0m\u001b[0m\n\u001b[0;32m-> 1193\u001b[0;31m       \u001b[0mslot_variable_position\u001b[0m\u001b[0;34m.\u001b[0m\u001b[0mrestore\u001b[0m\u001b[0;34m(\u001b[0m\u001b[0mslot_variable\u001b[0m\u001b[0;34m)\u001b[0m\u001b[0;34m\u001b[0m\u001b[0;34m\u001b[0m\u001b[0m\n\u001b[0m\u001b[1;32m   1194\u001b[0m     \u001b[0;32melse\u001b[0m\u001b[0;34m:\u001b[0m\u001b[0;34m\u001b[0m\u001b[0;34m\u001b[0m\u001b[0m\n\u001b[1;32m   1195\u001b[0m       \u001b[0;31m# We didn't make the slot variable. Defer restoring until it gets created\u001b[0m\u001b[0;34m\u001b[0m\u001b[0;34m\u001b[0m\u001b[0;34m\u001b[0m\u001b[0m\n",
      "\u001b[0;32m/ext3/miniconda3/envs/fourinarow/lib/python3.7/site-packages/tensorflow/python/training/tracking/base.py\u001b[0m in \u001b[0;36mrestore\u001b[0;34m(self, trackable)\u001b[0m\n\u001b[1;32m    207\u001b[0m         \u001b[0;31m# This object's correspondence with a checkpointed object is new, so\u001b[0m\u001b[0;34m\u001b[0m\u001b[0;34m\u001b[0m\u001b[0;34m\u001b[0m\u001b[0m\n\u001b[1;32m    208\u001b[0m         \u001b[0;31m# process deferred restorations for it and its dependencies.\u001b[0m\u001b[0;34m\u001b[0m\u001b[0;34m\u001b[0m\u001b[0;34m\u001b[0m\u001b[0m\n\u001b[0;32m--> 209\u001b[0;31m         \u001b[0mrestore_ops\u001b[0m \u001b[0;34m=\u001b[0m \u001b[0mtrackable\u001b[0m\u001b[0;34m.\u001b[0m\u001b[0m_restore_from_checkpoint_position\u001b[0m\u001b[0;34m(\u001b[0m\u001b[0mself\u001b[0m\u001b[0;34m)\u001b[0m  \u001b[0;31m# pylint: disable=protected-access\u001b[0m\u001b[0;34m\u001b[0m\u001b[0;34m\u001b[0m\u001b[0m\n\u001b[0m\u001b[1;32m    210\u001b[0m         \u001b[0;32mif\u001b[0m \u001b[0mrestore_ops\u001b[0m\u001b[0;34m:\u001b[0m\u001b[0;34m\u001b[0m\u001b[0;34m\u001b[0m\u001b[0m\n\u001b[1;32m    211\u001b[0m           \u001b[0mself\u001b[0m\u001b[0;34m.\u001b[0m\u001b[0m_checkpoint\u001b[0m\u001b[0;34m.\u001b[0m\u001b[0mnew_restore_ops\u001b[0m\u001b[0;34m(\u001b[0m\u001b[0mrestore_ops\u001b[0m\u001b[0;34m)\u001b[0m\u001b[0;34m\u001b[0m\u001b[0;34m\u001b[0m\u001b[0m\n",
      "\u001b[0;32m/ext3/miniconda3/envs/fourinarow/lib/python3.7/site-packages/tensorflow/python/training/tracking/base.py\u001b[0m in \u001b[0;36m_restore_from_checkpoint_position\u001b[0;34m(self, checkpoint_position)\u001b[0m\n\u001b[1;32m    905\u001b[0m     restore_ops.extend(\n\u001b[1;32m    906\u001b[0m         current_position.checkpoint.restore_saveables(\n\u001b[0;32m--> 907\u001b[0;31m             tensor_saveables, python_saveables))\n\u001b[0m\u001b[1;32m    908\u001b[0m     \u001b[0;32mreturn\u001b[0m \u001b[0mrestore_ops\u001b[0m\u001b[0;34m\u001b[0m\u001b[0;34m\u001b[0m\u001b[0m\n\u001b[1;32m    909\u001b[0m \u001b[0;34m\u001b[0m\u001b[0m\n",
      "\u001b[0;32m/ext3/miniconda3/envs/fourinarow/lib/python3.7/site-packages/tensorflow/python/training/tracking/util.py\u001b[0m in \u001b[0;36mrestore_saveables\u001b[0;34m(self, tensor_saveables, python_saveables)\u001b[0m\n\u001b[1;32m    287\u001b[0m              \"expecting %s\") % (tensor_saveables.keys(), validated_names))\n\u001b[1;32m    288\u001b[0m       new_restore_ops = functional_saver.MultiDeviceSaver(\n\u001b[0;32m--> 289\u001b[0;31m           validated_saveables).restore(self.save_path_tensor)\n\u001b[0m\u001b[1;32m    290\u001b[0m       \u001b[0;32mif\u001b[0m \u001b[0;32mnot\u001b[0m \u001b[0mcontext\u001b[0m\u001b[0;34m.\u001b[0m\u001b[0mexecuting_eagerly\u001b[0m\u001b[0;34m(\u001b[0m\u001b[0;34m)\u001b[0m\u001b[0;34m:\u001b[0m\u001b[0;34m\u001b[0m\u001b[0;34m\u001b[0m\u001b[0m\n\u001b[1;32m    291\u001b[0m         \u001b[0;32mfor\u001b[0m \u001b[0mname\u001b[0m\u001b[0;34m,\u001b[0m \u001b[0mrestore_op\u001b[0m \u001b[0;32min\u001b[0m \u001b[0msorted\u001b[0m\u001b[0;34m(\u001b[0m\u001b[0mnew_restore_ops\u001b[0m\u001b[0;34m.\u001b[0m\u001b[0mitems\u001b[0m\u001b[0;34m(\u001b[0m\u001b[0;34m)\u001b[0m\u001b[0;34m)\u001b[0m\u001b[0;34m:\u001b[0m\u001b[0;34m\u001b[0m\u001b[0;34m\u001b[0m\u001b[0m\n",
      "\u001b[0;32m/ext3/miniconda3/envs/fourinarow/lib/python3.7/site-packages/tensorflow/python/training/saving/functional_saver.py\u001b[0m in \u001b[0;36mrestore\u001b[0;34m(self, file_prefix)\u001b[0m\n\u001b[1;32m    279\u001b[0m     \u001b[0;32mfor\u001b[0m \u001b[0mdevice\u001b[0m\u001b[0;34m,\u001b[0m \u001b[0msaver\u001b[0m \u001b[0;32min\u001b[0m \u001b[0msorted\u001b[0m\u001b[0;34m(\u001b[0m\u001b[0mself\u001b[0m\u001b[0;34m.\u001b[0m\u001b[0m_single_device_savers\u001b[0m\u001b[0;34m.\u001b[0m\u001b[0mitems\u001b[0m\u001b[0;34m(\u001b[0m\u001b[0;34m)\u001b[0m\u001b[0;34m)\u001b[0m\u001b[0;34m:\u001b[0m\u001b[0;34m\u001b[0m\u001b[0;34m\u001b[0m\u001b[0m\n\u001b[1;32m    280\u001b[0m       \u001b[0;32mwith\u001b[0m \u001b[0mops\u001b[0m\u001b[0;34m.\u001b[0m\u001b[0mdevice\u001b[0m\u001b[0;34m(\u001b[0m\u001b[0mdevice\u001b[0m\u001b[0;34m)\u001b[0m\u001b[0;34m:\u001b[0m\u001b[0;34m\u001b[0m\u001b[0;34m\u001b[0m\u001b[0m\n\u001b[0;32m--> 281\u001b[0;31m         \u001b[0mrestore_ops\u001b[0m\u001b[0;34m.\u001b[0m\u001b[0mupdate\u001b[0m\u001b[0;34m(\u001b[0m\u001b[0msaver\u001b[0m\u001b[0;34m.\u001b[0m\u001b[0mrestore\u001b[0m\u001b[0;34m(\u001b[0m\u001b[0mfile_prefix\u001b[0m\u001b[0;34m)\u001b[0m\u001b[0;34m)\u001b[0m\u001b[0;34m\u001b[0m\u001b[0;34m\u001b[0m\u001b[0m\n\u001b[0m\u001b[1;32m    282\u001b[0m \u001b[0;34m\u001b[0m\u001b[0m\n\u001b[1;32m    283\u001b[0m     \u001b[0;32mfor\u001b[0m \u001b[0mcallback\u001b[0m \u001b[0;32min\u001b[0m \u001b[0mself\u001b[0m\u001b[0;34m.\u001b[0m\u001b[0m_after_restore_callbacks\u001b[0m\u001b[0;34m:\u001b[0m\u001b[0;34m\u001b[0m\u001b[0;34m\u001b[0m\u001b[0m\n",
      "\u001b[0;32m/ext3/miniconda3/envs/fourinarow/lib/python3.7/site-packages/tensorflow/python/training/saving/functional_saver.py\u001b[0m in \u001b[0;36mrestore\u001b[0;34m(self, file_prefix)\u001b[0m\n\u001b[1;32m    101\u001b[0m                                           structured_restored_tensors):\n\u001b[1;32m    102\u001b[0m       restore_ops[saveable.name] = saveable.restore(\n\u001b[0;32m--> 103\u001b[0;31m           restored_tensors, restored_shapes=None)\n\u001b[0m\u001b[1;32m    104\u001b[0m     \u001b[0;32mreturn\u001b[0m \u001b[0mrestore_ops\u001b[0m\u001b[0;34m\u001b[0m\u001b[0;34m\u001b[0m\u001b[0m\n\u001b[1;32m    105\u001b[0m \u001b[0;34m\u001b[0m\u001b[0m\n",
      "\u001b[0;32m/ext3/miniconda3/envs/fourinarow/lib/python3.7/site-packages/tensorflow/python/training/saving/saveable_object_util.py\u001b[0m in \u001b[0;36mrestore\u001b[0;34m(self, restored_tensors, restored_shapes)\u001b[0m\n\u001b[1;32m    114\u001b[0m       \u001b[0mrestored_tensor\u001b[0m \u001b[0;34m=\u001b[0m \u001b[0marray_ops\u001b[0m\u001b[0;34m.\u001b[0m\u001b[0midentity\u001b[0m\u001b[0;34m(\u001b[0m\u001b[0mrestored_tensor\u001b[0m\u001b[0;34m)\u001b[0m\u001b[0;34m\u001b[0m\u001b[0;34m\u001b[0m\u001b[0m\n\u001b[1;32m    115\u001b[0m       return resource_variable_ops.shape_safe_assign_variable_handle(\n\u001b[0;32m--> 116\u001b[0;31m           self.handle_op, self._var_shape, restored_tensor)\n\u001b[0m\u001b[1;32m    117\u001b[0m \u001b[0;34m\u001b[0m\u001b[0m\n\u001b[1;32m    118\u001b[0m \u001b[0;34m\u001b[0m\u001b[0m\n",
      "\u001b[0;32m/ext3/miniconda3/envs/fourinarow/lib/python3.7/site-packages/tensorflow/python/ops/resource_variable_ops.py\u001b[0m in \u001b[0;36mshape_safe_assign_variable_handle\u001b[0;34m(handle, shape, value, name)\u001b[0m\n\u001b[1;32m    306\u001b[0m   \u001b[0;32mwith\u001b[0m \u001b[0m_handle_graph\u001b[0m\u001b[0;34m(\u001b[0m\u001b[0mhandle\u001b[0m\u001b[0;34m)\u001b[0m\u001b[0;34m:\u001b[0m\u001b[0;34m\u001b[0m\u001b[0;34m\u001b[0m\u001b[0m\n\u001b[1;32m    307\u001b[0m     \u001b[0mvalue_tensor\u001b[0m \u001b[0;34m=\u001b[0m \u001b[0mops\u001b[0m\u001b[0;34m.\u001b[0m\u001b[0mconvert_to_tensor\u001b[0m\u001b[0;34m(\u001b[0m\u001b[0mvalue\u001b[0m\u001b[0;34m)\u001b[0m\u001b[0;34m\u001b[0m\u001b[0;34m\u001b[0m\u001b[0m\n\u001b[0;32m--> 308\u001b[0;31m   \u001b[0mshape\u001b[0m\u001b[0;34m.\u001b[0m\u001b[0massert_is_compatible_with\u001b[0m\u001b[0;34m(\u001b[0m\u001b[0mvalue_tensor\u001b[0m\u001b[0;34m.\u001b[0m\u001b[0mshape\u001b[0m\u001b[0;34m)\u001b[0m\u001b[0;34m\u001b[0m\u001b[0;34m\u001b[0m\u001b[0m\n\u001b[0m\u001b[1;32m    309\u001b[0m   return gen_resource_variable_ops.assign_variable_op(handle,\n\u001b[1;32m    310\u001b[0m                                                       \u001b[0mvalue_tensor\u001b[0m\u001b[0;34m,\u001b[0m\u001b[0;34m\u001b[0m\u001b[0;34m\u001b[0m\u001b[0m\n",
      "\u001b[0;32m/ext3/miniconda3/envs/fourinarow/lib/python3.7/site-packages/tensorflow/python/framework/tensor_shape.py\u001b[0m in \u001b[0;36massert_is_compatible_with\u001b[0;34m(self, other)\u001b[0m\n\u001b[1;32m   1115\u001b[0m     \"\"\"\n\u001b[1;32m   1116\u001b[0m     \u001b[0;32mif\u001b[0m \u001b[0;32mnot\u001b[0m \u001b[0mself\u001b[0m\u001b[0;34m.\u001b[0m\u001b[0mis_compatible_with\u001b[0m\u001b[0;34m(\u001b[0m\u001b[0mother\u001b[0m\u001b[0;34m)\u001b[0m\u001b[0;34m:\u001b[0m\u001b[0;34m\u001b[0m\u001b[0;34m\u001b[0m\u001b[0m\n\u001b[0;32m-> 1117\u001b[0;31m       \u001b[0;32mraise\u001b[0m \u001b[0mValueError\u001b[0m\u001b[0;34m(\u001b[0m\u001b[0;34m\"Shapes %s and %s are incompatible\"\u001b[0m \u001b[0;34m%\u001b[0m \u001b[0;34m(\u001b[0m\u001b[0mself\u001b[0m\u001b[0;34m,\u001b[0m \u001b[0mother\u001b[0m\u001b[0;34m)\u001b[0m\u001b[0;34m)\u001b[0m\u001b[0;34m\u001b[0m\u001b[0;34m\u001b[0m\u001b[0m\n\u001b[0m\u001b[1;32m   1118\u001b[0m \u001b[0;34m\u001b[0m\u001b[0m\n\u001b[1;32m   1119\u001b[0m   \u001b[0;32mdef\u001b[0m \u001b[0mmost_specific_compatible_shape\u001b[0m\u001b[0;34m(\u001b[0m\u001b[0mself\u001b[0m\u001b[0;34m,\u001b[0m \u001b[0mother\u001b[0m\u001b[0;34m)\u001b[0m\u001b[0;34m:\u001b[0m\u001b[0;34m\u001b[0m\u001b[0;34m\u001b[0m\u001b[0m\n",
      "\u001b[0;31mValueError\u001b[0m: Shapes (3, 3, 256, 256) and (1, 1, 256, 1) are incompatible"
     ]
    }
   ],
   "source": [
    "res_folder = f'/scratch/zz737/fiar/sl/resnet/res3_Ex_tournament_{sl.ex_tournament}_{sl.ex_id}_{sl.ex_fn_part}'\n",
    "res3 = sl.nnet_dict['res3']\n",
    "res3.load_checkpoint(folder=res_folder, filename='final.pth.tar')"
   ]
  },
  {
   "cell_type": "code",
   "execution_count": 5,
   "metadata": {},
   "outputs": [],
   "source": [
    "res_folder = f'/scratch/zz737/fiar/sl/resnet/res5_Ex_tournament_{sl.ex_tournament}_{sl.ex_id}_{sl.ex_fn_part}'\n",
    "res5 = sl.nnet_dict['res5']\n",
    "res5.load_checkpoint(folder=res_folder, filename='final.pth.tar')"
   ]
  },
  {
   "cell_type": "code",
   "execution_count": 12,
   "metadata": {},
   "outputs": [],
   "source": [
    "res_folder = f'/scratch/zz737/fiar/sl/resnet/res9_Ex_tournament_{sl.ex_tournament}_{sl.ex_id}_{sl.ex_fn_part}'\n",
    "res9 = sl.nnet_dict['res9']\n",
    "res9.load_checkpoint(folder=res_folder, filename='final.pth.tar')"
   ]
  },
  {
   "cell_type": "code",
   "execution_count": 6,
   "metadata": {},
   "outputs": [],
   "source": [
    "res_folder = f'/scratch/zz737/fiar/sl/resnet/res3_ks4_Ex_tournament_{sl.ex_tournament}_{sl.ex_id}_{sl.ex_fn_part}'\n",
    "res3_ks4 = sl.nnet_dict['res3_ks4']\n",
    "res3_ks4.load_checkpoint(folder=res_folder, filename='final.pth.tar')"
   ]
  },
  {
   "cell_type": "code",
   "execution_count": 7,
   "metadata": {},
   "outputs": [],
   "source": [
    "res_folder = f'/scratch/zz737/fiar/sl/resnet/res15_ks4_Ex_tournament_{sl.ex_tournament}_{sl.ex_id}_{sl.ex_fn_part}'\n",
    "res15_ks4 = sl.nnet_dict['res15_ks4']\n",
    "res15_ks4.load_checkpoint(folder=res_folder, filename='final.pth.tar')"
   ]
  },
  {
   "cell_type": "code",
   "execution_count": 113,
   "metadata": {},
   "outputs": [],
   "source": [
    "res_folder = f'/scratch/zz737/fiar/sl/resnet/convsame_Ex_tournament_{sl.ex_tournament}_{sl.ex_id}_{sl.ex_fn_part}'\n",
    "convsame = sl.nnet_dict['convsame']\n",
    "convsame.load_checkpoint(folder=res_folder, filename='final.pth.tar')"
   ]
  },
  {
   "cell_type": "code",
   "execution_count": 15,
   "metadata": {},
   "outputs": [],
   "source": [
    "res_folder = f'/scratch/zz737/fiar/sl/resnet/res15_Ex_tournament_{sl.ex_tournament}_{sl.ex_id}_{sl.ex_fn_part}'\n",
    "res15 = sl.nnet_dict['res15']\n",
    "res15.load_checkpoint(folder=res_folder, filename='final.pth.tar')"
   ]
  },
  {
   "cell_type": "code",
   "execution_count": 13,
   "metadata": {
    "scrolled": true
   },
   "outputs": [
    {
     "name": "stdout",
     "output_type": "stream",
     "text": [
      "Turn  1 Player  1\n",
      "   0 1 2 3 4 5 6 7 8 \n",
      "-----------------------\n",
      "0 |- - - - - - - - - |\n",
      "1 |- - - - - - - - - |\n",
      "2 |- - - - - - - - - |\n",
      "3 |- - - - - - - - - |\n",
      "-----------------------\n",
      "[ 0 0] [ 0 1] [ 0 2] [ 0 3] [ 0 4] [ 0 5] [ 0 6] [ 0 7] [ 0 8] [ 1 0] [ 1 1] [ 1 2] [ 1 3] [ 1 4] [ 1 5] [ 1 6] [ 1 7] [ 1 8] [ 2 0] [ 2 1] [ 2 2] [ 2 3] [ 2 4] [ 2 5] [ 2 6] [ 2 7] [ 2 8] [ 3 0] [ 3 1] [ 3 2] [ 3 3] [ 3 4] [ 3 5] [ 3 6] [ 3 7] [ 3 8] 0 0\n",
      "Turn  2 Player  -1\n",
      "   0 1 2 3 4 5 6 7 8 \n",
      "-----------------------\n",
      "0 |O - - - - - - - - |\n",
      "1 |- - - - - - - - - |\n",
      "2 |- - - - - - - - - |\n",
      "3 |- - - - - - - - - |\n",
      "-----------------------\n",
      "Turn  3 Player  1\n",
      "   0 1 2 3 4 5 6 7 8 \n",
      "-----------------------\n",
      "0 |O - - - - - X - - |\n",
      "1 |- - - - - - - - - |\n",
      "2 |- - - - - - - - - |\n",
      "3 |- - - - - - - - - |\n",
      "-----------------------\n",
      "[ 0 1] [ 0 2] [ 0 3] [ 0 4] [ 0 5] [ 0 7] [ 0 8] [ 1 0] [ 1 1] [ 1 2] [ 1 3] [ 1 4] [ 1 5] [ 1 6] [ 1 7] [ 1 8] [ 2 0] [ 2 1] [ 2 2] [ 2 3] [ 2 4] [ 2 5] [ 2 6] [ 2 7] [ 2 8] [ 3 0] [ 3 1] [ 3 2] [ 3 3] [ 3 4] [ 3 5] [ 3 6] [ 3 7] [ 3 8] 1 0\n",
      "Turn  4 Player  -1\n",
      "   0 1 2 3 4 5 6 7 8 \n",
      "-----------------------\n",
      "0 |O - - - - - X - - |\n",
      "1 |O - - - - - - - - |\n",
      "2 |- - - - - - - - - |\n",
      "3 |- - - - - - - - - |\n",
      "-----------------------\n",
      "Turn  5 Player  1\n",
      "   0 1 2 3 4 5 6 7 8 \n",
      "-----------------------\n",
      "0 |O - - - - - X - - |\n",
      "1 |O - - - - X - - - |\n",
      "2 |- - - - - - - - - |\n",
      "3 |- - - - - - - - - |\n",
      "-----------------------\n",
      "[ 0 1] [ 0 2] [ 0 3] [ 0 4] [ 0 5] [ 0 7] [ 0 8] [ 1 1] [ 1 2] [ 1 3] [ 1 4] [ 1 6] [ 1 7] [ 1 8] [ 2 0] [ 2 1] [ 2 2] [ 2 3] [ 2 4] [ 2 5] [ 2 6] [ 2 7] [ 2 8] [ 3 0] [ 3 1] [ 3 2] [ 3 3] [ 3 4] [ 3 5] [ 3 6] [ 3 7] [ 3 8] 2 0\n",
      "Turn  6 Player  -1\n",
      "   0 1 2 3 4 5 6 7 8 \n",
      "-----------------------\n",
      "0 |O - - - - - X - - |\n",
      "1 |O - - - - X - - - |\n",
      "2 |O - - - - - - - - |\n",
      "3 |- - - - - - - - - |\n",
      "-----------------------\n",
      "Turn  7 Player  1\n",
      "   0 1 2 3 4 5 6 7 8 \n",
      "-----------------------\n",
      "0 |O - - - - - X - - |\n",
      "1 |O - - - - X - - - |\n",
      "2 |O - - - - - - - - |\n",
      "3 |X - - - - - - - - |\n",
      "-----------------------\n",
      "[ 0 1] [ 0 2] [ 0 3] [ 0 4] [ 0 5] [ 0 7] [ 0 8] [ 1 1] [ 1 2] [ 1 3] [ 1 4] [ 1 6] [ 1 7] [ 1 8] [ 2 1] [ 2 2] [ 2 3] [ 2 4] [ 2 5] [ 2 6] [ 2 7] [ 2 8] [ 3 1] [ 3 2] [ 3 3] [ 3 4] [ 3 5] [ 3 6] [ 3 7] [ 3 8] 2 3\n",
      "Turn  8 Player  -1\n",
      "   0 1 2 3 4 5 6 7 8 \n",
      "-----------------------\n",
      "0 |O - - - - - X - - |\n",
      "1 |O - - - - X - - - |\n",
      "2 |O - - O - - - - - |\n",
      "3 |X - - - - - - - - |\n",
      "-----------------------\n",
      "Turn  9 Player  1\n",
      "   0 1 2 3 4 5 6 7 8 \n",
      "-----------------------\n",
      "0 |O - - - - - X - - |\n",
      "1 |O - - - - X - - - |\n",
      "2 |O - - O X - - - - |\n",
      "3 |X - - - - - - - - |\n",
      "-----------------------\n",
      "[ 0 1] [ 0 2] [ 0 3] [ 0 4] [ 0 5] [ 0 7] [ 0 8] [ 1 1] [ 1 2] [ 1 3] [ 1 4] [ 1 6] [ 1 7] [ 1 8] [ 2 1] [ 2 2] [ 2 5] [ 2 6] [ 2 7] [ 2 8] [ 3 1] [ 3 2] [ 3 3] [ 3 4] [ 3 5] [ 3 6] [ 3 7] [ 3 8] 3 3\n",
      "Turn  10 Player  -1\n",
      "   0 1 2 3 4 5 6 7 8 \n",
      "-----------------------\n",
      "0 |O - - - - - X - - |\n",
      "1 |O - - - - X - - - |\n",
      "2 |O - - O X - - - - |\n",
      "3 |X - - O - - - - - |\n",
      "-----------------------\n",
      "Turn  11 Player  1\n",
      "   0 1 2 3 4 5 6 7 8 \n",
      "-----------------------\n",
      "0 |O - - - - - X - - |\n",
      "1 |O - - X - X - - - |\n",
      "2 |O - - O X - - - - |\n",
      "3 |X - - O - - - - - |\n",
      "-----------------------\n",
      "[ 0 1] [ 0 2] [ 0 3] [ 0 4] [ 0 5] [ 0 7] [ 0 8] [ 1 1] [ 1 2] [ 1 4] [ 1 6] [ 1 7] [ 1 8] [ 2 1] [ 2 2] [ 2 5] [ 2 6] [ 2 7] [ 2 8] [ 3 1] [ 3 2] [ 3 4] [ 3 5] [ 3 6] [ 3 7] [ 3 8] 2 2\n",
      "Turn  12 Player  -1\n",
      "   0 1 2 3 4 5 6 7 8 \n",
      "-----------------------\n",
      "0 |O - - - - - X - - |\n",
      "1 |O - - X - X - - - |\n",
      "2 |O - O O X - - - - |\n",
      "3 |X - - O - - - - - |\n",
      "-----------------------\n",
      "Turn  13 Player  1\n",
      "   0 1 2 3 4 5 6 7 8 \n",
      "-----------------------\n",
      "0 |O - - - - - X - - |\n",
      "1 |O - - X X X - - - |\n",
      "2 |O - O O X - - - - |\n",
      "3 |X - - O - - - - - |\n",
      "-----------------------\n",
      "[ 0 1] [ 0 2] [ 0 3] [ 0 4] [ 0 5] [ 0 7] [ 0 8] [ 1 1] [ 1 2] [ 1 6] [ 1 7] [ 1 8] [ 2 1] [ 2 5] [ 2 6] [ 2 7] [ 2 8] [ 3 1] [ 3 2] [ 3 4] [ 3 5] [ 3 6] [ 3 7] [ 3 8] 1 1\n",
      "Game over: Turn  13 Result  1\n",
      "   0 1 2 3 4 5 6 7 8 \n",
      "-----------------------\n",
      "0 |O - - - - - X - - |\n",
      "1 |O O - X X X - - - |\n",
      "2 |O - O O X - - - - |\n",
      "3 |X - - O - - - - - |\n",
      "-----------------------\n"
     ]
    },
    {
     "data": {
      "text/plain": [
       "1"
      ]
     },
     "execution_count": 13,
     "metadata": {},
     "output_type": "execute_result"
    }
   ],
   "source": [
    "# player = 'res'\n",
    "# print(f'====playing against {player}====')\n",
    "# p2 = ai_dict[player]\n",
    "\n",
    "# val_func = res3#nnet_dict[player]\n",
    "# val_func = convsame\n",
    "# val_func = ks4net\n",
    "# val_func = resnet\n",
    "val_func = res9\n",
    "\n",
    "n_mcts = 100\n",
    "cpuct = 2\n",
    "tree_args = dotdict({\n",
    "'numMCTSSims': n_mcts,\n",
    "'cpuct': cpuct,\n",
    "})\n",
    "p2_tree = mcts.MCTS(game,val_func,tree_args)\n",
    "\n",
    "p2 = lambda x: np.random.choice(np.arange(game.getActionSize()),p=p2_tree.getActionProb(x, temp=1/10))\n",
    "\n",
    "\n",
    "human_p = HumanBeckPlayer(game)\n",
    "p1 = lambda x:human_p.play(x)\n",
    "\n",
    "arena = Arena(p1, p2, game, display=game.display,tree1=None,tree2=p2_tree)\n",
    "# res=arena.playGames(10,verbose=True)\n",
    "arena.playGame(verbose=True)"
   ]
  },
  {
   "cell_type": "code",
   "execution_count": 8,
   "metadata": {},
   "outputs": [
    {
     "data": {
      "text/plain": [
       "array([[-1,  0,  0,  0,  0,  0,  1,  0,  0],\n",
       "       [-1,  0,  0,  0,  0,  1,  0,  0,  0],\n",
       "       [-1,  0,  0, -1,  1,  0,  0,  0,  0],\n",
       "       [ 1,  0,  0, -1,  0,  0,  0,  0,  0]])"
      ]
     },
     "execution_count": 8,
     "metadata": {},
     "output_type": "execute_result"
    }
   ],
   "source": [
    "b_str = '''0 |- - - - - X - - - |\n",
    "1 |- - - - X O - - - |\n",
    "2 |- - - X O O O X - |\n",
    "3 |- - O X - - - - - |\n",
    "'''\n",
    "# b_str='''0 |- - - - O X - X - |\n",
    "# 1 |- - X O O O X - - |\n",
    "# 2 |X O O O X O O X - |\n",
    "# 3 |- X O X X - - - - |\n",
    "# '''\n",
    "b_str ='''0 |O - - - - - X - - |\n",
    "1 |O - - - - X - - - |\n",
    "2 |O - - O X - - - - |\n",
    "3 |X - - O - - - - - |'''\n",
    "\n",
    "b = game.get_board_from_xo_str(b_str)\n",
    "b = -b\n",
    "b_str_rep = b.tostring()\n",
    "b"
   ]
  },
  {
   "cell_type": "code",
   "execution_count": 11,
   "metadata": {},
   "outputs": [
    {
     "data": {
      "text/plain": [
       "array([[0.   , 0.01 , 0.01 , 0.01 , 0.182, 0.162, 0.   , 0.01 , 0.01 ],\n",
       "       [0.   , 0.02 , 0.01 , 0.192, 0.01 , 0.   , 0.03 , 0.01 , 0.   ],\n",
       "       [0.   , 0.01 , 0.111, 0.   , 0.   , 0.051, 0.071, 0.01 , 0.01 ],\n",
       "       [0.   , 0.01 , 0.01 , 0.   , 0.01 , 0.01 , 0.01 , 0.01 , 0.01 ]])"
      ]
     },
     "execution_count": 11,
     "metadata": {},
     "output_type": "execute_result"
    }
   ],
   "source": [
    "val_func = res3_ks4\n",
    "tree = mcts.MCTS(game,val_func,mctsargs)\n",
    "np.array(tree.getActionProb(b)).reshape(4,9)"
   ]
  },
  {
   "cell_type": "code",
   "execution_count": 24,
   "metadata": {},
   "outputs": [
    {
     "data": {
      "text/plain": [
       "array([[0.   , 0.071, 0.   , 0.   , 0.121, 0.101, 0.   , 0.   , 0.   ],\n",
       "       [0.   , 0.   , 0.   , 0.465, 0.01 , 0.   , 0.051, 0.   , 0.   ],\n",
       "       [0.   , 0.   , 0.   , 0.   , 0.   , 0.04 , 0.061, 0.   , 0.   ],\n",
       "       [0.   , 0.02 , 0.   , 0.   , 0.03 , 0.03 , 0.   , 0.   , 0.   ]])"
      ]
     },
     "execution_count": 24,
     "metadata": {},
     "output_type": "execute_result"
    }
   ],
   "source": [
    "val_func = resnet\n",
    "tree = mcts.MCTS(game,val_func,mctsargs)\n",
    "np.array(tree.getActionProb(b)).reshape(4,9)"
   ]
  },
  {
   "cell_type": "code",
   "execution_count": null,
   "metadata": {},
   "outputs": [],
   "source": []
  }
 ],
 "metadata": {
  "kernelspec": {
   "display_name": "Python 3 (ipykernel)",
   "language": "python",
   "name": "python3"
  },
  "language_info": {
   "codemirror_mode": {
    "name": "ipython",
    "version": 3
   },
   "file_extension": ".py",
   "mimetype": "text/x-python",
   "name": "python",
   "nbconvert_exporter": "python",
   "pygments_lexer": "ipython3",
   "version": "3.7.6"
  }
 },
 "nbformat": 4,
 "nbformat_minor": 4
}
