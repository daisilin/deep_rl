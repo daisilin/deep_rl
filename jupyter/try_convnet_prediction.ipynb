{
 "cells": [
  {
   "cell_type": "code",
   "execution_count": 1,
   "metadata": {},
   "outputs": [
    {
     "name": "stdout",
     "output_type": "stream",
     "text": [
      "{'mcts100_cpuct1': [1, 2, 3, 4, 6, 7, 9, 11, 12, 16, 18, 21, 25, 28, 29, 30, 37, 38, 39, 45, 47], 'mcts100_cpuct2': [1, 2, 3, 4, 6, 8, 12, 14, 15, 16, 21, 22, 24, 26, 27, 30, 32, 35, 39], 'mcts100_cpuct3': [1, 2, 3, 4, 5, 7, 8, 9, 10, 11, 12, 16, 17, 18, 20, 21, 25, 26, 28, 32, 34, 35, 36], 'mcts25_cpuct1': [1, 2, 3, 4, 9, 11, 13, 14, 16, 19, 22, 25, 28, 29, 31, 37, 39, 45, 59, 61], 'mcts50_cpuct1': [1, 2, 3, 4, 5, 6, 7, 9, 10, 13, 17, 18, 20, 21, 23, 25, 28, 29, 31, 37, 39, 41, 44, 45, 47, 48, 53], 'mcts80_cpuct1': [1, 2, 3, 4, 5, 7, 8, 9, 10, 13, 16, 19, 20, 21, 23, 24, 28, 34, 35, 36, 40], 'mcts80_cpuct2': [1, 2, 5, 6, 8, 10, 12, 13, 15, 17, 18, 19, 22, 25, 28, 30, 31, 34, 37, 38, 39, 40, 43, 45, 46, 51], 'mcts80_cpuct3': [1, 2, 5, 6, 7, 9, 12, 13, 14, 19, 21, 22, 23, 24, 26, 27, 28, 35, 36, 42, 43, 47, 49, 50, 51, 53, 54, 55, 56, 57]}\n",
      "189 participant iterations!\n"
     ]
    }
   ],
   "source": [
    "import sys\n",
    "import os\n",
    "sys.path.insert(0,'../classes')\n",
    "sys.path.insert(0,'../analysis')\n",
    "import anl\n",
    "\n",
    "sys.path.insert(0,'/home/zz737/projects/fiar/cog_model/fourinarow/Analysis notebooks/new')\n",
    "hqfd = '/home/zz737/projects/fiar/cog_model/fourinarow/Analysis notebooks/new/Heuristic quality'\n",
    "sys.path.insert(0,hqfd)\n",
    "from fourinarowfunctions import *\n",
    "import matplotlib.pyplot as plt\n",
    "import pandas as pd\n",
    "import seaborn as sns\n",
    "\n",
    "import logging\n",
    "import numpy as np\n",
    "\n",
    "import coloredlogs\n",
    "\n",
    "from arena import Arena\n",
    "from coach import Coach\n",
    "from beck.beck_game import BeckGame as Game\n",
    "from beck.beck_nnet import NNetWrapper as nn\n",
    "from beck.beck_players import HumanBeckPlayer\n",
    "from mcts import MCTS\n",
    "from utils import *\n",
    "log = logging.getLogger(__name__)\n",
    "\n",
    "from keras import backend as K\n",
    "from keras.models import *\n",
    "from keras.layers import *\n",
    "from keras.optimizers import *\n",
    "from keras import initializers\n",
    "from keras import regularizers\n",
    "import keras\n",
    "import tensorflow as tf\n",
    "\n",
    "\n",
    "import tournament\n",
    "# participant_iters = tournament.participant_iters\n",
    "\n",
    "participants_dir = '/scratch/zz737/fiar/tournaments/tournament_4' # dir for trained networks\n",
    "results_dir = '/scratch/zz737/fiar/tournaments/results/tournament_4'\n",
    "moves_dir = '/scratch/zz737/fiar/tournaments/tournament_4/moves/raw/'\n",
    "splits_dir = '/scratch/zz737/fiar/tournaments/tournament_4/moves/splits/'\n",
    "\n",
    "import load\n",
    "import plot_fun\n",
    "from importlib import reload\n",
    "reload(load)\n",
    "\n",
    "import value_analysis as va\n",
    "import pandas as pd\n",
    "import create_database as cd\n",
    "all_players = pd.read_pickle(cd.DATABASE_LOC)\n",
    "\n",
    "game = Game(4,9,4)"
   ]
  },
  {
   "cell_type": "code",
   "execution_count": 6,
   "metadata": {},
   "outputs": [],
   "source": [
    "import tournament_new as tn\n",
    "game = Game(4,9,4)\n",
    "one_info = all_players.loc[all_players['id']=='tournament_5;mcts100;cpuct2;id-1;best'].iloc[0]\n",
    "ai,val_func,tree = tn.get_player(game, one_info)"
   ]
  },
  {
   "cell_type": "code",
   "execution_count": 3,
   "metadata": {},
   "outputs": [],
   "source": [
    "opt_boards, opt_values=va.load_opt_value_test_boards()"
   ]
  },
  {
   "cell_type": "code",
   "execution_count": 45,
   "metadata": {},
   "outputs": [],
   "source": [
    "class FeatureNet():\n",
    "    def __init__(self,game,**kwargs):\n",
    "        \n",
    "        self.board_x, self.board_y = game.getBoardSize()\n",
    "        self.input_boards = Input(shape=(self.board_x, self.board_y))\n",
    "        x_image = Reshape((self.board_x, self.board_y, 1))(self.input_boards)\n",
    "        \n",
    "        h_conv = Conv2D(kwargs['num_channels'],4,activation='relu',padding='same',strides=1,use_bias=False,kernel_regularizer='l1_l2')(x_image)\n",
    "        feat_counts = GlobalAveragePooling2D()(h_conv)\n",
    "        feat_counts_flatten = Flatten()(feat_counts)\n",
    "        self.v = Dense(1,activation='tanh',name='v')(feat_counts_flatten)\n",
    "        self.model = Model(inputs=self.input_boards, outputs=self.v)\n",
    "        self.model.compile(loss='mean_squared_error',optimizer=Adam(kwargs['lr'],kwargs['decay']))\n",
    "        \n",
    "        \n",
    "        "
   ]
  },
  {
   "cell_type": "code",
   "execution_count": 51,
   "metadata": {},
   "outputs": [],
   "source": [
    "featnet = FeatureNet(game,num_channels=100,lr=0.05,decay=0)"
   ]
  },
  {
   "cell_type": "code",
   "execution_count": 29,
   "metadata": {},
   "outputs": [],
   "source": [
    "all_vals = val_func.predict_batch(opt_boards)"
   ]
  },
  {
   "cell_type": "code",
   "execution_count": 30,
   "metadata": {},
   "outputs": [],
   "source": [
    "all_vals = all_vals[1]"
   ]
  },
  {
   "cell_type": "code",
   "execution_count": null,
   "metadata": {
    "scrolled": true
   },
   "outputs": [
    {
     "name": "stdout",
     "output_type": "stream",
     "text": [
      "Epoch 1/100\n",
      "86/86 [==============================] - 0s 1ms/step - loss: 0.6550\n",
      "Epoch 2/100\n",
      "86/86 [==============================] - 0s 1ms/step - loss: 0.6532\n",
      "Epoch 3/100\n",
      "86/86 [==============================] - 0s 1ms/step - loss: 0.6534\n",
      "Epoch 4/100\n",
      "86/86 [==============================] - 0s 1ms/step - loss: 0.6618\n",
      "Epoch 5/100\n",
      "86/86 [==============================] - 0s 1ms/step - loss: 0.6568\n",
      "Epoch 6/100\n",
      "86/86 [==============================] - 0s 1ms/step - loss: 0.6630\n",
      "Epoch 7/100\n",
      "86/86 [==============================] - 0s 1ms/step - loss: 0.6792\n",
      "Epoch 8/100\n",
      "86/86 [==============================] - 0s 1ms/step - loss: 0.6526\n",
      "Epoch 9/100\n",
      "86/86 [==============================] - 0s 1ms/step - loss: 0.6560\n",
      "Epoch 10/100\n",
      "86/86 [==============================] - 0s 1ms/step - loss: 0.6544\n",
      "Epoch 11/100\n",
      "86/86 [==============================] - 0s 1ms/step - loss: 0.6590\n",
      "Epoch 12/100\n",
      "86/86 [==============================] - 0s 1ms/step - loss: 0.6628\n",
      "Epoch 13/100\n",
      "86/86 [==============================] - 0s 1ms/step - loss: 0.6520\n",
      "Epoch 14/100\n",
      "86/86 [==============================] - 0s 1ms/step - loss: 0.6594\n",
      "Epoch 15/100\n",
      "86/86 [==============================] - 0s 1ms/step - loss: 0.6822\n",
      "Epoch 16/100\n",
      "86/86 [==============================] - 0s 1ms/step - loss: 0.6621\n",
      "Epoch 17/100\n",
      "86/86 [==============================] - 0s 1ms/step - loss: 0.6541\n",
      "Epoch 18/100\n",
      "86/86 [==============================] - 0s 1ms/step - loss: 0.6517\n",
      "Epoch 19/100\n",
      "86/86 [==============================] - 0s 1ms/step - loss: 0.6668\n",
      "Epoch 20/100\n",
      "86/86 [==============================] - 0s 1ms/step - loss: 0.6620\n",
      "Epoch 21/100\n",
      "86/86 [==============================] - 0s 1ms/step - loss: 0.6642\n",
      "Epoch 22/100\n",
      "86/86 [==============================] - 0s 1ms/step - loss: 0.6592\n",
      "Epoch 23/100\n",
      "86/86 [==============================] - 0s 1ms/step - loss: 0.6541\n",
      "Epoch 24/100\n",
      "86/86 [==============================] - 0s 1ms/step - loss: 0.6602\n",
      "Epoch 25/100\n",
      "86/86 [==============================] - 0s 1ms/step - loss: 0.6630\n",
      "Epoch 26/100\n",
      "86/86 [==============================] - 0s 1ms/step - loss: 0.6583\n",
      "Epoch 27/100\n",
      "86/86 [==============================] - 0s 1ms/step - loss: 0.6611\n",
      "Epoch 28/100\n",
      "86/86 [==============================] - 0s 1ms/step - loss: 0.6696\n",
      "Epoch 29/100\n",
      "86/86 [==============================] - 0s 1ms/step - loss: 0.6542\n",
      "Epoch 30/100\n",
      "86/86 [==============================] - 0s 1ms/step - loss: 0.6738\n",
      "Epoch 31/100\n",
      "86/86 [==============================] - 0s 1ms/step - loss: 0.6549\n",
      "Epoch 32/100\n",
      "86/86 [==============================] - 0s 1ms/step - loss: 0.6565\n",
      "Epoch 33/100\n",
      "86/86 [==============================] - 0s 1ms/step - loss: 0.6619\n",
      "Epoch 34/100\n",
      "86/86 [==============================] - 0s 1ms/step - loss: 0.6762\n",
      "Epoch 35/100\n",
      "86/86 [==============================] - 0s 1ms/step - loss: 0.6569\n",
      "Epoch 36/100\n",
      "86/86 [==============================] - 0s 1ms/step - loss: 0.6541\n",
      "Epoch 37/100\n",
      "86/86 [==============================] - 0s 1ms/step - loss: 0.6583\n",
      "Epoch 38/100\n",
      "86/86 [==============================] - 0s 1ms/step - loss: 0.6584\n",
      "Epoch 39/100\n",
      "86/86 [==============================] - 0s 1ms/step - loss: 0.6744\n",
      "Epoch 40/100\n",
      "85/86 [============================>.] - ETA: 0s - loss: 0.6543"
     ]
    }
   ],
   "source": [
    "featnet.model.fit(x = opt_boards[:8000],y = all_vals[:8000], batch_size=64, epochs=100)"
   ]
  },
  {
   "cell_type": "code",
   "execution_count": 48,
   "metadata": {},
   "outputs": [
    {
     "name": "stdout",
     "output_type": "stream",
     "text": [
      "tf.Tensor([[-0.26257762]], shape=(1, 1), dtype=float32)\n",
      "[0.99997854]\n"
     ]
    }
   ],
   "source": [
    "kk=6\n",
    "print(featnet.model(opt_boards[kk][None,...]))\n",
    "print(all_vals[kk])\n"
   ]
  },
  {
   "cell_type": "code",
   "execution_count": 49,
   "metadata": {},
   "outputs": [],
   "source": [
    "allpreds = featnet.model(opt_boards).numpy()\n"
   ]
  },
  {
   "cell_type": "code",
   "execution_count": 50,
   "metadata": {},
   "outputs": [
    {
     "data": {
      "text/plain": [
       "<matplotlib.legend.Legend at 0x147680a88cd0>"
      ]
     },
     "execution_count": 50,
     "metadata": {},
     "output_type": "execute_result"
    },
    {
     "data": {
      "image/png": "[encoded data removed]",
      "text/plain": [
       "<Figure size 432x288 with 1 Axes>"
      ]
     },
     "metadata": {
      "needs_background": "light"
     },
     "output_type": "display_data"
    }
   ],
   "source": [
    "ks = 0\n",
    "ke=10\n",
    "plt.plot(allpreds[ks:ke])\n",
    "plt.plot(all_vals[ks:ke])\n",
    "plt.legend(['pred','true'])"
   ]
  },
  {
   "cell_type": "code",
   "execution_count": null,
   "metadata": {},
   "outputs": [],
   "source": []
  }
 ],
 "metadata": {
  "kernelspec": {
   "display_name": "Python 3",
   "language": "python",
   "name": "python3"
  },
  "language_info": {
   "codemirror_mode": {
    "name": "ipython",
    "version": 3
   },
   "file_extension": ".py",
   "mimetype": "text/x-python",
   "name": "python",
   "nbconvert_exporter": "python",
   "pygments_lexer": "ipython3",
   "version": "3.7.6"
  }
 },
 "nbformat": 4,
 "nbformat_minor": 4
}
