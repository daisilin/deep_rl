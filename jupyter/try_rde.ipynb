{
 "cells": [
  {
   "cell_type": "code",
   "execution_count": 1,
   "metadata": {},
   "outputs": [
    {
     "name": "stdout",
     "output_type": "stream",
     "text": [
      "{'mcts100_cpuct1': [1, 2, 3, 4, 6, 7, 9, 11, 12, 16, 18, 21, 25, 28, 29, 30, 37, 38, 39, 45, 47], 'mcts100_cpuct2': [1, 2, 3, 4, 6, 8, 12, 14, 15, 16, 21, 22, 24, 26, 27, 30, 32, 35, 39], 'mcts100_cpuct3': [1, 2, 3, 4, 5, 7, 8, 9, 10, 11, 12, 16, 17, 18, 20, 21, 25, 26, 28, 32, 34, 35, 36], 'mcts25_cpuct1': [1, 2, 3, 4, 9, 11, 13, 14, 16, 19, 22, 25, 28, 29, 31, 37, 39, 45, 59, 61], 'mcts50_cpuct1': [1, 2, 3, 4, 5, 6, 7, 9, 10, 13, 17, 18, 20, 21, 23, 25, 28, 29, 31, 37, 39, 41, 44, 45, 47, 48, 53], 'mcts80_cpuct1': [1, 2, 3, 4, 5, 7, 8, 9, 10, 13, 16, 19, 20, 21, 23, 24, 28, 34, 35, 36, 40], 'mcts80_cpuct2': [1, 2, 5, 6, 8, 10, 12, 13, 15, 17, 18, 19, 22, 25, 28, 30, 31, 34, 37, 38, 39, 40, 43, 45, 46, 51], 'mcts80_cpuct3': [1, 2, 5, 6, 7, 9, 12, 13, 14, 19, 21, 22, 23, 24, 26, 27, 28, 35, 36, 42, 43, 47, 49, 50, 51, 53, 54, 55, 56, 57]}\n",
      "189 participant iterations!\n"
     ]
    },
    {
     "data": {
      "text/plain": [
       "<module 'load' from '../analysis/load.py'>"
      ]
     },
     "execution_count": 1,
     "metadata": {},
     "output_type": "execute_result"
    }
   ],
   "source": [
    "import sys\n",
    "import os\n",
    "sys.path.insert(0,'../classes')\n",
    "sys.path.insert(0,'../analysis')\n",
    "import anl\n",
    "\n",
    "sys.path.insert(0,'/home/zz737/projects/fiar/cog_model/fourinarow/Analysis notebooks/new')\n",
    "hqfd = '/home/zz737/projects/fiar/cog_model/fourinarow/Analysis notebooks/new/Heuristic quality'\n",
    "sys.path.insert(0,hqfd)\n",
    "from fourinarowfunctions import *\n",
    "import matplotlib.pyplot as plt\n",
    "import pandas as pd\n",
    "import seaborn as sns\n",
    "\n",
    "import logging\n",
    "import numpy as np\n",
    "\n",
    "import coloredlogs\n",
    "\n",
    "from arena import Arena\n",
    "from coach import Coach\n",
    "from beck.beck_game import BeckGame as Game\n",
    "from beck.beck_nnet import NNetWrapper as nn\n",
    "from beck.beck_players import HumanBeckPlayer\n",
    "from mcts import MCTS\n",
    "from utils import *\n",
    "log = logging.getLogger(__name__)\n",
    "\n",
    "from keras import backend as K\n",
    "\n",
    "import tournament\n",
    "# participant_iters = tournament.participant_iters\n",
    "\n",
    "participants_dir = '/scratch/zz737/fiar/tournaments/tournament_4' # dir for trained networks\n",
    "results_dir = '/scratch/zz737/fiar/tournaments/results/tournament_4'\n",
    "moves_dir = '/scratch/zz737/fiar/tournaments/tournament_4/moves/raw/'\n",
    "splits_dir = '/scratch/zz737/fiar/tournaments/tournament_4/moves/splits/'\n",
    "\n",
    "import load\n",
    "import plot_fun\n",
    "from importlib import reload\n",
    "reload(load)"
   ]
  },
  {
   "cell_type": "code",
   "execution_count": 2,
   "metadata": {},
   "outputs": [],
   "source": [
    "import value_analysis as va\n",
    "import pandas as pd\n",
    "import create_database as cd\n",
    "all_players = pd.read_pickle(cd.DATABASE_LOC)"
   ]
  },
  {
   "cell_type": "code",
   "execution_count": 3,
   "metadata": {},
   "outputs": [],
   "source": [
    "import tournament_new as tn\n",
    "game = Game(4,9,4)\n",
    "one_info = all_players.loc[all_players['id']=='tournament_6;mcts100;cpuct2;id-0;best'].iloc[0]\n",
    "ai,val_func,tree = tn.get_player(game, one_info)"
   ]
  },
  {
   "cell_type": "code",
   "execution_count": 112,
   "metadata": {},
   "outputs": [],
   "source": [
    "opt_boards, opt_values=va.load_opt_value_test_boards()"
   ]
  },
  {
   "cell_type": "code",
   "execution_count": 5,
   "metadata": {},
   "outputs": [
    {
     "data": {
      "text/plain": [
       "array([[ 0,  0,  0,  0,  0, -1,  0,  0,  0],\n",
       "       [ 0,  0,  1, -1,  1,  1,  0,  0,  0],\n",
       "       [ 0,  0,  0,  1,  0,  0, -1,  0,  0],\n",
       "       [ 0,  0,  1,  0, -1,  0, -1,  0,  0]])"
      ]
     },
     "execution_count": 5,
     "metadata": {},
     "output_type": "execute_result"
    }
   ],
   "source": [
    "opt_boards[10]"
   ]
  },
  {
   "cell_type": "code",
   "execution_count": 6,
   "metadata": {},
   "outputs": [],
   "source": [
    "b = game.getInitBoard()\n",
    "b[0,:3]=1"
   ]
  },
  {
   "cell_type": "code",
   "execution_count": 7,
   "metadata": {},
   "outputs": [
    {
     "data": {
      "text/plain": [
       "array([[1, 1, 1, 0, 0, 0, 0, 0, 0],\n",
       "       [0, 0, 0, 0, 0, 0, 0, 0, 0],\n",
       "       [0, 0, 0, 0, 0, 0, 0, 0, 0],\n",
       "       [0, 0, 0, 0, 0, 0, 0, 0, 0]])"
      ]
     },
     "execution_count": 7,
     "metadata": {},
     "output_type": "execute_result"
    }
   ],
   "source": [
    "b"
   ]
  },
  {
   "cell_type": "code",
   "execution_count": 11,
   "metadata": {
    "scrolled": true
   },
   "outputs": [
    {
     "data": {
      "text/plain": [
       "[<tensorflow.python.keras.engine.input_layer.InputLayer at 0x149714624e90>,\n",
       " <tensorflow.python.keras.layers.core.Reshape at 0x149718a44390>,\n",
       " <tensorflow.python.keras.layers.convolutional.Conv2D at 0x149715466c90>,\n",
       " <tensorflow.python.keras.layers.normalization_v2.BatchNormalization at 0x1497156ad890>,\n",
       " <tensorflow.python.keras.layers.core.Activation at 0x149717859dd0>,\n",
       " <tensorflow.python.keras.layers.convolutional.Conv2D at 0x149714765d50>,\n",
       " <tensorflow.python.keras.layers.normalization_v2.BatchNormalization at 0x1497147d6f50>,\n",
       " <tensorflow.python.keras.layers.core.Activation at 0x149715466e10>,\n",
       " <tensorflow.python.keras.layers.convolutional.Conv2D at 0x1497147232d0>,\n",
       " <tensorflow.python.keras.layers.normalization_v2.BatchNormalization at 0x149714772f10>,\n",
       " <tensorflow.python.keras.layers.core.Activation at 0x14971477b110>,\n",
       " <tensorflow.python.keras.layers.convolutional.Conv2D at 0x149714754950>,\n",
       " <tensorflow.python.keras.layers.normalization_v2.BatchNormalization at 0x1497147247d0>,\n",
       " <tensorflow.python.keras.layers.core.Activation at 0x1497156ad390>,\n",
       " <tensorflow.python.keras.layers.core.Flatten at 0x149714754f90>,\n",
       " <tensorflow.python.keras.layers.core.Dense at 0x14971470bcd0>,\n",
       " <tensorflow.python.keras.layers.normalization_v2.BatchNormalization at 0x14971470b310>,\n",
       " <tensorflow.python.keras.layers.core.Activation at 0x149714703ad0>,\n",
       " <tensorflow.python.keras.layers.core.Dropout at 0x149714759110>,\n",
       " <tensorflow.python.keras.layers.core.Dense at 0x1497141e6210>,\n",
       " <tensorflow.python.keras.layers.normalization_v2.BatchNormalization at 0x1497141d9a90>,\n",
       " <tensorflow.python.keras.layers.core.Activation at 0x149714710390>,\n",
       " <tensorflow.python.keras.layers.core.Dropout at 0x149714715810>,\n",
       " <tensorflow.python.keras.layers.core.Dense at 0x1497141e6590>,\n",
       " <tensorflow.python.keras.layers.core.Dense at 0x14971419b350>]"
      ]
     },
     "execution_count": 11,
     "metadata": {},
     "output_type": "execute_result"
    }
   ],
   "source": [
    "val_func.nnet.model.layers"
   ]
  },
  {
   "cell_type": "code",
   "execution_count": 5,
   "metadata": {},
   "outputs": [],
   "source": [
    "model = val_func.nnet.model"
   ]
  },
  {
   "cell_type": "code",
   "execution_count": 14,
   "metadata": {},
   "outputs": [],
   "source": [
    "from tensorflow.python.keras import backend\n",
    "inp = model.input                                           # input placeholder\n",
    "outputs = [layer.output for layer in model.layers]          # all layer outputs\n",
    "functors = [K.function([inp, backend.symbolic_learning_phase()], [out]) for out in outputs]    # evaluation functions\n",
    "\n",
    "# Testing\n",
    "# test = np.random.random([4,9])[np.newaxis,...]\n",
    "# test = opt_boards[10:12]\n",
    "test = b[None,:,:]\n",
    "layer_outs = [func([test, False]) for func in functors]\n",
    "# print(layer_outs)"
   ]
  },
  {
   "cell_type": "code",
   "execution_count": 46,
   "metadata": {},
   "outputs": [
    {
     "data": {
      "text/plain": [
       "[<tensorflow.python.keras.engine.input_layer.InputLayer at 0x14c09b719d50>,\n",
       " <tensorflow.python.keras.layers.core.Reshape at 0x14c09b71dc10>,\n",
       " <tensorflow.python.keras.layers.convolutional.Conv2D at 0x14c09b704950>,\n",
       " <tensorflow.python.keras.layers.normalization_v2.BatchNormalization at 0x14c09b708410>,\n",
       " <tensorflow.python.keras.layers.core.Activation at 0x14c09b393bd0>,\n",
       " <tensorflow.python.keras.layers.convolutional.Conv2D at 0x14c09b6fbbd0>,\n",
       " <tensorflow.python.keras.layers.normalization_v2.BatchNormalization at 0x14c09b7042d0>,\n",
       " <tensorflow.python.keras.layers.core.Activation at 0x14c09b71a350>,\n",
       " <tensorflow.python.keras.layers.convolutional.Conv2D at 0x14c09b76d050>,\n",
       " <tensorflow.python.keras.layers.normalization_v2.BatchNormalization at 0x14c09b6faa10>,\n",
       " <tensorflow.python.keras.layers.core.Activation at 0x14c09b6fcf10>,\n",
       " <tensorflow.python.keras.layers.convolutional.Conv2D at 0x14c09b762390>,\n",
       " <tensorflow.python.keras.layers.normalization_v2.BatchNormalization at 0x14c09b76bed0>,\n",
       " <tensorflow.python.keras.layers.core.Activation at 0x14c09b76e910>,\n",
       " <tensorflow.python.keras.layers.core.Flatten at 0x14c09b76c790>,\n",
       " <tensorflow.python.keras.layers.core.Dense at 0x14c09b7044d0>,\n",
       " <tensorflow.python.keras.layers.normalization_v2.BatchNormalization at 0x14c09b754490>,\n",
       " <tensorflow.python.keras.layers.core.Activation at 0x14c09b756350>,\n",
       " <tensorflow.python.keras.layers.core.Dropout at 0x14c09b760a10>,\n",
       " <tensorflow.python.keras.layers.core.Dense at 0x14c09b704350>,\n",
       " <tensorflow.python.keras.layers.normalization_v2.BatchNormalization at 0x14c09b746850>,\n",
       " <tensorflow.python.keras.layers.core.Activation at 0x14c09b753450>,\n",
       " <tensorflow.python.keras.layers.core.Dropout at 0x14c09b754790>,\n",
       " <tensorflow.python.keras.layers.core.Dense at 0x14c09b741f50>,\n",
       " <tensorflow.python.keras.layers.core.Dense at 0x14c09b7b59d0>]"
      ]
     },
     "execution_count": 46,
     "metadata": {},
     "output_type": "execute_result"
    }
   ],
   "source": [
    "model.layers"
   ]
  },
  {
   "cell_type": "code",
   "execution_count": 16,
   "metadata": {},
   "outputs": [
    {
     "data": {
      "image/png": "[encoded data removed]",
      "text/plain": [
       "<Figure size 432x288 with 1 Axes>"
      ]
     },
     "metadata": {
      "needs_background": "light"
     },
     "output_type": "display_data"
    },
    {
     "data": {
      "image/png": "[encoded data removed]",
      "text/plain": [
       "<Figure size 432x288 with 1 Axes>"
      ]
     },
     "metadata": {
      "needs_background": "light"
     },
     "output_type": "display_data"
    },
    {
     "data": {
      "image/png": "[encoded data removed]",
      "text/plain": [
       "<Figure size 432x288 with 1 Axes>"
      ]
     },
     "metadata": {
      "needs_background": "light"
     },
     "output_type": "display_data"
    },
    {
     "data": {
      "image/png": "[encoded data removed]",
      "text/plain": [
       "<Figure size 432x288 with 1 Axes>"
      ]
     },
     "metadata": {
      "needs_background": "light"
     },
     "output_type": "display_data"
    },
    {
     "data": {
      "image/png": "[encoded data removed]",
      "text/plain": [
       "<Figure size 432x288 with 1 Axes>"
      ]
     },
     "metadata": {
      "needs_background": "light"
     },
     "output_type": "display_data"
    },
    {
     "data": {
      "image/png": "[encoded data removed]",
      "text/plain": [
       "<Figure size 432x288 with 1 Axes>"
      ]
     },
     "metadata": {
      "needs_background": "light"
     },
     "output_type": "display_data"
    },
    {
     "data": {
      "image/png": "[encoded data removed]",
      "text/plain": [
       "<Figure size 432x288 with 1 Axes>"
      ]
     },
     "metadata": {
      "needs_background": "light"
     },
     "output_type": "display_data"
    },
    {
     "data": {
      "image/png": "[encoded data removed]",
      "text/plain": [
       "<Figure size 432x288 with 1 Axes>"
      ]
     },
     "metadata": {
      "needs_background": "light"
     },
     "output_type": "display_data"
    },
    {
     "data": {
      "image/png": "[encoded data removed]",
      "text/plain": [
       "<Figure size 432x288 with 1 Axes>"
      ]
     },
     "metadata": {
      "needs_background": "light"
     },
     "output_type": "display_data"
    },
    {
     "data": {
      "image/png": "[encoded data removed]",
      "text/plain": [
       "<Figure size 432x288 with 1 Axes>"
      ]
     },
     "metadata": {
      "needs_background": "light"
     },
     "output_type": "display_data"
    }
   ],
   "source": [
    "kk=0\n",
    "l=6\n",
    "for c in range(10):\n",
    "    plt.figure()\n",
    "    plt.imshow(layer_outs[l][0][kk][:,:,c],aspect='auto')"
   ]
  },
  {
   "cell_type": "code",
   "execution_count": 25,
   "metadata": {},
   "outputs": [
    {
     "data": {
      "image/png": "[encoded data removed]",
      "text/plain": [
       "<Figure size 432x288 with 1 Axes>"
      ]
     },
     "metadata": {
      "needs_background": "light"
     },
     "output_type": "display_data"
    },
    {
     "data": {
      "image/png": "[encoded data removed]",
      "text/plain": [
       "<Figure size 432x288 with 1 Axes>"
      ]
     },
     "metadata": {
      "needs_background": "light"
     },
     "output_type": "display_data"
    },
    {
     "data": {
      "image/png": "[encoded data removed]",
      "text/plain": [
       "<Figure size 432x288 with 1 Axes>"
      ]
     },
     "metadata": {
      "needs_background": "light"
     },
     "output_type": "display_data"
    },
    {
     "data": {
      "image/png": "[encoded data removed]",
      "text/plain": [
       "<Figure size 432x288 with 1 Axes>"
      ]
     },
     "metadata": {
      "needs_background": "light"
     },
     "output_type": "display_data"
    },
    {
     "data": {
      "image/png": "[encoded data removed]",
      "text/plain": [
       "<Figure size 432x288 with 1 Axes>"
      ]
     },
     "metadata": {
      "needs_background": "light"
     },
     "output_type": "display_data"
    },
    {
     "data": {
      "image/png": "[encoded data removed]",
      "text/plain": [
       "<Figure size 432x288 with 1 Axes>"
      ]
     },
     "metadata": {
      "needs_background": "light"
     },
     "output_type": "display_data"
    },
    {
     "data": {
      "image/png": "[encoded data removed]",
      "text/plain": [
       "<Figure size 432x288 with 1 Axes>"
      ]
     },
     "metadata": {
      "needs_background": "light"
     },
     "output_type": "display_data"
    },
    {
     "data": {
      "image/png": "[encoded data removed]",
      "text/plain": [
       "<Figure size 432x288 with 1 Axes>"
      ]
     },
     "metadata": {
      "needs_background": "light"
     },
     "output_type": "display_data"
    },
    {
     "data": {
      "image/png": "[encoded data removed]",
      "text/plain": [
       "<Figure size 432x288 with 1 Axes>"
      ]
     },
     "metadata": {
      "needs_background": "light"
     },
     "output_type": "display_data"
    },
    {
     "data": {
      "image/png": "[encoded data removed]",
      "text/plain": [
       "<Figure size 432x288 with 1 Axes>"
      ]
     },
     "metadata": {
      "needs_background": "light"
     },
     "output_type": "display_data"
    }
   ],
   "source": [
    "kk=0\n",
    "l=6\n",
    "for c in range(10):\n",
    "    plt.figure()\n",
    "    plt.imshow(layer_outs[l][0][kk][:,:,c],aspect='auto')"
   ]
  },
  {
   "cell_type": "code",
   "execution_count": 22,
   "metadata": {
    "scrolled": true
   },
   "outputs": [
    {
     "data": {
      "text/plain": [
       "<tf.Tensor 'activation_5/Identity:0' shape=(None, 512) dtype=float32>"
      ]
     },
     "execution_count": 22,
     "metadata": {},
     "output_type": "execute_result"
    }
   ],
   "source": [
    "model.layers[-4].output"
   ]
  },
  {
   "cell_type": "code",
   "execution_count": 6,
   "metadata": {},
   "outputs": [],
   "source": [
    "from keras.models import *\n",
    "from keras.layers import *\n",
    "from keras.optimizers import *\n",
    "from keras import initializers\n",
    "from keras import regularizers\n",
    "import keras\n",
    "import tensorflow as tf"
   ]
  },
  {
   "cell_type": "code",
   "execution_count": 264,
   "metadata": {},
   "outputs": [],
   "source": [
    "from keras.constraints import Constraint\n",
    "from keras import backend as K\n",
    "\n",
    "class WeightClip(Constraint):\n",
    "    '''Clips the weights incident to each hidden unit to be inside a range\n",
    "    '''\n",
    "    def __init__(self, low=0,high=1):\n",
    "        self.low = low\n",
    "        self.high = high\n",
    "\n",
    "    def __call__(self, p):\n",
    "        return K.clip(p, -self.low, self.high)\n",
    "\n",
    "    def get_config(self):\n",
    "        return {'name': self.__class__.__name__,\n",
    "                'range': (self.low,self.high)}\n",
    "\n",
    "class Distort(keras.layers.Layer):\n",
    "    def __init__(self, shape=(4,9),N_noise_samples=100,model=None,l1=0.01,noise_std=0.1,p_flip=0.2, **kwargs):\n",
    "        super(Distort, self).__init__()\n",
    "        self.l1 = l1\n",
    "#         self.w_init = tf.random_uniform_initializer(minval=0.0,maxval=1.0) # can add in init with board input\n",
    "        self.w_init = initializers.RandomUniform(minval=0.0,maxval=1.0) # can add in init with board input\n",
    "#         self.w = tf.Variable(\n",
    "#             initial_value=w_init(shape=shape, dtype=\"float32\"),\n",
    "#             trainable=True,\n",
    "#         )\n",
    "        self.N_noise_samples=N_noise_samples\n",
    "\n",
    "\n",
    "        \n",
    "        noise_samples=np.random.choice([-2,-1,0,1,2],p=[p_flip,p_flip,1-4*p_flip,p_flip,p_flip],size=(N_noise_samples,*shape)).astype(np.float32)\n",
    "        \n",
    "        self.noise_samples = tf.constant(noise_samples)\n",
    "        \n",
    "#         self.noise_samples = tf.Variable(\n",
    "#             initial_value=noise_samples_init(shape=(N_noise_samples,*shape), dtype=\"float32\"),\n",
    "#             trainable=False,\n",
    "#         )\n",
    "        \n",
    "#         self.noise_samples_init = initializers.RandomNormal(mean=0.0, stddev=noise_std) # if using add_weight\n",
    "        self.shape=shape\n",
    "        if model is not None:\n",
    "            self.f = model\n",
    "        else:\n",
    "            self.f = tf.identity\n",
    "            \n",
    "    def build(self, input_shape):\n",
    "        self.w = self.add_weight(\n",
    "            \"mask\",\n",
    "            shape=input_shape,\n",
    "            initializer=self.w_init,\n",
    "            trainable=True,\n",
    "            regularizer=regularizers.l1(self.l1),\n",
    "            constraint = WeightClip(low=0,high=1),\n",
    "        )\n",
    "#         self.noise_samples = self.add_weight(\n",
    "#             \"noise\",\n",
    "#             shape = (self.N_noise_samples,*input_shape[1:]),\n",
    "#             initializer=self.noise_samples_init,\n",
    "#             trainable=False,\n",
    "#         )\n",
    "        \n",
    "\n",
    "    def call(self, input): # only accomodate single input example\n",
    "#         return self.f(self.w * input[None,...] + (1-self.w)  * self.noise_samples)\n",
    "#         w_clipped = K.clip(self.w,0,1)\n",
    "#         noise_samples = np.random.normal(0,0.1,size=(self.N_noise_samples,*self.shape))\n",
    "#         return self.f(self.w * input + (1-self.w)  * noise_samples)\n",
    "\n",
    "        noise_samples=np.random.choice([-2,-1,0,1,2],p=[p_flip,p_flip,1-4*p_flip,p_flip,p_flip],size=(self.N_noise_samples,*self.shape)).astype(np.float32)\n",
    "        self.noise_samples = tf.constant(noise_samples)\n",
    "\n",
    "        distorted_in = self.w * input + (1-self.w)  * self.noise_samples\n",
    "        distorted_in_clipped = K.clip(distorted_in,-1,1)\n",
    "        return self.f(distorted_in_clipped)\n",
    "#         return self.f(w_clipped * input + (1-w_clipped)  * self.noise_samples)\n",
    "\n",
    "\n",
    "class RDE():\n",
    "    def __init__(self,model,out_node,lr=0.01,decay=0.0,**kwargs):\n",
    "        '''\n",
    "        model: the othello net model\n",
    "        out_node: whether 0 for policy or 1 for value, \n",
    "        in kwargs:\n",
    "            noise_std = \n",
    "            N_noise_samples = \n",
    "            l1 =\n",
    "        '''\n",
    "        model.trainable=False\n",
    "        self.model = model\n",
    "        self.out_node = out_node\n",
    "        \n",
    "        in_shape = model.layers[0].input_shape[0][1:]\n",
    "        inputs=Input(shape=in_shape,batch_size=1) # distort only accomodate single input, now\n",
    "        self.out_distorted = Distort(shape = in_shape , model=model, **kwargs)(inputs)[out_node]\n",
    "    #     in_distorted = Distort(shape = in_shape , N_noise_samples=100, model=None)(inputs)[out_node]\n",
    "    #     out_distorted = model(in_distorted)\n",
    "    \n",
    "        rde = Model(inputs=inputs, outputs=self.out_distorted)\n",
    "        loss_l=['categorical_crossentropy','mean_squared_error']\n",
    "        rde.compile(loss=loss_l[out_node], optimizer=Adam(lr=lr,decay=decay))\n",
    "        \n",
    "        self.rde = rde\n",
    "        \n",
    "        \n",
    "        "
   ]
  },
  {
   "cell_type": "code",
   "execution_count": 251,
   "metadata": {},
   "outputs": [],
   "source": [
    "distort = Distort(model=model,N_noise_samples=1000)"
   ]
  },
  {
   "cell_type": "code",
   "execution_count": 252,
   "metadata": {},
   "outputs": [
    {
     "data": {
      "text/plain": [
       "1000"
      ]
     },
     "execution_count": 252,
     "metadata": {},
     "output_type": "execute_result"
    }
   ],
   "source": [
    "distort.N_noise_samples"
   ]
  },
  {
   "cell_type": "code",
   "execution_count": 253,
   "metadata": {},
   "outputs": [
    {
     "data": {
      "text/plain": [
       "[<tf.Tensor: shape=(1000, 36), dtype=float32, numpy=\n",
       " array([[2.3768636e-04, 5.8332767e-04, 1.3378039e-05, ..., 5.7680835e-04,\n",
       "         1.4099825e-04, 1.0889301e-03],\n",
       "        [2.6950600e-09, 2.0106834e-09, 8.1246588e-07, ..., 2.0182669e-10,\n",
       "         9.4047471e-07, 6.1102448e-09],\n",
       "        [8.1070975e-05, 4.4045253e-03, 1.0979242e-04, ..., 2.9044313e-02,\n",
       "         2.1427806e-04, 3.6240224e-04],\n",
       "        ...,\n",
       "        [3.7078178e-05, 2.8311186e-03, 2.9475324e-05, ..., 3.9642420e-02,\n",
       "         9.0914778e-04, 8.0869754e-04],\n",
       "        [5.1965188e-05, 6.8287860e-05, 6.5081019e-04, ..., 3.0559244e-05,\n",
       "         3.9270628e-02, 1.0384472e-04],\n",
       "        [8.4686605e-03, 5.2396427e-03, 3.7557268e-01, ..., 2.2703074e-03,\n",
       "         1.3136264e-02, 1.8927066e-02]], dtype=float32)>,\n",
       " <tf.Tensor: shape=(1000, 1), dtype=float32, numpy=\n",
       " array([[-6.26826240e-03],\n",
       "        [ 9.98331189e-01],\n",
       "        [ 1.00000000e+00],\n",
       "        [ 8.13982248e-01],\n",
       "        [-3.55294012e-02],\n",
       "        [-1.00000000e+00],\n",
       "        [-3.78655046e-01],\n",
       "        [-2.54932372e-03],\n",
       "        [ 1.32437320e-02],\n",
       "        [ 9.99203146e-01],\n",
       "        [ 3.51432770e-01],\n",
       "        [-1.75091237e-01],\n",
       "        [ 1.00000000e+00],\n",
       "        [-5.32643557e-01],\n",
       "        [-9.58819911e-02],\n",
       "        [-9.99888778e-01],\n",
       "        [ 9.99999106e-01],\n",
       "        [-1.07850572e-02],\n",
       "        [-3.38632129e-02],\n",
       "        [ 8.17269742e-01],\n",
       "        [ 2.79695898e-01],\n",
       "        [ 1.00000000e+00],\n",
       "        [ 5.01019180e-01],\n",
       "        [ 1.00000000e+00],\n",
       "        [-4.20770757e-02],\n",
       "        [ 1.00000000e+00],\n",
       "        [-6.96858019e-02],\n",
       "        [ 1.00000000e+00],\n",
       "        [-1.67091906e-01],\n",
       "        [ 1.00000000e+00],\n",
       "        [-1.98803060e-02],\n",
       "        [-9.93122929e-04],\n",
       "        [ 6.81567043e-02],\n",
       "        [ 9.31435466e-01],\n",
       "        [-8.66215955e-03],\n",
       "        [ 9.96541381e-01],\n",
       "        [ 1.00000000e+00],\n",
       "        [-4.45681326e-02],\n",
       "        [-1.07087074e-02],\n",
       "        [ 9.99997258e-01],\n",
       "        [ 6.96486514e-03],\n",
       "        [-5.15572913e-02],\n",
       "        [ 1.00000000e+00],\n",
       "        [-9.99994636e-01],\n",
       "        [-2.35347473e-03],\n",
       "        [-4.92694043e-02],\n",
       "        [ 9.99082088e-01],\n",
       "        [ 3.29066873e-01],\n",
       "        [ 1.62040666e-02],\n",
       "        [ 1.72792953e-02],\n",
       "        [ 9.99993443e-01],\n",
       "        [-9.74992812e-02],\n",
       "        [-2.47308940e-01],\n",
       "        [-7.65430987e-01],\n",
       "        [ 1.00000000e+00],\n",
       "        [-1.70190379e-01],\n",
       "        [-2.59906631e-02],\n",
       "        [-9.71571207e-01],\n",
       "        [-1.00000000e+00],\n",
       "        [-5.55134654e-01],\n",
       "        [-9.64971706e-02],\n",
       "        [-9.92530525e-01],\n",
       "        [ 9.99999940e-01],\n",
       "        [-9.99999940e-01],\n",
       "        [ 1.00000000e+00],\n",
       "        [ 9.99607682e-01],\n",
       "        [ 8.13205913e-03],\n",
       "        [ 1.00000000e+00],\n",
       "        [ 9.99997079e-01],\n",
       "        [-1.39174620e-02],\n",
       "        [-9.89993811e-01],\n",
       "        [ 9.99819994e-01],\n",
       "        [ 9.99459386e-01],\n",
       "        [ 5.53876758e-01],\n",
       "        [ 3.06391120e-01],\n",
       "        [-1.00000000e+00],\n",
       "        [ 1.00000000e+00],\n",
       "        [ 9.98876393e-01],\n",
       "        [ 2.26277813e-01],\n",
       "        [-1.00000000e+00],\n",
       "        [-2.00230014e-02],\n",
       "        [-7.65905738e-01],\n",
       "        [ 1.00000000e+00],\n",
       "        [ 1.47838950e-01],\n",
       "        [ 9.99976099e-01],\n",
       "        [-1.00000000e+00],\n",
       "        [ 9.93638575e-01],\n",
       "        [ 1.00000000e+00],\n",
       "        [-7.28083774e-02],\n",
       "        [-2.54062489e-02],\n",
       "        [ 9.99999881e-01],\n",
       "        [ 2.28522122e-01],\n",
       "        [-9.99919832e-01],\n",
       "        [-1.77778780e-01],\n",
       "        [ 1.00000000e+00],\n",
       "        [-1.00000000e+00],\n",
       "        [ 9.99994159e-01],\n",
       "        [ 1.00000000e+00],\n",
       "        [-9.96133626e-01],\n",
       "        [-9.99997258e-01],\n",
       "        [ 1.74802870e-01],\n",
       "        [ 4.15934354e-01],\n",
       "        [-9.99996305e-01],\n",
       "        [ 9.96181786e-01],\n",
       "        [ 9.99999940e-01],\n",
       "        [-9.21422765e-02],\n",
       "        [ 9.99996841e-01],\n",
       "        [ 9.49296809e-04],\n",
       "        [ 1.25114009e-01],\n",
       "        [-2.68616796e-01],\n",
       "        [ 9.96658027e-01],\n",
       "        [ 9.66232717e-01],\n",
       "        [ 1.00000000e+00],\n",
       "        [ 6.39832094e-02],\n",
       "        [-3.72608304e-02],\n",
       "        [ 9.27388191e-01],\n",
       "        [ 1.00000000e+00],\n",
       "        [-7.19802380e-02],\n",
       "        [-6.03809953e-01],\n",
       "        [ 8.01472187e-01],\n",
       "        [ 6.06231213e-01],\n",
       "        [-9.99675393e-01],\n",
       "        [ 1.18725030e-02],\n",
       "        [-4.57460403e-01],\n",
       "        [ 8.45162868e-01],\n",
       "        [-9.36963677e-01],\n",
       "        [-9.90715265e-01],\n",
       "        [ 9.99999821e-01],\n",
       "        [-9.95559275e-01],\n",
       "        [-2.89028317e-01],\n",
       "        [ 1.00000000e+00],\n",
       "        [-9.99995589e-01],\n",
       "        [ 7.27665782e-01],\n",
       "        [-9.94046211e-01],\n",
       "        [-5.38576066e-01],\n",
       "        [ 2.25020126e-01],\n",
       "        [-9.99798000e-01],\n",
       "        [ 1.00000000e+00],\n",
       "        [ 6.16333745e-02],\n",
       "        [ 6.76868677e-01],\n",
       "        [-9.99985993e-01],\n",
       "        [ 1.00000000e+00],\n",
       "        [ 1.00000000e+00],\n",
       "        [ 8.39590311e-01],\n",
       "        [ 1.00000000e+00],\n",
       "        [-9.99859750e-01],\n",
       "        [-1.34434089e-01],\n",
       "        [-2.76525132e-02],\n",
       "        [-9.99996841e-01],\n",
       "        [ 9.89631355e-01],\n",
       "        [-6.42824844e-02],\n",
       "        [-7.53994405e-01],\n",
       "        [-8.41015816e-01],\n",
       "        [ 9.99423444e-01],\n",
       "        [-9.99967039e-01],\n",
       "        [ 9.84882295e-01],\n",
       "        [-5.89859448e-02],\n",
       "        [-4.63049635e-02],\n",
       "        [-8.38008165e-01],\n",
       "        [ 1.00000000e+00],\n",
       "        [ 7.34508872e-01],\n",
       "        [ 1.00000000e+00],\n",
       "        [ 9.29116249e-01],\n",
       "        [ 9.99999881e-01],\n",
       "        [-3.64968151e-01],\n",
       "        [-9.99844491e-01],\n",
       "        [-1.89285189e-01],\n",
       "        [-9.99667227e-01],\n",
       "        [-9.98744845e-01],\n",
       "        [-9.99970853e-01],\n",
       "        [-1.89229492e-02],\n",
       "        [-9.99979258e-01],\n",
       "        [-1.09241856e-02],\n",
       "        [ 9.95118856e-01],\n",
       "        [ 9.99994934e-01],\n",
       "        [ 9.30590391e-01],\n",
       "        [-9.41024661e-01],\n",
       "        [ 9.99998510e-01],\n",
       "        [-1.77945364e-02],\n",
       "        [ 9.99976277e-01],\n",
       "        [ 8.62783909e-01],\n",
       "        [ 1.00000000e+00],\n",
       "        [ 1.00000000e+00],\n",
       "        [-9.05137420e-01],\n",
       "        [-1.00000000e+00],\n",
       "        [ 1.00000000e+00],\n",
       "        [-8.53539526e-01],\n",
       "        [-4.57544737e-02],\n",
       "        [-3.09891880e-01],\n",
       "        [-1.00000000e+00],\n",
       "        [-9.99025162e-03],\n",
       "        [ 1.00000000e+00],\n",
       "        [-2.71891598e-02],\n",
       "        [-1.23539120e-01],\n",
       "        [ 5.23820579e-01],\n",
       "        [ 2.89944299e-02],\n",
       "        [-3.06191072e-02],\n",
       "        [-9.96433973e-01],\n",
       "        [-9.43176355e-03],\n",
       "        [ 9.99994874e-01],\n",
       "        [ 4.07932512e-02],\n",
       "        [ 5.22048593e-01],\n",
       "        [-1.00000000e+00],\n",
       "        [-3.49464943e-03],\n",
       "        [-1.00000000e+00],\n",
       "        [ 9.99617994e-01],\n",
       "        [-1.33411558e-02],\n",
       "        [ 9.99869466e-01],\n",
       "        [ 5.19914329e-01],\n",
       "        [ 1.00000000e+00],\n",
       "        [ 9.99999821e-01],\n",
       "        [ 9.99999404e-01],\n",
       "        [-2.05054671e-01],\n",
       "        [ 9.93088901e-01],\n",
       "        [ 1.57246124e-02],\n",
       "        [ 9.97404337e-01],\n",
       "        [ 9.99594450e-01],\n",
       "        [-8.15508701e-03],\n",
       "        [-6.83111846e-01],\n",
       "        [-9.99999881e-01],\n",
       "        [-9.98705387e-01],\n",
       "        [-1.30319417e-01],\n",
       "        [ 1.00000000e+00],\n",
       "        [ 1.22900173e-01],\n",
       "        [ 1.00000000e+00],\n",
       "        [ 1.89331509e-02],\n",
       "        [ 1.00000000e+00],\n",
       "        [-9.33591068e-01],\n",
       "        [-7.07010388e-01],\n",
       "        [ 9.99999821e-01],\n",
       "        [-3.59145515e-02],\n",
       "        [ 9.92239416e-01],\n",
       "        [-7.01774001e-01],\n",
       "        [ 1.00000000e+00],\n",
       "        [-3.36365551e-02],\n",
       "        [-1.00000000e+00],\n",
       "        [-9.99995291e-01],\n",
       "        [ 9.46666449e-02],\n",
       "        [-9.61001515e-01],\n",
       "        [ 4.30385441e-01],\n",
       "        [ 9.99999225e-01],\n",
       "        [ 9.98791158e-01],\n",
       "        [ 5.31093159e-04],\n",
       "        [ 7.82799602e-01],\n",
       "        [-4.27254383e-03],\n",
       "        [ 3.99500281e-01],\n",
       "        [-2.92302556e-02],\n",
       "        [ 8.72057602e-02],\n",
       "        [ 1.00000000e+00],\n",
       "        [ 3.84926170e-01],\n",
       "        [ 4.06982601e-01],\n",
       "        [-3.55433881e-01],\n",
       "        [ 9.99999940e-01],\n",
       "        [-5.31428447e-03],\n",
       "        [ 9.99988079e-01],\n",
       "        [ 1.00000000e+00],\n",
       "        [-9.88715291e-01],\n",
       "        [ 1.00000000e+00],\n",
       "        [ 9.98183906e-01],\n",
       "        [ 3.36882532e-01],\n",
       "        [ 4.61529374e-01],\n",
       "        [ 8.47983122e-01],\n",
       "        [ 1.00000000e+00],\n",
       "        [-9.99993622e-01],\n",
       "        [-2.70066887e-01],\n",
       "        [-9.99856353e-01],\n",
       "        [-9.99525964e-01],\n",
       "        [-9.81342375e-01],\n",
       "        [ 6.12447113e-02],\n",
       "        [ 9.99984562e-01],\n",
       "        [ 1.00000000e+00],\n",
       "        [ 9.98304248e-01],\n",
       "        [-7.52527177e-01],\n",
       "        [-1.26312822e-01],\n",
       "        [-9.99883413e-01],\n",
       "        [ 1.00000000e+00],\n",
       "        [ 1.00000000e+00],\n",
       "        [-3.94768715e-02],\n",
       "        [ 9.98361290e-01],\n",
       "        [-4.38872017e-02],\n",
       "        [-1.00000000e+00],\n",
       "        [-8.97679508e-01],\n",
       "        [ 9.98689294e-01],\n",
       "        [ 9.99621987e-01],\n",
       "        [ 1.00000000e+00],\n",
       "        [ 9.81535673e-01],\n",
       "        [-2.60942906e-01],\n",
       "        [ 9.21297371e-02],\n",
       "        [-5.74110270e-01],\n",
       "        [ 9.98937666e-01],\n",
       "        [-1.18044680e-02],\n",
       "        [-9.99386489e-01],\n",
       "        [ 3.38498741e-01],\n",
       "        [-9.97289717e-01],\n",
       "        [-1.00000000e+00],\n",
       "        [-9.99994040e-01],\n",
       "        [ 9.81201887e-01],\n",
       "        [ 1.00000000e+00],\n",
       "        [ 9.96418238e-01],\n",
       "        [ 2.45279878e-01],\n",
       "        [-1.11310326e-01],\n",
       "        [ 1.56208761e-02],\n",
       "        [-9.75814342e-01],\n",
       "        [ 9.92995203e-01],\n",
       "        [-9.99876797e-01],\n",
       "        [ 1.00000000e+00],\n",
       "        [-8.59778404e-01],\n",
       "        [-4.19539809e-02],\n",
       "        [-3.70229512e-01],\n",
       "        [-9.64223444e-01],\n",
       "        [ 1.00000000e+00],\n",
       "        [-9.99351203e-01],\n",
       "        [-6.59994930e-02],\n",
       "        [-9.93223116e-02],\n",
       "        [-7.37494230e-01],\n",
       "        [ 1.00000000e+00],\n",
       "        [ 1.00000000e+00],\n",
       "        [ 3.95561792e-02],\n",
       "        [-9.99589145e-01],\n",
       "        [-7.02049494e-01],\n",
       "        [-9.36152115e-02],\n",
       "        [ 5.23378015e-01],\n",
       "        [ 1.00000000e+00],\n",
       "        [-8.74371171e-01],\n",
       "        [ 9.85975444e-01],\n",
       "        [ 9.13964331e-01],\n",
       "        [-9.98585522e-01],\n",
       "        [ 9.97581124e-01],\n",
       "        [ 9.81430233e-01],\n",
       "        [ 9.99941826e-01],\n",
       "        [-2.18699183e-02],\n",
       "        [-1.63382348e-02],\n",
       "        [-2.53038649e-02],\n",
       "        [ 9.99994159e-01],\n",
       "        [-9.99998152e-01],\n",
       "        [ 2.10550442e-01],\n",
       "        [ 1.00000000e+00],\n",
       "        [ 8.80676508e-01],\n",
       "        [ 9.92752969e-01],\n",
       "        [-9.99999940e-01],\n",
       "        [ 1.24000330e-02],\n",
       "        [-2.38188505e-01],\n",
       "        [ 9.99716520e-01],\n",
       "        [-9.27688360e-01],\n",
       "        [-4.77101535e-01],\n",
       "        [ 9.99970973e-01],\n",
       "        [-9.65671539e-01],\n",
       "        [ 8.23545039e-01],\n",
       "        [-3.58895399e-02],\n",
       "        [ 9.99996543e-01],\n",
       "        [-7.62171596e-02],\n",
       "        [ 1.97294578e-01],\n",
       "        [ 9.74435806e-01],\n",
       "        [-9.99982297e-01],\n",
       "        [-9.99980628e-01],\n",
       "        [-2.52410420e-03],\n",
       "        [ 4.66207676e-02],\n",
       "        [ 7.29456663e-01],\n",
       "        [ 3.58328335e-02],\n",
       "        [ 1.00000000e+00],\n",
       "        [ 1.00000000e+00],\n",
       "        [-6.79860592e-01],\n",
       "        [-9.99989986e-01],\n",
       "        [ 1.00000000e+00],\n",
       "        [-1.70822740e-02],\n",
       "        [-5.07205844e-01],\n",
       "        [ 1.86734181e-02],\n",
       "        [ 1.06804669e-01],\n",
       "        [ 1.14915982e-01],\n",
       "        [ 9.99990642e-01],\n",
       "        [-1.04327183e-02],\n",
       "        [-9.24919844e-01],\n",
       "        [-9.59280789e-01],\n",
       "        [ 8.00511062e-01],\n",
       "        [-9.99827087e-01],\n",
       "        [ 1.48536088e-02],\n",
       "        [ 9.99447227e-01],\n",
       "        [ 9.91640761e-02],\n",
       "        [-9.99963403e-01],\n",
       "        [-2.73760289e-01],\n",
       "        [-2.01985706e-02],\n",
       "        [-2.76249617e-01],\n",
       "        [-7.20495060e-02],\n",
       "        [-1.40125558e-01],\n",
       "        [-9.63418782e-01],\n",
       "        [ 9.99973893e-01],\n",
       "        [ 2.66032685e-02],\n",
       "        [-9.99995649e-01],\n",
       "        [-5.17419815e-01],\n",
       "        [ 9.81161714e-01],\n",
       "        [-1.54676959e-02],\n",
       "        [ 9.99999940e-01],\n",
       "        [-8.20592642e-01],\n",
       "        [ 4.73944634e-01],\n",
       "        [ 9.99995947e-01],\n",
       "        [ 9.30793643e-01],\n",
       "        [-1.56806991e-01],\n",
       "        [-1.77203249e-02],\n",
       "        [-7.35037774e-02],\n",
       "        [-1.03921257e-01],\n",
       "        [-2.76525505e-03],\n",
       "        [ 7.03573942e-01],\n",
       "        [-6.16069138e-02],\n",
       "        [ 2.99450248e-01],\n",
       "        [ 9.99997914e-01],\n",
       "        [ 9.60712731e-01],\n",
       "        [-4.86659944e-01],\n",
       "        [-7.41413832e-01],\n",
       "        [-1.00000000e+00],\n",
       "        [-1.66137025e-01],\n",
       "        [ 1.00000000e+00],\n",
       "        [-1.07143410e-01],\n",
       "        [-8.34196359e-02],\n",
       "        [-6.22944593e-01],\n",
       "        [-9.96361136e-01],\n",
       "        [ 1.14952341e-01],\n",
       "        [ 2.25328952e-02],\n",
       "        [-7.05953121e-01],\n",
       "        [ 8.05812702e-02],\n",
       "        [-4.64143530e-02],\n",
       "        [-2.68705279e-01],\n",
       "        [ 2.51115978e-01],\n",
       "        [-8.58925104e-01],\n",
       "        [-1.64497886e-02],\n",
       "        [-1.64977491e-01],\n",
       "        [-1.00000000e+00],\n",
       "        [-1.49367964e-02],\n",
       "        [ 6.36728806e-03],\n",
       "        [ 5.54537892e-01],\n",
       "        [-5.92177585e-02],\n",
       "        [-9.98300016e-01],\n",
       "        [-8.18485379e-01],\n",
       "        [ 7.82327577e-02],\n",
       "        [ 9.95890081e-01],\n",
       "        [-9.99994397e-01],\n",
       "        [ 9.34209764e-01],\n",
       "        [ 9.99999046e-01],\n",
       "        [ 3.98711860e-01],\n",
       "        [ 1.00000000e+00],\n",
       "        [ 7.44936541e-02],\n",
       "        [-9.62865539e-03],\n",
       "        [ 1.13791609e-02],\n",
       "        [ 9.96190429e-01],\n",
       "        [ 2.20798049e-02],\n",
       "        [-9.99990106e-01],\n",
       "        [ 1.00000000e+00],\n",
       "        [-9.99953687e-01],\n",
       "        [-8.60402584e-01],\n",
       "        [-9.99994755e-01],\n",
       "        [ 9.93881106e-01],\n",
       "        [-9.99940991e-01],\n",
       "        [-9.99991655e-01],\n",
       "        [ 9.57719505e-01],\n",
       "        [-1.91472352e-01],\n",
       "        [ 2.60252625e-01],\n",
       "        [ 6.09259307e-01],\n",
       "        [ 2.32444368e-02],\n",
       "        [-7.58206189e-01],\n",
       "        [ 9.44304764e-01],\n",
       "        [-9.99985456e-01],\n",
       "        [ 6.14017785e-01],\n",
       "        [ 9.96913314e-01],\n",
       "        [-4.14098091e-02],\n",
       "        [ 3.83197188e-01],\n",
       "        [-6.01091027e-01],\n",
       "        [ 5.93256712e-01],\n",
       "        [ 1.00000000e+00],\n",
       "        [-5.80010489e-02],\n",
       "        [ 8.69495988e-01],\n",
       "        [ 4.27412316e-02],\n",
       "        [-9.91752565e-01],\n",
       "        [ 6.22209787e-01],\n",
       "        [-6.66603744e-02],\n",
       "        [ 1.00000000e+00],\n",
       "        [ 1.00000000e+00],\n",
       "        [-9.50794458e-01],\n",
       "        [-3.32170695e-01],\n",
       "        [ 1.12928696e-01],\n",
       "        [-7.97712058e-02],\n",
       "        [-9.99967694e-01],\n",
       "        [ 9.81421590e-01],\n",
       "        [ 9.99976933e-01],\n",
       "        [ 9.90129113e-01],\n",
       "        [-9.80961502e-01],\n",
       "        [ 9.99997020e-01],\n",
       "        [-1.20562620e-01],\n",
       "        [-3.81197661e-01],\n",
       "        [ 1.00000000e+00],\n",
       "        [ 1.00000000e+00],\n",
       "        [-9.42056905e-03],\n",
       "        [ 5.84071279e-01],\n",
       "        [ 9.99994457e-01],\n",
       "        [-7.88017154e-01],\n",
       "        [ 5.97952642e-02],\n",
       "        [-5.85135221e-01],\n",
       "        [-1.59258228e-02],\n",
       "        [-9.57039371e-03],\n",
       "        [-2.70240474e-02],\n",
       "        [-9.39155936e-01],\n",
       "        [ 9.99473929e-01],\n",
       "        [ 8.41111392e-02],\n",
       "        [ 9.99999583e-01],\n",
       "        [ 1.94895640e-02],\n",
       "        [-1.55838681e-02],\n",
       "        [-4.72200334e-01],\n",
       "        [ 1.00000000e+00],\n",
       "        [-8.46611142e-01],\n",
       "        [ 9.99999344e-01],\n",
       "        [-9.99999523e-01],\n",
       "        [ 5.91207325e-01],\n",
       "        [-9.99457836e-01],\n",
       "        [-9.59297538e-01],\n",
       "        [-9.95218098e-01],\n",
       "        [ 1.83307514e-01],\n",
       "        [-1.34292766e-01],\n",
       "        [-6.44918205e-03],\n",
       "        [ 9.99999344e-01],\n",
       "        [-1.00000000e+00],\n",
       "        [ 9.98919666e-01],\n",
       "        [ 6.12174392e-01],\n",
       "        [-9.31385398e-01],\n",
       "        [ 6.26264699e-03],\n",
       "        [ 7.17383146e-01],\n",
       "        [-9.16939899e-02],\n",
       "        [-9.66340542e-01],\n",
       "        [ 2.92248111e-02],\n",
       "        [ 9.99457061e-01],\n",
       "        [ 9.99995351e-01],\n",
       "        [-9.93417084e-01],\n",
       "        [-8.42541993e-01],\n",
       "        [-9.99959052e-01],\n",
       "        [-6.06350303e-01],\n",
       "        [-9.99999702e-01],\n",
       "        [-9.99341011e-01],\n",
       "        [ 9.99858320e-01],\n",
       "        [ 3.33952725e-01],\n",
       "        [-1.31683247e-02],\n",
       "        [ 4.76033092e-02],\n",
       "        [-4.19378392e-02],\n",
       "        [-2.75342874e-02],\n",
       "        [ 2.62133013e-02],\n",
       "        [ 9.99930680e-01],\n",
       "        [ 9.99457836e-01],\n",
       "        [ 1.00000000e+00],\n",
       "        [-5.41534543e-01],\n",
       "        [-3.69960405e-02],\n",
       "        [ 9.99928355e-01],\n",
       "        [ 1.00000000e+00],\n",
       "        [ 7.23977268e-01],\n",
       "        [ 5.44282906e-02],\n",
       "        [ 5.70664763e-01],\n",
       "        [ 9.99999821e-01],\n",
       "        [ 9.99992311e-01],\n",
       "        [ 9.85427797e-01],\n",
       "        [ 9.99983430e-01],\n",
       "        [ 9.86321688e-01],\n",
       "        [ 1.00000000e+00],\n",
       "        [ 9.83228087e-01],\n",
       "        [-2.39999872e-03],\n",
       "        [ 3.65795428e-03],\n",
       "        [ 9.80177939e-01],\n",
       "        [-6.81982338e-02],\n",
       "        [-1.00000000e+00],\n",
       "        [-9.93972957e-01],\n",
       "        [-9.85017955e-01],\n",
       "        [-9.99865115e-01],\n",
       "        [ 1.00000000e+00],\n",
       "        [ 1.00000000e+00],\n",
       "        [ 9.52762306e-01],\n",
       "        [-9.99999702e-01],\n",
       "        [-9.74120080e-01],\n",
       "        [-7.45075718e-02],\n",
       "        [-9.95356500e-01],\n",
       "        [-7.51918018e-01],\n",
       "        [ 3.72370146e-02],\n",
       "        [ 2.77118891e-01],\n",
       "        [-9.87482250e-01],\n",
       "        [-9.99997556e-01],\n",
       "        [ 2.61648763e-02],\n",
       "        [-9.98502791e-01],\n",
       "        [-1.40625432e-01],\n",
       "        [-4.37074117e-02],\n",
       "        [-6.16096519e-02],\n",
       "        [ 7.43270040e-01],\n",
       "        [ 9.99996901e-01],\n",
       "        [-4.13931347e-02],\n",
       "        [-1.00000000e+00],\n",
       "        [-4.21674028e-02],\n",
       "        [ 2.67266035e-02],\n",
       "        [-9.17002857e-01],\n",
       "        [ 8.89567554e-01],\n",
       "        [ 9.99863684e-01],\n",
       "        [-4.64337617e-01],\n",
       "        [ 1.00000000e+00],\n",
       "        [-9.99995172e-01],\n",
       "        [ 6.35416061e-03],\n",
       "        [ 1.00000000e+00],\n",
       "        [-1.00000000e+00],\n",
       "        [-1.00000000e+00],\n",
       "        [ 1.00000000e+00],\n",
       "        [ 6.61379332e-03],\n",
       "        [-6.83690533e-02],\n",
       "        [ 1.00000000e+00],\n",
       "        [-9.99999344e-01],\n",
       "        [ 1.00000000e+00],\n",
       "        [ 1.00000000e+00],\n",
       "        [-1.90827787e-01],\n",
       "        [ 9.99999940e-01],\n",
       "        [ 1.00000000e+00],\n",
       "        [-9.99999821e-01],\n",
       "        [-8.03155545e-03],\n",
       "        [ 9.36114669e-01],\n",
       "        [-1.47269949e-01],\n",
       "        [ 9.66824591e-01],\n",
       "        [ 8.95663738e-01],\n",
       "        [-6.47529721e-01],\n",
       "        [-1.00000000e+00],\n",
       "        [-9.84514117e-01],\n",
       "        [ 2.68668234e-02],\n",
       "        [ 1.00000000e+00],\n",
       "        [-9.99998927e-01],\n",
       "        [-9.20325637e-01],\n",
       "        [-7.15617985e-02],\n",
       "        [ 9.99997199e-01],\n",
       "        [ 4.41640377e-01],\n",
       "        [-6.37095189e-03],\n",
       "        [-9.99720514e-01],\n",
       "        [-9.99979079e-01],\n",
       "        [ 7.86388218e-02],\n",
       "        [-6.90089539e-02],\n",
       "        [-9.70673025e-01],\n",
       "        [ 1.00000000e+00],\n",
       "        [-1.49463369e-02],\n",
       "        [-8.51537824e-01],\n",
       "        [ 9.99861717e-01],\n",
       "        [ 2.56216172e-02],\n",
       "        [ 1.00000000e+00],\n",
       "        [-2.29527373e-02],\n",
       "        [ 1.92843676e-01],\n",
       "        [ 1.52044788e-01],\n",
       "        [ 5.53412437e-01],\n",
       "        [ 2.54713833e-01],\n",
       "        [ 1.99179482e-02],\n",
       "        [-5.07888854e-01],\n",
       "        [ 1.00000000e+00],\n",
       "        [-1.61256138e-02],\n",
       "        [ 2.83754885e-01],\n",
       "        [-9.98558104e-01],\n",
       "        [ 9.96508718e-01],\n",
       "        [ 5.55205643e-01],\n",
       "        [ 1.00000000e+00],\n",
       "        [ 9.99925435e-01],\n",
       "        [ 1.00000000e+00],\n",
       "        [-9.99996006e-01],\n",
       "        [-9.99999642e-01],\n",
       "        [ 8.92935336e-01],\n",
       "        [-4.55852002e-02],\n",
       "        [-9.99999940e-01],\n",
       "        [-9.54292774e-01],\n",
       "        [ 1.00000000e+00],\n",
       "        [-5.04211858e-02],\n",
       "        [-9.77432370e-01],\n",
       "        [ 1.00000000e+00],\n",
       "        [ 9.99999881e-01],\n",
       "        [ 9.99999940e-01],\n",
       "        [-1.71437323e-01],\n",
       "        [-9.99855995e-01],\n",
       "        [-2.71644950e-01],\n",
       "        [-9.99999344e-01],\n",
       "        [-9.99812484e-01],\n",
       "        [-9.99929011e-01],\n",
       "        [ 2.42814675e-01],\n",
       "        [ 9.99998689e-01],\n",
       "        [-9.98935699e-01],\n",
       "        [ 1.00000000e+00],\n",
       "        [ 1.00000000e+00],\n",
       "        [ 1.48317605e-01],\n",
       "        [ 1.00000000e+00],\n",
       "        [-9.95346427e-01],\n",
       "        [-9.99994338e-01],\n",
       "        [ 8.57816994e-01],\n",
       "        [-7.66144618e-02],\n",
       "        [-9.15010750e-01],\n",
       "        [ 9.99999642e-01],\n",
       "        [-9.90646064e-01],\n",
       "        [-9.99999821e-01],\n",
       "        [ 1.84593484e-01],\n",
       "        [-1.00000000e+00],\n",
       "        [ 9.37112093e-01],\n",
       "        [ 9.08535868e-02],\n",
       "        [ 9.97573972e-01],\n",
       "        [ 9.99989450e-01],\n",
       "        [-9.99672651e-01],\n",
       "        [-9.85790372e-01],\n",
       "        [ 2.42341295e-01],\n",
       "        [ 1.00000000e+00],\n",
       "        [-9.97888148e-01],\n",
       "        [ 9.99905527e-01],\n",
       "        [ 6.46289391e-03],\n",
       "        [-1.00000000e+00],\n",
       "        [ 7.25561202e-01],\n",
       "        [-9.99999821e-01],\n",
       "        [-2.89018285e-02],\n",
       "        [ 1.00000000e+00],\n",
       "        [-7.49719262e-01],\n",
       "        [-1.94486175e-02],\n",
       "        [ 6.95054650e-01],\n",
       "        [-1.00000000e+00],\n",
       "        [ 9.76010442e-01],\n",
       "        [ 1.93592802e-01],\n",
       "        [-9.99996781e-01],\n",
       "        [-1.24598341e-02],\n",
       "        [ 9.99999166e-01],\n",
       "        [-1.00000000e+00],\n",
       "        [-9.40533519e-01],\n",
       "        [ 6.90311968e-01],\n",
       "        [ 9.99997497e-01],\n",
       "        [ 1.00000000e+00],\n",
       "        [ 1.04876654e-02],\n",
       "        [ 1.00000000e+00],\n",
       "        [-9.88390863e-01],\n",
       "        [ 1.00000000e+00],\n",
       "        [ 9.99999762e-01],\n",
       "        [-6.07434288e-02],\n",
       "        [ 7.36128926e-01],\n",
       "        [-9.99990225e-01],\n",
       "        [ 1.00000000e+00],\n",
       "        [ 5.11545204e-02],\n",
       "        [ 1.00000000e+00],\n",
       "        [ 1.00000000e+00],\n",
       "        [ 1.00000000e+00],\n",
       "        [ 1.00000000e+00],\n",
       "        [ 9.96406555e-01],\n",
       "        [-9.98901129e-01],\n",
       "        [-1.17442176e-01],\n",
       "        [ 9.99901056e-01],\n",
       "        [ 9.24632967e-01],\n",
       "        [ 1.00000000e+00],\n",
       "        [-1.31324351e-01],\n",
       "        [-9.99472976e-01],\n",
       "        [-2.62051616e-02],\n",
       "        [ 9.48034942e-01],\n",
       "        [-2.29338836e-02],\n",
       "        [-9.99460638e-01],\n",
       "        [-9.86274242e-01],\n",
       "        [ 4.09558713e-01],\n",
       "        [ 8.96069527e-01],\n",
       "        [ 7.55014241e-01],\n",
       "        [-9.99991536e-01],\n",
       "        [ 9.99987304e-01],\n",
       "        [ 4.78645533e-01],\n",
       "        [-5.82473464e-02],\n",
       "        [-2.15927273e-01],\n",
       "        [ 1.14951402e-01],\n",
       "        [ 9.99867916e-01],\n",
       "        [ 3.40807110e-01],\n",
       "        [-1.60776805e-02],\n",
       "        [ 9.99999881e-01],\n",
       "        [-9.99999583e-01],\n",
       "        [ 9.99996901e-01],\n",
       "        [-1.34363240e-02],\n",
       "        [ 9.97148216e-01],\n",
       "        [ 9.99890566e-01],\n",
       "        [-9.99980628e-01],\n",
       "        [ 7.09970817e-02],\n",
       "        [ 1.00000000e+00],\n",
       "        [ 6.49989545e-01],\n",
       "        [ 9.99985039e-01],\n",
       "        [-9.94143128e-01],\n",
       "        [ 4.29513864e-02],\n",
       "        [-9.99918878e-01],\n",
       "        [ 7.49058044e-03],\n",
       "        [ 4.98898700e-02],\n",
       "        [ 6.16144352e-02],\n",
       "        [-1.07192121e-01],\n",
       "        [ 9.99999821e-01],\n",
       "        [ 1.00000000e+00],\n",
       "        [ 9.99631643e-01],\n",
       "        [-9.99920428e-01],\n",
       "        [ 1.00000000e+00],\n",
       "        [-1.37846563e-02],\n",
       "        [ 1.00000000e+00],\n",
       "        [-9.99703109e-01],\n",
       "        [-4.41428535e-02],\n",
       "        [-9.99992013e-01],\n",
       "        [-6.39939785e-01],\n",
       "        [ 8.57772231e-01],\n",
       "        [-9.94032025e-01],\n",
       "        [ 1.05961636e-01],\n",
       "        [ 9.99174476e-01],\n",
       "        [-3.29786576e-02],\n",
       "        [ 7.19446689e-06],\n",
       "        [ 9.96757627e-01],\n",
       "        [-9.94522095e-01],\n",
       "        [ 9.99999881e-01],\n",
       "        [ 3.65138464e-02],\n",
       "        [-2.35416112e-03],\n",
       "        [ 2.00191909e-03],\n",
       "        [-8.84340405e-02],\n",
       "        [-1.72187030e-01],\n",
       "        [ 9.99995947e-01],\n",
       "        [ 4.80860531e-01],\n",
       "        [-5.27238101e-02],\n",
       "        [ 9.59890246e-01],\n",
       "        [ 5.85631095e-03],\n",
       "        [-3.87180820e-02],\n",
       "        [-9.74292494e-03],\n",
       "        [-9.47030842e-01],\n",
       "        [-2.58093998e-02],\n",
       "        [ 1.00000000e+00],\n",
       "        [-9.99999225e-01],\n",
       "        [ 9.99068677e-01],\n",
       "        [-9.98091102e-01],\n",
       "        [-1.21172763e-01],\n",
       "        [-9.99999523e-01],\n",
       "        [-1.51382774e-01],\n",
       "        [ 9.99880135e-01],\n",
       "        [-9.99313533e-01],\n",
       "        [ 1.00000000e+00],\n",
       "        [-7.31151462e-01],\n",
       "        [ 6.43631399e-01],\n",
       "        [-1.49721205e-01],\n",
       "        [ 2.70023733e-01],\n",
       "        [ 2.31980588e-02],\n",
       "        [-3.18209939e-02],\n",
       "        [ 2.78498113e-01],\n",
       "        [ 1.00000000e+00],\n",
       "        [ 9.99700189e-01],\n",
       "        [-5.29447682e-02],\n",
       "        [-2.37082061e-03],\n",
       "        [-6.43721297e-02],\n",
       "        [-2.59680692e-02],\n",
       "        [ 1.00000000e+00],\n",
       "        [ 9.94405389e-01],\n",
       "        [-9.85703707e-01],\n",
       "        [-1.00000000e+00],\n",
       "        [ 7.55123258e-01],\n",
       "        [ 9.99999464e-01],\n",
       "        [-7.92987570e-02],\n",
       "        [-9.99728441e-01],\n",
       "        [ 1.95998512e-02],\n",
       "        [-4.96712774e-02],\n",
       "        [ 9.98200297e-01],\n",
       "        [-4.79654223e-02],\n",
       "        [-9.99988139e-01],\n",
       "        [-1.17128499e-01],\n",
       "        [ 8.80362466e-02],\n",
       "        [ 1.00000000e+00],\n",
       "        [-9.99733150e-01],\n",
       "        [-3.04370344e-01],\n",
       "        [-9.99928296e-01],\n",
       "        [ 9.99996841e-01],\n",
       "        [-9.83096719e-01],\n",
       "        [ 9.98131037e-01],\n",
       "        [ 5.20582378e-01],\n",
       "        [-3.09515540e-02],\n",
       "        [ 9.99685466e-01],\n",
       "        [-3.39728668e-02],\n",
       "        [-9.99542117e-01],\n",
       "        [-9.99970138e-01],\n",
       "        [-1.86288208e-01],\n",
       "        [-3.06772798e-01],\n",
       "        [-7.61104049e-03],\n",
       "        [-6.92274272e-02],\n",
       "        [ 9.99615252e-01],\n",
       "        [ 1.00000000e+00],\n",
       "        [-9.99999940e-01],\n",
       "        [-9.98753071e-01],\n",
       "        [ 1.32528603e-01],\n",
       "        [ 9.99999762e-01],\n",
       "        [ 1.00000000e+00],\n",
       "        [ 9.99999464e-01],\n",
       "        [-2.83859760e-01],\n",
       "        [-6.41032308e-02],\n",
       "        [-7.90134609e-01],\n",
       "        [ 1.00000000e+00],\n",
       "        [ 1.00000000e+00],\n",
       "        [-9.99999881e-01],\n",
       "        [-2.17494592e-02],\n",
       "        [ 7.58998916e-02],\n",
       "        [ 3.35363477e-01],\n",
       "        [ 8.63389909e-01],\n",
       "        [ 1.00000000e+00],\n",
       "        [-1.57718547e-02],\n",
       "        [-7.84968957e-03],\n",
       "        [ 1.00000000e+00],\n",
       "        [-9.98264253e-01],\n",
       "        [ 9.99949634e-01],\n",
       "        [-7.56975785e-02],\n",
       "        [ 5.42955995e-01],\n",
       "        [-1.00000000e+00],\n",
       "        [ 9.99954045e-01],\n",
       "        [ 9.17083263e-01],\n",
       "        [-2.56886892e-02],\n",
       "        [-1.56034781e-02],\n",
       "        [-2.24872142e-01],\n",
       "        [ 9.52079177e-01],\n",
       "        [-1.00000000e+00],\n",
       "        [ 4.83150840e-01],\n",
       "        [-9.27200854e-01],\n",
       "        [ 9.99922156e-01],\n",
       "        [ 9.99350131e-01],\n",
       "        [-9.98318255e-01],\n",
       "        [-2.11140271e-02],\n",
       "        [-1.00000000e+00],\n",
       "        [-9.53089893e-01],\n",
       "        [ 9.99977767e-01],\n",
       "        [-9.99876559e-01],\n",
       "        [-8.72766852e-01],\n",
       "        [ 6.30194783e-01],\n",
       "        [-2.20607787e-01],\n",
       "        [ 9.38802063e-01],\n",
       "        [-1.10075520e-02],\n",
       "        [ 1.00000000e+00],\n",
       "        [-9.08798099e-01],\n",
       "        [ 9.90662217e-01],\n",
       "        [ 9.99855876e-01],\n",
       "        [-3.62872221e-02],\n",
       "        [ 9.99992788e-01],\n",
       "        [ 7.45938858e-03],\n",
       "        [ 8.75600800e-03],\n",
       "        [ 1.00000000e+00],\n",
       "        [ 9.99997079e-01],\n",
       "        [ 9.98263597e-01],\n",
       "        [-1.00000000e+00],\n",
       "        [ 5.55228710e-01],\n",
       "        [ 1.00000000e+00],\n",
       "        [ 9.99999940e-01],\n",
       "        [-1.32773280e-01],\n",
       "        [-5.98969087e-02],\n",
       "        [ 9.82988834e-01],\n",
       "        [ 1.00000000e+00],\n",
       "        [-6.47670090e-01],\n",
       "        [-4.85596480e-03],\n",
       "        [-9.98921037e-01],\n",
       "        [ 1.87685817e-01],\n",
       "        [ 1.00000000e+00],\n",
       "        [ 1.08418964e-01],\n",
       "        [ 9.99857724e-01],\n",
       "        [-4.24482785e-02],\n",
       "        [ 1.00000000e+00],\n",
       "        [ 9.71978426e-01],\n",
       "        [ 8.82638395e-01],\n",
       "        [ 9.99999583e-01],\n",
       "        [-9.98839200e-01],\n",
       "        [-3.82256322e-02],\n",
       "        [ 4.82328981e-01],\n",
       "        [ 6.88773453e-01],\n",
       "        [ 9.99999940e-01],\n",
       "        [ 9.99607682e-01],\n",
       "        [ 3.33954580e-04],\n",
       "        [ 8.17966521e-01],\n",
       "        [ 1.00000000e+00],\n",
       "        [ 3.55152786e-01],\n",
       "        [-9.97947633e-01],\n",
       "        [ 2.26837814e-01],\n",
       "        [ 5.20758629e-01],\n",
       "        [-7.73033082e-01],\n",
       "        [-9.99999166e-01],\n",
       "        [-9.94853675e-01],\n",
       "        [-6.52345046e-02],\n",
       "        [ 9.27031875e-01],\n",
       "        [-9.77961898e-01],\n",
       "        [-8.87921173e-03],\n",
       "        [-8.63640476e-03],\n",
       "        [-2.40050972e-01],\n",
       "        [ 1.27502814e-01],\n",
       "        [-3.42526520e-03],\n",
       "        [-9.99971271e-01],\n",
       "        [ 1.00000000e+00],\n",
       "        [ 9.99997199e-01],\n",
       "        [ 8.12524498e-01],\n",
       "        [ 1.00000000e+00],\n",
       "        [-2.86976714e-02],\n",
       "        [-2.10760385e-01],\n",
       "        [ 9.99999940e-01],\n",
       "        [ 1.00000000e+00],\n",
       "        [ 9.99578357e-01],\n",
       "        [ 1.21801049e-01],\n",
       "        [-1.56096509e-02],\n",
       "        [-9.99931276e-01],\n",
       "        [-1.03548896e-02],\n",
       "        [ 5.85788488e-01],\n",
       "        [-1.63105741e-01],\n",
       "        [ 9.65782583e-01],\n",
       "        [-9.99999046e-01],\n",
       "        [ 4.16323729e-02],\n",
       "        [ 1.00000000e+00],\n",
       "        [-7.38843977e-02],\n",
       "        [-6.76402706e-04],\n",
       "        [ 9.53641295e-01],\n",
       "        [-9.95284677e-01],\n",
       "        [ 9.99995887e-01],\n",
       "        [-1.00000000e+00],\n",
       "        [ 1.00000000e+00],\n",
       "        [ 9.99997675e-01],\n",
       "        [-9.99999702e-01],\n",
       "        [-1.05356229e-02],\n",
       "        [ 9.98459756e-01],\n",
       "        [-1.60135075e-01]], dtype=float32)>]"
      ]
     },
     "execution_count": 253,
     "metadata": {},
     "output_type": "execute_result"
    }
   ],
   "source": [
    "distort(b.astype(np.float32))"
   ]
  },
  {
   "cell_type": "code",
   "execution_count": 224,
   "metadata": {},
   "outputs": [],
   "source": [
    "# one_info = all_players.loc[all_players['id']=='tournament_6;mcts100;cpuct2;id-0;best'].iloc[0]\n",
    "# one_info = all_players.loc[all_players['id']=='tournament_5;mcts100;cpuct2;id-0;best'].iloc[0]\n",
    "one_info = all_players.loc[all_players['id']=='tournament_5;mcts100;cpuct2;id-1;best'].iloc[0]\n",
    "ai,val_func,tree = tn.get_player(game, one_info)\n",
    "model = val_func.nnet.model"
   ]
  },
  {
   "cell_type": "code",
   "execution_count": 282,
   "metadata": {},
   "outputs": [],
   "source": [
    "rde = RDE(model,1,lr=0.1, decay=0.01, noise_std=1, N_noise_samples=2000, l1 = 0.02,p_flip=0.1)"
   ]
  },
  {
   "cell_type": "code",
   "execution_count": 283,
   "metadata": {},
   "outputs": [
    {
     "name": "stdout",
     "output_type": "stream",
     "text": [
      "Epoch 1/200\n",
      "1/1 [==============================] - 0s 1ms/step - loss: 1.1936\n",
      "Epoch 2/200\n",
      "1/1 [==============================] - 0s 578us/step - loss: 0.8152\n",
      "Epoch 3/200\n",
      "1/1 [==============================] - 0s 539us/step - loss: 0.6295\n",
      "Epoch 4/200\n",
      "1/1 [==============================] - 0s 534us/step - loss: 0.5208\n",
      "Epoch 5/200\n",
      "1/1 [==============================] - 0s 527us/step - loss: 0.4478\n",
      "Epoch 6/200\n",
      "1/1 [==============================] - 0s 523us/step - loss: 0.4130\n",
      "Epoch 7/200\n",
      "1/1 [==============================] - 0s 520us/step - loss: 0.3873\n",
      "Epoch 8/200\n",
      "1/1 [==============================] - 0s 524us/step - loss: 0.3809\n",
      "Epoch 9/200\n",
      "1/1 [==============================] - 0s 526us/step - loss: 0.3638\n",
      "Epoch 10/200\n",
      "1/1 [==============================] - 0s 525us/step - loss: 0.3574\n",
      "Epoch 11/200\n",
      "1/1 [==============================] - 0s 525us/step - loss: 0.3496\n",
      "Epoch 12/200\n",
      "1/1 [==============================] - 0s 519us/step - loss: 0.3494\n",
      "Epoch 13/200\n",
      "1/1 [==============================] - 0s 522us/step - loss: 0.3444\n",
      "Epoch 14/200\n",
      "1/1 [==============================] - 0s 518us/step - loss: 0.3394\n",
      "Epoch 15/200\n",
      "1/1 [==============================] - 0s 523us/step - loss: 0.3328\n",
      "Epoch 16/200\n",
      "1/1 [==============================] - 0s 519us/step - loss: 0.3315\n",
      "Epoch 17/200\n",
      "1/1 [==============================] - 0s 529us/step - loss: 0.3302\n",
      "Epoch 18/200\n",
      "1/1 [==============================] - 0s 524us/step - loss: 0.3284\n",
      "Epoch 19/200\n",
      "1/1 [==============================] - 0s 519us/step - loss: 0.3196\n",
      "Epoch 20/200\n",
      "1/1 [==============================] - 0s 525us/step - loss: 0.3300\n",
      "Epoch 21/200\n",
      "1/1 [==============================] - 0s 520us/step - loss: 0.3225\n",
      "Epoch 22/200\n",
      "1/1 [==============================] - 0s 524us/step - loss: 0.3183\n",
      "Epoch 23/200\n",
      "1/1 [==============================] - 0s 517us/step - loss: 0.3168\n",
      "Epoch 24/200\n",
      "1/1 [==============================] - 0s 523us/step - loss: 0.3198\n",
      "Epoch 25/200\n",
      "1/1 [==============================] - 0s 516us/step - loss: 0.3200\n",
      "Epoch 26/200\n",
      "1/1 [==============================] - 0s 518us/step - loss: 0.3095\n",
      "Epoch 27/200\n",
      "1/1 [==============================] - 0s 518us/step - loss: 0.3093\n",
      "Epoch 28/200\n",
      "1/1 [==============================] - 0s 523us/step - loss: 0.3149\n",
      "Epoch 29/200\n",
      "1/1 [==============================] - 0s 516us/step - loss: 0.3144\n",
      "Epoch 30/200\n",
      "1/1 [==============================] - 0s 517us/step - loss: 0.3149\n",
      "Epoch 31/200\n",
      "1/1 [==============================] - 0s 522us/step - loss: 0.3058\n",
      "Epoch 32/200\n",
      "1/1 [==============================] - 0s 525us/step - loss: 0.3109\n",
      "Epoch 33/200\n",
      "1/1 [==============================] - 0s 519us/step - loss: 0.2991\n",
      "Epoch 34/200\n",
      "1/1 [==============================] - 0s 515us/step - loss: 0.3075\n",
      "Epoch 35/200\n",
      "1/1 [==============================] - 0s 517us/step - loss: 0.2970\n",
      "Epoch 36/200\n",
      "1/1 [==============================] - 0s 515us/step - loss: 0.2988\n",
      "Epoch 37/200\n",
      "1/1 [==============================] - 0s 514us/step - loss: 0.2977\n",
      "Epoch 38/200\n",
      "1/1 [==============================] - 0s 540us/step - loss: 0.3024\n",
      "Epoch 39/200\n",
      "1/1 [==============================] - 0s 518us/step - loss: 0.3007\n",
      "Epoch 40/200\n",
      "1/1 [==============================] - 0s 519us/step - loss: 0.3005\n",
      "Epoch 41/200\n",
      "1/1 [==============================] - 0s 515us/step - loss: 0.2934\n",
      "Epoch 42/200\n",
      "1/1 [==============================] - 0s 523us/step - loss: 0.2925\n",
      "Epoch 43/200\n",
      "1/1 [==============================] - 0s 524us/step - loss: 0.2934\n",
      "Epoch 44/200\n",
      "1/1 [==============================] - 0s 517us/step - loss: 0.2916\n",
      "Epoch 45/200\n",
      "1/1 [==============================] - 0s 522us/step - loss: 0.2884\n",
      "Epoch 46/200\n",
      "1/1 [==============================] - 0s 517us/step - loss: 0.2852\n",
      "Epoch 47/200\n",
      "1/1 [==============================] - 0s 516us/step - loss: 0.2894\n",
      "Epoch 48/200\n",
      "1/1 [==============================] - 0s 524us/step - loss: 0.2829\n",
      "Epoch 49/200\n",
      "1/1 [==============================] - 0s 522us/step - loss: 0.2875\n",
      "Epoch 50/200\n",
      "1/1 [==============================] - 0s 527us/step - loss: 0.2891\n",
      "Epoch 51/200\n",
      "1/1 [==============================] - 0s 516us/step - loss: 0.2906\n",
      "Epoch 52/200\n",
      "1/1 [==============================] - 0s 518us/step - loss: 0.2875\n",
      "Epoch 53/200\n",
      "1/1 [==============================] - 0s 525us/step - loss: 0.2847\n",
      "Epoch 54/200\n",
      "1/1 [==============================] - 0s 522us/step - loss: 0.2843\n",
      "Epoch 55/200\n",
      "1/1 [==============================] - 0s 524us/step - loss: 0.2870\n",
      "Epoch 56/200\n",
      "1/1 [==============================] - 0s 520us/step - loss: 0.2848\n",
      "Epoch 57/200\n",
      "1/1 [==============================] - 0s 516us/step - loss: 0.2864\n",
      "Epoch 58/200\n",
      "1/1 [==============================] - 0s 516us/step - loss: 0.2849\n",
      "Epoch 59/200\n",
      "1/1 [==============================] - 0s 521us/step - loss: 0.2869\n",
      "Epoch 60/200\n",
      "1/1 [==============================] - 0s 518us/step - loss: 0.2873\n",
      "Epoch 61/200\n",
      "1/1 [==============================] - 0s 516us/step - loss: 0.2936\n",
      "Epoch 62/200\n",
      "1/1 [==============================] - 0s 515us/step - loss: 0.2915\n",
      "Epoch 63/200\n",
      "1/1 [==============================] - 0s 522us/step - loss: 0.2869\n",
      "Epoch 64/200\n",
      "1/1 [==============================] - 0s 520us/step - loss: 0.2878\n",
      "Epoch 65/200\n",
      "1/1 [==============================] - 0s 522us/step - loss: 0.2834\n",
      "Epoch 66/200\n",
      "1/1 [==============================] - 0s 517us/step - loss: 0.2837\n",
      "Epoch 67/200\n",
      "1/1 [==============================] - 0s 525us/step - loss: 0.2915\n",
      "Epoch 68/200\n",
      "1/1 [==============================] - 0s 522us/step - loss: 0.2838\n",
      "Epoch 69/200\n",
      "1/1 [==============================] - 0s 525us/step - loss: 0.2882\n",
      "Epoch 70/200\n",
      "1/1 [==============================] - 0s 523us/step - loss: 0.2905\n",
      "Epoch 71/200\n",
      "1/1 [==============================] - 0s 524us/step - loss: 0.2871\n",
      "Epoch 72/200\n",
      "1/1 [==============================] - 0s 525us/step - loss: 0.2847\n",
      "Epoch 73/200\n",
      "1/1 [==============================] - 0s 524us/step - loss: 0.2804\n",
      "Epoch 74/200\n",
      "1/1 [==============================] - 0s 518us/step - loss: 0.2861\n",
      "Epoch 75/200\n",
      "1/1 [==============================] - 0s 517us/step - loss: 0.2802\n",
      "Epoch 76/200\n",
      "1/1 [==============================] - 0s 525us/step - loss: 0.2814\n",
      "Epoch 77/200\n",
      "1/1 [==============================] - 0s 516us/step - loss: 0.2815\n",
      "Epoch 78/200\n",
      "1/1 [==============================] - 0s 520us/step - loss: 0.2821\n",
      "Epoch 79/200\n",
      "1/1 [==============================] - 0s 523us/step - loss: 0.2811\n",
      "Epoch 80/200\n",
      "1/1 [==============================] - 0s 521us/step - loss: 0.2892\n",
      "Epoch 81/200\n",
      "1/1 [==============================] - 0s 518us/step - loss: 0.2856\n",
      "Epoch 82/200\n",
      "1/1 [==============================] - 0s 519us/step - loss: 0.2764\n",
      "Epoch 83/200\n",
      "1/1 [==============================] - 0s 521us/step - loss: 0.2864\n",
      "Epoch 84/200\n",
      "1/1 [==============================] - 0s 515us/step - loss: 0.2818\n",
      "Epoch 85/200\n",
      "1/1 [==============================] - 0s 523us/step - loss: 0.2766\n",
      "Epoch 86/200\n",
      "1/1 [==============================] - 0s 517us/step - loss: 0.2826\n",
      "Epoch 87/200\n",
      "1/1 [==============================] - 0s 518us/step - loss: 0.2738\n",
      "Epoch 88/200\n",
      "1/1 [==============================] - 0s 521us/step - loss: 0.2874\n",
      "Epoch 89/200\n",
      "1/1 [==============================] - 0s 634us/step - loss: 0.2811\n",
      "Epoch 90/200\n",
      "1/1 [==============================] - 0s 520us/step - loss: 0.2856\n",
      "Epoch 91/200\n",
      "1/1 [==============================] - 0s 518us/step - loss: 0.2892\n",
      "Epoch 92/200\n",
      "1/1 [==============================] - 0s 518us/step - loss: 0.2778\n",
      "Epoch 93/200\n",
      "1/1 [==============================] - 0s 522us/step - loss: 0.2791\n",
      "Epoch 94/200\n",
      "1/1 [==============================] - 0s 526us/step - loss: 0.2894\n",
      "Epoch 95/200\n",
      "1/1 [==============================] - 0s 521us/step - loss: 0.2790\n",
      "Epoch 96/200\n",
      "1/1 [==============================] - 0s 519us/step - loss: 0.2770\n",
      "Epoch 97/200\n",
      "1/1 [==============================] - 0s 523us/step - loss: 0.2879\n",
      "Epoch 98/200\n",
      "1/1 [==============================] - 0s 524us/step - loss: 0.2796\n",
      "Epoch 99/200\n",
      "1/1 [==============================] - 0s 520us/step - loss: 0.2841\n",
      "Epoch 100/200\n",
      "1/1 [==============================] - 0s 523us/step - loss: 0.2885\n",
      "Epoch 101/200\n",
      "1/1 [==============================] - 0s 515us/step - loss: 0.2802\n",
      "Epoch 102/200\n"
     ]
    },
    {
     "name": "stdout",
     "output_type": "stream",
     "text": [
      "1/1 [==============================] - 0s 515us/step - loss: 0.2859\n",
      "Epoch 103/200\n",
      "1/1 [==============================] - 0s 525us/step - loss: 0.2892\n",
      "Epoch 104/200\n",
      "1/1 [==============================] - 0s 514us/step - loss: 0.2769\n",
      "Epoch 105/200\n",
      "1/1 [==============================] - 0s 516us/step - loss: 0.2810\n",
      "Epoch 106/200\n",
      "1/1 [==============================] - 0s 516us/step - loss: 0.2844\n",
      "Epoch 107/200\n",
      "1/1 [==============================] - 0s 515us/step - loss: 0.2805\n",
      "Epoch 108/200\n",
      "1/1 [==============================] - 0s 524us/step - loss: 0.2828\n",
      "Epoch 109/200\n",
      "1/1 [==============================] - 0s 520us/step - loss: 0.2815\n",
      "Epoch 110/200\n",
      "1/1 [==============================] - 0s 515us/step - loss: 0.2789\n",
      "Epoch 111/200\n",
      "1/1 [==============================] - 0s 515us/step - loss: 0.2785\n",
      "Epoch 112/200\n",
      "1/1 [==============================] - 0s 516us/step - loss: 0.2799\n",
      "Epoch 113/200\n",
      "1/1 [==============================] - 0s 516us/step - loss: 0.2837\n",
      "Epoch 114/200\n",
      "1/1 [==============================] - 0s 522us/step - loss: 0.2870\n",
      "Epoch 115/200\n",
      "1/1 [==============================] - 0s 518us/step - loss: 0.2842\n",
      "Epoch 116/200\n",
      "1/1 [==============================] - 0s 521us/step - loss: 0.2808\n",
      "Epoch 117/200\n",
      "1/1 [==============================] - 0s 521us/step - loss: 0.2815\n",
      "Epoch 118/200\n",
      "1/1 [==============================] - 0s 523us/step - loss: 0.2780\n",
      "Epoch 119/200\n",
      "1/1 [==============================] - 0s 524us/step - loss: 0.2787\n",
      "Epoch 120/200\n",
      "1/1 [==============================] - 0s 522us/step - loss: 0.2812\n",
      "Epoch 121/200\n",
      "1/1 [==============================] - 0s 524us/step - loss: 0.2801\n",
      "Epoch 122/200\n",
      "1/1 [==============================] - 0s 519us/step - loss: 0.2861\n",
      "Epoch 123/200\n",
      "1/1 [==============================] - 0s 520us/step - loss: 0.2856\n",
      "Epoch 124/200\n",
      "1/1 [==============================] - 0s 516us/step - loss: 0.2854\n",
      "Epoch 125/200\n",
      "1/1 [==============================] - 0s 516us/step - loss: 0.2850\n",
      "Epoch 126/200\n",
      "1/1 [==============================] - 0s 518us/step - loss: 0.2817\n",
      "Epoch 127/200\n",
      "1/1 [==============================] - 0s 516us/step - loss: 0.2784\n",
      "Epoch 128/200\n",
      "1/1 [==============================] - 0s 518us/step - loss: 0.2827\n",
      "Epoch 129/200\n",
      "1/1 [==============================] - 0s 522us/step - loss: 0.2812\n",
      "Epoch 130/200\n",
      "1/1 [==============================] - 0s 520us/step - loss: 0.2854\n",
      "Epoch 131/200\n",
      "1/1 [==============================] - 0s 522us/step - loss: 0.2817\n",
      "Epoch 132/200\n",
      "1/1 [==============================] - 0s 517us/step - loss: 0.2868\n",
      "Epoch 133/200\n",
      "1/1 [==============================] - 0s 524us/step - loss: 0.2773\n",
      "Epoch 134/200\n",
      "1/1 [==============================] - 0s 516us/step - loss: 0.2870\n",
      "Epoch 135/200\n",
      "1/1 [==============================] - 0s 522us/step - loss: 0.2891\n",
      "Epoch 136/200\n",
      "1/1 [==============================] - 0s 535us/step - loss: 0.2805\n",
      "Epoch 137/200\n",
      "1/1 [==============================] - 0s 525us/step - loss: 0.2830\n",
      "Epoch 138/200\n",
      "1/1 [==============================] - 0s 521us/step - loss: 0.2816\n",
      "Epoch 139/200\n",
      "1/1 [==============================] - 0s 524us/step - loss: 0.2830\n",
      "Epoch 140/200\n",
      "1/1 [==============================] - 0s 515us/step - loss: 0.2850\n",
      "Epoch 141/200\n",
      "1/1 [==============================] - 0s 515us/step - loss: 0.2831\n",
      "Epoch 142/200\n",
      "1/1 [==============================] - 0s 525us/step - loss: 0.2861\n",
      "Epoch 143/200\n",
      "1/1 [==============================] - 0s 489us/step - loss: 0.2889\n",
      "Epoch 144/200\n",
      "1/1 [==============================] - 0s 517us/step - loss: 0.2803\n",
      "Epoch 145/200\n",
      "1/1 [==============================] - 0s 539us/step - loss: 0.2843\n",
      "Epoch 146/200\n",
      "1/1 [==============================] - 0s 521us/step - loss: 0.2822\n",
      "Epoch 147/200\n",
      "1/1 [==============================] - 0s 525us/step - loss: 0.2828\n",
      "Epoch 148/200\n",
      "1/1 [==============================] - 0s 515us/step - loss: 0.2802\n",
      "Epoch 149/200\n",
      "1/1 [==============================] - 0s 515us/step - loss: 0.2786\n",
      "Epoch 150/200\n",
      "1/1 [==============================] - 0s 521us/step - loss: 0.2818\n",
      "Epoch 151/200\n",
      "1/1 [==============================] - 0s 517us/step - loss: 0.2808\n",
      "Epoch 152/200\n",
      "1/1 [==============================] - 0s 523us/step - loss: 0.2828\n",
      "Epoch 153/200\n",
      "1/1 [==============================] - 0s 515us/step - loss: 0.2757\n",
      "Epoch 154/200\n",
      "1/1 [==============================] - 0s 515us/step - loss: 0.2823\n",
      "Epoch 155/200\n",
      "1/1 [==============================] - 0s 520us/step - loss: 0.2798\n",
      "Epoch 156/200\n",
      "1/1 [==============================] - 0s 515us/step - loss: 0.2783\n",
      "Epoch 157/200\n",
      "1/1 [==============================] - 0s 516us/step - loss: 0.2825\n",
      "Epoch 158/200\n",
      "1/1 [==============================] - 0s 514us/step - loss: 0.2861\n",
      "Epoch 159/200\n",
      "1/1 [==============================] - 0s 523us/step - loss: 0.2827\n",
      "Epoch 160/200\n",
      "1/1 [==============================] - 0s 526us/step - loss: 0.2838\n",
      "Epoch 161/200\n",
      "1/1 [==============================] - 0s 517us/step - loss: 0.2825\n",
      "Epoch 162/200\n",
      "1/1 [==============================] - 0s 524us/step - loss: 0.2819\n",
      "Epoch 163/200\n",
      "1/1 [==============================] - 0s 523us/step - loss: 0.2804\n",
      "Epoch 164/200\n",
      "1/1 [==============================] - 0s 517us/step - loss: 0.2880\n",
      "Epoch 165/200\n",
      "1/1 [==============================] - 0s 524us/step - loss: 0.2789\n",
      "Epoch 166/200\n",
      "1/1 [==============================] - 0s 524us/step - loss: 0.2839\n",
      "Epoch 167/200\n",
      "1/1 [==============================] - 0s 521us/step - loss: 0.2824\n",
      "Epoch 168/200\n",
      "1/1 [==============================] - 0s 517us/step - loss: 0.2885\n",
      "Epoch 169/200\n",
      "1/1 [==============================] - 0s 524us/step - loss: 0.2844\n",
      "Epoch 170/200\n",
      "1/1 [==============================] - 0s 517us/step - loss: 0.2782\n",
      "Epoch 171/200\n",
      "1/1 [==============================] - 0s 525us/step - loss: 0.2829\n",
      "Epoch 172/200\n",
      "1/1 [==============================] - 0s 535us/step - loss: 0.2882\n",
      "Epoch 173/200\n",
      "1/1 [==============================] - 0s 517us/step - loss: 0.2808\n",
      "Epoch 174/200\n",
      "1/1 [==============================] - 0s 525us/step - loss: 0.2794\n",
      "Epoch 175/200\n",
      "1/1 [==============================] - 0s 570us/step - loss: 0.2823\n",
      "Epoch 176/200\n",
      "1/1 [==============================] - 0s 516us/step - loss: 0.2879\n",
      "Epoch 177/200\n",
      "1/1 [==============================] - 0s 518us/step - loss: 0.2813\n",
      "Epoch 178/200\n",
      "1/1 [==============================] - 0s 521us/step - loss: 0.2818\n",
      "Epoch 179/200\n",
      "1/1 [==============================] - 0s 514us/step - loss: 0.2819\n",
      "Epoch 180/200\n",
      "1/1 [==============================] - 0s 523us/step - loss: 0.2795\n",
      "Epoch 181/200\n",
      "1/1 [==============================] - 0s 521us/step - loss: 0.2774\n",
      "Epoch 182/200\n",
      "1/1 [==============================] - 0s 515us/step - loss: 0.2866\n",
      "Epoch 183/200\n",
      "1/1 [==============================] - 0s 518us/step - loss: 0.2854\n",
      "Epoch 184/200\n",
      "1/1 [==============================] - 0s 525us/step - loss: 0.2788\n",
      "Epoch 185/200\n",
      "1/1 [==============================] - 0s 520us/step - loss: 0.2800\n",
      "Epoch 186/200\n",
      "1/1 [==============================] - 0s 525us/step - loss: 0.2810\n",
      "Epoch 187/200\n",
      "1/1 [==============================] - 0s 517us/step - loss: 0.2769\n",
      "Epoch 188/200\n",
      "1/1 [==============================] - 0s 519us/step - loss: 0.2832\n",
      "Epoch 189/200\n",
      "1/1 [==============================] - 0s 517us/step - loss: 0.2777\n",
      "Epoch 190/200\n",
      "1/1 [==============================] - 0s 571us/step - loss: 0.2812\n",
      "Epoch 191/200\n",
      "1/1 [==============================] - 0s 519us/step - loss: 0.2817\n",
      "Epoch 192/200\n",
      "1/1 [==============================] - 0s 527us/step - loss: 0.2885\n",
      "Epoch 193/200\n",
      "1/1 [==============================] - 0s 522us/step - loss: 0.2762\n",
      "Epoch 194/200\n",
      "1/1 [==============================] - 0s 524us/step - loss: 0.2826\n",
      "Epoch 195/200\n",
      "1/1 [==============================] - 0s 517us/step - loss: 0.2804\n",
      "Epoch 196/200\n",
      "1/1 [==============================] - 0s 523us/step - loss: 0.2811\n",
      "Epoch 197/200\n",
      "1/1 [==============================] - 0s 513us/step - loss: 0.2883\n",
      "Epoch 198/200\n",
      "1/1 [==============================] - 0s 514us/step - loss: 0.2796\n",
      "Epoch 199/200\n",
      "1/1 [==============================] - 0s 519us/step - loss: 0.2872\n",
      "Epoch 200/200\n",
      "1/1 [==============================] - 0s 514us/step - loss: 0.2840\n"
     ]
    },
    {
     "data": {
      "text/plain": [
       "<tensorflow.python.keras.callbacks.History at 0x14703d0d30d0>"
      ]
     },
     "execution_count": 283,
     "metadata": {},
     "output_type": "execute_result"
    }
   ],
   "source": [
    "# b = game.getInitBoard()\n",
    "# b[0,:3]=-1\n",
    "b = opt_boards[10]\n",
    "input_boards = b[None,...]\n",
    "rde.rde.fit(x=input_boards,y=rde.model(input_boards)[rde.out_node],epochs=200)"
   ]
  },
  {
   "cell_type": "code",
   "execution_count": 278,
   "metadata": {},
   "outputs": [
    {
     "data": {
      "text/plain": [
       "<AxesSubplot:>"
      ]
     },
     "execution_count": 278,
     "metadata": {},
     "output_type": "execute_result"
    },
    {
     "data": {
      "image/png": "[encoded data removed]",
      "text/plain": [
       "<Figure size 432x288 with 2 Axes>"
      ]
     },
     "metadata": {
      "needs_background": "light"
     },
     "output_type": "display_data"
    },
    {
     "data": {
      "image/png": "[encoded data removed]",
      "text/plain": [
       "<Figure size 432x288 with 2 Axes>"
      ]
     },
     "metadata": {
      "needs_background": "light"
     },
     "output_type": "display_data"
    }
   ],
   "source": [
    "plt.figure()\n",
    "sns.heatmap(b,linecolor='white',linewidth=3,square=True)\n",
    "mask=rde.rde.layers[1].w.numpy()[0]\n",
    "plt.figure()\n",
    "sns.heatmap(mask,linecolor='white',linewidth=3,square=True)"
   ]
  },
  {
   "cell_type": "code",
   "execution_count": 284,
   "metadata": {},
   "outputs": [
    {
     "data": {
      "text/plain": [
       "<AxesSubplot:>"
      ]
     },
     "execution_count": 284,
     "metadata": {},
     "output_type": "execute_result"
    },
    {
     "data": {
      "image/png": "[encoded data removed]",
      "text/plain": [
       "<Figure size 432x288 with 2 Axes>"
      ]
     },
     "metadata": {
      "needs_background": "light"
     },
     "output_type": "display_data"
    },
    {
     "data": {
      "image/png": "[encoded data removed]",
      "text/plain": [
       "<Figure size 432x288 with 2 Axes>"
      ]
     },
     "metadata": {
      "needs_background": "light"
     },
     "output_type": "display_data"
    }
   ],
   "source": [
    "plt.figure()\n",
    "sns.heatmap(b,linecolor='white',linewidth=3,square=True)\n",
    "mask=rde.rde.layers[1].w.numpy()[0]\n",
    "plt.figure()\n",
    "sns.heatmap(mask,linecolor='white',linewidth=3,square=True)"
   ]
  },
  {
   "cell_type": "code",
   "execution_count": 236,
   "metadata": {},
   "outputs": [
    {
     "data": {
      "text/plain": [
       "<AxesSubplot:>"
      ]
     },
     "execution_count": 236,
     "metadata": {},
     "output_type": "execute_result"
    },
    {
     "data": {
      "image/png": "[encoded data removed]",
      "text/plain": [
       "<Figure size 432x288 with 2 Axes>"
      ]
     },
     "metadata": {
      "needs_background": "light"
     },
     "output_type": "display_data"
    },
    {
     "data": {
      "image/png": "[encoded data removed]",
      "text/plain": [
       "<Figure size 432x288 with 2 Axes>"
      ]
     },
     "metadata": {
      "needs_background": "light"
     },
     "output_type": "display_data"
    }
   ],
   "source": [
    "plt.figure()\n",
    "sns.heatmap(b,linecolor='white',linewidth=3,square=True)\n",
    "mask=rde.rde.layers[1].w.numpy()[0]\n",
    "plt.figure()\n",
    "sns.heatmap(mask,linecolor='white',linewidth=3,square=True)"
   ]
  },
  {
   "cell_type": "code",
   "execution_count": 237,
   "metadata": {},
   "outputs": [],
   "source": [
    "b = opt_boards[10]"
   ]
  },
  {
   "cell_type": "code",
   "execution_count": 238,
   "metadata": {
    "scrolled": true
   },
   "outputs": [
    {
     "data": {
      "text/plain": [
       "[array([[3.2865207e-03, 6.8088355e-03, 4.8959162e-02, 5.1287701e-04,\n",
       "         1.2969339e-02, 4.0674204e-05, 1.0622602e-02, 2.5300004e-03,\n",
       "         1.8309592e-03, 2.3068914e-03, 1.9559464e-03, 2.7138023e-03,\n",
       "         3.0002504e-06, 2.6706230e-05, 8.8014649e-06, 4.2488483e-01,\n",
       "         1.4886259e-03, 1.6252508e-03, 6.5423094e-04, 2.2669111e-03,\n",
       "         4.4141248e-01, 2.8196638e-07, 3.4879625e-03, 1.5180565e-04,\n",
       "         3.0277122e-04, 8.7450654e-04, 6.0325267e-04, 5.6721224e-04,\n",
       "         2.1035536e-03, 1.9153110e-03, 1.5738854e-02, 5.1741791e-04,\n",
       "         3.2529684e-03, 1.2008158e-03, 1.5547909e-03, 8.2010514e-04]],\n",
       "       dtype=float32),\n",
       " array([[0.95013183]], dtype=float32)]"
      ]
     },
     "execution_count": 238,
     "metadata": {},
     "output_type": "execute_result"
    }
   ],
   "source": [
    "model.predict(b[None,...])"
   ]
  },
  {
   "cell_type": "code",
   "execution_count": 242,
   "metadata": {},
   "outputs": [
    {
     "data": {
      "text/plain": [
       "[array([[7.30265072e-03, 3.90220545e-02, 2.63790903e-03, 1.55643309e-02,\n",
       "         8.45058635e-03, 1.45189348e-03, 5.43504097e-02, 2.66068708e-03,\n",
       "         3.47167975e-03, 3.89475096e-03, 1.58698186e-02, 2.59630848e-04,\n",
       "         1.32538371e-05, 1.27062585e-05, 5.84457775e-05, 6.17672682e-01,\n",
       "         2.90148659e-03, 3.73199256e-03, 2.83640856e-03, 5.98236267e-03,\n",
       "         1.23841683e-05, 3.30452094e-05, 1.61564234e-03, 5.60482091e-04,\n",
       "         5.43799251e-04, 1.96017115e-03, 2.81068101e-03, 3.44732148e-03,\n",
       "         3.52610946e-02, 7.88107328e-03, 1.33987203e-01, 5.61154156e-04,\n",
       "         1.03295194e-02, 1.17154990e-03, 6.35914644e-03, 5.31996833e-03]],\n",
       "       dtype=float32),\n",
       " array([[-0.03734915]], dtype=float32)]"
      ]
     },
     "execution_count": 242,
     "metadata": {},
     "output_type": "execute_result"
    }
   ],
   "source": [
    "import copy\n",
    "b_cp = copy.copy(b)\n",
    "b_cp[2,2] = -1\n",
    "model.predict(b_cp[None,...])"
   ]
  },
  {
   "cell_type": "code",
   "execution_count": null,
   "metadata": {},
   "outputs": [],
   "source": [
    "##### plt.figure()\n",
    "sns.heatmap(b,linecolor='white',linewidth=3,square=True)\n",
    "mask=rde.rde.layers[1].w.numpy()[0]\n",
    "plt.figure()\n",
    "sns.heatmap(mask,linecolor='white',linewidth=3,square=True)"
   ]
  },
  {
   "cell_type": "code",
   "execution_count": 115,
   "metadata": {
    "scrolled": true
   },
   "outputs": [
    {
     "data": {
      "text/plain": [
       "<AxesSubplot:>"
      ]
     },
     "execution_count": 115,
     "metadata": {},
     "output_type": "execute_result"
    },
    {
     "data": {
      "image/png": "[encoded data removed]",
      "text/plain": [
       "<Figure size 432x288 with 2 Axes>"
      ]
     },
     "metadata": {
      "needs_background": "light"
     },
     "output_type": "display_data"
    }
   ],
   "source": [
    "mask=rde.rde.layers[1].w.numpy()[0]\n",
    "sns.heatmap(mask,linecolor='white',linewidth=3,square=True)"
   ]
  },
  {
   "cell_type": "code",
   "execution_count": 103,
   "metadata": {},
   "outputs": [
    {
     "data": {
      "text/plain": [
       "array([[1, 1, 1, 0, 0, 0, 0, 0, 0],\n",
       "       [0, 0, 0, 0, 0, 0, 0, 0, 0],\n",
       "       [0, 0, 0, 0, 0, 0, 0, 0, 0],\n",
       "       [0, 0, 0, 0, 0, 0, 0, 0, 0]])"
      ]
     },
     "execution_count": 103,
     "metadata": {},
     "output_type": "execute_result"
    }
   ],
   "source": [
    "new_weights[0]"
   ]
  },
  {
   "cell_type": "code",
   "execution_count": 106,
   "metadata": {},
   "outputs": [],
   "source": [
    "b = game.getInitBoard()\n",
    "b[0,:3]=-1"
   ]
  },
  {
   "cell_type": "code",
   "execution_count": 107,
   "metadata": {},
   "outputs": [],
   "source": [
    "new_weights=[b[None,...]]+rde.rde.layers[1].get_weights()[1:]\n",
    "rde.rde.layers[1].set_weights(new_weights)"
   ]
  },
  {
   "cell_type": "code",
   "execution_count": 108,
   "metadata": {},
   "outputs": [
    {
     "data": {
      "text/plain": [
       "<tf.Tensor: shape=(100, 1), dtype=float32, numpy=\n",
       "array([[-0.9875633 ],\n",
       "       [ 0.04659623],\n",
       "       [-0.01322917],\n",
       "       [ 0.17464551],\n",
       "       [-0.96810067],\n",
       "       [-0.6240455 ],\n",
       "       [-0.5745035 ],\n",
       "       [-0.5333957 ],\n",
       "       [-0.7331195 ],\n",
       "       [-0.9904215 ],\n",
       "       [ 0.12707306],\n",
       "       [-0.01838364],\n",
       "       [-0.469577  ],\n",
       "       [-0.9249388 ],\n",
       "       [ 0.00240578],\n",
       "       [-0.91409934],\n",
       "       [ 0.18257844],\n",
       "       [-0.7142864 ],\n",
       "       [-0.6420621 ],\n",
       "       [-0.57300264],\n",
       "       [-0.51471174],\n",
       "       [ 0.10200144],\n",
       "       [-0.36228445],\n",
       "       [-0.41731423],\n",
       "       [-0.7660134 ],\n",
       "       [-0.35099155],\n",
       "       [-0.61843354],\n",
       "       [-0.9759993 ],\n",
       "       [-0.98008484],\n",
       "       [-0.11618728],\n",
       "       [-0.62256265],\n",
       "       [-0.989038  ],\n",
       "       [-0.02681305],\n",
       "       [-0.00771403],\n",
       "       [-0.69573325],\n",
       "       [-0.07492536],\n",
       "       [-0.3205999 ],\n",
       "       [-0.05536082],\n",
       "       [-0.6732113 ],\n",
       "       [ 0.26302853],\n",
       "       [-0.02632506],\n",
       "       [-0.89838964],\n",
       "       [-0.9807484 ],\n",
       "       [-0.24659856],\n",
       "       [ 0.13144624],\n",
       "       [ 0.24471985],\n",
       "       [-0.8164225 ],\n",
       "       [-0.7336207 ],\n",
       "       [-0.03299135],\n",
       "       [-0.29478866],\n",
       "       [-0.6072739 ],\n",
       "       [-0.9141411 ],\n",
       "       [-0.33865336],\n",
       "       [-0.7031925 ],\n",
       "       [ 0.22541523],\n",
       "       [-0.9570423 ],\n",
       "       [-0.30133447],\n",
       "       [-0.6454303 ],\n",
       "       [-0.5756227 ],\n",
       "       [-0.94783527],\n",
       "       [-0.66127217],\n",
       "       [-0.46214384],\n",
       "       [-0.16670455],\n",
       "       [ 0.11420181],\n",
       "       [-0.01658789],\n",
       "       [-0.8548516 ],\n",
       "       [-0.16924597],\n",
       "       [-0.00314152],\n",
       "       [-0.8587608 ],\n",
       "       [-0.8365682 ],\n",
       "       [-0.2124043 ],\n",
       "       [-0.28840497],\n",
       "       [-0.79345965],\n",
       "       [-0.00381673],\n",
       "       [-0.56191057],\n",
       "       [-0.9773405 ],\n",
       "       [-0.7137157 ],\n",
       "       [-0.86882955],\n",
       "       [-0.37666017],\n",
       "       [-0.12257739],\n",
       "       [ 0.07280111],\n",
       "       [-0.09298798],\n",
       "       [-0.9659021 ],\n",
       "       [-0.9159172 ],\n",
       "       [-0.9975721 ],\n",
       "       [-0.17393343],\n",
       "       [-0.07651221],\n",
       "       [-0.9734336 ],\n",
       "       [-0.16991311],\n",
       "       [-0.9879804 ],\n",
       "       [ 0.00138032],\n",
       "       [-0.12427871],\n",
       "       [-0.9957074 ],\n",
       "       [ 0.04934738],\n",
       "       [-0.03866414],\n",
       "       [-0.9036994 ],\n",
       "       [-0.73280334],\n",
       "       [-0.95693713],\n",
       "       [-0.47649115],\n",
       "       [-0.00631839]], dtype=float32)>"
      ]
     },
     "execution_count": 108,
     "metadata": {},
     "output_type": "execute_result"
    }
   ],
   "source": [
    "rde.rde(input_boards)"
   ]
  },
  {
   "cell_type": "code",
   "execution_count": 95,
   "metadata": {},
   "outputs": [
    {
     "data": {
      "text/plain": [
       "array([[0.0000000e+00, 0.0000000e+00, 2.0759065e-01, 0.0000000e+00,\n",
       "        0.0000000e+00, 0.0000000e+00, 3.7585040e-05, 0.0000000e+00,\n",
       "        0.0000000e+00],\n",
       "       [0.0000000e+00, 0.0000000e+00, 0.0000000e+00, 0.0000000e+00,\n",
       "        0.0000000e+00, 0.0000000e+00, 0.0000000e+00, 0.0000000e+00,\n",
       "        0.0000000e+00],\n",
       "       [0.0000000e+00, 0.0000000e+00, 0.0000000e+00, 0.0000000e+00,\n",
       "        0.0000000e+00, 0.0000000e+00, 0.0000000e+00, 0.0000000e+00,\n",
       "        0.0000000e+00],\n",
       "       [0.0000000e+00, 0.0000000e+00, 0.0000000e+00, 2.4371775e-02,\n",
       "        0.0000000e+00, 0.0000000e+00, 0.0000000e+00, 0.0000000e+00,\n",
       "        0.0000000e+00]], dtype=float32)"
      ]
     },
     "execution_count": 95,
     "metadata": {},
     "output_type": "execute_result"
    }
   ],
   "source": [
    "mask"
   ]
  },
  {
   "cell_type": "code",
   "execution_count": 78,
   "metadata": {},
   "outputs": [
    {
     "data": {
      "text/plain": [
       "<AxesSubplot:>"
      ]
     },
     "execution_count": 78,
     "metadata": {},
     "output_type": "execute_result"
    },
    {
     "data": {
      "image/png": "[encoded data removed]",
      "text/plain": [
       "<Figure size 432x288 with 2 Axes>"
      ]
     },
     "metadata": {
      "needs_background": "light"
     },
     "output_type": "display_data"
    }
   ],
   "source": [
    "mask=rde.rde.layers[1].w.numpy()[0]\n",
    "sns.heatmap(mask,linecolor='white',linewidth=3,square=True)"
   ]
  },
  {
   "cell_type": "code",
   "execution_count": 79,
   "metadata": {},
   "outputs": [
    {
     "data": {
      "text/plain": [
       "array([[0.7489701 , 0.77233046, 0.9982107 , 0.        , 0.        ,\n",
       "        0.        , 0.        , 0.        , 0.        ],\n",
       "       [0.        , 0.        , 0.        , 0.        , 0.        ,\n",
       "        0.        , 0.        , 0.        , 0.        ],\n",
       "       [0.        , 0.        , 0.        , 0.        , 0.        ,\n",
       "        0.        , 0.        , 0.        , 0.        ],\n",
       "       [0.        , 0.        , 0.        , 0.        , 0.        ,\n",
       "        0.        , 0.        , 0.        , 0.        ]], dtype=float32)"
      ]
     },
     "execution_count": 79,
     "metadata": {},
     "output_type": "execute_result"
    }
   ],
   "source": [
    "mask"
   ]
  },
  {
   "cell_type": "code",
   "execution_count": 66,
   "metadata": {
    "scrolled": true
   },
   "outputs": [
    {
     "data": {
      "text/plain": [
       "<AxesSubplot:>"
      ]
     },
     "execution_count": 66,
     "metadata": {},
     "output_type": "execute_result"
    },
    {
     "data": {
      "image/png": "[encoded data removed]",
      "text/plain": [
       "<Figure size 432x288 with 2 Axes>"
      ]
     },
     "metadata": {
      "needs_background": "light"
     },
     "output_type": "display_data"
    }
   ],
   "source": [
    "mask=rde.rde.layers[1].w.numpy()[0]\n",
    "sns.heatmap(mask,linecolor='white',linewidth=3,square=True)"
   ]
  }
 ],
 "metadata": {
  "kernelspec": {
   "display_name": "Python 3",
   "language": "python",
   "name": "python3"
  },
  "language_info": {
   "codemirror_mode": {
    "name": "ipython",
    "version": 3
   },
   "file_extension": ".py",
   "mimetype": "text/x-python",
   "name": "python",
   "nbconvert_exporter": "python",
   "pygments_lexer": "ipython3",
   "version": "3.7.6"
  }
 },
 "nbformat": 4,
 "nbformat_minor": 4
}
